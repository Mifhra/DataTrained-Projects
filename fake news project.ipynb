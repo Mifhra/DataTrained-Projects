{
 "cells": [
  {
   "cell_type": "code",
   "execution_count": 1,
   "metadata": {},
   "outputs": [],
   "source": [
    "import pandas as pd\n",
    "import numpy as np\n",
    "import matplotlib.pyplot as plt\n",
    "%matplotlib inline\n",
    "import seaborn as sns \n",
    "import warnings\n",
    "warnings.simplefilter(\"ignore\")"
   ]
  },
  {
   "cell_type": "code",
   "execution_count": 2,
   "metadata": {},
   "outputs": [],
   "source": [
    "#loading the dataset\n",
    "df=pd.read_csv(r\"F:\\flip robo\\Fake news project\\train_news.csv\")"
   ]
  },
  {
   "cell_type": "code",
   "execution_count": 3,
   "metadata": {},
   "outputs": [
    {
     "data": {
      "text/html": [
       "<div>\n",
       "<style scoped>\n",
       "    .dataframe tbody tr th:only-of-type {\n",
       "        vertical-align: middle;\n",
       "    }\n",
       "\n",
       "    .dataframe tbody tr th {\n",
       "        vertical-align: top;\n",
       "    }\n",
       "\n",
       "    .dataframe thead th {\n",
       "        text-align: right;\n",
       "    }\n",
       "</style>\n",
       "<table border=\"1\" class=\"dataframe\">\n",
       "  <thead>\n",
       "    <tr style=\"text-align: right;\">\n",
       "      <th></th>\n",
       "      <th>Unnamed: 0</th>\n",
       "      <th>id</th>\n",
       "      <th>headline</th>\n",
       "      <th>written_by</th>\n",
       "      <th>news</th>\n",
       "      <th>label</th>\n",
       "    </tr>\n",
       "  </thead>\n",
       "  <tbody>\n",
       "    <tr>\n",
       "      <th>0</th>\n",
       "      <td>0</td>\n",
       "      <td>9653</td>\n",
       "      <td>Ethics Questions Dogged Agriculture Nominee as...</td>\n",
       "      <td>Eric Lipton and Steve Eder</td>\n",
       "      <td>WASHINGTON  —   In Sonny Perdue’s telling, Geo...</td>\n",
       "      <td>0</td>\n",
       "    </tr>\n",
       "    <tr>\n",
       "      <th>1</th>\n",
       "      <td>1</td>\n",
       "      <td>10041</td>\n",
       "      <td>U.S. Must Dig Deep to Stop Argentina’s Lionel ...</td>\n",
       "      <td>David Waldstein</td>\n",
       "      <td>HOUSTON  —   Venezuela had a plan. It was a ta...</td>\n",
       "      <td>0</td>\n",
       "    </tr>\n",
       "    <tr>\n",
       "      <th>2</th>\n",
       "      <td>2</td>\n",
       "      <td>19113</td>\n",
       "      <td>Cotton to House: ’Do Not Walk the Plank and Vo...</td>\n",
       "      <td>Pam Key</td>\n",
       "      <td>Sunday on ABC’s “This Week,” while discussing ...</td>\n",
       "      <td>0</td>\n",
       "    </tr>\n",
       "    <tr>\n",
       "      <th>3</th>\n",
       "      <td>3</td>\n",
       "      <td>6868</td>\n",
       "      <td>Paul LePage, Besieged Maine Governor, Sends Co...</td>\n",
       "      <td>Jess Bidgood</td>\n",
       "      <td>AUGUSTA, Me.  —   The beleaguered Republican g...</td>\n",
       "      <td>0</td>\n",
       "    </tr>\n",
       "    <tr>\n",
       "      <th>4</th>\n",
       "      <td>4</td>\n",
       "      <td>7596</td>\n",
       "      <td>A Digital 9/11 If Trump Wins</td>\n",
       "      <td>Finian Cunningham</td>\n",
       "      <td>Finian Cunningham has written extensively on...</td>\n",
       "      <td>1</td>\n",
       "    </tr>\n",
       "  </tbody>\n",
       "</table>\n",
       "</div>"
      ],
      "text/plain": [
       "   Unnamed: 0     id                                           headline  \\\n",
       "0           0   9653  Ethics Questions Dogged Agriculture Nominee as...   \n",
       "1           1  10041  U.S. Must Dig Deep to Stop Argentina’s Lionel ...   \n",
       "2           2  19113  Cotton to House: ’Do Not Walk the Plank and Vo...   \n",
       "3           3   6868  Paul LePage, Besieged Maine Governor, Sends Co...   \n",
       "4           4   7596                       A Digital 9/11 If Trump Wins   \n",
       "\n",
       "                   written_by  \\\n",
       "0  Eric Lipton and Steve Eder   \n",
       "1             David Waldstein   \n",
       "2                     Pam Key   \n",
       "3                Jess Bidgood   \n",
       "4           Finian Cunningham   \n",
       "\n",
       "                                                news  label  \n",
       "0  WASHINGTON  —   In Sonny Perdue’s telling, Geo...      0  \n",
       "1  HOUSTON  —   Venezuela had a plan. It was a ta...      0  \n",
       "2  Sunday on ABC’s “This Week,” while discussing ...      0  \n",
       "3  AUGUSTA, Me.  —   The beleaguered Republican g...      0  \n",
       "4    Finian Cunningham has written extensively on...      1  "
      ]
     },
     "execution_count": 3,
     "metadata": {},
     "output_type": "execute_result"
    }
   ],
   "source": [
    "df.head()"
   ]
  },
  {
   "cell_type": "code",
   "execution_count": 4,
   "metadata": {},
   "outputs": [],
   "source": [
    "#dropping two columns which are of no use to us\n",
    "df.drop(columns=[\"Unnamed: 0\",\"id\"],inplace=True)"
   ]
  },
  {
   "cell_type": "code",
   "execution_count": 5,
   "metadata": {},
   "outputs": [
    {
     "data": {
      "text/html": [
       "<div>\n",
       "<style scoped>\n",
       "    .dataframe tbody tr th:only-of-type {\n",
       "        vertical-align: middle;\n",
       "    }\n",
       "\n",
       "    .dataframe tbody tr th {\n",
       "        vertical-align: top;\n",
       "    }\n",
       "\n",
       "    .dataframe thead th {\n",
       "        text-align: right;\n",
       "    }\n",
       "</style>\n",
       "<table border=\"1\" class=\"dataframe\">\n",
       "  <thead>\n",
       "    <tr style=\"text-align: right;\">\n",
       "      <th></th>\n",
       "      <th>headline</th>\n",
       "      <th>written_by</th>\n",
       "      <th>news</th>\n",
       "      <th>label</th>\n",
       "    </tr>\n",
       "  </thead>\n",
       "  <tbody>\n",
       "    <tr>\n",
       "      <th>0</th>\n",
       "      <td>Ethics Questions Dogged Agriculture Nominee as...</td>\n",
       "      <td>Eric Lipton and Steve Eder</td>\n",
       "      <td>WASHINGTON  —   In Sonny Perdue’s telling, Geo...</td>\n",
       "      <td>0</td>\n",
       "    </tr>\n",
       "    <tr>\n",
       "      <th>1</th>\n",
       "      <td>U.S. Must Dig Deep to Stop Argentina’s Lionel ...</td>\n",
       "      <td>David Waldstein</td>\n",
       "      <td>HOUSTON  —   Venezuela had a plan. It was a ta...</td>\n",
       "      <td>0</td>\n",
       "    </tr>\n",
       "    <tr>\n",
       "      <th>2</th>\n",
       "      <td>Cotton to House: ’Do Not Walk the Plank and Vo...</td>\n",
       "      <td>Pam Key</td>\n",
       "      <td>Sunday on ABC’s “This Week,” while discussing ...</td>\n",
       "      <td>0</td>\n",
       "    </tr>\n",
       "    <tr>\n",
       "      <th>3</th>\n",
       "      <td>Paul LePage, Besieged Maine Governor, Sends Co...</td>\n",
       "      <td>Jess Bidgood</td>\n",
       "      <td>AUGUSTA, Me.  —   The beleaguered Republican g...</td>\n",
       "      <td>0</td>\n",
       "    </tr>\n",
       "    <tr>\n",
       "      <th>4</th>\n",
       "      <td>A Digital 9/11 If Trump Wins</td>\n",
       "      <td>Finian Cunningham</td>\n",
       "      <td>Finian Cunningham has written extensively on...</td>\n",
       "      <td>1</td>\n",
       "    </tr>\n",
       "  </tbody>\n",
       "</table>\n",
       "</div>"
      ],
      "text/plain": [
       "                                            headline  \\\n",
       "0  Ethics Questions Dogged Agriculture Nominee as...   \n",
       "1  U.S. Must Dig Deep to Stop Argentina’s Lionel ...   \n",
       "2  Cotton to House: ’Do Not Walk the Plank and Vo...   \n",
       "3  Paul LePage, Besieged Maine Governor, Sends Co...   \n",
       "4                       A Digital 9/11 If Trump Wins   \n",
       "\n",
       "                   written_by  \\\n",
       "0  Eric Lipton and Steve Eder   \n",
       "1             David Waldstein   \n",
       "2                     Pam Key   \n",
       "3                Jess Bidgood   \n",
       "4           Finian Cunningham   \n",
       "\n",
       "                                                news  label  \n",
       "0  WASHINGTON  —   In Sonny Perdue’s telling, Geo...      0  \n",
       "1  HOUSTON  —   Venezuela had a plan. It was a ta...      0  \n",
       "2  Sunday on ABC’s “This Week,” while discussing ...      0  \n",
       "3  AUGUSTA, Me.  —   The beleaguered Republican g...      0  \n",
       "4    Finian Cunningham has written extensively on...      1  "
      ]
     },
     "execution_count": 5,
     "metadata": {},
     "output_type": "execute_result"
    }
   ],
   "source": [
    "df.head()"
   ]
  },
  {
   "cell_type": "code",
   "execution_count": 6,
   "metadata": {},
   "outputs": [
    {
     "data": {
      "text/plain": [
       "(20800, 4)"
      ]
     },
     "execution_count": 6,
     "metadata": {},
     "output_type": "execute_result"
    }
   ],
   "source": [
    "#checking the shape of the data\n",
    "df.shape"
   ]
  },
  {
   "cell_type": "code",
   "execution_count": 7,
   "metadata": {},
   "outputs": [
    {
     "data": {
      "text/plain": [
       "1    10413\n",
       "0    10387\n",
       "Name: label, dtype: int64"
      ]
     },
     "execution_count": 7,
     "metadata": {},
     "output_type": "execute_result"
    }
   ],
   "source": [
    "#checking for the distribution of \"0\" and \"1\" \n",
    "df[\"label\"].value_counts()"
   ]
  },
  {
   "cell_type": "code",
   "execution_count": 9,
   "metadata": {},
   "outputs": [],
   "source": [
    "#setting the number of words in the news column to be 50\n",
    "pd.set_option('display.max_colwidth',50)"
   ]
  },
  {
   "cell_type": "code",
   "execution_count": 10,
   "metadata": {},
   "outputs": [
    {
     "data": {
      "text/html": [
       "<div>\n",
       "<style scoped>\n",
       "    .dataframe tbody tr th:only-of-type {\n",
       "        vertical-align: middle;\n",
       "    }\n",
       "\n",
       "    .dataframe tbody tr th {\n",
       "        vertical-align: top;\n",
       "    }\n",
       "\n",
       "    .dataframe thead th {\n",
       "        text-align: right;\n",
       "    }\n",
       "</style>\n",
       "<table border=\"1\" class=\"dataframe\">\n",
       "  <thead>\n",
       "    <tr style=\"text-align: right;\">\n",
       "      <th></th>\n",
       "      <th>headline</th>\n",
       "      <th>written_by</th>\n",
       "      <th>news</th>\n",
       "      <th>label</th>\n",
       "    </tr>\n",
       "  </thead>\n",
       "  <tbody>\n",
       "    <tr>\n",
       "      <th>0</th>\n",
       "      <td>Ethics Questions Dogged Agriculture Nominee as...</td>\n",
       "      <td>Eric Lipton and Steve Eder</td>\n",
       "      <td>WASHINGTON  —   In Sonny Perdue’s telling, Geo...</td>\n",
       "      <td>0</td>\n",
       "    </tr>\n",
       "    <tr>\n",
       "      <th>1</th>\n",
       "      <td>U.S. Must Dig Deep to Stop Argentina’s Lionel ...</td>\n",
       "      <td>David Waldstein</td>\n",
       "      <td>HOUSTON  —   Venezuela had a plan. It was a ta...</td>\n",
       "      <td>0</td>\n",
       "    </tr>\n",
       "    <tr>\n",
       "      <th>2</th>\n",
       "      <td>Cotton to House: ’Do Not Walk the Plank and Vo...</td>\n",
       "      <td>Pam Key</td>\n",
       "      <td>Sunday on ABC’s “This Week,” while discussing ...</td>\n",
       "      <td>0</td>\n",
       "    </tr>\n",
       "    <tr>\n",
       "      <th>3</th>\n",
       "      <td>Paul LePage, Besieged Maine Governor, Sends Co...</td>\n",
       "      <td>Jess Bidgood</td>\n",
       "      <td>AUGUSTA, Me.  —   The beleaguered Republican g...</td>\n",
       "      <td>0</td>\n",
       "    </tr>\n",
       "    <tr>\n",
       "      <th>4</th>\n",
       "      <td>A Digital 9/11 If Trump Wins</td>\n",
       "      <td>Finian Cunningham</td>\n",
       "      <td>Finian Cunningham has written extensively on...</td>\n",
       "      <td>1</td>\n",
       "    </tr>\n",
       "  </tbody>\n",
       "</table>\n",
       "</div>"
      ],
      "text/plain": [
       "                                            headline  \\\n",
       "0  Ethics Questions Dogged Agriculture Nominee as...   \n",
       "1  U.S. Must Dig Deep to Stop Argentina’s Lionel ...   \n",
       "2  Cotton to House: ’Do Not Walk the Plank and Vo...   \n",
       "3  Paul LePage, Besieged Maine Governor, Sends Co...   \n",
       "4                       A Digital 9/11 If Trump Wins   \n",
       "\n",
       "                   written_by  \\\n",
       "0  Eric Lipton and Steve Eder   \n",
       "1             David Waldstein   \n",
       "2                     Pam Key   \n",
       "3                Jess Bidgood   \n",
       "4           Finian Cunningham   \n",
       "\n",
       "                                                news  label  \n",
       "0  WASHINGTON  —   In Sonny Perdue’s telling, Geo...      0  \n",
       "1  HOUSTON  —   Venezuela had a plan. It was a ta...      0  \n",
       "2  Sunday on ABC’s “This Week,” while discussing ...      0  \n",
       "3  AUGUSTA, Me.  —   The beleaguered Republican g...      0  \n",
       "4    Finian Cunningham has written extensively on...      1  "
      ]
     },
     "execution_count": 10,
     "metadata": {},
     "output_type": "execute_result"
    }
   ],
   "source": [
    "df.head()"
   ]
  },
  {
   "cell_type": "code",
   "execution_count": 13,
   "metadata": {
    "scrolled": true
   },
   "outputs": [
    {
     "data": {
      "text/plain": [
       "'WASHINGTON  —   In Sonny Perdue’s telling, Georgians were growing weary of the corruption and scandals in their state when he took over as governor in 2003  —   a time when he gave his own version of a “drain the swamp” pledge. “My first goal as governor is to restore public trust in state government by changing the culture of state government,” Mr. Perdue told a leadership conference at Kennesaw State University in April 2003. “Our form of government depends on a mutual bond of trust between the people and their government. But people have become cynical about their government. ” But Mr. Perdue, a Republican who is awaiting confirmation to serve as President Trump’s agriculture secretary, became a target of frequent criticism that he was failing to honor his own ethics pledge during his eight years as governor. The criticism centers on the fact that, as Mr. Trump has, he continued to own or help run his family business ventures  —   four   companies  —   while serving as governor. Mr. Perdue is one of the last cabinet members awaiting Senate confirmation. No date has been set for his confirmation hearing a holdup in the release of paperwork accompanying his nomination by the federal Office of Government Ethics has been blamed for the delay. The office must examine Mr. Perdue’s proposal to avoid conflicts of interest while running the U. S. D. A. as the department is known, which may include selling off some of his farming assets. Before his tenure as governor ended in 2011, 13 complaints had been filed against Mr. Perdue with the State Ethics Commission, which on two occasions ruled that the governor had violated state ethics laws. The commission took the unusual step of fining Mr. Perdue while he was governor. There were numerous other questions, including some about the role of Mr. Perdue’s personal lawyer  —   also a state legislator  —   in pushing a bill through the legislature that included a special provision that gave Mr. Perdue $100, 000 in state tax relief. And, when his tenure as governor was coming to a close, Mr. Perdue met with Georgia officials who oversee the state’s ports to discuss use of a terminal for a family business, according to documents obtained by The Atlanta  . Soon after he left office, in fact, he opened a new company that specialized in exporting products through Savannah. “When you are a public official you are supposed to be acting entirely on behalf of the public and not for ” said Yasha Heidari, former senior legal counsel to the State Ethics Commission. “Looking at his record, as both an attorney and a citizen of the state, I had serious concerns. ” In a written statement, a spokeswoman for Mr. Perdue rejected that assessment, saying that the frequent criticism he faced while governor was largely politically motivated. “There hadn’t been a Republican governor in Georgia for 135 years,” the statement said. “Governor Perdue was the David who slew the Democrats’ Goliath. ” During the wait for Mr. Perdue’s confirmation hearing, some in the farming industry have come to his defense. “I don’t think you are going to find a man any more honorable than Sonny Perdue,” said Zippy Duvall, a Georgia cattle and poultry farmer who is the president of the American Farm Bureau Federation, adding that he had known Mr. Perdue for about a decade. “He is as ethical as they come. ” Born into a family of farmers, Mr. Perdue played college football as a   at the University of Georgia, and later worked briefly as a practicing veterinarian. He rose through the ranks of the state legislature and, in the late 1990s, switched his party affiliation from Democrat to Republican because, he said, the state party had lost its focus on family values. One of Mr. Perdue’s first acts after he was sworn in as governor in January 2003 was to sign an executive order establishing a new code of ethics for executive branch employees. The order, which applied to the governor himself, prohibited state employees from using their powers for “any financial or other personal benefit” and barred them from taking any gifts worth more than $25. “In carrying out their official duties and obligations, all officers and employees of state government must work solely for the public good, striving vigilantly to avoid even the appearance that their actions are motivated by private or personal interest,” the 2003 executive order said. But Mr. Perdue ended up collecting at least $25, 000 worth of benefits or gifts during his years as governor, state records show. The gifts ranged from tickets to a Nascar race and football games to flights paid for by Altria, the tobacco company, and by CSX, the railroad giant, according to a 2010 report by Citizens for Responsibility and Ethics in Washington, a liberal nonprofit group. Mr. Perdue’s spokeswoman, in the written statement, said that none of these gifts violated the ban because the “trips were for official state business and were perfectly acceptable as saving taxpayer funds. ” “The gifts were to the state,” the statement read, “not to the governor. ” The fine by the State Ethics Commission in 2005 came after the commission concluded that Mr. Perdue had failed to properly report the use of an airplane owned by one of his family’s businesses for a   trip. The commission also found that he had taken campaign contributions in amounts that exceeded state limits from several donors  —   including a political action committee run by SunTrust, the   bank. Mr. Perdue called the violations technical, and the investigation politically motivated. Teddy Lee, the executive secretary of the State Ethics Commission, was fired from his job in January 2006, and in an interview he blamed Mr. Perdue for his firing. Mr. Lee had served in the job under four governors. “This looked like a political hit to me,” Mr. Lee said. Mr. Lee’s dismissal came as Mr. Perdue was seeking   and just months before his largest scandal emerged, over a $100, 000 state tax break he received thanks to a legislative maneuver engineered by a lawmaker who was also his personal lawyer. The focus of the controversy was a piece of property in Florida that Mr. Perdue purchased in 2004. The purchase allowed him to defer paying federal capital gains taxes on a separate piece of Georgia land  —   which he had previously sold at a profit. When that transaction was completed, Mr. Perdue still owed Georgia about $100, 000 in state taxes. Then, Mr. Perdue signed a bill the following year eliminating that state tax obligation  —   as state law was changed to allow   rollover relief on capital gains, even if the new property being purchased was out of state. During deliberations on the legislation, Larry O’Neal, a member of the Georgia House of Representatives who also worked part time as a personal lawyer for Mr. Perdue, intervened to make the change in that provision retroactive. That meant it would cover Mr. Perdue’s 2004 land deal, saving the governor $100, 000, The   reported at the time. Mr. Perdue’s spokeswoman said the change in state law was not intended to benefit Mr. Perdue. “It benefited all Georgians,” the statement said. Scott Faber of the Environmental Working Group, a nonprofit organization that keeps a close watch on policies at the Agriculture Department, said he had questions about Mr. Perdue’s fitness to take over the department. “Given his record of   and conflicts of interest as governor of Georgia, it is fair to ask if he is fit to run a $    federal agency,” Mr. Faber said. But Mr. Duvall, of the American Farm Bureau Federation, believes the opposite. Mr. Duvall said that as a former farmer, Mr. Perdue is just what the nation needs to run the department. “He has worked on a farm and owned businesses that buy and sell grain domestically and internationally,” Mr. Duvall said. “It ought to be a requirement that someone who runs the U. S. D. A. knows something about farming. And Sonny certainly does. ”'"
      ]
     },
     "execution_count": 13,
     "metadata": {},
     "output_type": "execute_result"
    }
   ],
   "source": [
    "df[\"news\"][0]"
   ]
  },
  {
   "cell_type": "code",
   "execution_count": 11,
   "metadata": {},
   "outputs": [],
   "source": [
    "#adding a new column named lenght to find out the number of word in the news column\n",
    "df[\"length\"]=df[\"news\"].str.len()"
   ]
  },
  {
   "cell_type": "code",
   "execution_count": 12,
   "metadata": {},
   "outputs": [
    {
     "data": {
      "text/html": [
       "<div>\n",
       "<style scoped>\n",
       "    .dataframe tbody tr th:only-of-type {\n",
       "        vertical-align: middle;\n",
       "    }\n",
       "\n",
       "    .dataframe tbody tr th {\n",
       "        vertical-align: top;\n",
       "    }\n",
       "\n",
       "    .dataframe thead th {\n",
       "        text-align: right;\n",
       "    }\n",
       "</style>\n",
       "<table border=\"1\" class=\"dataframe\">\n",
       "  <thead>\n",
       "    <tr style=\"text-align: right;\">\n",
       "      <th></th>\n",
       "      <th>headline</th>\n",
       "      <th>written_by</th>\n",
       "      <th>news</th>\n",
       "      <th>label</th>\n",
       "      <th>length</th>\n",
       "    </tr>\n",
       "  </thead>\n",
       "  <tbody>\n",
       "    <tr>\n",
       "      <th>0</th>\n",
       "      <td>Ethics Questions Dogged Agriculture Nominee as...</td>\n",
       "      <td>Eric Lipton and Steve Eder</td>\n",
       "      <td>WASHINGTON  —   In Sonny Perdue’s telling, Geo...</td>\n",
       "      <td>0</td>\n",
       "      <td>7936.0</td>\n",
       "    </tr>\n",
       "    <tr>\n",
       "      <th>1</th>\n",
       "      <td>U.S. Must Dig Deep to Stop Argentina’s Lionel ...</td>\n",
       "      <td>David Waldstein</td>\n",
       "      <td>HOUSTON  —   Venezuela had a plan. It was a ta...</td>\n",
       "      <td>0</td>\n",
       "      <td>6112.0</td>\n",
       "    </tr>\n",
       "    <tr>\n",
       "      <th>2</th>\n",
       "      <td>Cotton to House: ’Do Not Walk the Plank and Vo...</td>\n",
       "      <td>Pam Key</td>\n",
       "      <td>Sunday on ABC’s “This Week,” while discussing ...</td>\n",
       "      <td>0</td>\n",
       "      <td>425.0</td>\n",
       "    </tr>\n",
       "    <tr>\n",
       "      <th>3</th>\n",
       "      <td>Paul LePage, Besieged Maine Governor, Sends Co...</td>\n",
       "      <td>Jess Bidgood</td>\n",
       "      <td>AUGUSTA, Me.  —   The beleaguered Republican g...</td>\n",
       "      <td>0</td>\n",
       "      <td>6516.0</td>\n",
       "    </tr>\n",
       "    <tr>\n",
       "      <th>4</th>\n",
       "      <td>A Digital 9/11 If Trump Wins</td>\n",
       "      <td>Finian Cunningham</td>\n",
       "      <td>Finian Cunningham has written extensively on...</td>\n",
       "      <td>1</td>\n",
       "      <td>9164.0</td>\n",
       "    </tr>\n",
       "  </tbody>\n",
       "</table>\n",
       "</div>"
      ],
      "text/plain": [
       "                                            headline  \\\n",
       "0  Ethics Questions Dogged Agriculture Nominee as...   \n",
       "1  U.S. Must Dig Deep to Stop Argentina’s Lionel ...   \n",
       "2  Cotton to House: ’Do Not Walk the Plank and Vo...   \n",
       "3  Paul LePage, Besieged Maine Governor, Sends Co...   \n",
       "4                       A Digital 9/11 If Trump Wins   \n",
       "\n",
       "                   written_by  \\\n",
       "0  Eric Lipton and Steve Eder   \n",
       "1             David Waldstein   \n",
       "2                     Pam Key   \n",
       "3                Jess Bidgood   \n",
       "4           Finian Cunningham   \n",
       "\n",
       "                                                news  label  length  \n",
       "0  WASHINGTON  —   In Sonny Perdue’s telling, Geo...      0  7936.0  \n",
       "1  HOUSTON  —   Venezuela had a plan. It was a ta...      0  6112.0  \n",
       "2  Sunday on ABC’s “This Week,” while discussing ...      0   425.0  \n",
       "3  AUGUSTA, Me.  —   The beleaguered Republican g...      0  6516.0  \n",
       "4    Finian Cunningham has written extensively on...      1  9164.0  "
      ]
     },
     "execution_count": 12,
     "metadata": {},
     "output_type": "execute_result"
    }
   ],
   "source": [
    "df.head()"
   ]
  },
  {
   "cell_type": "code",
   "execution_count": 13,
   "metadata": {},
   "outputs": [],
   "source": [
    "#importing necessary libraries for model building\n",
    "import string\n",
    "import nltk\n",
    "from nltk.corpus import stopwords"
   ]
  },
  {
   "cell_type": "code",
   "execution_count": 14,
   "metadata": {},
   "outputs": [],
   "source": [
    "#converting each word in lower case\n",
    "\n",
    "df[\"news\"]=df[\"news\"].str.lower()\n"
   ]
  },
  {
   "cell_type": "code",
   "execution_count": 23,
   "metadata": {},
   "outputs": [],
   "source": [
    "from nltk.tokenize import sent_tokenize\n",
    "from nltk.tokenize import regexp_tokenize"
   ]
  },
  {
   "cell_type": "code",
   "execution_count": 15,
   "metadata": {},
   "outputs": [],
   "source": [
    "import re"
   ]
  },
  {
   "cell_type": "code",
   "execution_count": 22,
   "metadata": {},
   "outputs": [],
   "source": [
    "#converting the news column to string type to perform the operations \n",
    "df['news']=df['news'].astype(str)"
   ]
  },
  {
   "cell_type": "code",
   "execution_count": 16,
   "metadata": {},
   "outputs": [
    {
     "data": {
      "text/plain": [
       "'!\"#$%&\\'()*+,-./:;<=>?@[\\\\]^_`{|}~'"
      ]
     },
     "execution_count": 16,
     "metadata": {},
     "output_type": "execute_result"
    }
   ],
   "source": [
    "#removing punctuation from data\n",
    "string.punctuation"
   ]
  },
  {
   "cell_type": "code",
   "execution_count": 23,
   "metadata": {},
   "outputs": [],
   "source": [
    "#removing puctuaition marks\n",
    "def remove_punctuation(txt):\n",
    "    txt_nonpunct=\"\".join([c for c in txt if c not in string.punctuation])\n",
    "    return txt_nonpunct"
   ]
  },
  {
   "cell_type": "code",
   "execution_count": 24,
   "metadata": {},
   "outputs": [],
   "source": [
    "df['news_clean']=df['news'].apply(lambda x:remove_punctuation(x))"
   ]
  },
  {
   "cell_type": "code",
   "execution_count": 28,
   "metadata": {},
   "outputs": [],
   "source": [
    "#tokenizing the data\n",
    "def tokenize(txt):\n",
    "    tokens=re.split('\\W+',txt)\n",
    "    return tokens\n",
    "df['news_cleaned_tokenized']=df['news_clean'].apply(lambda x:tokenize(x.lower()))"
   ]
  },
  {
   "cell_type": "code",
   "execution_count": 29,
   "metadata": {},
   "outputs": [
    {
     "data": {
      "text/html": [
       "<div>\n",
       "<style scoped>\n",
       "    .dataframe tbody tr th:only-of-type {\n",
       "        vertical-align: middle;\n",
       "    }\n",
       "\n",
       "    .dataframe tbody tr th {\n",
       "        vertical-align: top;\n",
       "    }\n",
       "\n",
       "    .dataframe thead th {\n",
       "        text-align: right;\n",
       "    }\n",
       "</style>\n",
       "<table border=\"1\" class=\"dataframe\">\n",
       "  <thead>\n",
       "    <tr style=\"text-align: right;\">\n",
       "      <th></th>\n",
       "      <th>headline</th>\n",
       "      <th>written_by</th>\n",
       "      <th>news</th>\n",
       "      <th>label</th>\n",
       "      <th>length</th>\n",
       "      <th>news_clean</th>\n",
       "      <th>news_cleaned_tokenized</th>\n",
       "    </tr>\n",
       "  </thead>\n",
       "  <tbody>\n",
       "    <tr>\n",
       "      <th>0</th>\n",
       "      <td>Ethics Questions Dogged Agriculture Nominee as...</td>\n",
       "      <td>Eric Lipton and Steve Eder</td>\n",
       "      <td>washington  —   in sonny perdue’s telling, geo...</td>\n",
       "      <td>0</td>\n",
       "      <td>7936.0</td>\n",
       "      <td>washington  —   in sonny perdue’s telling geor...</td>\n",
       "      <td>[washington, in, sonny, perdue, s, telling, ge...</td>\n",
       "    </tr>\n",
       "    <tr>\n",
       "      <th>1</th>\n",
       "      <td>U.S. Must Dig Deep to Stop Argentina’s Lionel ...</td>\n",
       "      <td>David Waldstein</td>\n",
       "      <td>houston  —   venezuela had a plan. it was a ta...</td>\n",
       "      <td>0</td>\n",
       "      <td>6112.0</td>\n",
       "      <td>houston  —   venezuela had a plan it was a tac...</td>\n",
       "      <td>[houston, venezuela, had, a, plan, it, was, a,...</td>\n",
       "    </tr>\n",
       "    <tr>\n",
       "      <th>2</th>\n",
       "      <td>Cotton to House: ’Do Not Walk the Plank and Vo...</td>\n",
       "      <td>Pam Key</td>\n",
       "      <td>sunday on abc’s “this week,” while discussing ...</td>\n",
       "      <td>0</td>\n",
       "      <td>425.0</td>\n",
       "      <td>sunday on abc’s “this week” while discussing t...</td>\n",
       "      <td>[sunday, on, abc, s, this, week, while, discus...</td>\n",
       "    </tr>\n",
       "    <tr>\n",
       "      <th>3</th>\n",
       "      <td>Paul LePage, Besieged Maine Governor, Sends Co...</td>\n",
       "      <td>Jess Bidgood</td>\n",
       "      <td>augusta, me.  —   the beleaguered republican g...</td>\n",
       "      <td>0</td>\n",
       "      <td>6516.0</td>\n",
       "      <td>augusta me  —   the beleaguered republican gov...</td>\n",
       "      <td>[augusta, me, the, beleaguered, republican, go...</td>\n",
       "    </tr>\n",
       "    <tr>\n",
       "      <th>4</th>\n",
       "      <td>A Digital 9/11 If Trump Wins</td>\n",
       "      <td>Finian Cunningham</td>\n",
       "      <td>finian cunningham has written extensively on...</td>\n",
       "      <td>1</td>\n",
       "      <td>9164.0</td>\n",
       "      <td>finian cunningham has written extensively on...</td>\n",
       "      <td>[, finian, cunningham, has, written, extensive...</td>\n",
       "    </tr>\n",
       "  </tbody>\n",
       "</table>\n",
       "</div>"
      ],
      "text/plain": [
       "                                            headline  \\\n",
       "0  Ethics Questions Dogged Agriculture Nominee as...   \n",
       "1  U.S. Must Dig Deep to Stop Argentina’s Lionel ...   \n",
       "2  Cotton to House: ’Do Not Walk the Plank and Vo...   \n",
       "3  Paul LePage, Besieged Maine Governor, Sends Co...   \n",
       "4                       A Digital 9/11 If Trump Wins   \n",
       "\n",
       "                   written_by  \\\n",
       "0  Eric Lipton and Steve Eder   \n",
       "1             David Waldstein   \n",
       "2                     Pam Key   \n",
       "3                Jess Bidgood   \n",
       "4           Finian Cunningham   \n",
       "\n",
       "                                                news  label  length  \\\n",
       "0  washington  —   in sonny perdue’s telling, geo...      0  7936.0   \n",
       "1  houston  —   venezuela had a plan. it was a ta...      0  6112.0   \n",
       "2  sunday on abc’s “this week,” while discussing ...      0   425.0   \n",
       "3  augusta, me.  —   the beleaguered republican g...      0  6516.0   \n",
       "4    finian cunningham has written extensively on...      1  9164.0   \n",
       "\n",
       "                                          news_clean  \\\n",
       "0  washington  —   in sonny perdue’s telling geor...   \n",
       "1  houston  —   venezuela had a plan it was a tac...   \n",
       "2  sunday on abc’s “this week” while discussing t...   \n",
       "3  augusta me  —   the beleaguered republican gov...   \n",
       "4    finian cunningham has written extensively on...   \n",
       "\n",
       "                              news_cleaned_tokenized  \n",
       "0  [washington, in, sonny, perdue, s, telling, ge...  \n",
       "1  [houston, venezuela, had, a, plan, it, was, a,...  \n",
       "2  [sunday, on, abc, s, this, week, while, discus...  \n",
       "3  [augusta, me, the, beleaguered, republican, go...  \n",
       "4  [, finian, cunningham, has, written, extensive...  "
      ]
     },
     "execution_count": 29,
     "metadata": {},
     "output_type": "execute_result"
    }
   ],
   "source": [
    "df.head()"
   ]
  },
  {
   "cell_type": "code",
   "execution_count": 30,
   "metadata": {},
   "outputs": [
    {
     "name": "stderr",
     "output_type": "stream",
     "text": [
      "[nltk_data] Downloading package stopwords to\n",
      "[nltk_data]     C:\\Users\\ADMIN\\AppData\\Roaming\\nltk_data...\n",
      "[nltk_data]   Package stopwords is already up-to-date!\n"
     ]
    },
    {
     "data": {
      "text/plain": [
       "True"
      ]
     },
     "execution_count": 30,
     "metadata": {},
     "output_type": "execute_result"
    }
   ],
   "source": [
    "nltk.download(\"stopwords\")"
   ]
  },
  {
   "cell_type": "code",
   "execution_count": 31,
   "metadata": {},
   "outputs": [],
   "source": [
    "stopwords=nltk.corpus.stopwords.words('english')"
   ]
  },
  {
   "cell_type": "code",
   "execution_count": 27,
   "metadata": {
    "collapsed": true
   },
   "outputs": [
    {
     "data": {
      "text/plain": [
       "['i',\n",
       " 'me',\n",
       " 'my',\n",
       " 'myself',\n",
       " 'we',\n",
       " 'our',\n",
       " 'ours',\n",
       " 'ourselves',\n",
       " 'you',\n",
       " \"you're\",\n",
       " \"you've\",\n",
       " \"you'll\",\n",
       " \"you'd\",\n",
       " 'your',\n",
       " 'yours',\n",
       " 'yourself',\n",
       " 'yourselves',\n",
       " 'he',\n",
       " 'him',\n",
       " 'his',\n",
       " 'himself',\n",
       " 'she',\n",
       " \"she's\",\n",
       " 'her',\n",
       " 'hers',\n",
       " 'herself',\n",
       " 'it',\n",
       " \"it's\",\n",
       " 'its',\n",
       " 'itself',\n",
       " 'they',\n",
       " 'them',\n",
       " 'their',\n",
       " 'theirs',\n",
       " 'themselves',\n",
       " 'what',\n",
       " 'which',\n",
       " 'who',\n",
       " 'whom',\n",
       " 'this',\n",
       " 'that',\n",
       " \"that'll\",\n",
       " 'these',\n",
       " 'those',\n",
       " 'am',\n",
       " 'is',\n",
       " 'are',\n",
       " 'was',\n",
       " 'were',\n",
       " 'be',\n",
       " 'been',\n",
       " 'being',\n",
       " 'have',\n",
       " 'has',\n",
       " 'had',\n",
       " 'having',\n",
       " 'do',\n",
       " 'does',\n",
       " 'did',\n",
       " 'doing',\n",
       " 'a',\n",
       " 'an',\n",
       " 'the',\n",
       " 'and',\n",
       " 'but',\n",
       " 'if',\n",
       " 'or',\n",
       " 'because',\n",
       " 'as',\n",
       " 'until',\n",
       " 'while',\n",
       " 'of',\n",
       " 'at',\n",
       " 'by',\n",
       " 'for',\n",
       " 'with',\n",
       " 'about',\n",
       " 'against',\n",
       " 'between',\n",
       " 'into',\n",
       " 'through',\n",
       " 'during',\n",
       " 'before',\n",
       " 'after',\n",
       " 'above',\n",
       " 'below',\n",
       " 'to',\n",
       " 'from',\n",
       " 'up',\n",
       " 'down',\n",
       " 'in',\n",
       " 'out',\n",
       " 'on',\n",
       " 'off',\n",
       " 'over',\n",
       " 'under',\n",
       " 'again',\n",
       " 'further',\n",
       " 'then',\n",
       " 'once',\n",
       " 'here',\n",
       " 'there',\n",
       " 'when',\n",
       " 'where',\n",
       " 'why',\n",
       " 'how',\n",
       " 'all',\n",
       " 'any',\n",
       " 'both',\n",
       " 'each',\n",
       " 'few',\n",
       " 'more',\n",
       " 'most',\n",
       " 'other',\n",
       " 'some',\n",
       " 'such',\n",
       " 'no',\n",
       " 'nor',\n",
       " 'not',\n",
       " 'only',\n",
       " 'own',\n",
       " 'same',\n",
       " 'so',\n",
       " 'than',\n",
       " 'too',\n",
       " 'very',\n",
       " 's',\n",
       " 't',\n",
       " 'can',\n",
       " 'will',\n",
       " 'just',\n",
       " 'don',\n",
       " \"don't\",\n",
       " 'should',\n",
       " \"should've\",\n",
       " 'now',\n",
       " 'd',\n",
       " 'll',\n",
       " 'm',\n",
       " 'o',\n",
       " 're',\n",
       " 've',\n",
       " 'y',\n",
       " 'ain',\n",
       " 'aren',\n",
       " \"aren't\",\n",
       " 'couldn',\n",
       " \"couldn't\",\n",
       " 'didn',\n",
       " \"didn't\",\n",
       " 'doesn',\n",
       " \"doesn't\",\n",
       " 'hadn',\n",
       " \"hadn't\",\n",
       " 'hasn',\n",
       " \"hasn't\",\n",
       " 'haven',\n",
       " \"haven't\",\n",
       " 'isn',\n",
       " \"isn't\",\n",
       " 'ma',\n",
       " 'mightn',\n",
       " \"mightn't\",\n",
       " 'mustn',\n",
       " \"mustn't\",\n",
       " 'needn',\n",
       " \"needn't\",\n",
       " 'shan',\n",
       " \"shan't\",\n",
       " 'shouldn',\n",
       " \"shouldn't\",\n",
       " 'wasn',\n",
       " \"wasn't\",\n",
       " 'weren',\n",
       " \"weren't\",\n",
       " 'won',\n",
       " \"won't\",\n",
       " 'wouldn',\n",
       " \"wouldn't\"]"
      ]
     },
     "execution_count": 27,
     "metadata": {},
     "output_type": "execute_result"
    }
   ],
   "source": [
    "stopwords"
   ]
  },
  {
   "cell_type": "code",
   "execution_count": 32,
   "metadata": {},
   "outputs": [],
   "source": [
    "def remove_stopwords(txt_tokenized):\n",
    "    txt_clean=([word for word in txt_tokenized if word not in stopwords])\n",
    "    return txt_clean"
   ]
  },
  {
   "cell_type": "code",
   "execution_count": 33,
   "metadata": {
    "collapsed": true
   },
   "outputs": [],
   "source": [
    "df[\"cleaned\"]=df[\"news\"].apply(lambda x:remove_stopwords(x))"
   ]
  },
  {
   "cell_type": "code",
   "execution_count": 35,
   "metadata": {},
   "outputs": [],
   "source": [
    "df[\"cleaned_length\"]=df[\"cleaned\"].str.len()"
   ]
  },
  {
   "cell_type": "code",
   "execution_count": 38,
   "metadata": {},
   "outputs": [
    {
     "data": {
      "text/html": [
       "<div>\n",
       "<style scoped>\n",
       "    .dataframe tbody tr th:only-of-type {\n",
       "        vertical-align: middle;\n",
       "    }\n",
       "\n",
       "    .dataframe tbody tr th {\n",
       "        vertical-align: top;\n",
       "    }\n",
       "\n",
       "    .dataframe thead th {\n",
       "        text-align: right;\n",
       "    }\n",
       "</style>\n",
       "<table border=\"1\" class=\"dataframe\">\n",
       "  <thead>\n",
       "    <tr style=\"text-align: right;\">\n",
       "      <th></th>\n",
       "      <th>headline</th>\n",
       "      <th>written_by</th>\n",
       "      <th>news</th>\n",
       "      <th>label</th>\n",
       "      <th>length</th>\n",
       "      <th>news_clean</th>\n",
       "      <th>news_cleaned_tokenized</th>\n",
       "      <th>cleaned</th>\n",
       "      <th>cleaned_length</th>\n",
       "    </tr>\n",
       "  </thead>\n",
       "  <tbody>\n",
       "    <tr>\n",
       "      <th>0</th>\n",
       "      <td>Ethics Questions Dogged Agriculture Nominee as...</td>\n",
       "      <td>Eric Lipton and Steve Eder</td>\n",
       "      <td>washington  —   in sonny perdue’s telling, geo...</td>\n",
       "      <td>0</td>\n",
       "      <td>7936.0</td>\n",
       "      <td>washington  —   in sonny perdue’s telling geor...</td>\n",
       "      <td>[washington, in, sonny, perdue, s, telling, ge...</td>\n",
       "      <td>whngn  —   n nn perue’ ellng, gergn were grwng...</td>\n",
       "      <td>5031</td>\n",
       "    </tr>\n",
       "    <tr>\n",
       "      <th>1</th>\n",
       "      <td>U.S. Must Dig Deep to Stop Argentina’s Lionel ...</td>\n",
       "      <td>David Waldstein</td>\n",
       "      <td>houston  —   venezuela had a plan. it was a ta...</td>\n",
       "      <td>0</td>\n",
       "      <td>6112.0</td>\n",
       "      <td>houston  —   venezuela had a plan it was a tac...</td>\n",
       "      <td>[houston, venezuela, had, a, plan, it, was, a,...</td>\n",
       "      <td>hun  —   venezuel h  pln.  w  ccl pprch, egne ...</td>\n",
       "      <td>3747</td>\n",
       "    </tr>\n",
       "    <tr>\n",
       "      <th>2</th>\n",
       "      <td>Cotton to House: ’Do Not Walk the Plank and Vo...</td>\n",
       "      <td>Pam Key</td>\n",
       "      <td>sunday on abc’s “this week,” while discussing ...</td>\n",
       "      <td>0</td>\n",
       "      <td>425.0</td>\n",
       "      <td>sunday on abc’s “this week” while discussing t...</td>\n",
       "      <td>[sunday, on, abc, s, this, week, while, discus...</td>\n",
       "      <td>un n bc’ “h week,” whle cung he republcn pln  ...</td>\n",
       "      <td>282</td>\n",
       "    </tr>\n",
       "    <tr>\n",
       "      <th>3</th>\n",
       "      <td>Paul LePage, Besieged Maine Governor, Sends Co...</td>\n",
       "      <td>Jess Bidgood</td>\n",
       "      <td>augusta, me.  —   the beleaguered republican g...</td>\n",
       "      <td>0</td>\n",
       "      <td>6516.0</td>\n",
       "      <td>augusta me  —   the beleaguered republican gov...</td>\n",
       "      <td>[augusta, me, the, beleaguered, republican, go...</td>\n",
       "      <td>ugu, e.  —   he beleguere republcn gvernr f ne...</td>\n",
       "      <td>4068</td>\n",
       "    </tr>\n",
       "    <tr>\n",
       "      <th>4</th>\n",
       "      <td>A Digital 9/11 If Trump Wins</td>\n",
       "      <td>Finian Cunningham</td>\n",
       "      <td>finian cunningham has written extensively on...</td>\n",
       "      <td>1</td>\n",
       "      <td>9164.0</td>\n",
       "      <td>finian cunningham has written extensively on...</td>\n",
       "      <td>[, finian, cunningham, has, written, extensive...</td>\n",
       "      <td>fnn cunnngh h wren exenvel n nernnl ffr, wh ...</td>\n",
       "      <td>5613</td>\n",
       "    </tr>\n",
       "  </tbody>\n",
       "</table>\n",
       "</div>"
      ],
      "text/plain": [
       "                                            headline  \\\n",
       "0  Ethics Questions Dogged Agriculture Nominee as...   \n",
       "1  U.S. Must Dig Deep to Stop Argentina’s Lionel ...   \n",
       "2  Cotton to House: ’Do Not Walk the Plank and Vo...   \n",
       "3  Paul LePage, Besieged Maine Governor, Sends Co...   \n",
       "4                       A Digital 9/11 If Trump Wins   \n",
       "\n",
       "                   written_by  \\\n",
       "0  Eric Lipton and Steve Eder   \n",
       "1             David Waldstein   \n",
       "2                     Pam Key   \n",
       "3                Jess Bidgood   \n",
       "4           Finian Cunningham   \n",
       "\n",
       "                                                news  label  length  \\\n",
       "0  washington  —   in sonny perdue’s telling, geo...      0  7936.0   \n",
       "1  houston  —   venezuela had a plan. it was a ta...      0  6112.0   \n",
       "2  sunday on abc’s “this week,” while discussing ...      0   425.0   \n",
       "3  augusta, me.  —   the beleaguered republican g...      0  6516.0   \n",
       "4    finian cunningham has written extensively on...      1  9164.0   \n",
       "\n",
       "                                          news_clean  \\\n",
       "0  washington  —   in sonny perdue’s telling geor...   \n",
       "1  houston  —   venezuela had a plan it was a tac...   \n",
       "2  sunday on abc’s “this week” while discussing t...   \n",
       "3  augusta me  —   the beleaguered republican gov...   \n",
       "4    finian cunningham has written extensively on...   \n",
       "\n",
       "                              news_cleaned_tokenized  \\\n",
       "0  [washington, in, sonny, perdue, s, telling, ge...   \n",
       "1  [houston, venezuela, had, a, plan, it, was, a,...   \n",
       "2  [sunday, on, abc, s, this, week, while, discus...   \n",
       "3  [augusta, me, the, beleaguered, republican, go...   \n",
       "4  [, finian, cunningham, has, written, extensive...   \n",
       "\n",
       "                                             cleaned  cleaned_length  \n",
       "0  whngn  —   n nn perue’ ellng, gergn were grwng...            5031  \n",
       "1  hun  —   venezuel h  pln.  w  ccl pprch, egne ...            3747  \n",
       "2  un n bc’ “h week,” whle cung he republcn pln  ...             282  \n",
       "3  ugu, e.  —   he beleguere republcn gvernr f ne...            4068  \n",
       "4    fnn cunnngh h wren exenvel n nernnl ffr, wh ...            5613  "
      ]
     },
     "execution_count": 38,
     "metadata": {},
     "output_type": "execute_result"
    }
   ],
   "source": [
    "df.head()"
   ]
  },
  {
   "cell_type": "code",
   "execution_count": 46,
   "metadata": {},
   "outputs": [],
   "source": [
    "#removing the stopwords from the news column \n",
    "df[\"removed_stopwords\"]=df[\"news_clean\"].apply(lambda x:' '.join(term for term in x.split() if term not in stopwords))"
   ]
  },
  {
   "cell_type": "code",
   "execution_count": 47,
   "metadata": {},
   "outputs": [
    {
     "data": {
      "text/html": [
       "<div>\n",
       "<style scoped>\n",
       "    .dataframe tbody tr th:only-of-type {\n",
       "        vertical-align: middle;\n",
       "    }\n",
       "\n",
       "    .dataframe tbody tr th {\n",
       "        vertical-align: top;\n",
       "    }\n",
       "\n",
       "    .dataframe thead th {\n",
       "        text-align: right;\n",
       "    }\n",
       "</style>\n",
       "<table border=\"1\" class=\"dataframe\">\n",
       "  <thead>\n",
       "    <tr style=\"text-align: right;\">\n",
       "      <th></th>\n",
       "      <th>headline</th>\n",
       "      <th>written_by</th>\n",
       "      <th>news</th>\n",
       "      <th>label</th>\n",
       "      <th>length</th>\n",
       "      <th>news_clean</th>\n",
       "      <th>news_cleaned_tokenized</th>\n",
       "      <th>cleaned</th>\n",
       "      <th>cleaned_length</th>\n",
       "      <th>removed_stopwords</th>\n",
       "    </tr>\n",
       "  </thead>\n",
       "  <tbody>\n",
       "    <tr>\n",
       "      <th>0</th>\n",
       "      <td>Ethics Questions Dogged Agriculture Nominee as...</td>\n",
       "      <td>Eric Lipton and Steve Eder</td>\n",
       "      <td>washington  —   in sonny perdue’s telling, geo...</td>\n",
       "      <td>0</td>\n",
       "      <td>7936.0</td>\n",
       "      <td>washington  —   in sonny perdue’s telling geor...</td>\n",
       "      <td>[washington, in, sonny, perdue, s, telling, ge...</td>\n",
       "      <td>whngn  —   n nn perue’ ellng, gergn were grwng...</td>\n",
       "      <td>5031</td>\n",
       "      <td>washington — sonny perdue’s telling georgians ...</td>\n",
       "    </tr>\n",
       "    <tr>\n",
       "      <th>1</th>\n",
       "      <td>U.S. Must Dig Deep to Stop Argentina’s Lionel ...</td>\n",
       "      <td>David Waldstein</td>\n",
       "      <td>houston  —   venezuela had a plan. it was a ta...</td>\n",
       "      <td>0</td>\n",
       "      <td>6112.0</td>\n",
       "      <td>houston  —   venezuela had a plan it was a tac...</td>\n",
       "      <td>[houston, venezuela, had, a, plan, it, was, a,...</td>\n",
       "      <td>hun  —   venezuel h  pln.  w  ccl pprch, egne ...</td>\n",
       "      <td>3747</td>\n",
       "      <td>houston — venezuela plan tactical approach des...</td>\n",
       "    </tr>\n",
       "    <tr>\n",
       "      <th>2</th>\n",
       "      <td>Cotton to House: ’Do Not Walk the Plank and Vo...</td>\n",
       "      <td>Pam Key</td>\n",
       "      <td>sunday on abc’s “this week,” while discussing ...</td>\n",
       "      <td>0</td>\n",
       "      <td>425.0</td>\n",
       "      <td>sunday on abc’s “this week” while discussing t...</td>\n",
       "      <td>[sunday, on, abc, s, this, week, while, discus...</td>\n",
       "      <td>un n bc’ “h week,” whle cung he republcn pln  ...</td>\n",
       "      <td>282</td>\n",
       "      <td>sunday abc’s “this week” discussing republican...</td>\n",
       "    </tr>\n",
       "    <tr>\n",
       "      <th>3</th>\n",
       "      <td>Paul LePage, Besieged Maine Governor, Sends Co...</td>\n",
       "      <td>Jess Bidgood</td>\n",
       "      <td>augusta, me.  —   the beleaguered republican g...</td>\n",
       "      <td>0</td>\n",
       "      <td>6516.0</td>\n",
       "      <td>augusta me  —   the beleaguered republican gov...</td>\n",
       "      <td>[augusta, me, the, beleaguered, republican, go...</td>\n",
       "      <td>ugu, e.  —   he beleguere republcn gvernr f ne...</td>\n",
       "      <td>4068</td>\n",
       "      <td>augusta — beleaguered republican governor main...</td>\n",
       "    </tr>\n",
       "    <tr>\n",
       "      <th>4</th>\n",
       "      <td>A Digital 9/11 If Trump Wins</td>\n",
       "      <td>Finian Cunningham</td>\n",
       "      <td>finian cunningham has written extensively on...</td>\n",
       "      <td>1</td>\n",
       "      <td>9164.0</td>\n",
       "      <td>finian cunningham has written extensively on...</td>\n",
       "      <td>[, finian, cunningham, has, written, extensive...</td>\n",
       "      <td>fnn cunnngh h wren exenvel n nernnl ffr, wh ...</td>\n",
       "      <td>5613</td>\n",
       "      <td>finian cunningham written extensively internat...</td>\n",
       "    </tr>\n",
       "  </tbody>\n",
       "</table>\n",
       "</div>"
      ],
      "text/plain": [
       "                                            headline  \\\n",
       "0  Ethics Questions Dogged Agriculture Nominee as...   \n",
       "1  U.S. Must Dig Deep to Stop Argentina’s Lionel ...   \n",
       "2  Cotton to House: ’Do Not Walk the Plank and Vo...   \n",
       "3  Paul LePage, Besieged Maine Governor, Sends Co...   \n",
       "4                       A Digital 9/11 If Trump Wins   \n",
       "\n",
       "                   written_by  \\\n",
       "0  Eric Lipton and Steve Eder   \n",
       "1             David Waldstein   \n",
       "2                     Pam Key   \n",
       "3                Jess Bidgood   \n",
       "4           Finian Cunningham   \n",
       "\n",
       "                                                news  label  length  \\\n",
       "0  washington  —   in sonny perdue’s telling, geo...      0  7936.0   \n",
       "1  houston  —   venezuela had a plan. it was a ta...      0  6112.0   \n",
       "2  sunday on abc’s “this week,” while discussing ...      0   425.0   \n",
       "3  augusta, me.  —   the beleaguered republican g...      0  6516.0   \n",
       "4    finian cunningham has written extensively on...      1  9164.0   \n",
       "\n",
       "                                          news_clean  \\\n",
       "0  washington  —   in sonny perdue’s telling geor...   \n",
       "1  houston  —   venezuela had a plan it was a tac...   \n",
       "2  sunday on abc’s “this week” while discussing t...   \n",
       "3  augusta me  —   the beleaguered republican gov...   \n",
       "4    finian cunningham has written extensively on...   \n",
       "\n",
       "                              news_cleaned_tokenized  \\\n",
       "0  [washington, in, sonny, perdue, s, telling, ge...   \n",
       "1  [houston, venezuela, had, a, plan, it, was, a,...   \n",
       "2  [sunday, on, abc, s, this, week, while, discus...   \n",
       "3  [augusta, me, the, beleaguered, republican, go...   \n",
       "4  [, finian, cunningham, has, written, extensive...   \n",
       "\n",
       "                                             cleaned  cleaned_length  \\\n",
       "0  whngn  —   n nn perue’ ellng, gergn were grwng...            5031   \n",
       "1  hun  —   venezuel h  pln.  w  ccl pprch, egne ...            3747   \n",
       "2  un n bc’ “h week,” whle cung he republcn pln  ...             282   \n",
       "3  ugu, e.  —   he beleguere republcn gvernr f ne...            4068   \n",
       "4    fnn cunnngh h wren exenvel n nernnl ffr, wh ...            5613   \n",
       "\n",
       "                                   removed_stopwords  \n",
       "0  washington — sonny perdue’s telling georgians ...  \n",
       "1  houston — venezuela plan tactical approach des...  \n",
       "2  sunday abc’s “this week” discussing republican...  \n",
       "3  augusta — beleaguered republican governor main...  \n",
       "4  finian cunningham written extensively internat...  "
      ]
     },
     "execution_count": 47,
     "metadata": {},
     "output_type": "execute_result"
    }
   ],
   "source": [
    "df.head()"
   ]
  },
  {
   "cell_type": "code",
   "execution_count": 48,
   "metadata": {
    "collapsed": true
   },
   "outputs": [
    {
     "data": {
      "text/plain": [
       "'washington — sonny perdue’s telling georgians growing weary corruption scandals state took governor 2003 — time gave version “drain swamp” pledge “my first goal governor restore public trust state government changing culture state government” mr perdue told leadership conference kennesaw state university april 2003 “our form government depends mutual bond trust people government people become cynical government ” mr perdue republican awaiting confirmation serve president trump’s agriculture secretary became target frequent criticism failing honor ethics pledge eight years governor criticism centers fact mr trump continued help run family business ventures — four companies — serving governor mr perdue one last cabinet members awaiting senate confirmation date set confirmation hearing holdup release paperwork accompanying nomination federal office government ethics blamed delay office must examine mr perdue’s proposal avoid conflicts interest running u department known may include selling farming assets tenure governor ended 2011 13 complaints filed mr perdue state ethics commission two occasions ruled governor violated state ethics laws commission took unusual step fining mr perdue governor numerous questions including role mr perdue’s personal lawyer — also state legislator — pushing bill legislature included special provision gave mr perdue 100 000 state tax relief tenure governor coming close mr perdue met georgia officials oversee state’s ports discuss use terminal family business according documents obtained atlanta soon left office fact opened new company specialized exporting products savannah “when public official supposed acting entirely behalf public ” said yasha heidari former senior legal counsel state ethics commission “looking record attorney citizen state serious concerns ” written statement spokeswoman mr perdue rejected assessment saying frequent criticism faced governor largely politically motivated “there hadn’t republican governor georgia 135 years” statement said “governor perdue david slew democrats’ goliath ” wait mr perdue’s confirmation hearing farming industry come defense “i don’t think going find man honorable sonny perdue” said zippy duvall georgia cattle poultry farmer president american farm bureau federation adding known mr perdue decade “he ethical come ” born family farmers mr perdue played college football university georgia later worked briefly practicing veterinarian rose ranks state legislature late 1990s switched party affiliation democrat republican said state party lost focus family values one mr perdue’s first acts sworn governor january 2003 sign executive order establishing new code ethics executive branch employees order applied governor prohibited state employees using powers “any financial personal benefit” barred taking gifts worth 25 “in carrying official duties obligations officers employees state government must work solely public good striving vigilantly avoid even appearance actions motivated private personal interest” 2003 executive order said mr perdue ended collecting least 25 000 worth benefits gifts years governor state records show gifts ranged tickets nascar race football games flights paid altria tobacco company csx railroad giant according 2010 report citizens responsibility ethics washington liberal nonprofit group mr perdue’s spokeswoman written statement said none gifts violated ban “trips official state business perfectly acceptable saving taxpayer funds ” “the gifts state” statement read “not governor ” fine state ethics commission 2005 came commission concluded mr perdue failed properly report use airplane owned one family’s businesses trip commission also found taken campaign contributions amounts exceeded state limits several donors — including political action committee run suntrust bank mr perdue called violations technical investigation politically motivated teddy lee executive secretary state ethics commission fired job january 2006 interview blamed mr perdue firing mr lee served job four governors “this looked like political hit me” mr lee said mr lee’s dismissal came mr perdue seeking months largest scandal emerged 100 000 state tax break received thanks legislative maneuver engineered lawmaker also personal lawyer focus controversy piece property florida mr perdue purchased 2004 purchase allowed defer paying federal capital gains taxes separate piece georgia land — previously sold profit transaction completed mr perdue still owed georgia 100 000 state taxes mr perdue signed bill following year eliminating state tax obligation — state law changed allow rollover relief capital gains even new property purchased state deliberations legislation larry o’neal member georgia house representatives also worked part time personal lawyer mr perdue intervened make change provision retroactive meant would cover mr perdue’s 2004 land deal saving governor 100 000 reported time mr perdue’s spokeswoman said change state law intended benefit mr perdue “it benefited georgians” statement said scott faber environmental working group nonprofit organization keeps close watch policies agriculture department said questions mr perdue’s fitness take department “given record conflicts interest governor georgia fair ask fit run federal agency” mr faber said mr duvall american farm bureau federation believes opposite mr duvall said former farmer mr perdue nation needs run department “he worked farm owned businesses buy sell grain domestically internationally” mr duvall said “it ought requirement someone runs u knows something farming sonny certainly ”'"
      ]
     },
     "execution_count": 48,
     "metadata": {},
     "output_type": "execute_result"
    }
   ],
   "source": [
    "df[\"removed_stopwords\"][0]"
   ]
  },
  {
   "cell_type": "code",
   "execution_count": 49,
   "metadata": {},
   "outputs": [],
   "source": [
    "#adding one more column to check the number of words in removed _stopwords column \n",
    "df[\"lenght_2\"]=df[\"removed_stopwords\"].str.len()"
   ]
  },
  {
   "cell_type": "code",
   "execution_count": 50,
   "metadata": {},
   "outputs": [
    {
     "data": {
      "text/html": [
       "<div>\n",
       "<style scoped>\n",
       "    .dataframe tbody tr th:only-of-type {\n",
       "        vertical-align: middle;\n",
       "    }\n",
       "\n",
       "    .dataframe tbody tr th {\n",
       "        vertical-align: top;\n",
       "    }\n",
       "\n",
       "    .dataframe thead th {\n",
       "        text-align: right;\n",
       "    }\n",
       "</style>\n",
       "<table border=\"1\" class=\"dataframe\">\n",
       "  <thead>\n",
       "    <tr style=\"text-align: right;\">\n",
       "      <th></th>\n",
       "      <th>headline</th>\n",
       "      <th>written_by</th>\n",
       "      <th>news</th>\n",
       "      <th>label</th>\n",
       "      <th>length</th>\n",
       "      <th>news_clean</th>\n",
       "      <th>news_cleaned_tokenized</th>\n",
       "      <th>cleaned</th>\n",
       "      <th>cleaned_length</th>\n",
       "      <th>removed_stopwords</th>\n",
       "      <th>lenght_2</th>\n",
       "    </tr>\n",
       "  </thead>\n",
       "  <tbody>\n",
       "    <tr>\n",
       "      <th>0</th>\n",
       "      <td>Ethics Questions Dogged Agriculture Nominee as...</td>\n",
       "      <td>Eric Lipton and Steve Eder</td>\n",
       "      <td>washington  —   in sonny perdue’s telling, geo...</td>\n",
       "      <td>0</td>\n",
       "      <td>7936.0</td>\n",
       "      <td>washington  —   in sonny perdue’s telling geor...</td>\n",
       "      <td>[washington, in, sonny, perdue, s, telling, ge...</td>\n",
       "      <td>whngn  —   n nn perue’ ellng, gergn were grwng...</td>\n",
       "      <td>5031</td>\n",
       "      <td>washington — sonny perdue’s telling georgians ...</td>\n",
       "      <td>5600</td>\n",
       "    </tr>\n",
       "    <tr>\n",
       "      <th>1</th>\n",
       "      <td>U.S. Must Dig Deep to Stop Argentina’s Lionel ...</td>\n",
       "      <td>David Waldstein</td>\n",
       "      <td>houston  —   venezuela had a plan. it was a ta...</td>\n",
       "      <td>0</td>\n",
       "      <td>6112.0</td>\n",
       "      <td>houston  —   venezuela had a plan it was a tac...</td>\n",
       "      <td>[houston, venezuela, had, a, plan, it, was, a,...</td>\n",
       "      <td>hun  —   venezuel h  pln.  w  ccl pprch, egne ...</td>\n",
       "      <td>3747</td>\n",
       "      <td>houston — venezuela plan tactical approach des...</td>\n",
       "      <td>4291</td>\n",
       "    </tr>\n",
       "    <tr>\n",
       "      <th>2</th>\n",
       "      <td>Cotton to House: ’Do Not Walk the Plank and Vo...</td>\n",
       "      <td>Pam Key</td>\n",
       "      <td>sunday on abc’s “this week,” while discussing ...</td>\n",
       "      <td>0</td>\n",
       "      <td>425.0</td>\n",
       "      <td>sunday on abc’s “this week” while discussing t...</td>\n",
       "      <td>[sunday, on, abc, s, this, week, while, discus...</td>\n",
       "      <td>un n bc’ “h week,” whle cung he republcn pln  ...</td>\n",
       "      <td>282</td>\n",
       "      <td>sunday abc’s “this week” discussing republican...</td>\n",
       "      <td>296</td>\n",
       "    </tr>\n",
       "    <tr>\n",
       "      <th>3</th>\n",
       "      <td>Paul LePage, Besieged Maine Governor, Sends Co...</td>\n",
       "      <td>Jess Bidgood</td>\n",
       "      <td>augusta, me.  —   the beleaguered republican g...</td>\n",
       "      <td>0</td>\n",
       "      <td>6516.0</td>\n",
       "      <td>augusta me  —   the beleaguered republican gov...</td>\n",
       "      <td>[augusta, me, the, beleaguered, republican, go...</td>\n",
       "      <td>ugu, e.  —   he beleguere republcn gvernr f ne...</td>\n",
       "      <td>4068</td>\n",
       "      <td>augusta — beleaguered republican governor main...</td>\n",
       "      <td>4617</td>\n",
       "    </tr>\n",
       "    <tr>\n",
       "      <th>4</th>\n",
       "      <td>A Digital 9/11 If Trump Wins</td>\n",
       "      <td>Finian Cunningham</td>\n",
       "      <td>finian cunningham has written extensively on...</td>\n",
       "      <td>1</td>\n",
       "      <td>9164.0</td>\n",
       "      <td>finian cunningham has written extensively on...</td>\n",
       "      <td>[, finian, cunningham, has, written, extensive...</td>\n",
       "      <td>fnn cunnngh h wren exenvel n nernnl ffr, wh ...</td>\n",
       "      <td>5613</td>\n",
       "      <td>finian cunningham written extensively internat...</td>\n",
       "      <td>6771</td>\n",
       "    </tr>\n",
       "  </tbody>\n",
       "</table>\n",
       "</div>"
      ],
      "text/plain": [
       "                                            headline  \\\n",
       "0  Ethics Questions Dogged Agriculture Nominee as...   \n",
       "1  U.S. Must Dig Deep to Stop Argentina’s Lionel ...   \n",
       "2  Cotton to House: ’Do Not Walk the Plank and Vo...   \n",
       "3  Paul LePage, Besieged Maine Governor, Sends Co...   \n",
       "4                       A Digital 9/11 If Trump Wins   \n",
       "\n",
       "                   written_by  \\\n",
       "0  Eric Lipton and Steve Eder   \n",
       "1             David Waldstein   \n",
       "2                     Pam Key   \n",
       "3                Jess Bidgood   \n",
       "4           Finian Cunningham   \n",
       "\n",
       "                                                news  label  length  \\\n",
       "0  washington  —   in sonny perdue’s telling, geo...      0  7936.0   \n",
       "1  houston  —   venezuela had a plan. it was a ta...      0  6112.0   \n",
       "2  sunday on abc’s “this week,” while discussing ...      0   425.0   \n",
       "3  augusta, me.  —   the beleaguered republican g...      0  6516.0   \n",
       "4    finian cunningham has written extensively on...      1  9164.0   \n",
       "\n",
       "                                          news_clean  \\\n",
       "0  washington  —   in sonny perdue’s telling geor...   \n",
       "1  houston  —   venezuela had a plan it was a tac...   \n",
       "2  sunday on abc’s “this week” while discussing t...   \n",
       "3  augusta me  —   the beleaguered republican gov...   \n",
       "4    finian cunningham has written extensively on...   \n",
       "\n",
       "                              news_cleaned_tokenized  \\\n",
       "0  [washington, in, sonny, perdue, s, telling, ge...   \n",
       "1  [houston, venezuela, had, a, plan, it, was, a,...   \n",
       "2  [sunday, on, abc, s, this, week, while, discus...   \n",
       "3  [augusta, me, the, beleaguered, republican, go...   \n",
       "4  [, finian, cunningham, has, written, extensive...   \n",
       "\n",
       "                                             cleaned  cleaned_length  \\\n",
       "0  whngn  —   n nn perue’ ellng, gergn were grwng...            5031   \n",
       "1  hun  —   venezuel h  pln.  w  ccl pprch, egne ...            3747   \n",
       "2  un n bc’ “h week,” whle cung he republcn pln  ...             282   \n",
       "3  ugu, e.  —   he beleguere republcn gvernr f ne...            4068   \n",
       "4    fnn cunnngh h wren exenvel n nernnl ffr, wh ...            5613   \n",
       "\n",
       "                                   removed_stopwords  lenght_2  \n",
       "0  washington — sonny perdue’s telling georgians ...      5600  \n",
       "1  houston — venezuela plan tactical approach des...      4291  \n",
       "2  sunday abc’s “this week” discussing republican...       296  \n",
       "3  augusta — beleaguered republican governor main...      4617  \n",
       "4  finian cunningham written extensively internat...      6771  "
      ]
     },
     "execution_count": 50,
     "metadata": {},
     "output_type": "execute_result"
    }
   ],
   "source": [
    "df.head()"
   ]
  },
  {
   "cell_type": "markdown",
   "metadata": {},
   "source": [
    "now we can see that the length of removed stopwords column is less than news column after applying punctuation and removing stopwords\n"
   ]
  },
  {
   "cell_type": "code",
   "execution_count": 59,
   "metadata": {},
   "outputs": [],
   "source": [
    "from sklearn.feature_extraction.text import TfidfVectorizer\n",
    "from sklearn.naive_bayes import MultinomialNB\n",
    "from sklearn.linear_model import LogisticRegression\n",
    "from sklearn.model_selection import train_test_split\n",
    "from sklearn.metrics import accuracy_score,classification_report,confusion_matrix"
   ]
  },
  {
   "cell_type": "code",
   "execution_count": 51,
   "metadata": {},
   "outputs": [],
   "source": [
    "#applying diffrent models and checking for their accuracy and classification report and confusion matrix\n",
    "tf_vec=TfidfVectorizer()\n",
    "naive=MultinomialNB()\n"
   ]
  },
  {
   "cell_type": "code",
   "execution_count": 52,
   "metadata": {},
   "outputs": [],
   "source": [
    "features=tf_vec.fit_transform(df[\"removed_stopwords\"])"
   ]
  },
  {
   "cell_type": "code",
   "execution_count": 53,
   "metadata": {},
   "outputs": [],
   "source": [
    "X=features\n",
    "Y=df[\"label\"]"
   ]
  },
  {
   "cell_type": "code",
   "execution_count": 54,
   "metadata": {},
   "outputs": [],
   "source": [
    "X_train,X_test,Y_train,Y_test=train_test_split(X,Y,random_state=42)"
   ]
  },
  {
   "cell_type": "code",
   "execution_count": 55,
   "metadata": {},
   "outputs": [
    {
     "data": {
      "text/plain": [
       "MultinomialNB()"
      ]
     },
     "execution_count": 55,
     "metadata": {},
     "output_type": "execute_result"
    }
   ],
   "source": [
    "naive.fit(X_train,Y_train)"
   ]
  },
  {
   "cell_type": "code",
   "execution_count": 56,
   "metadata": {},
   "outputs": [],
   "source": [
    "Y_pred=naive.predict(X_test)"
   ]
  },
  {
   "cell_type": "code",
   "execution_count": 57,
   "metadata": {},
   "outputs": [
    {
     "name": "stdout",
     "output_type": "stream",
     "text": [
      "Acurracy_Score: 0.8355769230769231\n"
     ]
    }
   ],
   "source": [
    "print(\"Acurracy_Score:\",accuracy_score(Y_test,Y_pred))"
   ]
  },
  {
   "cell_type": "code",
   "execution_count": 60,
   "metadata": {},
   "outputs": [],
   "source": [
    "Lg=LogisticRegression()"
   ]
  },
  {
   "cell_type": "code",
   "execution_count": 62,
   "metadata": {},
   "outputs": [
    {
     "data": {
      "text/plain": [
       "LogisticRegression()"
      ]
     },
     "execution_count": 62,
     "metadata": {},
     "output_type": "execute_result"
    }
   ],
   "source": [
    "Lg.fit(X_train,Y_train)"
   ]
  },
  {
   "cell_type": "code",
   "execution_count": 63,
   "metadata": {},
   "outputs": [],
   "source": [
    "Y_pred_LG=Lg.predict(X_test)"
   ]
  },
  {
   "cell_type": "code",
   "execution_count": 64,
   "metadata": {},
   "outputs": [
    {
     "name": "stdout",
     "output_type": "stream",
     "text": [
      "Acurracy_Score: 0.9528846153846153\n"
     ]
    }
   ],
   "source": [
    "print(\"Acurracy_Score:\",accuracy_score(Y_test,Y_pred_LG))"
   ]
  },
  {
   "cell_type": "code",
   "execution_count": 66,
   "metadata": {},
   "outputs": [
    {
     "name": "stdout",
     "output_type": "stream",
     "text": [
      "Confusion_Matrix: [[2574   11]\n",
      " [ 844 1771]]\n"
     ]
    }
   ],
   "source": [
    "print(\"Confusion_Matrix:\",confusion_matrix(Y_test,Y_pred))"
   ]
  },
  {
   "cell_type": "code",
   "execution_count": 67,
   "metadata": {},
   "outputs": [
    {
     "name": "stdout",
     "output_type": "stream",
     "text": [
      "Confusion_Matrix: [[2434  151]\n",
      " [  94 2521]]\n"
     ]
    }
   ],
   "source": [
    "print(\"Confusion_Matrix:\",confusion_matrix(Y_test,Y_pred_LG))"
   ]
  },
  {
   "cell_type": "code",
   "execution_count": 68,
   "metadata": {},
   "outputs": [
    {
     "name": "stdout",
     "output_type": "stream",
     "text": [
      "Classification_Report:               precision    recall  f1-score   support\n",
      "\n",
      "           0       0.75      1.00      0.86      2585\n",
      "           1       0.99      0.68      0.81      2615\n",
      "\n",
      "    accuracy                           0.84      5200\n",
      "   macro avg       0.87      0.84      0.83      5200\n",
      "weighted avg       0.87      0.84      0.83      5200\n",
      "\n"
     ]
    }
   ],
   "source": [
    "print('Classification_Report:',classification_report(Y_test,Y_pred))"
   ]
  },
  {
   "cell_type": "code",
   "execution_count": 69,
   "metadata": {},
   "outputs": [
    {
     "name": "stdout",
     "output_type": "stream",
     "text": [
      "Classification_Report:               precision    recall  f1-score   support\n",
      "\n",
      "           0       0.96      0.94      0.95      2585\n",
      "           1       0.94      0.96      0.95      2615\n",
      "\n",
      "    accuracy                           0.95      5200\n",
      "   macro avg       0.95      0.95      0.95      5200\n",
      "weighted avg       0.95      0.95      0.95      5200\n",
      "\n"
     ]
    }
   ],
   "source": [
    "print('Classification_Report:',classification_report(Y_test,Y_pred_LG))"
   ]
  },
  {
   "cell_type": "markdown",
   "metadata": {},
   "source": [
    "we found that logistic regression model is performing well and giving a accuracy of about 95 percent so we will consider that model."
   ]
  },
  {
   "cell_type": "code",
   "execution_count": null,
   "metadata": {},
   "outputs": [],
   "source": []
  }
 ],
 "metadata": {
  "kernelspec": {
   "display_name": "Python 3",
   "language": "python",
   "name": "python3"
  },
  "language_info": {
   "codemirror_mode": {
    "name": "ipython",
    "version": 3
   },
   "file_extension": ".py",
   "mimetype": "text/x-python",
   "name": "python",
   "nbconvert_exporter": "python",
   "pygments_lexer": "ipython3",
   "version": "3.8.5"
  }
 },
 "nbformat": 4,
 "nbformat_minor": 4
}
