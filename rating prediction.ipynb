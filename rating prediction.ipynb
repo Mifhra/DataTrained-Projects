{
 "cells": [
  {
   "cell_type": "code",
   "execution_count": 1,
   "metadata": {},
   "outputs": [],
   "source": [
    "import selenium\n",
    "import pandas as pd\n",
    "from selenium import webdriver\n",
    "from selenium.common.exceptions import NoSuchElementException "
   ]
  },
  {
   "cell_type": "code",
   "execution_count": 2,
   "metadata": {},
   "outputs": [],
   "source": [
    "driver=webdriver.Chrome(\"F:/chromedriver.exe\")"
   ]
  },
  {
   "cell_type": "code",
   "execution_count": 3,
   "metadata": {},
   "outputs": [],
   "source": [
    "driver.get(\"https://www.amazon.in/\")"
   ]
  },
  {
   "cell_type": "code",
   "execution_count": 4,
   "metadata": {},
   "outputs": [],
   "source": [
    "Review=[]"
   ]
  },
  {
   "cell_type": "code",
   "execution_count": 6,
   "metadata": {},
   "outputs": [],
   "source": [
    "urls=driver.find_elements_by_xpath(\"//a[@class='a-link-normal a-text-normal']\")\n",
    "UR=[]\n",
    "for i in urls:\n",
    "    UR.append(i.get_attribute('href'))\n",
    "for url in UR:\n",
    "    driver.get(url) \n",
    "    try:\n",
    "        rate=driver.find_element_by_xpath(\"//span[@id='acrCustomerReviewText']\")\n",
    "        rate.click()\n",
    "        review=driver.find_element_by_xpath(\"//div[@class='a-row a-spacing-small review-data']\")\n",
    "        Review.append(review.text)\n",
    "    \n",
    "    except NoSuchElementException as e:\n",
    "        Review.append(\"no review\")\n",
    "        "
   ]
  },
  {
   "cell_type": "raw",
   "metadata": {},
   "source": []
  },
  {
   "cell_type": "code",
   "execution_count": 160,
   "metadata": {
    "collapsed": true
   },
   "outputs": [
    {
     "data": {
      "text/plain": [
       "[\"Bluetooth 5.O\\nUSB C charging\\nHD-AAC audio\\nReliable brand - Sony\\nPleasant sound quality\\nBluetooth connection range is as promised\\nNo connection drops\\nPerfect form factor (in comparison with neckband earphones)\\nLightweight\\n15hr battery life\\nCompetitive price of under ₹2500(JBL earphones in the same cost sound like crap)\\nYou'll get a free good quality usb c cable which can be used to charge your phone as well in the same price(seperately these alone cost ₹500~)\\nBuilt quality seems sturdy enough for everyday use.\\nWill update in case any problems are faced.\\nThe only feature missing is water/sweat resistance for working out or running while using these.\\nHope this review helps you make a purchase decision.\\nRead more\",\n",
       " 'For someone who listens to assorted English music all the time on Spotify premium, this new 2021 model is disappointing.\\n\\nI am not saying it’s a bad earphone to buy - the sound clarity is amazing but the bass depth is negligible and the whole set lacks the loudness factor. It had me check the volume button on my iPhone just to be sure!\\n\\nThe earpiece are also not the ones that go inside the ear but like the ones you get on the iPhone earphones. Not very convenient in my opinion. It also impacts the sound quality as they don’t get inside the ear canal. No magnetic lock either.\\n\\nI bought this as my realme earphones stopped working exactly after one year, mostly due to the rough handling on my side. I wanted to buy the same orange realme again but while browsing saw this model, googled it and then decide to buy it because of the JBL brand.\\n\\nBeen listening on it the last few hours, and I honestly feel dissatisfied.\\nRead more',\n",
       " \"I have purchased this boat earphone few months ago...😊\\n\\nHere I'm sharing our experience with this product.\\n\\nBuild quality⏮️⏭️ Its build quality is Awesome and looks premium in hands when you hold it in your hands. Also its a light weight product.\\n\\nSound quality⏮️⏭️ sound quality is good.\\nWorks well for soft and melody songs with my personal experience.\\n\\nLength⏮️⏭️ comes with long size cable which is a cool thing and I like it.\\nOne thing I like is that it comes with a strap to tangle the cable.\\n\\nEar comfort ⏮️⏭️ get fit easily in ears.\\n\\nDurability ⏮️⏭️ It will depend what kind of user you are. If you're protective towards your stuff so maybe this will be a last long product.\\n\\n******************************************\\n\\nCons⏯️⏯️\\n\\nCome with dedicated microphone which works ok ok. There is still noise in calling while traveling. So not satisfied with this noise cancellation Mike.\\n\\nI am not satisfied with the bass quality. It works average.\\n\\n******************************************\\n\\nWhat you will get inside?⏮️⏭️ You will get earphone with some paperwork's and it comes with one year warranty which you have to activate by calling on the given number I guess.\\n\\nYou will also get two pairs of additional ear protector for further use.\\n\\nI hope this will help you to make your purchase decision.😊\\nRead more\",\n",
       " \"Amazing! After a long time I got something perfect. I am a sound engineer , so it's very hard for me to select a earphone . But trust me it sounds like my sennheiser studio headphones. Perfect lows ,perfect mid, perfect highs . And the best part is I got this earphone at just 380 rupees.\",\n",
       " \"This is one of the worst earphones I have ever used.\\nDesign of the earbuds is very bad.\\nDoesn't fits well in right ear. It starts paining after few minutes.\\nMy recommendation : don't buy before you try.\\n\\nI wanted to return but electronic items are only eligible for replacement. So, I took replacement if I received faulty item but it didn't helped.\",\n",
       " 'Every product has a head and tail after it gets quality control check from the manufacturer. Heads you win, tails you lose. If you get a good piece you are lucky and if not you have to fight for refund or replacement. This is Universal procedure. For Rs.700/- you can not expect Bose earbuds. Even in high end items same head and tail formula applies.\\nNow having said so my first piece was defective.I got replacement which is just good if not fine. Bluetooth connectivity is poor for this product otherwise rest of the functions are 4 star and if you still want a 5 star product you have to pay more for a higher quality product. For theatrical 8 D depth you can not expect that on a cheap portable device. You need soundproof and calm surroundings for that enjoyment.\\nI am in-depth music connoisseur and have tested all musical headphones, earbuds, portable speakers and home theater equipment.Comparing WeCool N1 to any such competitors at Rs.700/- is a deal.And to end my review I again repeat, if you get heads you are very lucky for the price you paid. Hope my review helps.',\n",
       " 'NOTE:\\n@ There are thousands of reviews for this product, but surprisingly there\\'s hardly any review explaining its performance in long run and comparing this earphones with similar ones available in market.\\n@ I am using these earphones since last one year and in the meantime I also happen to use JBL C100SI and Sennhesiers CX180, so I would be comparing all these 3 earphones in this review.\\n@ You get a \" L \" shaped connector in these earphones, so note that.\\n\\nI am dividing this review in several subtopics directly stating my user experience and stating which is the Best earphone in that subtopic,\\n\\nBUILT QUALITY :\\n------------------\\n● boAt - Flat cables which is tangle free in true sense. Metal housing holds up good, but colour sheds off after 5-6 months. Perfect \"L\" shaped connector which is apt for using with laptops while resting.\\n● JBL - Small round cables, shredding off after 7-8 months of moderate usage. Plastic housing doing great so far.\\nConnector is bent, but not in perfect \"L\" shape, so its quite pain to use while resting.\\n● Sennheiser - Small round cables, holding up good after 1 year of rough use. Plastic housing has become slick, as rubber coating on it has shredded off. Perfect \"L\" shaped connector which is apt for using with laptops while resting.\\n●● WINNER- boAt 225 ●●\\n\\nCOMFORT :\\n------------\\n● boAt - comfortable enough when used while in upright position. These are VERY UNCOMFORTABLE when you use them while resting on couch or bed for watching movies or so. Has very long earphone head.\\n● JBL - Comfortable enough in upright position. Slightly uncomfortable using while resting, as these have offset opening.\\n● Sennheisers - Comfortable in both the position. These are apt for long duration usage.\\n●● WINNER - sennheisers cx180 ●●\\n\\nLOUDNESS :\\n-------------\\nCX180 > boAt 225 > JBL CS100SI\\n\\n● boAt - tends to distort above 75% level of volume.\\n● JBL - Crystal clear even at full volume, but has least sound level in all of three.\\n● Sennheisers - tends to distort above 75% level of volume, but has greater sound level of all.\\n●● WINNER - sennheisers cx180 ●●\\n\\nSOUND QUALITY ( Bass, mids & lows ) :\\n---------------------------------------------\\nI noticed that all of them have almost same Mids & lows, which are strong & Crisp. But bass levels are different.\\n● boAt - has average bass, I am very disappointed with it, since these earphones are marketed as bassheads.\\n● JBL - has least bass of all, I felt treble is high in these.\\n● Sennheisers - ton of bass and when used proper eartips, its just a treat for bass lovers.\\n●● WINNER - sennheisers cx180 ●●\\n\\nSOUND QUALITY OVER CALL :\\n----------------------------------\\n● boAt - I noticed in early few months, quality over call was great, but started to deplete after 5-6 months. But its still good, not as good as new. Noise cancellation is good and noticeable by person on other side.\\n● JBL - its quite average and has maintained the quality over a year now.\\n● Sennheisers - their NO microphone, lol :P\\nNOTE: boAt & JBL both\\'s mics works with android and iOS perfectly.\\n●● WINNER - boAt 225 ●●\\n\\nCUSTOMER CARE :\\n--------------------\\n● boAt : 1 Year warranty. Had no issues till date, so didn\\'t got chance to check it. But some of my friends who ran into issue had mixed experiences.\\n● JBL : 1 Year warranty. Had issue with one ear piece and was replaced within 2 weeks after contacting nearest service center.\\n● Sennheisers : 2 Years warranty. I had 2 of these and one pair stopped working after a year and half, was replaced immediately within a week after contacting nearest service center.\\nNOTE: I first contacted the company via mail with my product details and I was given all the required details for service. I would suggest this to all.\\n●● WINNER : sennheiser cx180 ●●\\n\\nCONNECTIVITY :\\n------------------\\nAll the earphones have 3.5mm connector and works perfectly with both android and iOS devices.\\n\\nVERDICT :\\n----------\\nI don\\'t think I need to explain anything else now, since I mentioned all the points of all these earphones. To sum up, I would say boAt 225 are good, if you are going to use the mic alot and not going to use these earphones while resting on couch for watching movies. If you want mic and even want to watch movies resting, then go for JBL CS100SI. But if you want the earphones only for watching the movies and listening to songs like me, then certainly go for Sennheisers cx180.\\n\\nHope this review helps you make sound decision.\\nRead more',\n",
       " \"Great quality and the sound is actually great.\\nPros\\n1) hd sound quality is great it has micro woffers.\\n2) built quality is great wires are thick.\\n3) hd calling is great my voice was clearly audible to other person on the call.\\n\\nCons\\n1) sometimes earbuds hurt the ears and they might not be comfortable to some people otherwise it's a great product\",\n",
       " 'AFTER 2 WEEKS OF DAILY 1-2 HR USE\\nPROS:\\nSound quality is ear deafening... u can use it with 70-80% more than that u cant ..or u r crazy ...\\nBASS 5/5\\n\\nI feel the price is affordable.5/5\\n\\nThe wire are very durable 5/5(Wires with nylon outer cover as of i know )\\n\\nthe buttons 5/5\\n\\nI use it as a daily driver in gym\\nit wont come unless u take it out.\\n\\nCons: After using it for 60-70 minutes you will feel slight discomfort due to the ear wing and also you feel discomfort whiling using it in while on a pillow in bed.( the ear hooks are detachable) it gives more comfort.\\n\\nbut it is the best wired headset in the range and it is better than their own 225 headphones...\\n\\ni highly recommend it for people who need A good bass headphones\\nRead more',\n",
       " 'Very bad experience.....\\nAfter using the sennheiser headphones for hardly a month , i observed that the voice from the right side earphone was almost zero whereas the left side earphone is working fine. This hardware issue wasnt expected from one of the best brand.',\n",
       " \"Good quality. Bass is pretty decent. If you are base head this is not for you.\\nSo i got today my replaced noise actuve tune.\\nAnd this is good product and sound is pretty much awesome according to my liking.\\nAlso i used thus earphone for like 2-3 hours straight and i didn't get any problem while using it .\\nComfortable fit .\",\n",
       " 'I bought 2 sets and after 3 months the left earplugs of both of them stopped working.',\n",
       " 'An excellent product. It is of lightweight design and of snug fit wired earphone.\\nIt have long durable tangle free cable.Easy to handle.\\nIt have Hi-fi audio quality with good bass. It is water and sweat resistant due to which can be used during gym, running and sports.\\nIt have passive Noise cancelation. Perfect for both indoor and outdoor use. It have hd mic for clear quality phone calls. It have wide range of compatibality with 3.5 mm jack. It can be used in smart phones, tablets, computer, MP3 player and laptops.\\nOne of best product in its range.',\n",
       " \"I have purchased this boat earphone few months ago...😊\\n\\nHere I'm sharing our experience with this product.\\n\\nBuild quality⏮️⏭️ Its build quality is Awesome and looks premium in hands when you hold it in your hands. Also its a light weight product.\\n\\nSound quality⏮️⏭️ sound quality is good.\\nWorks well for soft and melody songs with my personal experience.\\n\\nLength⏮️⏭️ comes with long size cable which is a cool thing and I like it.\\nOne thing I like is that it comes with a strap to tangle the cable.\\n\\nEar comfort ⏮️⏭️ get fit easily in ears.\\n\\nDurability ⏮️⏭️ It will depend what kind of user you are. If you're protective towards your stuff so maybe this will be a last long product.\\n\\n******************************************\\n\\nCons⏯️⏯️\\n\\nCome with dedicated microphone which works ok ok. There is still noise in calling while traveling. So not satisfied with this noise cancellation Mike.\\n\\nI am not satisfied with the bass quality. It works average.\\n\\n******************************************\\n\\nWhat you will get inside?⏮️⏭️ You will get earphone with some paperwork's and it comes with one year warranty which you have to activate by calling on the given number I guess.\\n\\nYou will also get two pairs of additional ear protector for further use.\\n\\nI hope this will help you to make your purchase decision.😊\\nRead more\",\n",
       " \"I bought this Earphone as a replacement for my Boat Earphone. I mostly use earphones for listing to music and will use them as a headset for my Pubg mobile game which is why I needed the one with a mic.\\nI found great reviews on realme 1 buds. so, I thought newer version will also do justice & at a decent price so wanted to try them out.\\n\\nI am comparing them with my Boat, (which speaker went out on one side but just came back).\\n\\n⚫ Sound Quality:\\nThe sound quality is actually very good! I'm impressed by crisp and clean sound with good bass! They are not headphones but for earbuds, they are top of my list even better than my boat which I thought were amazing.\\nYou get a nice bass at all volume levels and at higher levels the quality is still great and crisp/clear.\\n\\n⚫ Durability:\\nI can't say too much since this is a day 2 review, I am going to try and come back in a month to do a follow up on how well they are!\\nBut initial thoughts it looks durable as it comes with high quality braided cable, Mic/Volume control/3.5mm Jack all feel solid and durable.\\nWe will see how long they last from daily use as an IT professional & part-time mobile gamer. (I will also update the stars for Durability is they prove me wrong).\\n\\n⚫ Noise Cancellation: Buds are very soft & comfortable & fit very well n isolate outside noise. And gives you the freedom to use in crowded places as well\\n\\n⚫ Cons:\\nNormal 3.5mm jack (No angled jack)\\nCable above mic seems like average quality & frankly, I don't like upper side cable design\\n\\n⚫ Overall under 600, these Earphones sounds GREAT! I hope to return in the future to update my review using them for 30 days.\\nRead more\",\n",
       " 'I loved to listen music with earphones. I have already used JBL c100si & c200si. I bought this one to gift someone. I used this JBL C50HI for 3-4 days & here are some points that will be helpful to decide to buy this or not.\\nBuild- Earbuds housing made with plastic looks basic. Wire length is 1.2mtr. It is very thin & twin wire. Wire is not tangle free. It is not feel strong & durable. One good thing is L shape 3.5mm jack so you can put in pocket while sitting without no worries. Overall build quality is average.\\n\\nSound- Sound Quality is well balanced. Bass is good,Vocals & acoustics are clear even on 100% volume. And as I said sound output is well balanced so it is loud & clear but not so much loud so you can listen music on full volume. You will feel the true JBL Sound with this earphones. I used it with OnePlus 3T.\\n\\nEarphones comes with in-line remote with single multifunctional button & Mic. Mic works good during calls.\\n\\nOverall sound output is good you can feel the True JBL Sound Output with it but build quality is not so good. It doesn’t look premium & durable.\\n\\nSuggestion- If you want listen good quality music then you can go for it but you need to use it carefully.\\nIf you want use earphones roughly then go for Realme Buds/ BOAt Earphones but you need to compromise with sound quality.\\n\\nCheck earphones videos on my YouTube channel link in my profile.\\nRead more',\n",
       " \"This is a genuine review and tested it for 2 complete days.\\n\\nPros:\\n- Battery life is good 3-4 hours with buds and around 12 additional hours with case. But should not expect this much backup of you are using volume above 80%\\n- Fits good in ears however, it depends on the ear size and shape of an individual also.\\n- The buds do not fall down during any work or workout. Did not try them while jogging/running though.\\n- Noise cancellation for calls is decent, even when it is not promised primarily. I spoke over a call for 3 hours and the call quality is good.\\n\\nCons:\\n- Volume levels are high, but not very high. With some Youtube videos, the volume levels will not be enough if you are in crowd.\\n- Bass is average, cannot have high expectations. These are not in-ear buds, hence, you'll feel the bass is low.\\n- due to smooth finish and improper shape of buds, it is difficult to take out the buds if your hands/fingers are big. They are also slippery.\\n- Touch controls are not so easy to navigate and sometimes I should repeat the command twice or thrice to get them working. Maybe I'm not much habituated to this.\\n- Touch commands are also different from other Noise/ear buds products, so getting confused when using them.\\n- When adjusting the ear bud, the long tap on the bud activates Google Assistance unnecessarily.\\n\\nOverall, the buds are too good for this price range. I don't think you should expect anything more for this deal.\\nRead more\",\n",
       " 'High performing, style and compact earphones. Writting this review after 5 days of rogorous use.\\n\\n1. Sound quality :one word I can say is it is permium . The sound is crystal clear sound and excellent noise cancellation.\\n\\n2. Compatiblity : work well with Android, ios and windows . Connect quickly no additional software required.\\n\\n3. Easy to use : quite handy and easy to use play, pause, next song button .\\n\\n4. Fit : fit is excellent. It come with 3 eartip options to suit and Carter to everyone.\\n\\n5. Battery : excellent battery back. Last 4 hour for nomal volume and last about 3 hour on high volume.\\n\\n6. Charging comes with a handy charging point. Changing usally takes 2 hours.\\n\\n7. Range : works perfectly in 8-9 meter radius, slightly distortion after that.\\n\\n8. Design : . No doubt here it has a tready and fashionable design. It is compact and easy to carry around.\\n\\nFinal verdits :worthy every penny. Must try if you are looking for budget high quality ear phone\\nRead more',\n",
       " 'AFTER 2 WEEKS OF DAILY 1-2 HR USE\\nPROS:\\nSound quality is ear deafening... u can use it with 70-80% more than that u cant ..or u r crazy ...\\nBASS 5/5\\n\\nI feel the price is affordable.5/5\\n\\nThe wire are very durable 5/5(Wires with nylon outer cover as of i know )\\n\\nthe buttons 5/5\\n\\nI use it as a daily driver in gym\\nit wont come unless u take it out.\\n\\nCons: After using it for 60-70 minutes you will feel slight discomfort due to the ear wing and also you feel discomfort whiling using it in while on a pillow in bed.( the ear hooks are detachable) it gives more comfort.\\n\\nbut it is the best wired headset in the range and it is better than their own 225 headphones...\\n\\ni highly recommend it for people who need A good bass headphones\\nRead more',\n",
       " \"I have purchased this boat earphone few months ago...😊\\n\\nHere I'm sharing our experience with this product.\\n\\nBuild quality⏮️⏭️ Its build quality is Awesome and looks premium in hands when you hold it in your hands. Also its a light weight product.\\n\\nSound quality⏮️⏭️ sound quality is good.\\nWorks well for soft and melody songs with my personal experience.\\n\\nLength⏮️⏭️ comes with long size cable which is a cool thing and I like it.\\nOne thing I like is that it comes with a strap to tangle the cable.\\n\\nEar comfort ⏮️⏭️ get fit easily in ears.\\n\\nDurability ⏮️⏭️ It will depend what kind of user you are. If you're protective towards your stuff so maybe this will be a last long product.\\n\\n******************************************\\n\\nCons⏯️⏯️\\n\\nCome with dedicated microphone which works ok ok. There is still noise in calling while traveling. So not satisfied with this noise cancellation Mike.\\n\\nI am not satisfied with the bass quality. It works average.\\n\\n******************************************\\n\\nWhat you will get inside?⏮️⏭️ You will get earphone with some paperwork's and it comes with one year warranty which you have to activate by calling on the given number I guess.\\n\\nYou will also get two pairs of additional ear protector for further use.\\n\\nI hope this will help you to make your purchase decision.😊\\nRead more\",\n",
       " \"hi viewers, i like to share my personal opinion about this PTron Boom 3 earphones, seems like I'am using for last few days continuously, and bought this earphone from Amazon. For Rs 399/- and I don't feel like anything wearing it, it's so lightweight. I am very happy with its stereo sound quality. The dual driver speakers produce very clear low, mid, and high sound frequencies. If you hear and 4D or 5D music on these earphones, you will surely experience home theatre like sound around your ears. Golden thumbs up to Boom 3 from me. Worth buying.\",\n",
       " 'AFTER 2 WEEKS OF DAILY 1-2 HR USE\\nPROS:\\nSound quality is ear deafening... u can use it with 70-80% more than that u cant ..or u r crazy ...\\nBASS 5/5\\n\\nI feel the price is affordable.5/5\\n\\nThe wire are very durable 5/5(Wires with nylon outer cover as of i know )\\n\\nthe buttons 5/5\\n\\nI use it as a daily driver in gym\\nit wont come unless u take it out.\\n\\nCons: After using it for 60-70 minutes you will feel slight discomfort due to the ear wing and also you feel discomfort whiling using it in while on a pillow in bed.( the ear hooks are detachable) it gives more comfort.\\n\\nbut it is the best wired headset in the range and it is better than their own 225 headphones...\\n\\ni highly recommend it for people who need A good bass headphones\\nRead more',\n",
       " 'You should buy realme buds 2 they are way better than this by paying 200 more I have buy both Redmi and Realme earphone',\n",
       " \"Great quality and the sound is actually great.\\nPros\\n1) hd sound quality is great it has micro woffers.\\n2) built quality is great wires are thick.\\n3) hd calling is great my voice was clearly audible to other person on the call.\\n\\nCons\\n1) sometimes earbuds hurt the ears and they might not be comfortable to some people otherwise it's a great product\",\n",
       " \"Super it's very cheap cost but excellent sound and bass also excellent\",\n",
       " 'no review',\n",
       " 'Okay.. I was skeptical at first to buy this as i was tight at my budget , but to be honest this little product really exceed my expectation. If you are really tight on budget just go for this one.\\n\\nPs - for Redmi phone user , go to setting - sound effect and user equilizer and play around with sound enhancer to get the best sound result.',\n",
       " 'An excellent product. It is of lightweight design and of snug fit wired earphone.\\nIt have long durable tangle free cable.Easy to handle.\\nIt have Hi-fi audio quality with good bass. It is water and sweat resistant due to which can be used during gym, running and sports.\\nIt have passive Noise cancelation. Perfect for both indoor and outdoor use. It have hd mic for clear quality phone calls. It have wide range of compatibality with 3.5 mm jack. It can be used in smart phones, tablets, computer, MP3 player and laptops.\\nOne of best product in its range.']"
      ]
     },
     "execution_count": 160,
     "metadata": {},
     "output_type": "execute_result"
    }
   ],
   "source": [
    "Review"
   ]
  },
  {
   "cell_type": "code",
   "execution_count": 941,
   "metadata": {},
   "outputs": [
    {
     "data": {
      "text/plain": [
       "28"
      ]
     },
     "execution_count": 941,
     "metadata": {},
     "output_type": "execute_result"
    }
   ],
   "source": [
    "len(Review)\n",
    "    "
   ]
  },
  {
   "cell_type": "code",
   "execution_count": 1010,
   "metadata": {},
   "outputs": [],
   "source": [
    "Rating_earphone=[3,3,4,4,1,4,3,4,2,1,4,2,4,4,3,3,4,5,3,4,4,3,2,4,4,3,3,4]"
   ]
  },
  {
   "cell_type": "code",
   "execution_count": 942,
   "metadata": {},
   "outputs": [
    {
     "data": {
      "text/plain": [
       "28"
      ]
     },
     "execution_count": 942,
     "metadata": {},
     "output_type": "execute_result"
    }
   ],
   "source": [
    "len(Rating_earphone)"
   ]
  },
  {
   "cell_type": "code",
   "execution_count": 40,
   "metadata": {},
   "outputs": [],
   "source": [
    "Review_smart_watch=[]"
   ]
  },
  {
   "cell_type": "code",
   "execution_count": 41,
   "metadata": {},
   "outputs": [],
   "source": [
    "urls=driver.find_elements_by_xpath(\"//a[@class='a-link-normal a-text-normal']\")\n",
    "UR=[]\n",
    "for i in urls:\n",
    "    UR.append(i.get_attribute('href'))\n",
    "for url in UR:\n",
    "    driver.get(url) \n",
    "    try:\n",
    "        rate=driver.find_element_by_xpath(\"//span[@id='acrCustomerReviewText']\")\n",
    "        rate.click()\n",
    "        review=driver.find_element_by_xpath(\"//div[@class='a-row a-spacing-small review-data']\")\n",
    "        Review_smart_watch.append(review.text)\n",
    "    \n",
    "    except NoSuchElementException as e:\n",
    "        Review_smart_watch.append(\"no review\")"
   ]
  },
  {
   "cell_type": "code",
   "execution_count": 940,
   "metadata": {},
   "outputs": [
    {
     "data": {
      "text/plain": [
       "28"
      ]
     },
     "execution_count": 940,
     "metadata": {},
     "output_type": "execute_result"
    }
   ],
   "source": [
    "len(Review_smart_watch)"
   ]
  },
  {
   "cell_type": "code",
   "execution_count": 93,
   "metadata": {
    "collapsed": true
   },
   "outputs": [
    {
     "data": {
      "text/plain": [
       "[\"Initial Review after 2 days of usage;\\n\\nHeart Rate and Steps are accurate.\\nTemperature, Sleep and SpO2 measurements are also good. However...\\nBP measurement is a complete failure... It's has 4 categories to choose from... Low, Normal, High and Very High... The readings are just based on the category you choose and has nothing to do with the actual condition or reading.. Quite disappointed... Hope this is corrected in future updates..\\n\\nOverall, kind of a good product... Please don't buy it if you are specifically looking to use it to measure your BP. Thanks!\",\n",
       " \"The packaging used by Amazon was really good.\\nComing to the packaging of the watch itself, wow, the unboxing experience was comparable to that of APPLE products, really clean.\\nAnd coming to the sensors, it has Heart rate and SpO2 sensors along with a 6 axis accelerometer.\\n1. The Heart rate sensor works fines with a margin of error of 2-3 beats per min.\\n2. The SpO2 sensor is not a gimmick, it works fine but not 100% accurate, it was of by nearly 2% every time.\\n** Both the sensors do no work if the watch is not on your hand**\\nSo both are just not for namesake and are functional.\\n**It doesn't have GPS built-in the only CON at this price.\\n**The display is pretty good and gets adequately bright.\\nComing to the battery charging time, it takes around 1.5hrs for 30-100%.\\n\\n***Update 1: The battery only lasts for 6 days, when HR set for continuous for every 10min, sleep tracking on and also notifications on for sedentary and calls and exercise tracking for 30 min a day.\\n\\nChecking SpO2 10 times a day manually and always on for stress measurement.\\n\\nLifting the watch up to light the screen for nearly 50 times a day.\\nI expected it to last for atleast 7 days though(claimed was 9 days).\\n***UPDATE 2: Using it for nearly 2 weeks now , received a firmware upgrade, and the accuracy of the SpO2 as well as the HR sensor have improved and also the battery life has improved to around 7 days now.\\n\\n****UPDATE-3( 24th Jan 2021): Using it for almost 3 months now, I guess all the hugs ar fixed, most of the measruu are accurate, but the step counter sometimes registers steps even if I don't walk :P.\\nBattery life on average 7 days with HR every 10 min and stress measurement on and daily once O2 measurement and sleep tracking.\\nThe band is pretty comfortable, no skin irritation or discomfort.\\nReceived around 6-7 updates till now.\\n\\nThis watch is a good budget choice based on my usage for almost 3 months now.\\nRead more\",\n",
       " \"Your browser does not support HTML5 video.\\n Most smartwatches and smartband offer more or less of similar functionalities except for the ones where we can take calls on the watch itself. I wanted to get an Apple Watch for my wife as I was impressed by the design but fortunately I found this Noise ColorFit Pro 2 which looks very similar and premium like the Apple watch. Bought this one for Rs.2999.\\n\\n----------------------\\n📦 IN THE BOX\\n----------------------\\n፨ The smart watch module with screen protector applied\\n፨ 22mm wide TPU strap\\n፨ Charging cable\\n፨ Instruction Manual and Warranty Registration card\\n\\n--------------------\\n⌚ FEATURES\\n--------------------\\n፨ 1.3 inch 240x240 capacitive display\\n፨ Curved glass with anti-fingerprint coating,\\n፨ IP68 Full dustproof and waterproof\\n፨ 210 mah battery - 7 to 10 days usage, 45 days standby\\n፨ Bluetooth 5.0 BLE\\n፨ 24/7 heart Rate sensor, sedentary alarm, breathe feature, and usual health and sleep monitoring.\\n፨ App, message, social media and call notifications.\\n፨ Music control\\n፨ Menstrual cycle tracking\\n፨ 9 sports mode - Walk, Yoga, Spin, Run, Climb, Workout, Bike, Hike, Treadmill.\\n\\n---------------------\\n🗓️ MY USAGE\\n---------------------\\n፨ At just 35g weight and 22mm TPU band makes this band the very comfortable to wear. Also the strap is skin friendly and I didn’t get allergy with sweat on this band.\\n፨ The straps is easy to swap and replace if required and uses the spring pin type.\\n፨ The charging is a magnetic ping type and there is no need to remove straps or do anything. I felt this type of charging the easiest of all.\\n፨ The looks is very premium, though is made up of polycarbonate, the grey and black colors, the curved display on the sides and the size make it look like an Apple Watch.\\n፨ There are only 5 of watch faces and some of them are like the Apple watch face design. As of now the watch faces are limited and customization is limited, I hope customizations will be made available.\\n፨ The display is beautiful and under direct sunlight I found the watch display visible, though not the best visibility but to a certain extent.\\n፨ There is 1 button the side which looks like the watch crown and it acts as the function button and return button. I found it easy to navigate using the touch display and using this button.\\n፨ The IP68 certification means now I I don't have to worry about protection from water even more than 1m depth (IP_8) and also no need to worry about dirt (IP6_).\\n፨ Health, fitness and sleep tracking is very accurate in my opinion, and surprisingly the NoiseFit sport app is also good. The breathe is just to take a break and just asks us to take a deep breathe. I found using a continuous heart rate sensor get the battery under 7 days and when this feature is turned off, it takes to almost 10 days.\\n፨ The sleep, heart rate and health tracking are pretty accurate in my opinion. Most of the features available in smart bands and basic smart watches were available.\\n፨ I can now read messages and notification from the band easily. From the app I was able to turn off and on what notifications need to be shown on the watch and notifications can be enabled for vibrations.\\n፨ There are some quick access shortcuts from the watch like find my phone, turn off/on continuous heart rate monitoring, Do not Disturb, wrist. The female health care feature of menstrual cycle and ovulations cycle is a nice add in my opinion.\\n\\n-------------------------\\n💖 WHAT I LIKED\\n-------------------------\\n◾ The premium design and great display. Much better than other smartwatches and bands in this category in my opinion.\\n◾ Battery life of 7 to 10 days.\\n◾ IPX68 dust and waterproof.\\n◾ Pretty accurate fitness, health and sleep monitoring\\n◾ Better control & display of calls, messages and music from the band\\n\\n-------------------------------------------------\\n♻️ WHAT I FELT CAN BE IMPROVED\\n-------------------------------------------------\\n◾ More exercise or activities could have been included like Badminton etc.\\n◾ Only 5 watch faces available but heard there will be more added this year.\\n\\n-------------------\\n🍱 OVERALL\\n-------------------\\nThe MiBand 4 is definitely feature rich and Noise ColorFit Pro 2 has similar or a bit more features, I found this one much better in areas like build, design, charging. I don't have a Honor Band so I can't compare but at this price category in my perspective this band is the best. 🥇\\nRead more\",\n",
       " \"Awesome product, does not betray at any point, also has motion sensors meaning when you move up your hand to see the time the screen automatically lights up which is a really cool and amazing feature not found in other watches of this range. Absolutely loved this and highly recommend this. You wouldn't be disappointed or feel cheated.\",\n",
       " \"This watch shows spo2 and heart beat values for non living things also like plastic ..if u are nor wear watch it shows how much time u sleep and others..so don't buy and don't become foolish...\",\n",
       " 'My experience with Fire-Boltt Beast has been an amazing one. As the name suggests, it\\'s really a beast with 1.69\" HD display. The performance of this watch is great. The best part about this watch is how accurately it measures my Blood Oxygen levels (Spo2), Blood Pressure and BPM (beats per minute). The construction is super lightweight and feels very premium. The HD display is bright and has been keeping up pretty well even under direct sunlight. It has a powerful battery back up of 15 days and I have used it for workouts, and the water resistance is really impressive. The included strap is also very comfortable and I have had no irritations while wearing it.',\n",
       " \"Writing a review after few days of usage.\\nIt's quite good looking watch with list of features like sleep, heartrate, step monitor and many other. But what is the use of a feature if it is not accurate in measurements. This I realized when I went on a long drive in my car and it measured 14k steps when I got down only for few minutes!!!. Quite disappointed as I feel my daily goal achievements till now are not accurate. Probably I might be taking only 5k steps in my reported steps of 10k.\\nI doubt about heartrate and sleep monitor also now. Did not expect this kind of flaw in version 2. Smart watches have been around for quite some time now and cannot expect such basic flaws now.\\nMore disappointed when I found a 2.5k MI 4 band works awesomely accurate than a 21k extravagant watch!!!\",\n",
       " 'Good product with industry standard features considering the price point.\\n\\nIt feels like a feather on the wrist. The vibration level also is good.\\n\\nIf you are looking for a budget smartwatch, then go for this without hesitation.',\n",
       " \"Your browser does not support HTML5 video.\\n Most smartwatches and smartband offer more or less of similar functionalities except for the ones where we can take calls on the watch itself. I wanted to get an Apple Watch for my wife as I was impressed by the design but fortunately I found this Noise ColorFit Pro 2 which looks very similar and premium like the Apple watch. Bought this one for Rs.2999.\\n\\n----------------------\\n📦 IN THE BOX\\n----------------------\\n፨ The smart watch module with screen protector applied\\n፨ 22mm wide TPU strap\\n፨ Charging cable\\n፨ Instruction Manual and Warranty Registration card\\n\\n--------------------\\n⌚ FEATURES\\n--------------------\\n፨ 1.3 inch 240x240 capacitive display\\n፨ Curved glass with anti-fingerprint coating,\\n፨ IP68 Full dustproof and waterproof\\n፨ 210 mah battery - 7 to 10 days usage, 45 days standby\\n፨ Bluetooth 5.0 BLE\\n፨ 24/7 heart Rate sensor, sedentary alarm, breathe feature, and usual health and sleep monitoring.\\n፨ App, message, social media and call notifications.\\n፨ Music control\\n፨ Menstrual cycle tracking\\n፨ 9 sports mode - Walk, Yoga, Spin, Run, Climb, Workout, Bike, Hike, Treadmill.\\n\\n---------------------\\n🗓️ MY USAGE\\n---------------------\\n፨ At just 35g weight and 22mm TPU band makes this band the very comfortable to wear. Also the strap is skin friendly and I didn’t get allergy with sweat on this band.\\n፨ The straps is easy to swap and replace if required and uses the spring pin type.\\n፨ The charging is a magnetic ping type and there is no need to remove straps or do anything. I felt this type of charging the easiest of all.\\n፨ The looks is very premium, though is made up of polycarbonate, the grey and black colors, the curved display on the sides and the size make it look like an Apple Watch.\\n፨ There are only 5 of watch faces and some of them are like the Apple watch face design. As of now the watch faces are limited and customization is limited, I hope customizations will be made available.\\n፨ The display is beautiful and under direct sunlight I found the watch display visible, though not the best visibility but to a certain extent.\\n፨ There is 1 button the side which looks like the watch crown and it acts as the function button and return button. I found it easy to navigate using the touch display and using this button.\\n፨ The IP68 certification means now I I don't have to worry about protection from water even more than 1m depth (IP_8) and also no need to worry about dirt (IP6_).\\n፨ Health, fitness and sleep tracking is very accurate in my opinion, and surprisingly the NoiseFit sport app is also good. The breathe is just to take a break and just asks us to take a deep breathe. I found using a continuous heart rate sensor get the battery under 7 days and when this feature is turned off, it takes to almost 10 days.\\n፨ The sleep, heart rate and health tracking are pretty accurate in my opinion. Most of the features available in smart bands and basic smart watches were available.\\n፨ I can now read messages and notification from the band easily. From the app I was able to turn off and on what notifications need to be shown on the watch and notifications can be enabled for vibrations.\\n፨ There are some quick access shortcuts from the watch like find my phone, turn off/on continuous heart rate monitoring, Do not Disturb, wrist. The female health care feature of menstrual cycle and ovulations cycle is a nice add in my opinion.\\n\\n-------------------------\\n💖 WHAT I LIKED\\n-------------------------\\n◾ The premium design and great display. Much better than other smartwatches and bands in this category in my opinion.\\n◾ Battery life of 7 to 10 days.\\n◾ IPX68 dust and waterproof.\\n◾ Pretty accurate fitness, health and sleep monitoring\\n◾ Better control & display of calls, messages and music from the band\\n\\n-------------------------------------------------\\n♻️ WHAT I FELT CAN BE IMPROVED\\n-------------------------------------------------\\n◾ More exercise or activities could have been included like Badminton etc.\\n◾ Only 5 watch faces available but heard there will be more added this year.\\n\\n-------------------\\n🍱 OVERALL\\n-------------------\\nThe MiBand 4 is definitely feature rich and Noise ColorFit Pro 2 has similar or a bit more features, I found this one much better in areas like build, design, charging. I don't have a Honor Band so I can't compare but at this price category in my perspective this band is the best. 🥇\\nRead more\",\n",
       " \"This watch shows spo2 and heart beat values for non living things also like plastic ..if u are nor wear watch it shows how much time u sleep and others..so don't buy and don't become foolish...\",\n",
       " \"I have been using smart watches for three year. All of them have been Fitbit. I got bored of them and was looking for a good SMWatch which is when I looked at Samsung Galaxy Active 2 LTE. Been 1 week since I started using it and I should say, this is an amazing piece of art both inside and out. The following are the highlights I noticed\\n\\n1. Beautiful round shaped ergonomically designed body dial with responsive bezel control.\\n2. Cross checked the step count and hear rate with Fitbit. Step count is super accurate. Heart rate varies 1 to 2 bpm which is OK. Very much under tolerance level.\\n3. Beautiful leather strap. Easy to pin the strap to the leather, if you are coming from Fitbit Versa you know how important this is. Also it doesn't cause any itching. But pls make sure water doesn't stay on it for long time. You may lose it soon\\n4. Auto detection of exercises are super accurate again. Walk and run is auto detected. Yet to check how it treats weights. Waiting for Gyms to reopen\\n5. Battery life is 1.5 to 2 days with heavy usage (kept exploring the watch, 4G is on and sometimes I take call in the watch. No music.) This is way lower than Fitbit. But I will get used to it I believe\\n6. U may get confused on how the trio - Phone, watch and buds - are paired. You will not be able to use ur buds if u attend a call in watch when your phone is nearby. You can use the buds only if you use the standalone watch 4G. Still exploring this area.\\n7. Bit expensive. I will give a 4 star for value for money. Again 4 star because this is probably the best smart watch available in the market\\n\\nLastly, Amazon's delivery was good. It was delayed by a day. But I understand they are prioritizing the essentials considering that this is a good service\\n\\nLet me know if anyone want any specific info and I can help with it.\\nRead more\",\n",
       " 'no review',\n",
       " 'Wrist sense is very poor , it takes a second to awake the display once you turn the wrist and it annoys me every time . Atlest this response has to be fast when there is no always on display option. This ruins the complete experience of this watch.. and for this price big NO NO from me .. I am 200% sure this watch price will crash and noise will be selling this crap below 2000 rs .',\n",
       " \"Your browser does not support HTML5 video.\\n Most smartwatches and smartband offer more or less of similar functionalities except for the ones where we can take calls on the watch itself. I wanted to get an Apple Watch for my wife as I was impressed by the design but fortunately I found this Noise ColorFit Pro 2 which looks very similar and premium like the Apple watch. Bought this one for Rs.2999.\\n\\n----------------------\\n📦 IN THE BOX\\n----------------------\\n፨ The smart watch module with screen protector applied\\n፨ 22mm wide TPU strap\\n፨ Charging cable\\n፨ Instruction Manual and Warranty Registration card\\n\\n--------------------\\n⌚ FEATURES\\n--------------------\\n፨ 1.3 inch 240x240 capacitive display\\n፨ Curved glass with anti-fingerprint coating,\\n፨ IP68 Full dustproof and waterproof\\n፨ 210 mah battery - 7 to 10 days usage, 45 days standby\\n፨ Bluetooth 5.0 BLE\\n፨ 24/7 heart Rate sensor, sedentary alarm, breathe feature, and usual health and sleep monitoring.\\n፨ App, message, social media and call notifications.\\n፨ Music control\\n፨ Menstrual cycle tracking\\n፨ 9 sports mode - Walk, Yoga, Spin, Run, Climb, Workout, Bike, Hike, Treadmill.\\n\\n---------------------\\n🗓️ MY USAGE\\n---------------------\\n፨ At just 35g weight and 22mm TPU band makes this band the very comfortable to wear. Also the strap is skin friendly and I didn’t get allergy with sweat on this band.\\n፨ The straps is easy to swap and replace if required and uses the spring pin type.\\n፨ The charging is a magnetic ping type and there is no need to remove straps or do anything. I felt this type of charging the easiest of all.\\n፨ The looks is very premium, though is made up of polycarbonate, the grey and black colors, the curved display on the sides and the size make it look like an Apple Watch.\\n፨ There are only 5 of watch faces and some of them are like the Apple watch face design. As of now the watch faces are limited and customization is limited, I hope customizations will be made available.\\n፨ The display is beautiful and under direct sunlight I found the watch display visible, though not the best visibility but to a certain extent.\\n፨ There is 1 button the side which looks like the watch crown and it acts as the function button and return button. I found it easy to navigate using the touch display and using this button.\\n፨ The IP68 certification means now I I don't have to worry about protection from water even more than 1m depth (IP_8) and also no need to worry about dirt (IP6_).\\n፨ Health, fitness and sleep tracking is very accurate in my opinion, and surprisingly the NoiseFit sport app is also good. The breathe is just to take a break and just asks us to take a deep breathe. I found using a continuous heart rate sensor get the battery under 7 days and when this feature is turned off, it takes to almost 10 days.\\n፨ The sleep, heart rate and health tracking are pretty accurate in my opinion. Most of the features available in smart bands and basic smart watches were available.\\n፨ I can now read messages and notification from the band easily. From the app I was able to turn off and on what notifications need to be shown on the watch and notifications can be enabled for vibrations.\\n፨ There are some quick access shortcuts from the watch like find my phone, turn off/on continuous heart rate monitoring, Do not Disturb, wrist. The female health care feature of menstrual cycle and ovulations cycle is a nice add in my opinion.\\n\\n-------------------------\\n💖 WHAT I LIKED\\n-------------------------\\n◾ The premium design and great display. Much better than other smartwatches and bands in this category in my opinion.\\n◾ Battery life of 7 to 10 days.\\n◾ IPX68 dust and waterproof.\\n◾ Pretty accurate fitness, health and sleep monitoring\\n◾ Better control & display of calls, messages and music from the band\\n\\n-------------------------------------------------\\n♻️ WHAT I FELT CAN BE IMPROVED\\n-------------------------------------------------\\n◾ More exercise or activities could have been included like Badminton etc.\\n◾ Only 5 watch faces available but heard there will be more added this year.\\n\\n-------------------\\n🍱 OVERALL\\n-------------------\\nThe MiBand 4 is definitely feature rich and Noise ColorFit Pro 2 has similar or a bit more features, I found this one much better in areas like build, design, charging. I don't have a Honor Band so I can't compare but at this price category in my perspective this band is the best. 🥇\\nRead more\",\n",
       " 'I like this product very much. I am using this smart band for my proper health management. Timely delivered. Loaded with all features , as mentioned. Overall, nice smart band.',\n",
       " 'no review',\n",
       " 'Not at all satisfied with this ... product reading is not accurate also U have to buy subscription after 3 months as device comes with 3 month of free subscription and post that u have to purchase subscription which is mandatory without that u won’t be able to sync ur device with your mobile app.\\nSo be careful before purchasing it.',\n",
       " \"Awesome product, does not betray at any point, also has motion sensors meaning when you move up your hand to see the time the screen automatically lights up which is a really cool and amazing feature not found in other watches of this range. Absolutely loved this and highly recommend this. You wouldn't be disappointed or feel cheated.\",\n",
       " \"Watch is best....1 number.....All function was working best .....Touch screen is owsm....All sensors working .....But it's strap quality was very poor.....\\n\\n********************************************\\n\\nAfter use of 6 months...10/06/2021......\\n\\n1 ... Battery backup owsm...15days.......\\n2 ... Hart beats , H2O , Steps , all sports mode censors are work perfectly....98 to 99%.\",\n",
       " 'Its disconnect from aap after 2or3 min . I have to connect every 2 min. Is this a problem in the product ? Please give some solution about this problem.',\n",
       " 'My experience with Fire-Boltt Beast has been an amazing one. As the name suggests, it\\'s really a beast with 1.69\" HD display. The performance of this watch is great. The best part about this watch is how accurately it measures my Blood Oxygen levels (Spo2), Blood Pressure and BPM (beats per minute). The construction is super lightweight and feels very premium. The HD display is bright and has been keeping up pretty well even under direct sunlight. It has a powerful battery back up of 15 days and I have used it for workouts, and the water resistance is really impressive. The included strap is also very comfortable and I have had no irritations while wearing it.',\n",
       " 'no review',\n",
       " 'no review',\n",
       " \"Your browser does not support HTML5 video.\\n Most smartwatches and smartband offer more or less of similar functionalities except for the ones where we can take calls on the watch itself. I wanted to get an Apple Watch for my wife as I was impressed by the design but fortunately I found this Noise ColorFit Pro 2 which looks very similar and premium like the Apple watch. Bought this one for Rs.2999.\\n\\n----------------------\\n📦 IN THE BOX\\n----------------------\\n፨ The smart watch module with screen protector applied\\n፨ 22mm wide TPU strap\\n፨ Charging cable\\n፨ Instruction Manual and Warranty Registration card\\n\\n--------------------\\n⌚ FEATURES\\n--------------------\\n፨ 1.3 inch 240x240 capacitive display\\n፨ Curved glass with anti-fingerprint coating,\\n፨ IP68 Full dustproof and waterproof\\n፨ 210 mah battery - 7 to 10 days usage, 45 days standby\\n፨ Bluetooth 5.0 BLE\\n፨ 24/7 heart Rate sensor, sedentary alarm, breathe feature, and usual health and sleep monitoring.\\n፨ App, message, social media and call notifications.\\n፨ Music control\\n፨ Menstrual cycle tracking\\n፨ 9 sports mode - Walk, Yoga, Spin, Run, Climb, Workout, Bike, Hike, Treadmill.\\n\\n---------------------\\n🗓️ MY USAGE\\n---------------------\\n፨ At just 35g weight and 22mm TPU band makes this band the very comfortable to wear. Also the strap is skin friendly and I didn’t get allergy with sweat on this band.\\n፨ The straps is easy to swap and replace if required and uses the spring pin type.\\n፨ The charging is a magnetic ping type and there is no need to remove straps or do anything. I felt this type of charging the easiest of all.\\n፨ The looks is very premium, though is made up of polycarbonate, the grey and black colors, the curved display on the sides and the size make it look like an Apple Watch.\\n፨ There are only 5 of watch faces and some of them are like the Apple watch face design. As of now the watch faces are limited and customization is limited, I hope customizations will be made available.\\n፨ The display is beautiful and under direct sunlight I found the watch display visible, though not the best visibility but to a certain extent.\\n፨ There is 1 button the side which looks like the watch crown and it acts as the function button and return button. I found it easy to navigate using the touch display and using this button.\\n፨ The IP68 certification means now I I don't have to worry about protection from water even more than 1m depth (IP_8) and also no need to worry about dirt (IP6_).\\n፨ Health, fitness and sleep tracking is very accurate in my opinion, and surprisingly the NoiseFit sport app is also good. The breathe is just to take a break and just asks us to take a deep breathe. I found using a continuous heart rate sensor get the battery under 7 days and when this feature is turned off, it takes to almost 10 days.\\n፨ The sleep, heart rate and health tracking are pretty accurate in my opinion. Most of the features available in smart bands and basic smart watches were available.\\n፨ I can now read messages and notification from the band easily. From the app I was able to turn off and on what notifications need to be shown on the watch and notifications can be enabled for vibrations.\\n፨ There are some quick access shortcuts from the watch like find my phone, turn off/on continuous heart rate monitoring, Do not Disturb, wrist. The female health care feature of menstrual cycle and ovulations cycle is a nice add in my opinion.\\n\\n-------------------------\\n💖 WHAT I LIKED\\n-------------------------\\n◾ The premium design and great display. Much better than other smartwatches and bands in this category in my opinion.\\n◾ Battery life of 7 to 10 days.\\n◾ IPX68 dust and waterproof.\\n◾ Pretty accurate fitness, health and sleep monitoring\\n◾ Better control & display of calls, messages and music from the band\\n\\n-------------------------------------------------\\n♻️ WHAT I FELT CAN BE IMPROVED\\n-------------------------------------------------\\n◾ More exercise or activities could have been included like Badminton etc.\\n◾ Only 5 watch faces available but heard there will be more added this year.\\n\\n-------------------\\n🍱 OVERALL\\n-------------------\\nThe MiBand 4 is definitely feature rich and Noise ColorFit Pro 2 has similar or a bit more features, I found this one much better in areas like build, design, charging. I don't have a Honor Band so I can't compare but at this price category in my perspective this band is the best. 🥇\\nRead more\",\n",
       " 'Your browser does not support HTML5 video.\\n Nice product',\n",
       " \"Awesome product, does not betray at any point, also has motion sensors meaning when you move up your hand to see the time the screen automatically lights up which is a really cool and amazing feature not found in other watches of this range. Absolutely loved this and highly recommend this. You wouldn't be disappointed or feel cheated.\",\n",
       " \"Your browser does not support HTML5 video.\\n Most smartwatches and smartband offer more or less of similar functionalities except for the ones where we can take calls on the watch itself. I wanted to get an Apple Watch for my wife as I was impressed by the design but fortunately I found this Noise ColorFit Pro 2 which looks very similar and premium like the Apple watch. Bought this one for Rs.2999.\\n\\n----------------------\\n📦 IN THE BOX\\n----------------------\\n፨ The smart watch module with screen protector applied\\n፨ 22mm wide TPU strap\\n፨ Charging cable\\n፨ Instruction Manual and Warranty Registration card\\n\\n--------------------\\n⌚ FEATURES\\n--------------------\\n፨ 1.3 inch 240x240 capacitive display\\n፨ Curved glass with anti-fingerprint coating,\\n፨ IP68 Full dustproof and waterproof\\n፨ 210 mah battery - 7 to 10 days usage, 45 days standby\\n፨ Bluetooth 5.0 BLE\\n፨ 24/7 heart Rate sensor, sedentary alarm, breathe feature, and usual health and sleep monitoring.\\n፨ App, message, social media and call notifications.\\n፨ Music control\\n፨ Menstrual cycle tracking\\n፨ 9 sports mode - Walk, Yoga, Spin, Run, Climb, Workout, Bike, Hike, Treadmill.\\n\\n---------------------\\n🗓️ MY USAGE\\n---------------------\\n፨ At just 35g weight and 22mm TPU band makes this band the very comfortable to wear. Also the strap is skin friendly and I didn’t get allergy with sweat on this band.\\n፨ The straps is easy to swap and replace if required and uses the spring pin type.\\n፨ The charging is a magnetic ping type and there is no need to remove straps or do anything. I felt this type of charging the easiest of all.\\n፨ The looks is very premium, though is made up of polycarbonate, the grey and black colors, the curved display on the sides and the size make it look like an Apple Watch.\\n፨ There are only 5 of watch faces and some of them are like the Apple watch face design. As of now the watch faces are limited and customization is limited, I hope customizations will be made available.\\n፨ The display is beautiful and under direct sunlight I found the watch display visible, though not the best visibility but to a certain extent.\\n፨ There is 1 button the side which looks like the watch crown and it acts as the function button and return button. I found it easy to navigate using the touch display and using this button.\\n፨ The IP68 certification means now I I don't have to worry about protection from water even more than 1m depth (IP_8) and also no need to worry about dirt (IP6_).\\n፨ Health, fitness and sleep tracking is very accurate in my opinion, and surprisingly the NoiseFit sport app is also good. The breathe is just to take a break and just asks us to take a deep breathe. I found using a continuous heart rate sensor get the battery under 7 days and when this feature is turned off, it takes to almost 10 days.\\n፨ The sleep, heart rate and health tracking are pretty accurate in my opinion. Most of the features available in smart bands and basic smart watches were available.\\n፨ I can now read messages and notification from the band easily. From the app I was able to turn off and on what notifications need to be shown on the watch and notifications can be enabled for vibrations.\\n፨ There are some quick access shortcuts from the watch like find my phone, turn off/on continuous heart rate monitoring, Do not Disturb, wrist. The female health care feature of menstrual cycle and ovulations cycle is a nice add in my opinion.\\n\\n-------------------------\\n💖 WHAT I LIKED\\n-------------------------\\n◾ The premium design and great display. Much better than other smartwatches and bands in this category in my opinion.\\n◾ Battery life of 7 to 10 days.\\n◾ IPX68 dust and waterproof.\\n◾ Pretty accurate fitness, health and sleep monitoring\\n◾ Better control & display of calls, messages and music from the band\\n\\n-------------------------------------------------\\n♻️ WHAT I FELT CAN BE IMPROVED\\n-------------------------------------------------\\n◾ More exercise or activities could have been included like Badminton etc.\\n◾ Only 5 watch faces available but heard there will be more added this year.\\n\\n-------------------\\n🍱 OVERALL\\n-------------------\\nThe MiBand 4 is definitely feature rich and Noise ColorFit Pro 2 has similar or a bit more features, I found this one much better in areas like build, design, charging. I don't have a Honor Band so I can't compare but at this price category in my perspective this band is the best. 🥇\\nRead more\",\n",
       " 'My experience with Fire-Boltt Beast has been an amazing one. As the name suggests, it\\'s really a beast with 1.69\" HD display. The performance of this watch is great. The best part about this watch is how accurately it measures my Blood Oxygen levels (Spo2), Blood Pressure and BPM (beats per minute). The construction is super lightweight and feels very premium. The HD display is bright and has been keeping up pretty well even under direct sunlight. It has a powerful battery back up of 15 days and I have used it for workouts, and the water resistance is really impressive. The included strap is also very comfortable and I have had no irritations while wearing it.']"
      ]
     },
     "execution_count": 93,
     "metadata": {},
     "output_type": "execute_result"
    }
   ],
   "source": [
    "Review_smart_watch"
   ]
  },
  {
   "cell_type": "code",
   "execution_count": 1011,
   "metadata": {},
   "outputs": [],
   "source": [
    "Rating_smart_watch=[3,4,4,5,1,5,2,4,4,1,4,3,2,4,4,3,2,5,4,2,4,3,3,4,3,5,4,4]"
   ]
  },
  {
   "cell_type": "code",
   "execution_count": 939,
   "metadata": {},
   "outputs": [
    {
     "data": {
      "text/plain": [
       "28"
      ]
     },
     "execution_count": 939,
     "metadata": {},
     "output_type": "execute_result"
    }
   ],
   "source": [
    "len(Rating_smart_watch)"
   ]
  },
  {
   "cell_type": "code",
   "execution_count": null,
   "metadata": {},
   "outputs": [],
   "source": []
  },
  {
   "cell_type": "code",
   "execution_count": 45,
   "metadata": {},
   "outputs": [],
   "source": [
    "Review_camera=[]"
   ]
  },
  {
   "cell_type": "code",
   "execution_count": 46,
   "metadata": {},
   "outputs": [],
   "source": [
    "urls=driver.find_elements_by_xpath(\"//a[@class='a-link-normal a-text-normal']\")\n",
    "UR=[]\n",
    "for i in urls:\n",
    "    UR.append(i.get_attribute('href'))\n",
    "for url in UR:\n",
    "    driver.get(url) \n",
    "    try:\n",
    "        rate=driver.find_element_by_xpath(\"//span[@id='acrCustomerReviewText']\")\n",
    "        rate.click()\n",
    "        review=driver.find_element_by_xpath(\"//div[@class='a-row a-spacing-small review-data']\")\n",
    "        Review_camera.append(review.text)\n",
    "    \n",
    "    except NoSuchElementException as e:\n",
    "        Review_camera.append(\"no review\")"
   ]
  },
  {
   "cell_type": "code",
   "execution_count": 938,
   "metadata": {},
   "outputs": [
    {
     "data": {
      "text/plain": [
       "31"
      ]
     },
     "execution_count": 938,
     "metadata": {},
     "output_type": "execute_result"
    }
   ],
   "source": [
    "len(Review_camera)"
   ]
  },
  {
   "cell_type": "code",
   "execution_count": 128,
   "metadata": {
    "collapsed": true
   },
   "outputs": [
    {
     "data": {
      "text/plain": [
       "['1st time received with out memory card and pouch. Replaced it but next time received same. Now I want to completely return it because in q&a section answered that 32gb memory card and pouch free.',\n",
       " 'no review',\n",
       " \"It consumes around 10gb of storage in 24hours in 'HD' mode.\\nPros :\\nNight mode recording.\\nClarity of camera.\\nMultiple users can watch camera recording at same time.\\nTwo way communication.\\n1080p HD recording.\\nCan record videos without internet , requires internet connection after switching camera on - after that you can disconnect & recording will continue.\\nI\\n\\nCons:\\nIt doesn't support AUTO 360° rotation. User has to manually adjust camera from application.\\nIf there is a power outage or by any chance you disconnect power source , camera would start recording again after you connect it to internet.\\nYou need to keep camera connected to a power source for 24hours - charging option would've been helpful here.\\nApplication sometimes sends motion alerts after delay of 30minutes(approx).\\nMemory card of storage capacity greater than 64gb are not supported.\\nRead more\",\n",
       " 'looks like normal pen... nobody can detect easily.. After full charging it works for 3-4 hrs.. video duration each of 5 min.. stylish golden look',\n",
       " 'The camera is really good, picture quality is perfect..warmth is good..the picture I have put in review is clicked at night under tubelight. It is also very easy to use..and most important..worth the money..because when you have that hard copy of your photo it indeed looks like you have captured a memory. :)',\n",
       " \"Ok the DSLR Giant Canon have launched 1 more entry level DSLR. Actually i bought this camera for my friend. Does this camera worth 31K. Lets see\\n\\nPROS\\n1. Its easy to use\\n2. Decent battery backup\\n3. Live mode operation is not lagging.\\n\\nCONS\\n1. While focusing the DSLR is making too much noise and its the kind of annoying that u will lose interest in taking photos.\\n2. No shortcut or assigned button to change F stop (aperture). A manufacturer who is keeping dedicated button for changing the ISO have to thing about the importance of aperture.\\n3. You can't change the focusing point by pressing the round dial in the system, if u press it some other setup will open up.\\n4. The output image quality is actually not mind blowing.\\n5. White balance- Use it if u want to take risk\\n6. Main issue. If u use camera flash to snap a pic during focusing it will flicker like anything and it will annoy and irritate the subject\\n7. Noise Noise Noise. Whatever low ISO you use noise will b there and when i went to service center to ask about this they were saying use a prime lens to get good output.\\nI am a Nikon user i have Nikon D3400. I compared both cameras by taking same images with same settings in manual mode. The output from Nikon is better than Canon 1500D.\\nIn one word if want to push photography to next level from using a Point and Shoot or mobile camera to DSLR Or to learn the whole DSLR setting go for it (only with a mindset to change the camera in 1 or 2 years). As canon accessories are comparatively less costly than Nikon it wont create hole in ur pocket.\\n\\nI am not biased towards Nikon, i wrote wat i felt.\\nIts not worth for money\\nRead more\",\n",
       " \"Your browser does not support HTML5 video.\\n Zooming is wow , good for just click pics don't expect any extra effects. Battery backup could be more for long time photography and shooting, drained within couple of hours.\",\n",
       " \"Best dslr for beginners. Loved it...\\nLightweight and compact with everything the family photographer needs, the Nikon D5600 maintains its position as a great general-purpose dSLR for its price class.\\nDSLRTaken on its own, the Nikon D5600 is a fine camera, with imaging tech that still outclasses what even the best smartphone can manage by a huge margin. That's an important point to note for people looking for...\",\n",
       " '1st time received with out memory card and pouch. Replaced it but next time received same. Now I want to completely return it because in q&a section answered that 32gb memory card and pouch free.',\n",
       " \"An entirely capable Mirrorless camera from Sony who presented this camera as an 'Entry Level' Full Frame camera. It gives you features which most professional DSLR's cannot give, all for a body MRP of below 2 lakhs. My review about every segment of this camera:\\n\\n1- Body: Sony claims that the body is Magnesium Alloy which is only dust proof and splash proof, so you might wanna reconsider if you are going to be shooting in heavy rain or very unlikely conditions, which most of us won't be. The buttons on the back feels nice and clicky, with Sony following the same button layout as in the Sony A7R3, which was praised by photographers a lot.\\n\\n2- Performance and AF: It does a whopping 10 frame per second shooting with both Mechanical and electronic shutter, and has the same Autofocus system in the Sony A9, which is a 3 lakh INR camera! This is insane! The interesting part is, the AF points cover about 93% of the screen, so it is a great feature to have while recording video. It also has the legendary Eye-AF, which was introduced in the A7R3, and works like a charm. One thing though, is that you can't use Eye-AF while recording video, it is applicable only for photography.\\n\\n3- Photography and Video Features: It has a 24MP Backlit CMOS sensor, which means that it should have better low light performance since it is backlit. And yes, it does! The low light performance even outruns the A7R3, and this camera. is a beast in low light! Taking portraits should be easier since it has the Eye AF, and it is very much ideal for photography of fast moving subjects. The Autofocus tracking is absolutely wonderful, and if you're using native Sony lenses, then you shouldn't have any problems at all. Another advantage is the crop mode in this camera, which only utilises the APS-C size of the sensor. You can still attach your crop sensor lenses and still get awesome stills and video without any Vignetting.\\nThe movie recording capabilities of this camera blows most of the pro-DSLR's out of the water. 4K 30fps, and 1080p upto 120fps. And the quality of the footage looks much more improvised when comparing it to older models like the A6300. You get all the Professional Picture Profiles in Video as well!\\n\\n4- Battery Life: Since Sony is using the new Z-series batteries for this camera, battery life is significantly improved. I could shoot for a whole day(both clips and stills) and still had 30% battery at the end of the day. It's good to have one more battery though.\\n\\n5. Who is it for: Well, for the features it offers, it definitely is a Pro camera. But at this price point, it can be used by anyone who wants a Full Frame Camera to start off! It is absolutely a Bang for the Buck camera(if only more) and it is a pleasure carrying it around and shooting with it! If you are a landscape photographer and wants more Megapixels than 24MP for cropping in, then I would suggest the A7R3 or even the A7R2! The A7R2 is still a very capable camera with similar features, but terrible battery life and average AF capability. I DEFINITELY RECOMMEND THE SONY A73 TO ABSOLUTELY ANYONE WHO HAS AN INTEREST AND THE BUDGET TO BUY THIS CAMERA!\\n\\nENJOY THE CAMERA! YOU ARE GONNA BUY YOURSELF A BEAST!\\nRead more\",\n",
       " \"Best dslr for beginners. Loved it...\\nLightweight and compact with everything the family photographer needs, the Nikon D5600 maintains its position as a great general-purpose dSLR for its price class.\\nDSLRTaken on its own, the Nikon D5600 is a fine camera, with imaging tech that still outclasses what even the best smartphone can manage by a huge margin. That's an important point to note for people looking for...\",\n",
       " 'I have bought it EOS80D, when I tried to register it with Canon EDGE, It is astonishing to see the message \" your serial number is already registered\" etc. That means what I received is not new! or re-furbished one! what is this?',\n",
       " \"Ok the DSLR Giant Canon have launched 1 more entry level DSLR. Actually i bought this camera for my friend. Does this camera worth 31K. Lets see\\n\\nPROS\\n1. Its easy to use\\n2. Decent battery backup\\n3. Live mode operation is not lagging.\\n\\nCONS\\n1. While focusing the DSLR is making too much noise and its the kind of annoying that u will lose interest in taking photos.\\n2. No shortcut or assigned button to change F stop (aperture). A manufacturer who is keeping dedicated button for changing the ISO have to thing about the importance of aperture.\\n3. You can't change the focusing point by pressing the round dial in the system, if u press it some other setup will open up.\\n4. The output image quality is actually not mind blowing.\\n5. White balance- Use it if u want to take risk\\n6. Main issue. If u use camera flash to snap a pic during focusing it will flicker like anything and it will annoy and irritate the subject\\n7. Noise Noise Noise. Whatever low ISO you use noise will b there and when i went to service center to ask about this they were saying use a prime lens to get good output.\\nI am a Nikon user i have Nikon D3400. I compared both cameras by taking same images with same settings in manual mode. The output from Nikon is better than Canon 1500D.\\nIn one word if want to push photography to next level from using a Point and Shoot or mobile camera to DSLR Or to learn the whole DSLR setting go for it (only with a mindset to change the camera in 1 or 2 years). As canon accessories are comparatively less costly than Nikon it wont create hole in ur pocket.\\n\\nI am not biased towards Nikon, i wrote wat i felt.\\nIts not worth for money\\nRead more\",\n",
       " \"As a beginner's camera this is perhaps the best one. A lot can be learned quickly by nevigating the guided Menu. However, this Moonshot is my first snap fron Canon eos 200D Mark II.\",\n",
       " 'This is good for click photos any time and photo quality is better than mobile photo. And video quality is a day shoot very good but night shoot without lighting not good,but day shoot video quality v.good.The video quality only 720p risulation not full HD record.',\n",
       " 'no review',\n",
       " 'Your browser does not support HTML5 video.\\n This is the best budget camera and with 4k recording, do its job very well, and the best part is that PROCUS provide it with enough accessories. One should not wait or think before buying it...it is worth your every penny. One time lapse is also included which was taken in 1080P',\n",
       " \"Fantabulous camera with games and fun frames which will give your child a great photography experience and make them wanting to explore the outside world....FOR 2 DAYS\\nAbsolutely loved it but it stopped working after two days and wouldn't turn on even after charging it and trying multiple things.\\nI do not think it is worth it....\\nRead more\",\n",
       " \"I have a mi security camera already and I am using it since one year. After the lockdown, it went out of stock but soon arrived at Amazon but it's cost had increased. Even then I went ahead and tried to purchase it as I had prior confidence but just before buying Amazon showed me a feature comparison with this camera (tapo c200). So my review would be largely a comparison of the two with a breakup of the features of both security cameras.\\n\\nOn the feature front, this tapo camera beats mi security camera hands down. It comes with home monitoring, call/talk back feature just as mi security camera but additionally has privacy feature to switch off recording, alarm on/off on detection of movement, clean user interface, advanced self diagnosis feature, auto reboot feature and 128gb sdcard storage as against no privacy feature and 64gb in mi security camera. Also on detection of movement, mi security camera records multiple clips of max 1 min duration whereas tapo doesn't have that recording constraint. This is the biggest disadvantage of mi security camera. The setup took time as my WiFi was hidden and camera didn't recognize the hidden network even though I manually added it. But finally to overcome that, I made my WiFi network discoverable, once tapo recognized and stored it, I once again hid my WiFi and tapo didn't have any problem.\\n\\nAesthetics of tapo are however not that good as mi security camera. mi security camera feels premium when touched physically. However when you touch tapo, you get a cheap Chinese feeling which I hated when I opened the box. Moreover tapo rotates from its bottom and the rotating diameter is large. Mi security camera rotates from its middle point and the rotating diameter is consequently smaller.\\n\\nOther than the rotating and aesthetics, tapo wins quite handsomely. If you want a premium feeling ( which no longer matters once the camera is setup) go for mi security camera otherwise go for tapo c200 and enjoy the rich features at a lesser price.\\n\\nWill update more about its longevity in future.\\n\\nUpdate1: After 3 months I realized that after inserting SD card, the initialisation time has increased by more than two minutes whereas in mi camera, the initialisation time hasn't noticeably changed. So mi camera wins here.\\n\\nUpdate 2: Recording and browsing of recording in sd card in tapo is better but when tapo records any video on detection of any Movement, the green light of the camera turns to red. Also when night mode switches on, one can hear the relay sound from tapo easily. Mi camera continues to emit blue light even while recording and no relay sound comes out of Mi camera when night mode switches on. So Mi camera wins here again.\\n\\nUpdate 3: in case of motion detection, mi camera takes an estimated 8-9 minutes to process the feed and send you a notification. That is, if a person/motion is detected at 8:00pm in front of camera, you will receive a notification only at 8:09 pm. In case of tapo, this is 4-5 minutes with a buzzer/alarm feature. Here Tapo wins down handsomely.\\n\\nMore updates in future\\nRead more\",\n",
       " 'no review',\n",
       " 'The case is good and fits perfectly. Also the dealer’s response was appreciable.',\n",
       " \"I have a mi security camera already and I am using it since one year. After the lockdown, it went out of stock but soon arrived at Amazon but it's cost had increased. Even then I went ahead and tried to purchase it as I had prior confidence but just before buying Amazon showed me a feature comparison with this camera (tapo c200). So my review would be largely a comparison of the two with a breakup of the features of both security cameras.\\n\\nOn the feature front, this tapo camera beats mi security camera hands down. It comes with home monitoring, call/talk back feature just as mi security camera but additionally has privacy feature to switch off recording, alarm on/off on detection of movement, clean user interface, advanced self diagnosis feature, auto reboot feature and 128gb sdcard storage as against no privacy feature and 64gb in mi security camera. Also on detection of movement, mi security camera records multiple clips of max 1 min duration whereas tapo doesn't have that recording constraint. This is the biggest disadvantage of mi security camera. The setup took time as my WiFi was hidden and camera didn't recognize the hidden network even though I manually added it. But finally to overcome that, I made my WiFi network discoverable, once tapo recognized and stored it, I once again hid my WiFi and tapo didn't have any problem.\\n\\nAesthetics of tapo are however not that good as mi security camera. mi security camera feels premium when touched physically. However when you touch tapo, you get a cheap Chinese feeling which I hated when I opened the box. Moreover tapo rotates from its bottom and the rotating diameter is large. Mi security camera rotates from its middle point and the rotating diameter is consequently smaller.\\n\\nOther than the rotating and aesthetics, tapo wins quite handsomely. If you want a premium feeling ( which no longer matters once the camera is setup) go for mi security camera otherwise go for tapo c200 and enjoy the rich features at a lesser price.\\n\\nWill update more about its longevity in future.\\n\\nUpdate1: After 3 months I realized that after inserting SD card, the initialisation time has increased by more than two minutes whereas in mi camera, the initialisation time hasn't noticeably changed. So mi camera wins here.\\n\\nUpdate 2: Recording and browsing of recording in sd card in tapo is better but when tapo records any video on detection of any Movement, the green light of the camera turns to red. Also when night mode switches on, one can hear the relay sound from tapo easily. Mi camera continues to emit blue light even while recording and no relay sound comes out of Mi camera when night mode switches on. So Mi camera wins here again.\\n\\nUpdate 3: in case of motion detection, mi camera takes an estimated 8-9 minutes to process the feed and send you a notification. That is, if a person/motion is detected at 8:00pm in front of camera, you will receive a notification only at 8:09 pm. In case of tapo, this is 4-5 minutes with a buzzer/alarm feature. Here Tapo wins down handsomely.\\n\\nMore updates in future\\nRead more\",\n",
       " 'The picture quality is adequate. Takes time to print and is definitely easy to use. The photo warmth is appropriate and the clarity is perfect.',\n",
       " 'My kid like dis very much..worth product',\n",
       " 'Please do not replace the item, we want our refund the money as the camera quality is so bad. They have mentioned HD quality but we found it worst.\\nRead more',\n",
       " 'I would have given negative review if there was such an option. The device works for a few mins and then it get stuck/hang and does nothing. Even turning off does not happen for which we have to wait until the battery drains out.',\n",
       " 'CD drive did not receive. For this I have visited company website. It\\'s just like \"BUYING A CUP OF ICE-CREAM, FOR SPOON VISIT ANOTHER SHOP\". Quality picture not good. spend 1000 or more rupees and buy better quality like logitech or something else.',\n",
       " 'no review',\n",
       " \"I wish I had known this before ordering. Luckily a friend made me aware the very same day I had applied it.\\n\\nApple urges people not to close their MacBook, MacBook Air or MacBook Pro, while such camera covers are applied because it can lead to cracks in the screen when closing your MacBook!!! It may also affect the ambience light sensor, but that is the lesser issue as compared to a potentially cracked screen and high repair costs.\\n\\nMacBooks are designed in a way that when closing no foreign object thicker than an average printer paper (0.1mm) should ever be between the screen and the body of the laptop. This item is 0.027inches thick, that is 0.6mm, six times the recommended thickness!!!\\n\\nIf you are going to use it on your MacBook, be sure to completely remove it before closing your laptop. You can use it without worry on iMac as it's a desktop and doesn't get closed. You can also use it with any normal laptop where the camera isn't embedded inside the glass screen. If you have a laptop where the camera is embedded in the plastic frame around the screen it should be okay.\\n\\nFor disappointed MacBook users like me there are two options. One is you trust Apple, who are saying their camera is hardwired to the green camera light. According to them one cannot work without the other, so even if someone hacks your camera, you will know it is on because the green light will be glowing.\\nIf you're not sure about their reliability and you still want to cover your camera, use a piece of thin tape. Apple does advice against anything which could leave adhesive residue on their screen, but frankly, if you just clean it with some screen cleanser after removing, i don't see how there could be an issue.\\n\\nWhy am I still giving this product 3 stars? It reached in good condition, is easy to install and use, and it will still be useful to people with other laptops or desktop screens with inbuilt camera. It's not a bad product. They just need to stop advertising it for MacBooks!\\nRead more\",\n",
       " 'I ordered the \"Amazon Basic Hard Camera Case\" after a lot a deliberation. My son primarily needed a storage solution for the expensive camera lenses. Something which is sturdy; blocks humidity; doesn\\'t takes much space in the room (or cupboard) and which doesn\\'t burns a hole in the pocket .\\n\\nSo we researched and the choice basically was between a \"Hard Case\" or a \"Dry Cabinet\". We finally went for the hard case solution because we felt that it had the tripe advantages of - Durability; Ease of Storage & Portability.\\n\\nThe price seemed on the higher side but we still went for this brand of hard case because we trusted the quality of products from the \"Amazon Basics\" stable. Our past experience with purchase of Amazon Basics products had us confident that the product price may seem high but the quality will also be superior to its peers in same or higher price bracket.\\n\\nThe product was delivered within the promised period. It was very well packaged in a strong cardboard carton and cling film. In side the carton the \"Case\" was packed after being padded with adequate protection.\\n\\nThe product\\'s feel was premium in the hands, The body is made of strong poly-carbonate material, stronger than the regular suitcases. It felt strong and sturdy, just by the weight of the empty case itself.\\n\\nThe exteriors do not do justice to the plush interior of the case. It has Egg-crate Foam on the upper side and 3 layers of pre-cut Polyethylene Foam on the lower side (where you keep the equipment).\\n\\nWe were able to easily cut deeper grooves as per the size of our equipment and in no time had them placed securely and snugly in the case.\\n\\nThe case has a hard plastic seal on the edge of the lower section which helps make it completely airtight once you close and latch it.\\n\\nThere are two side latches and circular air tight lock in the center. The case also had a silica gel pouch which we placed inside it along with the equipment, it works against humidity.\\n\\nI would have given it 5 stars for \"Value for money\" had the price been closer to 5K than 6.5K, but at the same time I also understand its a small price if it keeps the much more expensive Camera lenses safe from breakage and humidity.\\n\\nOverall a satisfying buy. Highly recommended if you are looking for a dependable camera case. Please see pictures for the capacity and product look & feel. Cheers !!\\nRead more',\n",
       " 'I received the main screen’s guard but not the top display’s guard as shown in the image. Hence it is misleading.\\n\\nI ordered this only because I wanted the top display guard. It was disappointing.']"
      ]
     },
     "execution_count": 128,
     "metadata": {},
     "output_type": "execute_result"
    }
   ],
   "source": [
    "Review_camera"
   ]
  },
  {
   "cell_type": "code",
   "execution_count": 1012,
   "metadata": {},
   "outputs": [],
   "source": [
    "rating_camera=[1,3,3,3,4,3,3,4,1,5,4,1,3,4,4,3,4,1,4,3,4,4,4,4,1,1,1,3,1,4,2]"
   ]
  },
  {
   "cell_type": "code",
   "execution_count": 937,
   "metadata": {},
   "outputs": [
    {
     "data": {
      "text/plain": [
       "31"
      ]
     },
     "execution_count": 937,
     "metadata": {},
     "output_type": "execute_result"
    }
   ],
   "source": [
    "len(rating_camera)"
   ]
  },
  {
   "cell_type": "code",
   "execution_count": 48,
   "metadata": {},
   "outputs": [],
   "source": [
    "Review_monitor=[]"
   ]
  },
  {
   "cell_type": "code",
   "execution_count": 49,
   "metadata": {},
   "outputs": [],
   "source": [
    "urls=driver.find_elements_by_xpath(\"//a[@class='a-link-normal a-text-normal']\")\n",
    "UR=[]\n",
    "for i in urls:\n",
    "    UR.append(i.get_attribute('href'))\n",
    "for url in UR:\n",
    "    driver.get(url) \n",
    "    try:\n",
    "        rate=driver.find_element_by_xpath(\"//span[@id='acrCustomerReviewText']\")\n",
    "        rate.click()\n",
    "        review=driver.find_element_by_xpath(\"//div[@class='a-row a-spacing-small review-data']\")\n",
    "        Review_monitor.append(review.text)\n",
    "    \n",
    "    except NoSuchElementException as e:\n",
    "        Review_monitor.append(\"no review\")"
   ]
  },
  {
   "cell_type": "code",
   "execution_count": 936,
   "metadata": {},
   "outputs": [
    {
     "data": {
      "text/plain": [
       "26"
      ]
     },
     "execution_count": 936,
     "metadata": {},
     "output_type": "execute_result"
    }
   ],
   "source": [
    "len(Review_monitor)"
   ]
  },
  {
   "cell_type": "code",
   "execution_count": 161,
   "metadata": {},
   "outputs": [],
   "source": [
    "rating_monitor=[2,4,3,4,2,3,4,4,4,5,2,2,4,3,3,1,3,4,3,4,4,4,4,3,4,4]"
   ]
  },
  {
   "cell_type": "code",
   "execution_count": 935,
   "metadata": {},
   "outputs": [
    {
     "data": {
      "text/plain": [
       "26"
      ]
     },
     "execution_count": 935,
     "metadata": {},
     "output_type": "execute_result"
    }
   ],
   "source": [
    "len(rating_monitor)"
   ]
  },
  {
   "cell_type": "code",
   "execution_count": 51,
   "metadata": {},
   "outputs": [],
   "source": [
    "Review_printer=[]"
   ]
  },
  {
   "cell_type": "code",
   "execution_count": 52,
   "metadata": {},
   "outputs": [],
   "source": [
    "urls=driver.find_elements_by_xpath(\"//a[@class='a-link-normal a-text-normal']\")\n",
    "UR=[]\n",
    "for i in urls:\n",
    "    UR.append(i.get_attribute('href'))\n",
    "for url in UR:\n",
    "    driver.get(url) \n",
    "    try:\n",
    "        rate=driver.find_element_by_xpath(\"//span[@id='acrCustomerReviewText']\")\n",
    "        rate.click()\n",
    "        review=driver.find_element_by_xpath(\"//div[@class='a-row a-spacing-small review-data']\")\n",
    "        Review_printer.append(review.text)\n",
    "    \n",
    "    except NoSuchElementException as e:\n",
    "        Review_printer.append(\"no review\")"
   ]
  },
  {
   "cell_type": "code",
   "execution_count": 934,
   "metadata": {},
   "outputs": [
    {
     "data": {
      "text/plain": [
       "30"
      ]
     },
     "execution_count": 934,
     "metadata": {},
     "output_type": "execute_result"
    }
   ],
   "source": [
    "len(Review_printer)"
   ]
  },
  {
   "cell_type": "code",
   "execution_count": 195,
   "metadata": {
    "collapsed": true
   },
   "outputs": [
    {
     "data": {
      "text/plain": [
       "['This product does not even have a LAN port. It is completely misleading product description. I just wasted my 12,000 bugs in this useless machine. Unfortunately Amazon didnt honour return and I ended up keeping this useless product in my office.',\n",
       " '.bad.machine is not working.toner is stopped within 10 months within 4000 pages.',\n",
       " \"I was looking for scanner and printer for home usage (for occasional printing). I decided the hp 2131 which was coasting around 3100 but shortly it became out of stock. So I went for this one and it costed me 3300 on freedom sale.\\n\\nPrints are clear and also the scanning quality is good I scanned my brother's college id card it was clear . Speed is also good and it is quite light\\n\\nI will post full review after more testing.\",\n",
       " 'after sales service is pathetic, service center in faridabad is pathetic, useless service center, i had to wait for 25 days for replacement of defective cartridge. after sales service has to be improved, need to improve service centers.\\n\\nHP 2332 Deskjet Colour Printer is Superb, Fantastic, Excellent, very nice looks.',\n",
       " 'its only print 3 to 4 page properly then started blur printing and no option for darkness and cartarage is very costly .',\n",
       " \"Wish I could have purchased it earlier - I already purchased 4 deskjets/inkjets from last 10 yrs - but I don't know why they eat so much ink - I got tired of ordering its cateridges - Also my kids are in school (11yrs & 6 yrs) and they get something to get print out every second day and during exams - you can understand. This serves my black and white printouts (almost 90% of requirement) and I have HP Deskjet Ink Advantage 4335) that serves colored printout (10% of requirement). the print quality and speed is great ! and energy save option is also cool - it remains on standby and whenever you need a printout from your phone or laptop - just give a command and in less than 30 secs you will have your printout :) Amazing. Hassle free. Very satisfied with the product and its features\",\n",
       " 'Oct 24, 2019: Printer seems like a waste of money.\\nTri-Colour print head seems to have failed in a new device purchased in Mar 2019. No way of emailing HP product support. One of the ways I seemed to have done it from HP site (from my login there) never got me a response!\\n=======\\nThe printer works extremely well & silently except for the following (note: All my devices are either MacOS or IOS):\\n1. This printer was purchased from Amazon in March 2019, the warranty for the product (as per HP site) had started in December 2018!\\n2. It does not switch off automatically in 2 hours - as per printer web-page this feature is pre-setup & cannot be altered\\n3. No instructions on how to make the Manual Duplex feature work from a Print option (at least on MacOS)\\n4. Knowledgeable/ trouble shooting guides have no information on this\\n5. Due to Ink-Tank feature, it is not easy to just \"pick-up\" the printer & carry it - it has to be kept horizontal to avoid ink spills, so carrying to an HP service centre is out of question.\\n6. The Chat Bot on HP website cannot answer anything that you cannot read in a manual - it is totally useless & does not even recognise that it should redirect the person to a human.\\n7. All support information is for Windows devices - not help for Mac OS is available\\n8. Still trying to figure out how to talk to a support representative as they are available only during my working hours or shorter & I have not been able to find an option to leave a message/ email for help.\\nIn short - very good product when it works, but support seems to suck. Also, some problem of seller (assuming warranty start date is their issue), published features (switching off - everybody is now lazy to switch off a shared printer/ Manual duplex) do not always work.\\nRead more',\n",
       " \"$ince I got the printer like 15 days ago but 4 days it\\ntook t out to.print to test it , I haven't printed a single page as the paper gets stuck and crunles up inside. Looks like something is blocking the paper\\nOn one side. My replacement window has alseo xpired. 4 days ago Now trying to get it fixed by calling. But no reply yet. This just pisses me of , you pay for a new printer and get a faulty one. I am disgusted and very disappointed with canon and Amazon\",\n",
       " \"Didn't expect cannon to dispatch items without quality checks!\\nThe colour head was not working properly from day 1.\\nTried all software based ink flushing techniques, the ink totally flushed out and the colour stopped working there on..\\nOrdered new head- Rs 3500/-\\nWithin 2 days, the led blinking indications started coming.decorded the code online and found it's an error which only service centre people can do. The ink drain was full.\\nAfter a week, the printer is not powering on itself!!\\nService charge + replacement of printer board..Rs 5000/-\\nWarranty not applicable on these sections..\\nHad a great Cannon experience..\",\n",
       " 'This product does not even have a LAN port. It is completely misleading product description. I just wasted my 12,000 bugs in this useless machine. Unfortunately Amazon didnt honour return and I ended up keeping this useless product in my office.',\n",
       " 'This is an amazing all in one printing-scanning-copying machine. Offers more than other models like HP. Opted for this as it has an auto feeder, which makes copying/scanning of multiple pages much easy. In the HP machine, you had to insert and scan one page at a time. In this, you just load the pages on the feeder and it does it all automatically.\\n\\nThe only downside was the default setup this machine comes with. I would say its very user unfriendly. After spending few hours and browsing through all the forums and international Amazon site, I learnt how to set up this machine for best use. My printer was setup correctly, however on the wireless printing mode, it used to go to sleep mode after a few minutes, and none of my devices were able to detect the printer there after. This was a pain, as I had to eventually go to the machine and restart it to get it out of the sleep mode. Brother needs to fix this as not everyone is good with machines.\\n\\nAnyways, here is what you should do right after installing the software on your PC.\\n\\nEDIT: Before reading through the steps below. Make sure you update the firmware on the printer, as it might automatically solve the iissue. If it doesn\\'t, then go through the steps. Firmware can be updated by downloading the Firmware update tool available here: http://support.brother.com/g/b/downloadtop.aspx?prod=dcpl2541dw_as&c=as_ot&lang=en\\n\\nGo to the printer , Click on the Menu Button, and pull up \"Network\" settings using the buttons on the printer. Under that, go to WLAN and click on set up wizard. Use this to connect your printer to the router/wifi. Once you are connected, do the following steps.\\n\\nOn your printer, press Menu button and :\\n1. Go to Network->WLAN->TCP/IP->Boot Method - Change it to Static\\n2. Go to Network->WLAN->TCP/IP-> APIPA - Change it to turn it OFF/Unchecked.\\n3. Go to Network->WLAN->TCP/IP-> IPv6 - Turn it ON.\\n\\nAfter following these steps, your printer will always stay connected to the network. If you don\\'t follow these steps, then your printer will not show up while you try to wirelessly print/scan from your device(after few minutes of turning on the printer). I hope Brother sets up the machine to run these settings by default.\\nRead more',\n",
       " \"$ince I got the printer like 15 days ago but 4 days it\\ntook t out to.print to test it , I haven't printed a single page as the paper gets stuck and crunles up inside. Looks like something is blocking the paper\\nOn one side. My replacement window has alseo xpired. 4 days ago Now trying to get it fixed by calling. But no reply yet. This just pisses me of , you pay for a new printer and get a faulty one. I am disgusted and very disappointed with canon and Amazon\",\n",
       " 'The machine has more RAM than comparable models. Hence it is able to print faster.\\nThe scan functionality is supported by a good software.\\nIt has a cover for the feed paper so that as to protect the paper in the tray against dust.\\nThe machine also turns on fast. I have used models from another popular brand and find hat this one performs much better.',\n",
       " 'Today received package.. Setup done correctly.. but not single page came out printed.\\nPrinter unable to print pages ....blank pages comes out of tray every time !!!!\\nPls suggest any setting or thing need to done with initial setup which I might not done yet...\\nOR is it defective piece ???',\n",
       " \"Don't buy this printer, you can only print 20 to 30 A4 with a cartridge!\",\n",
       " 'Pros: Delivered in time. Setup is easy. Liked Mobile app feature. Did test prints and satisfied. Got full volume of ink in default print cartridges, which are 680 series. These cost RS 1150 as combo, for kind information to co-custumers.\\n\\nCons: The power socket was wobbling, a poor design. But I managed with a tape inside so it holds good. This is on the down side.\\n\\nCaution: Any printer goes for a toss as the time passes because of dust accumulation. I had the experiences of dysfunction of wifi connection, double side printing, paper injection mechanism etc. This is my 4th printer in series. Bought printer cover as well because for me dust control is top priority given the worst experiences in the past.\\n\\nValue for money at the price of RS 5999/. Flipkart sells at RS 4999 or 5199. Amazon should compete here.\\n\\nTrust the above helps.\\nRead more',\n",
       " \"I purchased this printer a few months ago and have used it for several printouts till now. I had to b really thoughtful about its feedback , simply because buying printers online is quite a challenging decision especially the notorious reviews posted by many. At the end you trust your gut and make a decision. For most of the time people desire everything for the lowest price possible however please bear in mind quality demands research and money! So this is what i feel about the printer -\\n1. It looks great. Infact it looks pretty classy.\\n2. I love the print quality. It does so much justice for the image you want to print.\\n3. I paid 4890/- for the printer. The image print output is pretty satisfactory.\\n4. I printed a lot of sheets. Like, i totally went crazy with my print outs. I was working on a vision board project (more like a vision wall) and It required quite a bit of printouts. I hate going to the printer shops with the images I want to print as I have privacy issues. But so happy this printer did not even fuss once and facilitated smooth and steady printouts.\\n5. The installation was a cakewalk. It is compatible with my iPhone and Mac. Easy peasy. I love user friendly technology.\\n6. I have always inserted one sheet at a time. Why? because i find that arrangement quite hassle free and convenient.\\n7. A couple of times the paper got jammed. #commonprinterproblems. I did not feel that I should mind that. Given the convenience of home printing. Everything is better at home.\\n8. I took prints on regular sheets as well as glossy sheets. I would tell you this- , sheet type hardly made a difference. In future i'd use a regular sheet. Not a glossy one. I just tried glossy because may be I expected 'photo print quality'. While the print quality was great, the final print washed out the glossy effect. So it is redundant.\\n9. The printer uses the 803 ink cartridge and that is where the catch is.\\n10. 803 print cartridges clearly read that they are disposable and meant for single use only.\\n11. The original cartridge exhausted quite early. I am able to say this as I later ordered the refill ink and refilled my cartridge and I was able to get more prints this time. (It might be because with the original cartridge I printed glossy papers and they consume more ink. MAY BE. I'm just guessing.)\\n12. I watched a couple of Youtube videos and learnt how to refill the cartridge. I followed instructions and Viola! my printer started to shoot prints again.\\n13. Now , when you refill the original cartridge the printer's ink indicator does not read it. Which you'll learn to adapt because in moments your printer will be shooting pages after pages.\\n14. SO after several and many prints It was time to refill the cartridge. and Guess what...It did not work. I tried everything. The prints turned out horrible. The ink was spilling all over. Even inside the printer and that made me very sad. Nobody likes a tardy looking gadget!\\n15. My conclusion is that HP is right. 803 does not allow a refill. Even though the ink sellers claim and list that it does...It does not.\\n16. The first refill was may be a lucky shot. It worked. I was very happy. The second refill was a complete fiasco.\\n17. Eventually I discarded the cartridges.\\n18. I logged in to Amazon and wanted to place order for fresh cartridges and guess what. Out of all the HP models , 803 has the most expensive cartridge. That made me very thoughtful and cautious.\\n19. Unless HP does something about the price of the Ink cartridges, the ink will blot your enthusiasm.\\nMy verdict - It is a great printer. I love it. Love the print quality. But 803 is an EXORBITANTLY PRICED ink cartridge. May be i'll try the refills again when my next cartridge arrives and update my review just in case i am successful beyond the first refill attempt. (UPDATE- the refill completely did not work with next new cartridge ran dry. Also I noticed that the new cartridge printed half the amount of papers from last time. Not sure of the decline)\\nI am not complaining because ultimately I have to take everything into consideration. But going to the printer shop is a BIG NO for me.\\n\\nReview Update 7th March- I realized the cartridge purchased from Amazon I.e 803 for this printer is not compatible. My printer didn’t read the color cartridge. It was an old generation piece and the black ink cartridge leaked during printing. It basically suggests that the cartridges are either refilled or not genuine. I later purchased them from HP website. Even though expensive I was content about the fact that they are genuine and have same business day delivery. I love the Amazon returns policy. They accepted the opened cartridge and refunded quite promptly.\\n\\nReview Update - Jan 24- it’s been six months the printer has been completely useless and I e been wondering what to do with it. Selling it on OLX seems like I’ll be cheating the buyer. I switched to a new ISP and the printer would not connect. I registered the call with HP CS . There was a lot of hassle. After spending around 72 hours back and forth they sent a technician. The printer just didn’t detect any connection with the phone, laptop and the WiFi. Technician refused to take any responsibility and said Ive been entering the password wrong. The technician and customer service people were so smart to place the blame because apparently the only device not connecting to the WiFi amongst the whole list of gadgets was the printer.\\nFinal Review is that as excited I was , it fizzled out so bad, that it is ridiculous to even think of giving the machine away for free as I’ll lose face if someone asks for a demo! I thought I’ll bear with the super highly priced ink but for a printer that doesn’t sync or connect, it’s a waste! It’s like a marriage which you realize is going bad within 6 months of being married! The benefit with the printer being - you have the freedom to discard it!\\nInterestingly I also feel that the shelf life of this printer is meant to last only for one bundle of sheets you buy. The printer exhausts post that! If you’re looking for a heavy use...you must buy the really expensive ones! Yes. That’s true.\\nHP customer service experience is 0/10.\\nRead more\",\n",
       " \"Didn't expect cannon to dispatch items without quality checks!\\nThe colour head was not working properly from day 1.\\nTried all software based ink flushing techniques, the ink totally flushed out and the colour stopped working there on..\\nOrdered new head- Rs 3500/-\\nWithin 2 days, the led blinking indications started coming.decorded the code online and found it's an error which only service centre people can do. The ink drain was full.\\nAfter a week, the printer is not powering on itself!!\\nService charge + replacement of printer board..Rs 5000/-\\nWarranty not applicable on these sections..\\nHad a great Cannon experience..\",\n",
       " \"Printer is good but have some flaws.\\nABS filament : Description says that it allows printing with ABS, but practically it doesn't. I tried many times, but it doesn't.\\nBed alignment : I don't know why, but this printer requires bed alignment every time. Its frustrating.\\nBlack plate : black plate which we place on bed is not flat. Its bit curved in center. Bed alignment is done at bed corners, so when printing starts, nozzles rubs with black plate in center. might damage nozzle.\\nAssembly : Assembly is difficult. Manual is not that helpful. Being an engineer, it was difficult for me then I can assume, how much it will be difficult for non technical person.\\nBuild quality : built quality is good. feels strong.\\nOverall : Not highly satisfied as I specifically bought as it mentioned that it prints ABS. Bit disappointed.\",\n",
       " \"I was new to 3d printing and this is the first 3d printer i brought. I was skeptical about assembling it and some instructions were confusing. Thankfully, there are a lot of youtube videos which walk you through assembly and provide great tips and tricks which are not in the manual.\\n\\nI was really expecting average results, but i was pleasantly surprised by the quality of prints. It does require bed levelling and I had to upgrade to harder bed springs which were very cheap but it made it sooooo much better.\\n\\nIf you're a DIY'er you'll be happy to know that you can pretty much upgrade, repair, change virtually any part. All the spare parts are available on Amazon, which is great.\",\n",
       " \"It was delivered a few hours before the time given. I have just set it up and using the HP app on my phone to print, scan and copy. You can email and send documents on WhatsApp too. HP app is impressive. Responds to commands quickly.\\nPacking was impressive. Unpacking not time consuming. Setting up through HP app on my iPhone was smooth. All functions work well. Connected it to Alexa and the voice commands works too. The only thing to note is the gap between claim of speed of printing and actual printing time it takes. If you are using it for personal use and are not in a hurry the printer speed will not annoy you. It's slow, very slow. I believe it prints not more than two pages b/w in 60 seconds.\",\n",
       " 'Within 2 hrs of purchase i realized and experienced that running cost of 6075 is BOMB. In a rate of if you keep printing 10 pages Blank and white and 5 color daily., cartige will drain out in week. So, maintenance Cost would be 6,000 Rs per month., as good as buying monthly printer.\\n\\nOther issue:\\nMakes lots of noice\\nPrinting is not crisp, has shades\\nSlow printing\\n\\nDemoed issues to Amazon support and asked if i can get replacement for other models and they said per policy they can replace with 6075 but not other models.\\nAny selling has to help customers and their satisfaction, but here even if customer is offering more money for better product, Amazon is not willing to exchange.\\n\\nHonestly, get any printer which running cost is low and print quality is good and fast.\\nRead more',\n",
       " 'Printer is good but ink runs out quickly especially Colour Cartridge ink. The print quality is good.',\n",
       " 'Mac users beware! It doesn’t work on Mac and You cannot return this product. Although the description says eligibile to return within 10 days, Amazon just won’t accept a return. 1 star for not mentioning in the description that THIS PRINTER DOES NOT WORK ON MAC\\n\\nUpdate: Brought up my old windows desktop and tested the printer. Prints came good but it has roller (continuous dot) marks when printed on glossy paper (see the attached image). Contacted Amazon and they replaced it. The new one again has the same problem! So, look like the issue is with the printer model/batch.',\n",
       " \"After some settings it started giving very good results... One thing I don't like I was unable to connect the printer through otg cable to my phone, over all its really value for money, I bought it in 5999\",\n",
       " \"Namaste!\\nGlad to help others by way of sharing experience with this printer. Got it at a discounted price of ₹12059 (sbi credit card discount). Its installation was very easy and required no much ado. Its operation too, is very easy and convenient. I'm currently using it for printing study materials from mobile only. The performance is really admirable. Initially gave command to print some PDFs of 2 or 3,4 pages and it printed very fast. Afterwards I willingly downloaded brother plugins and mopria print service which also helped me print smoothly but one day when commanded to print PDFs of pages more than 25, it took very considerable time to respond. I was troubled a little bit but soon, I uninstalled all plugins and operated with the help of android printing service itself. It gave wonderful response. Since then, I'm very happily printing my docs.\\nNow come to its printing quality. It yields high quality printing both in color and mono.\\nTime: In my case, black and white print rate is more than 20 ppm (average) while a color photo took me 12 minutes to print.\\nThe best thing for me is that this printer does not annoy you by taking too much time in warming up each time you start this. It instantly becomes ready to print ASAP you turn it on. It automatically cleans the heads. Print, scan and copy quality is the best. Moreover, it is manufactured in the Philippines with no equipments from PRC.\\nI don't have experience of printing through laptop or PC, but I say that this is the best printer for printing purpose. If it is functioning very fast even wirelessly, then what about USB connection? Surely, it will not disappoint you.\\nSo kindly go for it.\\nDhanyawad!\\nRead more\",\n",
       " 'Slowest printer , After giving print option you can make a hot green tea in your electric kettle and can complete your tea..\\n\\nBut for every print cup of tea is not good to health',\n",
       " 'Highly annoyed. The seeker thought he would be able to cheat by packaging the product in such a way that he would be able to hide all the defects. It looks rather like a 3-4 year old second hand printer. The lid was broken. The parts looked worn out\\nThere was no cartridge and USB cable in the box. I would rather buy from official HP site. It’s also cheaper over there\\n\\nThis is in addition. It’s been over a week and the return has not been made so my money is stuck so I would recommend you guys not to buy from Amazon. I am one of the unlucky guy whose money is stuck. You could be the next one. I have called Amazon more the 10 times still no update from them.',\n",
       " 'no review',\n",
       " 'Good']"
      ]
     },
     "execution_count": 195,
     "metadata": {},
     "output_type": "execute_result"
    }
   ],
   "source": [
    "Review_printer"
   ]
  },
  {
   "cell_type": "code",
   "execution_count": 1013,
   "metadata": {},
   "outputs": [],
   "source": [
    "Rating_printer=[1,1,3,3,2,5,1,1,1,1,4,1,4,1,1,3,3,2,3,4,4,2,3,2,3,4,1,1,3,4]"
   ]
  },
  {
   "cell_type": "code",
   "execution_count": 933,
   "metadata": {},
   "outputs": [
    {
     "data": {
      "text/plain": [
       "30"
      ]
     },
     "execution_count": 933,
     "metadata": {},
     "output_type": "execute_result"
    }
   ],
   "source": [
    "len(Rating_printer)"
   ]
  },
  {
   "cell_type": "code",
   "execution_count": 54,
   "metadata": {},
   "outputs": [],
   "source": [
    "Review_Home_theatre=[]"
   ]
  },
  {
   "cell_type": "code",
   "execution_count": 55,
   "metadata": {},
   "outputs": [],
   "source": [
    "urls=driver.find_elements_by_xpath(\"//a[@class='a-link-normal a-text-normal']\")\n",
    "UR=[]\n",
    "for i in urls:\n",
    "    UR.append(i.get_attribute('href'))\n",
    "for url in UR:\n",
    "    driver.get(url) \n",
    "    try:\n",
    "        rate=driver.find_element_by_xpath(\"//span[@id='acrCustomerReviewText']\")\n",
    "        rate.click()\n",
    "        review=driver.find_element_by_xpath(\"//div[@class='a-row a-spacing-small review-data']\")\n",
    "        Review_Home_theatre.append(review.text)\n",
    "    \n",
    "    except NoSuchElementException as e:\n",
    "        Review_Home_theatre.append(\"no review\")"
   ]
  },
  {
   "cell_type": "code",
   "execution_count": 932,
   "metadata": {},
   "outputs": [
    {
     "data": {
      "text/plain": [
       "26"
      ]
     },
     "execution_count": 932,
     "metadata": {},
     "output_type": "execute_result"
    }
   ],
   "source": [
    "len(Review_Home_theatre)"
   ]
  },
  {
   "cell_type": "code",
   "execution_count": 227,
   "metadata": {
    "collapsed": true
   },
   "outputs": [
    {
     "data": {
      "text/plain": [
       "['Sound quality is very bad and the sub starts cracking at volume 10 !! May be most of the reviews of this product are framed .. The subwoofer is a small 4 inch driver wih no base output, only low frequency noise.... I checked the product website and looks it to be a bogus one..\\n\\nRequest the potential buyers to stay away from this and look for different options. Unfortunately I bought this and there is no return policy ..\\n\\nDefinitely this is not a 80 watt amplifier ...',\n",
       " 'Overall good product... Specially the product look is very stylish... Thank you amazon and IBELL..',\n",
       " 'Superb Speakers, Very Nice bass and sound . well i purchased this on indian diwali festival sale for just Rs 1990 in a deal. even the bluetooth feature is really nice. actually i want to give 5 stars to the rating but giving 4 stars only because of speakers wires are really small. you need extra wires extention to mount it on all the corners of walls',\n",
       " \"It is very very bad product. I am very disappointed after purchase it. After purchase I use only 14days and it is stop working. After register complain both side Amazon & Philips customer care but still today above passed 2 month my problem not solved yet. They still arranging part which is faulty but not get it yet. Worst product & services. I am not not getting repair product or replacement after many time request to customer care. I suggest every one please Don't purchase.\",\n",
       " \"Wonderful product by Tronica, sound quality is good, value for money .don't buy any other brand simply go for this in price range\\nJai made in india\",\n",
       " 'Amazing and outstanding performance... High bass, superb treble... Light is amazing ..If you’re someone who loves calming lights with the sound you’ll love Indie. Indie is a 4.1 speaker which has an LED display and comes with multi connectivity options like BT/SD/USB/MMC cards with an AUX support. With splendid design there is also musical LED lights to entertain you completely. It comes with an in-built FM and a fully functional remote control.',\n",
       " \"It is very very bad product. I am very disappointed after purchase it. After purchase I use only 14days and it is stop working. After register complain both side Amazon & Philips customer care but still today above passed 2 month my problem not solved yet. They still arranging part which is faulty but not get it yet. Worst product & services. I am not not getting repair product or replacement after many time request to customer care. I suggest every one please Don't purchase.\",\n",
       " 'IMPORTANT NOTE:\\n\\nFirst off all, getting a good surround system is dependent not only on the speakers but many other factors. Your experience is going to be poor no matter which sound system you buy unless you consider for these factors.\\n\\nTo get a good surround sound system you should consider:\\n\\n1. Whether the content you\\'re playing has a 5.1ch sound output in the first place\\n\\n2. Whether the app and/or device you\\'re playing it in supports a 5.1ch output (for e.g. YouTube app does not have a 5.1ch output)\\n\\n3. Whether your connectivity supports a 5.1ch output; not all devices/connections support 5.1ch (for e.g. if you connect the speakers through a normal 3.5mm jack, you\\'ll only get a stereo output)\\n\\nSo when comments here say the \"5.1 doesn\\'t work\" take that not with a pinch of salt but with \\'bunch\\' of salt.\\n\\nI have been using the sound system for a little over 2 months and I can say with 100% confidence that it works with absolute charm!!\\n\\nTherefore before you go ahead and make this purchase, please do find out if the device that you intend to hook this up with, has the capability to output 5.1ch through HDMI Arc connection. Not all TVs/devices support this, therefore you\\'ll end up having all the devices but not getting the surround system feel.\\n\\nNow coming to the sound system in itself.\\n\\nIt is a bit of a bummer that the Front Right, Centre and Front Left are in a single sound bar. Ideally you would want them to be slightly spaced. But there is the advantage of the soundbar fitting snugly right below the TV and looking pretty cool. It does give an artificial \"spacing\", so no complains here.\\n\\nThe Surround Left and Right satellites come with a 10m long wire. They need to be placed at 90-110° from where you sit and since most ideal TV viewing distances are less than 4m, there shouldnt be a problem with lack of length.\\n\\nPlease Google for speaker placement for 5.1ch and you\\'ll come across Dolby recommended positions. Follow that and you\\'re good to go!\\n\\nThe sound itself is amazing! Gives a very good cinematic experience (assuming you have considered all the aforementioned 3 factors). With HDMI Arc connectivity, you should be able to control the speaker volume with your TV remote itself, but this is something that you need to check with your TV.\\nRead more',\n",
       " 'Superb Speakers, Very Nice bass and sound . well i purchased this on indian diwali festival sale for just Rs 1990 in a deal. even the bluetooth feature is really nice. actually i want to give 5 stars to the rating but giving 4 stars only because of speakers wires are really small. you need extra wires extention to mount it on all the corners of walls',\n",
       " \"Sound system is ok but have one problem. Remote was broken. I can't want to return. But if you have extra remote please send me one.I will pay you .\",\n",
       " 'Your browser does not support HTML5 video.\\n Very nice product iBall tender 2.1 computer multi speaker good',\n",
       " 'This is a very good and beautiful product.on this price',\n",
       " 'Your browser does not support HTML5 video.\\n Usefully devise',\n",
       " 'Not working properly some heavy background noice coming I want return product I want my money back please help me 4 speaker not working return or replacement help on this',\n",
       " 'exlent quality.ok\\nbut price is very very high\\n16999/_ too high . price is only minus.',\n",
       " 'Worst product dont buy this product. I seller also not responding.',\n",
       " 'no review',\n",
       " \"The product is good, build quality is premium, the sound is very clear and you could even fill that punch as well, particularly give clear bass and quality even in low volume as well.\\n\\nBUT it's made in China, JBL is one of the most popular brand in India but still, they don't want to manufacture it here, I also asked the same to JBL but they did not replay conveniently. so it's the purchase until we find other option - which we will soon - defiantly\",\n",
       " \"I bought product when there was not any review available for this product. I ordered it thinking JBL will not disappoint me and i was true.\\n\\nBefore keeping this product i ordered thomsan soundbar, blaupunkt soundbar and boat one, returned all of them..they were not bad though. But i didn't want to compromise in audio quality.\\nThis delivers what i needed, i. e. Correct frequency response. Some people complaining about low bass, let me mention it gives sound signature of JBL audio .it gives pure bass pleasant to ears not unnecessary booming like roadside dhoom dhadaka..i hope you understand what i am trying to say..i returned blaupunkt as the bass was extra boomy that ruins the melody of music..some people likes it but i don't. I prefer balanced sound signature. This delivers perfect bass response and the punch comes when it is needed..it is a mark of great sound signature..i can assure that after listening this even audiophiles will not complain. Maybe people who complaining about bass must replace their product, i am sure they got defective item.\\nIt doesn't have bass and treble control feature but why someone need to disturb the sound signature by tweaking it. I don't feel any need, though it can be done with phone equalizer.\\nOne addition - it has 3 equalizer preset modes present on remote. That works perfectly. game, music and cinema\\n\\nLoudness is more than enough, i haven't played it at full volume as my windows started vibrating so i lowered it down. No one wants complains from neighbours.\\n\\nComing to build quality. It is perfect nothing to complain in this section.\\n\\nIt is the best one could get in this price range.\\nUsually i don't write reviews but i struggled a lot while ordering this unit as there was not a single review available for this, i hope this will help others a little bit.\\nRead more\",\n",
       " \"Sound quality is very normal, it's bass is irritating, no bass control button exist either on remote or product.\\nI have received one non working small speakers.\\nBut thank u very much to Amazon India who give hassle free returns. Thank u once again to Amazon India.\",\n",
       " 'Excellent Product...Very good packing...aux cable is good quality....According to its value it gives many more facilities like bluetooth, USB, SD card, aux.....I liked very much...Nice...Excellent...',\n",
       " 'Very powerful sound and so clear and its good ridam...',\n",
       " \"The system is not good, sound and bass both of not good if you buy this so may be waist o Mony don't buy, I'll but this and return in next one hour I don't like it, if you are sound and bass lover so this is not for you\",\n",
       " 'Product is really nice in finish, quality and can be set up easily. U can manually also operate it. .sound is amazing..good for home.. quite impressive bass and sound quality',\n",
       " 'Superb Speakers, Very Nice bass and sound . well i purchased this on indian diwali festival sale for just Rs 1990 in a deal. even the bluetooth feature is really nice. actually i want to give 5 stars to the rating but giving 4 stars only because of speakers wires are really small. you need extra wires extention to mount it on all the corners of walls',\n",
       " 'Value for money .. good bass & good sound clarity & Bluetooth connectivity & THANK YOU ZEBRONICS FOR GOOD BUILD QUALITY']"
      ]
     },
     "execution_count": 227,
     "metadata": {},
     "output_type": "execute_result"
    }
   ],
   "source": [
    "Review_Home_theatre"
   ]
  },
  {
   "cell_type": "code",
   "execution_count": 1014,
   "metadata": {},
   "outputs": [],
   "source": [
    "Rating_Home_theatre=[1,4,4,1,4,5,1,3,4,3,3,4,3,2,4,1,3,4,5,3,4,4,2,4,4,4]"
   ]
  },
  {
   "cell_type": "code",
   "execution_count": 931,
   "metadata": {},
   "outputs": [
    {
     "data": {
      "text/plain": [
       "26"
      ]
     },
     "execution_count": 931,
     "metadata": {},
     "output_type": "execute_result"
    }
   ],
   "source": [
    "len(Rating_Home_theatre)"
   ]
  },
  {
   "cell_type": "code",
   "execution_count": 57,
   "metadata": {},
   "outputs": [],
   "source": [
    "Review_router=[]"
   ]
  },
  {
   "cell_type": "code",
   "execution_count": 58,
   "metadata": {},
   "outputs": [],
   "source": [
    "urls=driver.find_elements_by_xpath(\"//a[@class='a-link-normal a-text-normal']\")\n",
    "UR=[]\n",
    "for i in urls:\n",
    "    UR.append(i.get_attribute('href'))\n",
    "for url in UR:\n",
    "    driver.get(url) \n",
    "    try:\n",
    "        rate=driver.find_element_by_xpath(\"//span[@id='acrCustomerReviewText']\")\n",
    "        rate.click()\n",
    "        review=driver.find_element_by_xpath(\"//div[@class='a-row a-spacing-small review-data']\")\n",
    "        Review_router.append(review.text)\n",
    "    \n",
    "    except NoSuchElementException as e:\n",
    "        Review_router.append(\"no review\")"
   ]
  },
  {
   "cell_type": "code",
   "execution_count": 930,
   "metadata": {},
   "outputs": [
    {
     "data": {
      "text/plain": [
       "25"
      ]
     },
     "execution_count": 930,
     "metadata": {},
     "output_type": "execute_result"
    }
   ],
   "source": [
    "len(Review_router)"
   ]
  },
  {
   "cell_type": "code",
   "execution_count": 262,
   "metadata": {
    "collapsed": true
   },
   "outputs": [
    {
     "data": {
      "text/plain": [
       "['The product description says that it can accomodate a sim and can act as a WiFi hotspot but the original product requires an ethernet or a usb dongle to be plugged in. Although the product is good but the description is misleading. Moreover, when I tried to return the product, the options allow me to only get a replacement and not a refund. I am a regular shopper at Amazon. This was one of the few times I was disappointed. Please edit your product description.',\n",
       " 'Upgraded to the TP-Link C20 after doing a fair amount of research. The problem we were facing with a conventional single band router was that despite having a 5 Mbps unlimited Internet connection, it was difficult to share the bandwidth if one user was streaming HD video. Practically, Internet use on other devices was coming to a grinding halt. We have a large number of devices connected to the router: a PS4, a Firestick and 2 laptops besides 4 mobiles connected to the router. It is important to understand the difference between 2.4GHz and 5GHz signals. 5GHz handles high speed video streaming very well but has shorter range. 2.4 GHz has better range but is not as fast besides being a congested frequency. Note, not all laptops and mobiles support 5 GHz frequency. Once your C20 is set up, it will show as 2 separate networks, one for each frequency. For best results you should connect the video streaming devices like Smart TV, PS4 and Firestick on 5 GHz and other devices incl. mobiles, laptops and tablets on 2.4 GHz. This configuration will allow efficient sharing of bandwidth. Please note for this to work well, you HD streaming devices (5 GHz connected) should not be too far from the C20 router. The initial setup took a bit of time but once it was done it has been smooth. Just like other routers, an occasional restart keeps it running best. Very good build quality and great value as usual from TP-Link. Hope this helps!\\nRead more',\n",
       " 'Upgraded to the TP-Link C20 after doing a fair amount of research. The problem we were facing with a conventional single band router was that despite having a 5 Mbps unlimited Internet connection, it was difficult to share the bandwidth if one user was streaming HD video. Practically, Internet use on other devices was coming to a grinding halt. We have a large number of devices connected to the router: a PS4, a Firestick and 2 laptops besides 4 mobiles connected to the router. It is important to understand the difference between 2.4GHz and 5GHz signals. 5GHz handles high speed video streaming very well but has shorter range. 2.4 GHz has better range but is not as fast besides being a congested frequency. Note, not all laptops and mobiles support 5 GHz frequency. Once your C20 is set up, it will show as 2 separate networks, one for each frequency. For best results you should connect the video streaming devices like Smart TV, PS4 and Firestick on 5 GHz and other devices incl. mobiles, laptops and tablets on 2.4 GHz. This configuration will allow efficient sharing of bandwidth. Please note for this to work well, you HD streaming devices (5 GHz connected) should not be too far from the C20 router. The initial setup took a bit of time but once it was done it has been smooth. Just like other routers, an occasional restart keeps it running best. Very good build quality and great value as usual from TP-Link. Hope this helps!\\nRead more',\n",
       " 'Guys currently Amazon is shipping ver 2 hardware which is not compatible with cable broadband like Alliance Broadband, Hathway, etc. You will get good download speed. But there will be no upload speed. Ver 1 is for India and other Asian countries. Ver 2 is for Europe and lastly Ver 3 is for sale in US.',\n",
       " \"Package was half sealed by Amazon and on the tp link box. When I tried to set it up via LAN... Username and password for new router is admin for both username and password. But when I tried it.. it was wrong.. and wonderful thing is, it's WiFi SSID was named SHANNU REABEL... How this is possible. Very badly disappointed. I requested for replacement. But worst performance by Amazon\",\n",
       " \"Your browser does not support HTML5 video.\\n First of all, lets keep it simple. We all knw Asus is a trustworthy brand and this especially the ROG line is fcrse what we expect.\\n\\nI won't go on details, check yt for reviews and etc.\\nBut, i can't be more happier then owning this finally. Game Accelerator works well! Game ping really does helps too.. But upto now.. Only Console and PC is supported. The RGB is what standout the most. And btw. In download master is handy for downloading torrents in the router itself without needing pc or mobile.\\n\\n😂.. Happy Customer here.\\nRead more\",\n",
       " \"I received this router last week which is also known as AX50. I was overexcited of getting WiFi 6 router. I overlooked some review on amazon about how it heats up when placed on flat surface and ordered myself as I needed a gigabyte router and thought to invest in the new technology. So far I can summarize some of the issues I came across on this router (I have around 10 Tp-link routers at this point, from cheapest to N to dual band.)\\n\\n1. It does heat up considerably from top and bottom middle portion. If I have to keep this router and no firmware can fix this, you have to install a PC cabinet fan under it to help remove the heat.\\n2. This router doesn't provide Bridging/WDS functionality that all other routers that I have from tp-link has. Very disappointed as this functionality is present even in the least expensive tp-link router.\\n3. The range of 2.4 GHz is no better than cheapest tp-link single band dual antenna that cost around 1000 rs has so disappointed with 2.4GHz WiFi performance.\\n4. 5 GHz band is as usual have short range. The 5 GHz AC can connect to any device with a maximum of 1200 Mbps link speed, even if supported WiFi adapter maximum speed is higher to 1200mbps. If only AX mode is selected, router can connect to AX device to maximum of 2400 Mbps but it will not run AC mode. With mix mode with AC and AX, the maximum connection speed reduces to 1200 Mbps even for AX devices. So, this router is called AX router with 2400 Mbps for 5GHz or a AX router with 1200 Mbps that can connect to AC devices too, so it is misleading on part of TP-link. I shared the same on their forum but no response from their representative.\\n5. Channel numbers for each band seems to change from those set in the admin configuration page after few session so if any bridge router connected to this AX router, it will disconnect.\\n6. Ethernet Gigabit ports is maxing out at around 750 mbps read and 350 mbps write speed. I used CAT 7 cable to test the speed in my internal network. With a gigabit switch, I can get around 900mbps read and 600mbps write. Disappointed here too.\\n7. AC wifi is maxing out at 22 MBps and 45 MBps in the internal network test. This is disappointing result as this results is what I can get with older tp-link C5 router.\\n8. With Intel AX200NGW wifi 6 160 MHz adapter, I could connect to the router with 2400 Gbps connection.\\n9. This router doesn't support tp-link OneMesh functionality which allow to connect other router to form a internet mesh to avoid wifi deadspots in home or office.\\n\\nFor configurations, I have disabled Airtime Fairness and OFDMA. I have enabled MU-MIMO as my laptop Killer's wifi adapter 1550i supports it. Smart connect is disconnected. One ethernet and 2 wlan devices are connected to the router. AX functionality is not yet tested as I still have to install Intel's wifi 6 AX200NGW adapter to my laptop. Router is running on new firmware as mentioned in the details.\\n\\nI did some test to get AX performance of the router. I enabled OFDMA, from 20 MHz till 160 MHz and MU MIMO functions for 5 GHz band and did all test with wifi router 1feet from the laptop equipped with Intel AX200NGW 160MHz wifi adapter. The test was done using Synology Diskstation connected to the router Gigabit port. Diskstation is capable of read and write of over 800 Mbps.\\nChannel number 120 (DFS) Below is the test results:\\n\\n20MHz - Writing 98.33 Mbps reading 166.51 Mbps - laptop achieved connection with link speed of 287 Mbps\\n40MHz - Writing 125 Mbps reading 250 Mbps - laptop achieved connection with link speed of 574 Mbps\\n80MHz - Writing 180 Mbps reading 350 Mbps - laptop achieved connection with link speed of 1200 Mbps\\n160MHz - Writing 165 Mbps reading 370 Mbps - laptop achieved connection with link speed of 1200 Mbps\\n160MHz - Writing 190 Mbps reading 400 Mbps - laptop achieved connection with link speed of 2400 Mbps\\n\\nFurther I tested the USB 3.0 speed by connecting a Lexar Triton USB 3 with maximum speed 170 read and 170 write speed. I got no more than 15 MBps in write and 25 MBps in read when router was connected with 2400 Mbps speed. The result of these transfer is again disappointing .\\n\\nOther star attraction feature of QoS and parental control won't work if you have no tp-link id and internet connection. For this id, you have to give personal information and potential risk of direct connection of this router to some Chinese company which, if they want, they can access all of your devices connected to this router.\\n\\nIn view of my observations since last 2 days and several test as mentioned above, I believe that this router is not worth the money spend.\\nBridging/WDS function removed and AX band and USB 3 actual transfer rate as well as 2.4 GHz range are mediocre at best. Heat generation is another big issue to the longevity of the device.\\nRead more\",\n",
       " 'Upgraded to the TP-Link C20 after doing a fair amount of research. The problem we were facing with a conventional single band router was that despite having a 5 Mbps unlimited Internet connection, it was difficult to share the bandwidth if one user was streaming HD video. Practically, Internet use on other devices was coming to a grinding halt. We have a large number of devices connected to the router: a PS4, a Firestick and 2 laptops besides 4 mobiles connected to the router. It is important to understand the difference between 2.4GHz and 5GHz signals. 5GHz handles high speed video streaming very well but has shorter range. 2.4 GHz has better range but is not as fast besides being a congested frequency. Note, not all laptops and mobiles support 5 GHz frequency. Once your C20 is set up, it will show as 2 separate networks, one for each frequency. For best results you should connect the video streaming devices like Smart TV, PS4 and Firestick on 5 GHz and other devices incl. mobiles, laptops and tablets on 2.4 GHz. This configuration will allow efficient sharing of bandwidth. Please note for this to work well, you HD streaming devices (5 GHz connected) should not be too far from the C20 router. The initial setup took a bit of time but once it was done it has been smooth. Just like other routers, an occasional restart keeps it running best. Very good build quality and great value as usual from TP-Link. Hope this helps!\\nRead more',\n",
       " 'I had a huge amount of trust on MI. But after using the router for 2 days I found it is dropping the connection frequently. And the range is very bad . Even in 5 feet distance it is not showing full signal.',\n",
       " \"The router description saying it can support up-to 300 mbps but it's not supporting even 60 mbps speed.\",\n",
       " \"So this is my first router.. easy to install.. configuration is easy too.. their are many pros & cons too.\\nPROS\\n1) Affordable/ effective price\\n2) easy to install and configure\\n3) wide signal coverage (due to dual antina)\\nCONS\\n1) Many advance settings are not available-\\nBut for normal user it doesn't matter\\n2) After sale service - worst costomer support.\\nFinal Words - Many good alternatives available. Is you are tight on bugdet and normal user (not too much in networking) go for it.\\nGive A Thums Up IF this review seems helpful\\nThanks :).\",\n",
       " 'This router is not a good option if you are on Act broadband (or any other PPPoE based connections). And it cost me quite an amount to realize this.\\n\\nI was never able to get the internet connection to work using PPPoE. My broadband password length is 6 characters and every time I open the settings page the password is defaulted to 8 characters (********). I had to set it in DHCP Client mode and then login on ACT portal every time I power on the router.\\n\\nAlso, the DHCP Static IP Configuration setting (DHCP Reservation) is not very good as it does not allow to set any IP that we want as it is restricted to the IP pool range and it does not allow us to select the device but instead enter the IP and MAC manually.\\n\\nI had an older 150 mbps D-Link DIR-615 router that I bought in the US 10 years ago which I wanted to replace with this one as the wifi antennas were damaged and that device is working far better than this new one.\\n\\nAnd there is no return policy on this item except replacement so do not buy this router if you want to connect using PPPoE.\\nThe TP-Link router is a better alternative than this and it costs less too.\\nRead more',\n",
       " \"gigabit ac1900 at the price of a ac1200 if you dont need 4 lan ports, string of indicative lights nor a usb port for dongles.\\n\\nDidnt see many reviews out there, so writing my personal experience after usage of 2 days.\\n\\nWanted a replacement for my existing 150mbps router. Was perfectly happy with it, but had used it for over 11 years now. Secondly with work from home setting, I was facing frame drops in skype / zoom meetings.\\n\\nWhat I run on wifi is 2 smart tv's includes 1 fire stick, 6 smartphones and 2 laptops. All worked flawlessly except for video calls on the laptop. No gaming anywhere.\\n\\nI have a 50 mbps guaranteed line. On testing, I get 49 to 80 mbps download and the same for uploads. My need was a gigabit router seeing that jio was launching 100 mbps + broadband connections. So cheaper ac1200 ones were out. Though I had shortlisted dlink 1200 model @ 1250 rs. It was not gigabit, but at that price was a steal. The other cheaper option was 2000 rs Mercusys gigabit model.\\n\\nThinking the lockdown will end, dragged my feet in purchasing a new router as the current one had no real complaints. Then this model was launched @ 3300 rs. It was the right upgrade for futureproofing the purchase. I remembered paying 200 bucks more to purchase a n router. It served me well for 11 years.\\n\\nEven after carting it, i dilly dallied till the price dropped to 2800. Purchased it.\\n\\nDelivered in 1 day. Sanitised and installed immediately. Salient points\\n\\nA) fairly small sized with oversized antennae. Looks like a giant spider invaded your room.\\n\\nB) easy install. My network was mac locked. Entered the mac address of my earlier router. Worked like a charm. Called the operator and asked him to re-register with the new machine id. 2 minutes and done.\\n\\nC) 2 gigabit ports. Checked with 2 laptops. They are geniune gigabit ports. Covered them with insulation tape to avoid dust to get in.\\n\\nD) It is not wall mountable. No nail hooks. Currently hanging with the ethernet wan cable hooked to a nail. When lockdown ends, will install onto a wall stand.\\n\\nE) it has smart networking. One ssid with 2 different bands combined. The target device seamlessly switches between the stronger signal. No more manual selection.\\n\\nF) one of my laptop is not a dual band reciever. So I have to run the 2.4ghz network. At the start i had enabled only the 5ghz network and then dual with smart networking. Laptop didnt pick up the signal. Then i disabled the smart network. Laptop picked up the 2.4gh network. Registered, connected and then switched on the smart network. Works flawlessly now and connects immediately.\\n\\nG) laptop connects at 150 mbps - n network, 40 mhz band. Phones connect at 433 mbps. Havent seen 600 mbps nor 1200 mbps ac connection yet on any device. If there is a way to check, please do inform. Till that time, i take the company's word for it.\\n\\nH) Network strength is good with 5ghz network dropping to 2.4ghz at the corner of the house automatically and seamlessly. I use the signal power at its lowest strength. Signal easily covers the flat of 2200 sq feet easily. At full signal strength 5 ghz distance increases by one additional wall. 2.4 ghz is strong throughout and reaches all corners at lowest power setting. Router is at one corner of the flat and not at the centre as it ideally should be.\\n\\nI) there is no app. Browser control is the only way to control.\\n\\nJ) its switched on for over 38 hours now. Slightly warm but no drops yet. All devices running smoothly. My earlier router was always on but it never got warm. This one is slightly warm to touch. Maybe after i remove the plastic, it may help. But it is only warm, not hot.\\n\\nK) no telltale lights. Just one very light led. Dosnt say much or indicate anything except that its on and connected. Till its connected, it flashes red then it has been green throughout.\\n\\nL) if you want to change the channel and its width, you have to disable the smart function and then choose the wireless option. After that, then enable the smart function. Thats it.\\n\\nPackage has the router, charger 12volt 1 amp and an ethernet cable. Good packaging.\\n\\nSummarising - gigabit ac1900 at the price of a 1200 if you dont need 4 lan ports, string of indicative lights nor a usb port for dongles.\\n\\nI will update if i find any issues or have any important feature to update.\\n\\nFeel free to contact for any clarification or additional details.\\n\\nEdit - So far so good. Net line upgraded to 100 mbps guaranteed. This unit handles it like a charm. Updated the firmware. This unit dosnt have any custom firmware yet. Waiting for one.\\n\\nSet up a server to test its efficiency. Worked as a charm.\\n\\nIf you are using a firestick and the connection drops frequently, change the dhcp pool in settings from xxx. 100 to xxx.105 onwards. Dont know why it happens, but the solution was given to me from a trusted source. Works like a charm. Cheers.\\n\\nEdit - had updated the firmware. I dont know what happened but the firestick kept dropping the line time and again. I rolled back the uodate, and it works like a charm. No problems faced. In all the time of ownership, router has been switched off 4 times and rebooted about 6 times.\\nRead more\",\n",
       " 'Guys currently Amazon is shipping ver 2 hardware which is not compatible with cable broadband like Alliance Broadband, Hathway, etc. You will get good download speed. But there will be no upload speed. Ver 1 is for India and other Asian countries. Ver 2 is for Europe and lastly Ver 3 is for sale in US.',\n",
       " \"Package was half sealed by Amazon and on the tp link box. When I tried to set it up via LAN... Username and password for new router is admin for both username and password. But when I tried it.. it was wrong.. and wonderful thing is, it's WiFi SSID was named SHANNU REABEL... How this is possible. Very badly disappointed. I requested for replacement. But worst performance by Amazon\",\n",
       " 'no review',\n",
       " \"I bought it two days back. It is working properly. My only issue is with the pricing. It costs nearly 2k when there are local UPS which can run computers for that price(it won't run a router as the power requirement is too low and annoying sound is unbearable). A 6000 Mah battery and nothing much is there in the product, I agree there is no need of anything else. 2k for such a product cannot be justified. The only reason why I bought this product is because I couldn't find any other reliable solution for power problem. If this thing breaks within an year, it will be a huge loss(6 months warranty is provided by Resonate).\",\n",
       " 'I am writing this review on the item that I already got replaced thinking the previous one was faulty. Today when I received the replaced one I understand that the earlier product was not faulty rather the product line itself is poor.\\nLet me explain - It has dual band and the 2.4 ghz band should be used either for clients that don;t support 5ghz band or the client is too far that 5 ghz does not have enough signal strength. For a flat spanning 30 ft, if the router is kept in one of the edge rooms, it is evident that from the room on the other end it is difficult to get 5ghz, so need to fallback to 2.4 ghz band. The router does auto switching based on signal strength if Smart switching is enabled. Now the problem is the 2.4 ghz band has some serious issue handling data volume. I just copied a video file from my desktop (wired connection) to my laptop on 2.4 band, and within a minute it stopped transmission, ping go so high that Request timeout started coming, and the situation never gets better unless I pause the copy. The speed was merely below 2 MBps, meaning ~16 mbps whereas it claims 300 mbps. 16 mbps is not the problem, I can live with that but the problem is under this load it stops functioning at all. This situation only happens with 2.4 ghz radio. It looks like it is not able to handle any load beyond 5 mbps. The same issue happens whenever I play any youtube video on 2k or 4k resolution. It starts with ~10 mbps, but very soon it drops to 400 kbps. You can understand that such unstable connection is of no use especially where my 4k tv can\\'t get the 5ghz in range and has to rely on the 2.4 ghz. On the contrary when I ran the same test with my old dlink 605L router (only 2.4 ghz band) it could consistently give ~25-30 mbps without a single ping loss. Both the router are placed very close so I won\\'t say that the dlink gets location advantage here.\\nIt looks like this router fails to deliver basic functionality in pursuit to provide advanced features like band switching MU-MIMO etc. The radio is not faulty because I get ~-40-50 db strength on the radio. It seems the firmware is not optimized and the processor is of low grade that can\\'t send the data in a sustained manner.\\nI bought it to upgrade from my old router to new so that data handling and transmission rates improved but I end up using two router with total of 6 antennas with messy wires everywhere.\\nI don\\'t want to keep the router because it is not solving my problem, but Amazon is not allowing me to raise a refund request. So its a earnest request to Amazon to kindly refund me so that I can bought another dlink router and run it as a range extender to resolve my problem.\\nAnother warning to the buyers - its boot time is ~3-4 minutes that is huge as compared to my dlink router (< 15 secs). So make sure to use a ups otherwise frequent power cut would be pain is the ***.\\nAnother caution about TPlink call center in India - I called them explaining the fact they said to manually allocate the router on Ch-11. And said \"WAIT FOR SOME TIME IT WILL IMPROVE\". As if it has got some machine learning or AI enabled.\\nI hope buyers get a good idea about this product. Again as long as you are on 5 ghz you are happy. Don\\'t let any device to use 2.4 radio then you are frustrated for life.\\n\\nThanks,\\nDebojit\\nThanks,\\nDebojit\\nRead more',\n",
       " 'This product sucks. The 5ghz only works fine but 2.5ghz never worked good the speed of it keeps fluctuating. my 40mbps plan was reduced to 20 and then if i go a bit distance then it is reduces to 8mbps. i would say rather buy a single band branded one for this price. You might have read many reviews but believe me dont read any other reviews i am giving you the best. All the beam forming and everything is just bogus only marketing strategy they never work.',\n",
       " \"Your browser does not support HTML5 video.\\n The wifi signals are super strong on both channels, i highly recommend this router. Loving it. Thanks upvSales\\n\\nUpdate after 3 months\\n\\nThis has started to hang with heavy usage.\\nThe system light on router stops blinking and the only solution is to restart the router.\\n\\nThis happens daily several times under heavy downloading.\\n\\nI get 98mbps to my LAN connected laptop, but this frequent hang issue is very annoying.\\n\\nApart from this hang issue, no other problems.\\n\\nYou can look at the video when it hangs, the system light goes out of sync, can't even log into the router.\\nNormally the system light blinks at normal intervals.\\nNo service center's in my area also. Helpless\\nRead more\",\n",
       " \"Don't purchase this because it very hard to configure there is no customer support. You tube video tutorials outdated .You have do R&D to configure it if you're lucky then you use this router\\n\\nIf you're able to configure then this product will work great\",\n",
       " 'no review',\n",
       " 'I got this for 799 and I tested it almost 5 times within a week and it always gave backup of 4-5 hours depending on how heavy usage you are doing on router.\\n\\nSo its good. It comes with extra cable for DC jack adjustment. The ups contains 3 litium ion battries of 3.7v each total making up 2600mAH. My router has 12v 1amp rating.',\n",
       " \"This is a totally bogus thing with bogus claims. Firstly it's claims are ludicrous. The explanation on how it works in one of the product images here on amazon are laughable. Just to prove this point I searched MIT tech review and unsurprisingly there is no such article where they reviewed such a product. Web search on Singapore council's attestation for the product too came out with no results. They say patented technology but cited no patent number -anybody's guess why.\\n\\nThere is no such thing as toxicity to EM radiation at the feeble power levels that electronic devices emit. Many credible studies worldwide have come out negative on the health effects due to this radiation. People should get wise enough to drown bogus companies like envirochip who intend to make quick money cashing in on technological ignorance of general public.\",\n",
       " \"I don't think there was issue with the hardware, after updating the firmware the device start to misbehave WAN port stops working.\"]"
      ]
     },
     "execution_count": 262,
     "metadata": {},
     "output_type": "execute_result"
    }
   ],
   "source": [
    "Review_router"
   ]
  },
  {
   "cell_type": "code",
   "execution_count": 1016,
   "metadata": {},
   "outputs": [],
   "source": [
    "Rating_router=[3,4,4,3,1,4,2,4,2,2,3,2,3,3,1,3,3,1,1,2,1,3,4,2,2]"
   ]
  },
  {
   "cell_type": "code",
   "execution_count": 929,
   "metadata": {},
   "outputs": [
    {
     "data": {
      "text/plain": [
       "25"
      ]
     },
     "execution_count": 929,
     "metadata": {},
     "output_type": "execute_result"
    }
   ],
   "source": [
    "len(Rating_router)"
   ]
  },
  {
   "cell_type": "code",
   "execution_count": 61,
   "metadata": {},
   "outputs": [],
   "source": [
    "Review_router_2=[]"
   ]
  },
  {
   "cell_type": "code",
   "execution_count": 62,
   "metadata": {},
   "outputs": [],
   "source": [
    "urls=driver.find_elements_by_xpath(\"//a[@class='a-link-normal a-text-normal']\")\n",
    "UR=[]\n",
    "for i in urls:\n",
    "    UR.append(i.get_attribute('href'))\n",
    "for url in UR:\n",
    "    driver.get(url) \n",
    "    try:\n",
    "        rate=driver.find_element_by_xpath(\"//span[@id='acrCustomerReviewText']\")\n",
    "        rate.click()\n",
    "        review=driver.find_element_by_xpath(\"//div[@class='a-row a-spacing-small review-data']\")\n",
    "        Review_router_2.append(review.text)\n",
    "    \n",
    "    except NoSuchElementException as e:\n",
    "        Review_router_2.append(\"no review\")"
   ]
  },
  {
   "cell_type": "code",
   "execution_count": 300,
   "metadata": {},
   "outputs": [],
   "source": [
    "Review_router_2=Review_router_2[0:24]"
   ]
  },
  {
   "cell_type": "code",
   "execution_count": 928,
   "metadata": {},
   "outputs": [
    {
     "data": {
      "text/plain": [
       "24"
      ]
     },
     "execution_count": 928,
     "metadata": {},
     "output_type": "execute_result"
    }
   ],
   "source": [
    "len(Review_router_2)"
   ]
  },
  {
   "cell_type": "code",
   "execution_count": 1017,
   "metadata": {},
   "outputs": [],
   "source": [
    "Rating_router_2=[1,1,3,3,2,3,3,3,3,4,4,3,3,3,2,3,3,1,3,3,1,3,1,1]"
   ]
  },
  {
   "cell_type": "code",
   "execution_count": 927,
   "metadata": {},
   "outputs": [
    {
     "data": {
      "text/plain": [
       "24"
      ]
     },
     "execution_count": 927,
     "metadata": {},
     "output_type": "execute_result"
    }
   ],
   "source": [
    "len(Rating_router_2)"
   ]
  },
  {
   "cell_type": "code",
   "execution_count": 307,
   "metadata": {},
   "outputs": [],
   "source": [
    "Television_Review=[]"
   ]
  },
  {
   "cell_type": "code",
   "execution_count": 308,
   "metadata": {},
   "outputs": [],
   "source": [
    "urls=driver.find_elements_by_xpath(\"//a[@class='a-link-normal a-text-normal']\")\n",
    "UR=[]\n",
    "for i in urls:\n",
    "    UR.append(i.get_attribute('href'))\n",
    "for url in UR:\n",
    "    driver.get(url) \n",
    "    try:\n",
    "        rate=driver.find_element_by_xpath(\"//span[@id='acrCustomerReviewText']\")\n",
    "        rate.click()\n",
    "        review=driver.find_element_by_xpath(\"//div[@class='a-row a-spacing-small review-data']\")\n",
    "        Television_Review.append(review.text)\n",
    "    \n",
    "    except NoSuchElementException as e:\n",
    "        Television_Review.append(\"no review\")"
   ]
  },
  {
   "cell_type": "code",
   "execution_count": 868,
   "metadata": {
    "collapsed": true
   },
   "outputs": [
    {
     "data": {
      "text/plain": [
       "['AFTER 2 YEARS STILL PERFORMING BEST....LATEST REVIEW UPDATED TODAY...on 04-09-2020..............I bought this tv during amazon sale for Rs4791..Its mind blwing purchase for this price.Picture quality and sound quality good for the price u pay.All ports are working fine..Usb ports, hdmi port, vga port..I palyed full hd videos by pendrive and all worked fine without any prblem...So guys go for it ...and please call KEVIN customer care when u receive this tv for installation....For better picture quality please do your picture settings from remote by selecting Brightness-40, contrast-38, saturation-20, which left make it 30',\n",
       " 'Remote is not working. Requires replacement',\n",
       " 'One of the worst product. If you have 5000 inr to burn just literally theow them in burning fire but never purchase it. I got it and the panel was working fine I was unable to connect USB ,AV , HDMI none of them was working more over there support is extreamly bad no service they use to provide it something went wrong then you need to throw the product. Please before buying think 100 time worst product. If you are thinking of bying this then you might thik of throwing your money into gutter. Please dont buy.',\n",
       " \"due to COVID - 19 my office instructed to WFH for few weeks and I need an office like setup at home for my busy workday. Bought couple of these monitors and an Amazon Basics dual monitor stand for mounting these monitors. The whole setup compliments my office desk.\\n\\nPros:\\n- Matty finish (good for programming / development use)\\n- 75Hz refresh rate\\n- LED backlight (night time you can some light bleeding, but during day time / under proper light no difference)\\n- VA Panel (no details about VA / IPS panel either in the documentation or Samsung website)\\n- Colour reproduction is awesome\\n- Mount option available\\n- Frameless Design (looks great)\\n\\nCons:\\n- No Audio out port (as mentioned by others). You can't use it for other use cases (like tv)\\n- Limited connectivity options (no DVI / DisplayLink port), only HDMI or VGA\\n- VGA resolution is not good when on MAC (I tested Mac Book Pro only, don't know about others). HDMI is recommended\\n\\nNeed to check the durability.\\nRead more\",\n",
       " 'no review',\n",
       " \"Your browser does not support HTML5 video.\\n Just got the tv delivered today. Yet to get it wall mounted, but tv setup is easy. Although, you might need an air mouse to type since their remote doesn't have alphabets. Also, you have to get the batteries for the remote; regular AA batteries. You can also download the EShare app and mirror your smartphone to the TV. Although, it is quite irritating and confusing to type or gesture. The picture quality is definitely not like Sony Bravia or anything, so don't expect to be wowed. It's somewhat grainy, but it isn't that bad either. Audio is clear, not crisp. I tried calling their toll free number for installation, but it seems to be out of order. So, I've booked an UrbanClap professional to get it wall-mounted asap. Installation charge is 500 rs. YouTube, Facebook, Amazon and Netflix apps are pre-installed. I probably will have to download Hotstar and Amazon Prime apps from the play store. In YouTube, there's no option of signing in. Whereas, in Netflix, the subtitles are not displaying, no matter what I do. However, at this rate, it's still a steal. I recommend this for people (bachelors) living in single rooms like me.\\nRead more\",\n",
       " \"I'm a full time Developer and I needed a bigger screen because staring at small texts all day long on a 15inch screen is not good enough and it strains my eyes.\\nEarlier i was considering 24inch of the same model but the price difference was of 4k INR and i did not find it worth but still i had doubts in my mind that whether i made a mistake or what. But once i got this product and i set it up, I'm telling you guyz, it is just awesome and for programmers I don't think that 4k is worth. That 2 inch difference is not something that you could notice. Infact, after using this 22 inch monitor, i think 1080 is the best resolution, and going 24 or 27 is overkill and you could see the pixels in the screen. So, if you are buying a FHD monitor, 22 inch is the best size you should go for, 24 and 27 inch is best for 1440 resolution.\\nNot only for programmers, if you a media consumer then this is a great choice at this price.\\nYou should go for this product.\",\n",
       " \"due to COVID - 19 my office instructed to WFH for few weeks and I need an office like setup at home for my busy workday. Bought couple of these monitors and an Amazon Basics dual monitor stand for mounting these monitors. The whole setup compliments my office desk.\\n\\nPros:\\n- Matty finish (good for programming / development use)\\n- 75Hz refresh rate\\n- LED backlight (night time you can some light bleeding, but during day time / under proper light no difference)\\n- VA Panel (no details about VA / IPS panel either in the documentation or Samsung website)\\n- Colour reproduction is awesome\\n- Mount option available\\n- Frameless Design (looks great)\\n\\nCons:\\n- No Audio out port (as mentioned by others). You can't use it for other use cases (like tv)\\n- Limited connectivity options (no DVI / DisplayLink port), only HDMI or VGA\\n- VGA resolution is not good when on MAC (I tested Mac Book Pro only, don't know about others). HDMI is recommended\\n\\nNeed to check the durability.\\nRead more\",\n",
       " 'no review',\n",
       " 'This is the worst product i have ever received through amazon..e-airtec is worst company with its worst product..I recieved a TV with speaker not working..I recommend other people not to buy this local brand..and I want my money back..please refund my money as soon as possible..',\n",
       " 'Picture is always Reddish color\\nNot acceptable.',\n",
       " 'Low quality product .. finishing lower level',\n",
       " 'no review',\n",
       " 'no review',\n",
       " 'no review',\n",
       " 'no review',\n",
       " 'Monitor is stunning and has excellent picture quality']"
      ]
     },
     "execution_count": 868,
     "metadata": {},
     "output_type": "execute_result"
    }
   ],
   "source": [
    "Television_Review"
   ]
  },
  {
   "cell_type": "code",
   "execution_count": 926,
   "metadata": {},
   "outputs": [
    {
     "data": {
      "text/plain": [
       "17"
      ]
     },
     "execution_count": 926,
     "metadata": {},
     "output_type": "execute_result"
    }
   ],
   "source": [
    "len(Television_Review)"
   ]
  },
  {
   "cell_type": "code",
   "execution_count": 1018,
   "metadata": {},
   "outputs": [],
   "source": [
    "Rating_television=[5,2,1,3,3,3,4,3,3,1,2,1,3,3,3,3,4,]"
   ]
  },
  {
   "cell_type": "code",
   "execution_count": 925,
   "metadata": {},
   "outputs": [
    {
     "data": {
      "text/plain": [
       "17"
      ]
     },
     "execution_count": 925,
     "metadata": {},
     "output_type": "execute_result"
    }
   ],
   "source": [
    "len(Rating_television)"
   ]
  },
  {
   "cell_type": "code",
   "execution_count": 312,
   "metadata": {},
   "outputs": [],
   "source": [
    "Pendrive_Review=[]"
   ]
  },
  {
   "cell_type": "code",
   "execution_count": 313,
   "metadata": {},
   "outputs": [],
   "source": [
    "urls=driver.find_elements_by_xpath(\"//a[@class='a-link-normal a-text-normal']\")\n",
    "UR=[]\n",
    "for i in urls:\n",
    "    UR.append(i.get_attribute('href'))\n",
    "for url in UR:\n",
    "    driver.get(url) \n",
    "    try:\n",
    "        rate=driver.find_element_by_xpath(\"//span[@id='acrCustomerReviewText']\")\n",
    "        rate.click()\n",
    "        review=driver.find_element_by_xpath(\"//div[@class='a-row a-spacing-small review-data']\")\n",
    "        Pendrive_Review.append(review.text)\n",
    "    \n",
    "    except NoSuchElementException as e:\n",
    "        Pendrive_Review.append(\"no review\")"
   ]
  },
  {
   "cell_type": "code",
   "execution_count": 415,
   "metadata": {},
   "outputs": [
    {
     "data": {
      "text/plain": [
       "'Firstly surprise to see this miniature at this price that is Rs. 649 bought it two days ago and it arrived today. I started testing this pendrive and i was totally shocked regarding its read and write speed.\\nresults -\\n1. copying 1.8gb file from laptop to pendrive speed = 40mb/s average\\n2. copying 1.8gb file from pendrive to laptop speed = 290mb/s average\\n3. cut-paste 2.8 gb file from laptop to pendrive speed = 43mb/s average\\n4. cut paste 2.8 gb file from pendrive to laptop speed = 80mb/s average\\np.s (All these results are based while using pendrive in 3.0 usb slot in laptop.)\\nAlso you have to put your finger for support behind the handle to push the p.d into the usb slot otherwise it will slip backwards.'"
      ]
     },
     "execution_count": 415,
     "metadata": {},
     "output_type": "execute_result"
    }
   ],
   "source": [
    "Pendrive_Review"
   ]
  },
  {
   "cell_type": "code",
   "execution_count": 924,
   "metadata": {},
   "outputs": [
    {
     "data": {
      "text/plain": [
       "25"
      ]
     },
     "execution_count": 924,
     "metadata": {},
     "output_type": "execute_result"
    }
   ],
   "source": [
    "len(Pendrive_Review)"
   ]
  },
  {
   "cell_type": "code",
   "execution_count": 1019,
   "metadata": {},
   "outputs": [],
   "source": [
    "Rating_pendrive=[3,0,1,1,2,0,1,4,3,2,1,3,1,3,3,3,3,1,0,2,4,1,4,4,3]"
   ]
  },
  {
   "cell_type": "code",
   "execution_count": 923,
   "metadata": {},
   "outputs": [
    {
     "data": {
      "text/plain": [
       "25"
      ]
     },
     "execution_count": 923,
     "metadata": {},
     "output_type": "execute_result"
    }
   ],
   "source": [
    "len(Rating_pendrive)"
   ]
  },
  {
   "cell_type": "code",
   "execution_count": 315,
   "metadata": {},
   "outputs": [],
   "source": [
    "UPS_review=[]"
   ]
  },
  {
   "cell_type": "code",
   "execution_count": 316,
   "metadata": {},
   "outputs": [],
   "source": [
    "urls=driver.find_elements_by_xpath(\"//a[@class='a-link-normal a-text-normal']\")\n",
    "UR=[]\n",
    "for i in urls:\n",
    "    UR.append(i.get_attribute('href'))\n",
    "for url in UR:\n",
    "    driver.get(url) \n",
    "    try:\n",
    "        rate=driver.find_element_by_xpath(\"//span[@id='acrCustomerReviewText']\")\n",
    "        rate.click()\n",
    "        review=driver.find_element_by_xpath(\"//div[@class='a-row a-spacing-small review-data']\")\n",
    "        UPS_review.append(review.text)\n",
    "    \n",
    "    except NoSuchElementException as e:\n",
    "        UPS_review.append(\"no review\")"
   ]
  },
  {
   "cell_type": "code",
   "execution_count": 449,
   "metadata": {
    "collapsed": true
   },
   "outputs": [
    {
     "data": {
      "text/plain": [
       "[\"I had been searching for a product like this (for my broadband router) for some time. Have seen quite a few on Amazon and even eBay and Alibaba. But not quite satisfied as they looked rudimentary and performance seemed ho-hum from reviews.\\nAnd then thanks to similar products scroll bar at the bottom a page, i chanced upon this. I thought it was an European company. Turns out it is Bangalore-based.\\nSo the review after 3 weeks of using:\\nThis UPS is better than international ones or even the top ones that come up while searching for 'small UPS for router', etc. And that is not something you can say of IT products made in India.\\nThe company should be proud of their work. Beautifully made and minimalistic. Simple plug and play. They contacted me wrt. my router as soon as i placed the order so they can send additional cables if needed. Haven't had ANYONE do that all these years i have been buying from Amazon. Astonishing customer service. Kudos to the company.\\nOn top of that i got it in Delhi NCR within 2 days of ordering - and the delivery time given was one week.\\n\\nUnfortunately, the Cuzor does not come up while searching for small UPS or Router UPS on Amazon. I hope it does. This product needs to be on top of all small UPS searches. Am so happy with it - in the 3 weeks i have been using it it has been working beautifully. So happy that i decided to write my first review just to say Thank You to the makers and as a thumbs-up-to-buy to all of you who are hell-bent on getting the best for yourselves.\\nRead more\",\n",
       " \"I had been searching for a product like this (for my broadband router) for some time. Have seen quite a few on Amazon and even eBay and Alibaba. But not quite satisfied as they looked rudimentary and performance seemed ho-hum from reviews.\\nAnd then thanks to similar products scroll bar at the bottom a page, i chanced upon this. I thought it was an European company. Turns out it is Bangalore-based.\\nSo the review after 3 weeks of using:\\nThis UPS is better than international ones or even the top ones that come up while searching for 'small UPS for router', etc. And that is not something you can say of IT products made in India.\\nThe company should be proud of their work. Beautifully made and minimalistic. Simple plug and play. They contacted me wrt. my router as soon as i placed the order so they can send additional cables if needed. Haven't had ANYONE do that all these years i have been buying from Amazon. Astonishing customer service. Kudos to the company.\\nOn top of that i got it in Delhi NCR within 2 days of ordering - and the delivery time given was one week.\\n\\nUnfortunately, the Cuzor does not come up while searching for small UPS or Router UPS on Amazon. I hope it does. This product needs to be on top of all small UPS searches. Am so happy with it - in the 3 weeks i have been using it it has been working beautifully. So happy that i decided to write my first review just to say Thank You to the makers and as a thumbs-up-to-buy to all of you who are hell-bent on getting the best for yourselves.\\nRead more\",\n",
       " \"Well this comment or review is strictly for Amazon. You people have no sense on quality checks. This UPS barely stands for few mins when only a router is connected to it.\\n\\nToday, this morning i switched off the supply at 8.09 in the morning and it got switched off (backup) at 8. 13 am.\\n\\nI have a router (Linksys dual band router) connected to it and it could not even run it for 15 mins. The company claims that it may provide you a back of least 20 mins but i was expecting it to give a back up time of 40 mins when only a router is connected to it.\\n\\nAmazon: you sell out the faulty product to masses and then give out a solution that kindly connect the OEM. You should understand one fact that someone places an order at Amazon cox he doesn't prefer to go to the market and purchase it.\\n\\nAnd even after purchasing from you. If one has to go to the OEM, then you are of no use.\\n\\nAPC as a company, you did pathetic when it comes to product. A intex UPS worth Rs. 1200 performs way much better than your UPS.\\n\\nLearn, how to manufacture quality products.\\n\\nBoth the OEM and supplier are pathetic. I usually don't review a product or service. But this i couldn't resist myself.\\nRead more\",\n",
       " 'Had ordered this UPS as a power backup for my airtel wifi router. When disconnected from power UPS works just for 5 mins irrespective of load. (checked it by removing all load to UPS as well)\\nThere is still stored power in UPS as if we switch on UPS again it comes for 5 more mins. So thought it is a faulty device and asked for replacement (return not available for the product but Amazon provided free replacement). But the replacement device as well works the same way. (turns off after 5mins irrespective of load)\\nReplacement items packaging was bad had resulted in external plastic of UPS broken.\\n\\nThey claim for 10 to 15 mins for a PC + Monitor but UPS switches off in 5 mins. Not worth the money',\n",
       " 'I wanted to purchase UPS for my Wifi router, though there\\'s a generator power backup for our flat, to avoid router reboot and loss of Wifi during the power cycle. I\\'m surprised that all the UPS listed on Amazon have a very bad rating.\\nI went through all the reviews and the common complaint is this:\\n\"I bought it for my Wifi router, battery backup is very bad, it comes only 5 minutes and UPS stops.\"\\nPlease note ─ It\\'s what UPS is purposefully doing for a Wifi router, it\\'s not battery backup fault.\\nThat\\'s because Wifi router (or webcams and other low current devices) takes very little input, so probably UPS is treating the condition as \"Discharging with loss of power\" and shutting it off within 5 minutes.\\n\\nI did the following test with this Zebronics UPS:\\n(1) Connected VU TV directly with mains off. It didn\\'t shut off even after 15 minutes.\\n(2) Connected only Wifi router with mains off. It shut down after 5 minutes.\\n(3) Then, immediately I connected a hairdryer (a high power drawing device). It runs successfully for 10+ minutes.\\n\\nSo, it\\'s not the fault of battery or the UPS, it\\'s our expectation that it should work for Wifi routers alone.\\nFor me, 5 minutes is OK.\\nBut for folks expecting more than that, one workaround is to connect a higher power drawing device like Monitor or TV or Laptop charger along with Wifi router. It shouldn\\'t shut down.\\n\\nI hope this review is useful for future purchasers.\\nRead more',\n",
       " \"Well this comment or review is strictly for Amazon. You people have no sense on quality checks. This UPS barely stands for few mins when only a router is connected to it.\\n\\nToday, this morning i switched off the supply at 8.09 in the morning and it got switched off (backup) at 8. 13 am.\\n\\nI have a router (Linksys dual band router) connected to it and it could not even run it for 15 mins. The company claims that it may provide you a back of least 20 mins but i was expecting it to give a back up time of 40 mins when only a router is connected to it.\\n\\nAmazon: you sell out the faulty product to masses and then give out a solution that kindly connect the OEM. You should understand one fact that someone places an order at Amazon cox he doesn't prefer to go to the market and purchase it.\\n\\nAnd even after purchasing from you. If one has to go to the OEM, then you are of no use.\\n\\nAPC as a company, you did pathetic when it comes to product. A intex UPS worth Rs. 1200 performs way much better than your UPS.\\n\\nLearn, how to manufacture quality products.\\n\\nBoth the OEM and supplier are pathetic. I usually don't review a product or service. But this i couldn't resist myself.\\nRead more\",\n",
       " \"I bought it two days back. It is working properly. My only issue is with the pricing. It costs nearly 2k when there are local UPS which can run computers for that price(it won't run a router as the power requirement is too low and annoying sound is unbearable). A 6000 Mah battery and nothing much is there in the product, I agree there is no need of anything else. 2k for such a product cannot be justified. The only reason why I bought this product is because I couldn't find any other reliable solution for power problem. If this thing breaks within an year, it will be a huge loss(6 months warranty is provided by Resonate).\",\n",
       " \"Your browser does not support HTML5 video.\\n I received the product yesterday and its not functioning properly. When i plug it in to charge its UPS all the lights start flashing together and the fan at the back rotates for 1 centimeter then stops. No matter what setting you do or which button you push the lights won't stop blinking unless you cut the main supply. it did not even come in its original box. And i cannot replace it now because it contains flamable components and Amazon does not take returns or exchanges for these products.\",\n",
       " \"Inverter is ok , we are using it for working from Home with multiple devices running parallelly..As advertised one mobile application can show the status of the inverter and you can do some control using the app. I have installed the inverter with 200AH tubular battery.\\n\\nBut if you install this inverter you will not be able to use any electrical devices such as Iorn Box, Water heater kettle, Microwave Oven etc in normal plug. If you want to use this inverter, then plan to do wiring changes in all your rooms to have POWER PLUGS.\\n\\nAlso VGuard support engineers has no clue on the functionality of this product. Three engineers visited the site and they couldn't give a convincing answer to the problem listed above..\",\n",
       " 'I received this product on 27th January and installed it on 29th January and on 7th February I got to know that the product is not compatible with any battery and is not loading electricity and is not working. As the return window is closed I need your help to either replace or return the product as soon as possible. I request you to contact me asap for an efficient solution.\\nThanks',\n",
       " 'Awesome product ! Writing the review after using it more than 1 year. Battery is superb ! I took it in bangalore and later transfered to kolkata ! The product is so nicely build that there were no spill overs ! Highly recommended!',\n",
       " \"I am using this product as UPS for my 12v/2A WiFi router. Tested the backup for 3hrs and still it was running good. Connecting wires fit well. The earlier 2 brands that I bought didn't work for me but this product is as expected and working great. Happy that this is Indian make.\",\n",
       " \"I had been searching for a product like this (for my broadband router) for some time. Have seen quite a few on Amazon and even eBay and Alibaba. But not quite satisfied as they looked rudimentary and performance seemed ho-hum from reviews.\\nAnd then thanks to similar products scroll bar at the bottom a page, i chanced upon this. I thought it was an European company. Turns out it is Bangalore-based.\\nSo the review after 3 weeks of using:\\nThis UPS is better than international ones or even the top ones that come up while searching for 'small UPS for router', etc. And that is not something you can say of IT products made in India.\\nThe company should be proud of their work. Beautifully made and minimalistic. Simple plug and play. They contacted me wrt. my router as soon as i placed the order so they can send additional cables if needed. Haven't had ANYONE do that all these years i have been buying from Amazon. Astonishing customer service. Kudos to the company.\\nOn top of that i got it in Delhi NCR within 2 days of ordering - and the delivery time given was one week.\\n\\nUnfortunately, the Cuzor does not come up while searching for small UPS or Router UPS on Amazon. I hope it does. This product needs to be on top of all small UPS searches. Am so happy with it - in the 3 weeks i have been using it it has been working beautifully. So happy that i decided to write my first review just to say Thank You to the makers and as a thumbs-up-to-buy to all of you who are hell-bent on getting the best for yourselves.\\nRead more\",\n",
       " \"I had been searching for a product like this (for my broadband router) for some time. Have seen quite a few on Amazon and even eBay and Alibaba. But not quite satisfied as they looked rudimentary and performance seemed ho-hum from reviews.\\nAnd then thanks to similar products scroll bar at the bottom a page, i chanced upon this. I thought it was an European company. Turns out it is Bangalore-based.\\nSo the review after 3 weeks of using:\\nThis UPS is better than international ones or even the top ones that come up while searching for 'small UPS for router', etc. And that is not something you can say of IT products made in India.\\nThe company should be proud of their work. Beautifully made and minimalistic. Simple plug and play. They contacted me wrt. my router as soon as i placed the order so they can send additional cables if needed. Haven't had ANYONE do that all these years i have been buying from Amazon. Astonishing customer service. Kudos to the company.\\nOn top of that i got it in Delhi NCR within 2 days of ordering - and the delivery time given was one week.\\n\\nUnfortunately, the Cuzor does not come up while searching for small UPS or Router UPS on Amazon. I hope it does. This product needs to be on top of all small UPS searches. Am so happy with it - in the 3 weeks i have been using it it has been working beautifully. So happy that i decided to write my first review just to say Thank You to the makers and as a thumbs-up-to-buy to all of you who are hell-bent on getting the best for yourselves.\\nRead more\",\n",
       " 'So far so good. Using it for a couple of days only and have not fully tested the battery backup yet. The most important thing I would like to mention is you can use 2 devices with different power requirements at the same time. My camera is 5v which I connected through the USB out and my modem is 12v which is also connected through the 12v output pin. I have tested 30 mins or so switching off the input power and it works like a charm.\\n\\nUpdate 1: after simulating power failure it gave me a backup of exactly 6 hrs with 2 devices running. Now the worst part is, when I turned the input power back the ups started charging but to my surprise the devices were not getting any power. Well I realized that I had to manually turn the ups on with the button switch on the router!! That is something I was not expecting at all. So if its a complete discharge then manually you have to turn it back on after power restores. Reducing 2 stars as to me it is a unacceptable mistake from the company end.',\n",
       " \"I'll keep this brief.\\nDoes it work as advertised? Yep\\nWas it worth the money? You bet\\nIs there any alternative at this price? Nope\\nThen what's the problem?\\nTLDR\\nFaulty product being sold in Indian markets with lower than average warranty. 1 Year.\\nFull Story :\\n\\nEverything works fine with this UPS when it's running. The problem starts when you turn it off.\\nThe moment you turn off the UPS and press the off switch in your room the fans start. Wait what? Shouldn't the fans stop?\\nWell that's where the flaw is. When you turn off the room switch the ups thinks that there has been a power outage and it starts, for 5 minutes and then it realises false alarm and turns off.\\n\\nThis is clearly a design flaw and if you go through the other reviews you can see everyone else is asking if this is normal. No it isn't. It's not supposed to start when it's powered off.\\nGood thing? APC knows it, they just don't care.\\nWill it reduce the UPS's life? Yep it will that's why they've kept the 1 year warranty.\\n\\nSo what shall we do?\\nUnfortunately, APC has an absolute dominance in this price range, so we've got no choice.\\nWhat we can do is save up and move onto their competitors.\\nThe moment some other competitor comes up with a similar product, jump onto it.\\nWe are the customers and if the company can believe that they can get away with selling a defective product in the Indian market, we must respond in kind by not buying their products until they fix it.\\n\\nMarket leader, doing such cheap tricks. This is another Volkswagen from Germany folks.\\nRead more\",\n",
       " \"I bought it two days back. It is working properly. My only issue is with the pricing. It costs nearly 2k when there are local UPS which can run computers for that price(it won't run a router as the power requirement is too low and annoying sound is unbearable). A 6000 Mah battery and nothing much is there in the product, I agree there is no need of anything else. 2k for such a product cannot be justified. The only reason why I bought this product is because I couldn't find any other reliable solution for power problem. If this thing breaks within an year, it will be a huge loss(6 months warranty is provided by Resonate).\",\n",
       " \"I think these APC BVX models were launched by APC in Dec 2020, so there aren't a lot of user reviews for these models online.\\n\\nThis one costs about 2k more than APC BX 1100 (older) model, but went for it anyways as I didn't want to deal with the fan noise in the older model. Quite happy that there is no fan in this newer model and it is absolutely silent. If you have no issues with the fan noise, you might wanna go for BX 1100.\\n\\nThis one has a sleek look with not so dim green lights on both sides towards the front, which is quite distracting in a dark room. The lights could have been dimmer. This is my only issue.\\n\\nGives me about 8 mins of backup with a 43'' Samsung 4K TV and the PlayStation 5.\\n\\nEdit - For people reporting it is not working when delivered, you need to remove the yellow latch at the back. That latch/separator is used to keep the power disconnected during transportation. If only people had the patience to read the manuals, good products wouldn't get bad reviews.\\nRead more\",\n",
       " 'Edit:\\nI finally figured out that it was my own mistake. The ups comes with the battery disconnected and you have manually connect it at the back for UPS to even start. This instruction should be printed on the UPS or on the first page of manual. So the product work as expected. But it was hassle until I figured it out.\\n\\nOriginal review:\\nDead on arrival. Does not even turn on. Which means APC does not even have basic quality control in place. And Amazon is refusing to offer any help as product is listed as non returnable. So buyers beware. Don’t buy unless they update their return policy. You will be stuck and waste time dealing with APC if you receive a faulty product. Very bad experience.',\n",
       " \"Got a defective product during great Indian festival. Amazon is not ready to replace. Manufacturer denied service as the defect cannot be fixed. Stuck with a product which is not working and lost money.\\n\\nSo please be advised. I had a detail incident report written but Amazon deleted it and didn't get posted.\",\n",
       " '3rd Updated Review (June 16, 2020):\\nAfter around few power cuts and with new Jio Router which uses little more than 2 Amps, the battery backup is coming to around 3.5 hrs from earlier 4.5 hrs. The backup depends upon power consumption.\\n\\n2nd Updated Review:\\nAfter 24 hrs of charging while connected the output to router, tested with wall power switch off and the backup UPS lasted for 4.5 hrs. There was no lag in power cut interruptions and the WiFi Router didn’t get reset.\\nWill continue to test since this is critical for kids attending school taking online tests for 3 hrs and for work from home activities.\\n\\nOut of Box Review (Old):\\nAmazon published Backup Hours: 4 Hours, but the User Manual that came in the box states:\\nBackup Hours for 2 A load is 1 hour, for 1 A load is 1.5 hours, and for 0.5 A load is 3.5 hours.\\nMost routers are between 1.5 and 2 A load and if this comes just 1 hour.\\n\\nNo Charger Cable when Rs 2500+ is paid for this tiny battery that lasts only 1 hour.\\n\\nIncorrect Amazon Product Information:\\nIdeal for 12V Routers up to 2.5A, CCTV, POS Machines\\nGood Power backup - 4hrs\\nLithium Battery Energy Content - 3 Watt Hours\\nIntelligent charging - 1hr\\n\\nConflicting information from Product Manual that came with the box:\\nBackup Hours: 3 Hrs for 0.5 A, 1.5 Hrs for 1 A and 1 Hrs for 2 A.\\nCharging required: Minimum of 10 hrs for good backup to work.\\nRead more',\n",
       " 'Charged exactly for 5 hours and later comnected desktop PC. Tested without regular power.. The back up is exactly 25 mins and 2 mins buffer with continuous beeps... Hope you understand if its a worth or not.. Go for it',\n",
       " 'Good',\n",
       " \"I was watching some questionable stuff on my desktop when my parents walked in. I panicked and instead off switching of the monitor, I tried switching off the entire system by flipping the wall switch.\\nThis UPS kept the whole system on for my parents to see what a disgrace their son has become. That day I decided to stop watching Dinchak Pooja's videos on YouTube.\",\n",
       " 'Battery backup for Desktop with i5 processor and 14 inch thin monitor lasted for 28 minutes\\n\\nThis is very decent for a UPS to perform for a desktop\\n\\nRecommend this',\n",
       " \"This UPS is waste of money. I purchased this in march 2018. Its not working on power fluctuations and system gets restart since the first day. I had to call 2 times luminous guys to fix my UPS but they couldn't do it. Finally my UPS catch's fire and shuts off. Better to go APC much more reliable. Please take it back refund the money.\",\n",
       " 'After 10 Days of Usage, Product works Perfectly Fine. I was worried initially about backup but it giving me more than 5 hours on my router..\\nStarting I had wiring issues which seller help resolved in just one day..',\n",
       " 'Had ordered this UPS as a power backup for my airtel wifi router. When disconnected from power UPS works just for 5 mins irrespective of load. (checked it by removing all load to UPS as well)\\nThere is still stored power in UPS as if we switch on UPS again it comes for 5 more mins. So thought it is a faulty device and asked for replacement (return not available for the product but Amazon provided free replacement). But the replacement device as well works the same way. (turns off after 5mins irrespective of load)\\nReplacement items packaging was bad had resulted in external plastic of UPS broken.\\n\\nThey claim for 10 to 15 mins for a PC + Monitor but UPS switches off in 5 mins. Not worth the money',\n",
       " \"I'll keep this brief.\\nDoes it work as advertised? Yep\\nWas it worth the money? You bet\\nIs there any alternative at this price? Nope\\nThen what's the problem?\\nTLDR\\nFaulty product being sold in Indian markets with lower than average warranty. 1 Year.\\nFull Story :\\n\\nEverything works fine with this UPS when it's running. The problem starts when you turn it off.\\nThe moment you turn off the UPS and press the off switch in your room the fans start. Wait what? Shouldn't the fans stop?\\nWell that's where the flaw is. When you turn off the room switch the ups thinks that there has been a power outage and it starts, for 5 minutes and then it realises false alarm and turns off.\\n\\nThis is clearly a design flaw and if you go through the other reviews you can see everyone else is asking if this is normal. No it isn't. It's not supposed to start when it's powered off.\\nGood thing? APC knows it, they just don't care.\\nWill it reduce the UPS's life? Yep it will that's why they've kept the 1 year warranty.\\n\\nSo what shall we do?\\nUnfortunately, APC has an absolute dominance in this price range, so we've got no choice.\\nWhat we can do is save up and move onto their competitors.\\nThe moment some other competitor comes up with a similar product, jump onto it.\\nWe are the customers and if the company can believe that they can get away with selling a defective product in the Indian market, we must respond in kind by not buying their products until they fix it.\\n\\nMarket leader, doing such cheap tricks. This is another Volkswagen from Germany folks.\\nRead more\"]"
      ]
     },
     "execution_count": 449,
     "metadata": {},
     "output_type": "execute_result"
    }
   ],
   "source": [
    "UPS_review"
   ]
  },
  {
   "cell_type": "code",
   "execution_count": 922,
   "metadata": {},
   "outputs": [
    {
     "data": {
      "text/plain": [
       "29"
      ]
     },
     "execution_count": 922,
     "metadata": {},
     "output_type": "execute_result"
    }
   ],
   "source": [
    "len(UPS_review)"
   ]
  },
  {
   "cell_type": "code",
   "execution_count": 453,
   "metadata": {},
   "outputs": [],
   "source": [
    "UPS_rating=[4,4,4,2,4,2,1,3,2,3,1,4,4,4,3,1,3,4,2,1,3,4,4,3,4,1,4,3,1]"
   ]
  },
  {
   "cell_type": "code",
   "execution_count": 921,
   "metadata": {},
   "outputs": [
    {
     "data": {
      "text/plain": [
       "29"
      ]
     },
     "execution_count": 921,
     "metadata": {},
     "output_type": "execute_result"
    }
   ],
   "source": [
    "len(UPS_rating)"
   ]
  },
  {
   "cell_type": "code",
   "execution_count": 319,
   "metadata": {},
   "outputs": [],
   "source": [
    "Hard_drive_review=[]"
   ]
  },
  {
   "cell_type": "code",
   "execution_count": 320,
   "metadata": {},
   "outputs": [],
   "source": [
    "urls=driver.find_elements_by_xpath(\"//a[@class='a-link-normal a-text-normal']\")\n",
    "UR=[]\n",
    "for i in urls:\n",
    "    UR.append(i.get_attribute('href'))\n",
    "for url in UR:\n",
    "    driver.get(url) \n",
    "    try:\n",
    "        rate=driver.find_element_by_xpath(\"//span[@id='acrCustomerReviewText']\")\n",
    "        rate.click()\n",
    "        review=driver.find_element_by_xpath(\"//div[@class='a-row a-spacing-small review-data']\")\n",
    "        Hard_drive_review.append(review.text)\n",
    "    \n",
    "    except NoSuchElementException as e:\n",
    "        Hard_drive_review.append(\"no review\")"
   ]
  },
  {
   "cell_type": "code",
   "execution_count": 483,
   "metadata": {
    "collapsed": true
   },
   "outputs": [
    {
     "data": {
      "text/plain": [
       "[\"Your browser does not support HTML5 video.\\n ☝️A PREVIEW TO PURCHASE :\\n***********************************\\nI like to keep backups of backups of my lifetime collected data & thus have over 15 TB of external harddisks in my arsenal with a dominant share of Western digital disks( both passport & elements ) & few others like Transcend , Samsung SSD & a seagate ( old usb 2.0 ).\\n\\n🔶️ Now , whenever we opt to go for a new external Disk purchase, the following challenges are encountered & if you are planning to invest thousands in purchase - my detailed review, even though a bit lengthy is worth reading.\\n\\n👉 HDDs vs SSDs :\\n**********************\\nWhile none of the mechanical HDDs can reach the blazing fast speeds of SSDs in excess of 500 MB/s R/W, The HDDs definitely offer a better value for money per MB of storage.\\n\\nAlso if data is corrupted in a SSD its almost never retrievable while in a HDD , there is always a hope depending upon extent of damage.\\n\\n🔷️ So for majority bulk backup - HDD are a better option to costlier SSDs.\\n\\n👉 WD vs Seagate :\\n*********************\\nThis is again a topmost struggle making a decision.\\n\\n🔸️Now both are giant reputed american storage brands & preference is mostly based upon personal usage experiences.\\n\\n🔸️I read somewhere that seagate offers better speeds& WD better reliability but i dont feel its true as speeds depend upon type of files being transferred & reliability upon manufacturing processes , which is hard to doubt for both brands.\\n\\n🔸️ Regarding price WD is a bit costlier to seagate for same capacity.\\n\\n🔸️ Both offer same warranties of 3 years.\\n\\nI had a wd failure & my friend had seagate failure - yet we both got replacements with data restored from their service centres.\\n\\n🔸️ Regarding inbuilt software , i suppose WD is better as it comes with WD discovery that can link with all your social portals for backup too.\\n\\n🔷️ So you can go for any of these brands - WD being my personal favourite.\\n\\n🔷️ To ensure failsafe operation , testing for bad sectors before use ( using WD utility or any other HDD inspection software like HD sentinel etc ) is always a good idea.\\n\\n🔷️ Store these drives horizontally in a dry case & not vertically or inclined , as in latter case the heads and platters tend to deform & get stuck.\\n\\nI learnt it the hard way.\\n\\n💝 I bought the latest 2019 4 TB passport drive and 3.63 TB of usable space was available in it.\\n\\n🔸️ The packing as usual was good enough with an instruction manual & 8 inches of connecting cable.\\n\\n5/5 ⭐\\n\\n🔸️ The HD enclosure is premium ABS plastic which can surely withstand few non- severe slips & falls.\\n\\nA periphery cushioning or base padding with shock absorbent rubber would additionaly be great.\\n\\n4.2 /5 ⭐\\n\\n🔸️ The design & looks of this new drive aren't as elegant & classy, as previous passports & elements as my personal opinion.\\n\\n2/5 ⭐\\n\\n🔸️ The drive is very compact, sturdy & light weight too.\\n\\n5/5 ⭐\\n\\n🔸️ It was formatted in NTFS mode with 4096 bytes of allocation unit size.\\n\\nExFat is another option & you can play with allocation size also for better speeds but a bit less space.\\n\\n5/5 ⭐\\n\\n🔸️ With a mixed media & software file folder transfer of 5 GB , i registered - a write speed of 112 MB /s & a read speed of 160 MB /s on my HP omen core i7 configuration , which i suppose is fair enough for a mechanical Hard drive.\\n\\n5/5 ⭐\\n\\n🔸️ The new Hard disk has softwares for mac & windows backup both.\\n\\n5/5 ⭐\\n\\n🔸️ The HD has a very small point like white led indication for status & won't bother much in dark rooms.\\n\\n5/5 ⭐\\n\\n🔸️ The HD is very silent during operation & doesn't heat much even after few hours of backup.\\n\\n5/5 ⭐\\n\\n🔸️ Warranty offered is 3 years which is contemporary to industry standards & similar to seagate.\\n\\nAs already quoted earlier , i had one harddisk replaced & data restored in warranty like 6 years back by WD.\\n\\nSo no issues there, noone is going to offer pick & drop at home - be assured.\\n\\n🤏 Final Verdict :\\n**********************\\nAll in all , I have always been a WD guy & this new 2019 version further restores my faith in the same.\\nRead more\",\n",
       " 'very poor product... hard drive did not even detected in my PC. I tried in o4 other PCs also... but same result...I m very much disappointed with Amazon as I have gifted this hard disk to my sister on occasion of Rakhi . I will suggest not to buy this from amazon.',\n",
       " \"☝️ A PREVIEW TO PURCHASE:\\n***********************************\\nI like to keep backups of backups of my lifetime collected data & thus have over 15 TB of external hard disks in my arsenal with a dominant share of Western digital disks (both passport & elements) & few others like Transcend , Samsung SSD & a Seagate ( old usb 2.0 ).\\n \\n🔶️ Now, whenever we opt to go for a new external Disk purchase, the following challenges are encountered & if you are planning to invest thousands in purchase - my detailed review, even though a bit lengthy is worth reading.\\n \\n👉 HDDs vs SSDs :\\n**********************\\nWhile none of the mechanical HDDs can reach the blazing fast speeds of SSDs in excess of 500 MB/s R/W, The HDDs definitely offer a better value for money per MB of storage.\\n \\nAlso if data is corrupted in a SSD its almost never retrievable while in a HDD , there is always a hope depending upon extent of damage.\\n \\n🔷️ So for majority bulk backup - HDD are a better option to costlier SSDs.\\n \\n👉 WD vs Seagate :\\n*********************\\nThis is again a topmost struggle making a decision.\\n \\n🔸️Now both are giant reputed american storage brands & preference is mostly based upon personal usage experiences.\\n \\n🔸️I read somewhere that Seagate offers better speeds & WD better reliability but i don’t feel it’s always true as speeds depend upon a number of factors like type of files being transferred & as for reliability of both brands - It is hard to doubt for both brands of repute.\\n \\n🔸️ Regarding price WD is a bit costlier to Seagate for same capacity.\\n \\n🔸️ Both offer same warranties of 3 years.\\n \\nI had a wd failure & my friend had Seagate failure - yet we both got replacements with data restored from their service centres. So, no issue there too.\\n \\n🔸️ Regarding inbuilt software, i suppose WD is better as it comes with WD discovery that can link with all your social portals for backup too.\\nSeagate on the other hand offers 3 years data rescue services on this product.\\n \\n🔷️ So you can go for any of these brands - WD being my personal favourite.\\n \\n🔷️ To ensure failsafe operation, testing for bad sectors before storage (using WD utility or any other HDD inspection software like HD sentinel etc ) is always a good idea.\\n \\n🔷️ Always Store these drives horizontally in a dry case & not vertically or inclined, as in latter case the heads and platters tend to deform & get stuck making the disk unusable.\\n \\nI learnt it the hard way.\\n \\n💝 Now I am having a lot WD drives so I thought to give a latest Seagate drive a try too, so I bought the latest Seagate expansion portable 1 TB portable drive and got 931 GB of usable space inside.\\n \\n🔸️ The packing as usual was fair enough with an instruction manual & 8 inches of connecting cable.\\n \\nSo, 5/5 ⭐ for both WD and Seagate.\\n \\n🔸️ The HD enclosure is some premium plastic with a diamond shaped surface all over which can surely withstand few non- severe slips & falls.\\n\\nHowever when compared to a WD passport that I have , seagate plastic felt bit fragile and less in thickness.\\n \\nA periphery cushioning or base padding with shock absorbent rubber would additionally be great.\\n \\nSo, 4 /5 ⭐ for SG & 4.2 /5 ⭐ for WD.\\n \\n🔸️ The design & looks of this drive are quite good with all diamond design & looks quite elegant.\\n\\nHowever, color options other than black are not there in seagate which is bit sad.\\n \\nIn WD the passport drive design to be honest looks pretty bad to me with its dual color design.\\nSo, 3.8 /5 ⭐ for SG and 2/5 ⭐ for WD.\\n \\n🔸️ The drive is very compact & light weight too.\\n \\n5/5 ⭐\\n \\n🔸️ It came formatted in NTFS mode with 4096 bytes of allocation unit size.\\n\\nExFat is another option & you can play with allocation size also for better speeds but a bit less space.\\n \\nPartition style was MBR (Master boot record ) for Seagate and GPT (GUID partition table ) for WD but then generally GPT is done for storage more than 1 TB.\\n \\nI checked the hard disk for bad sectors & self test via software hard disk sentinel,found okay.\\n \\nSo, 5/5 ⭐ for both.\\n \\n🔸️ With a practical mixed media & software file folder transfer of 15 GB, i registered - a read/ write speed of 138 / 135 MB/sec in seagate and around 140 / 112 MB /sec for WD on my HP omen core i7 configuration , which i suppose is fair enough for a mechanical Hard drive.\\n\\nIn crystal benchmark test seagate had a read / write rate of – 146 / 143 MB/sec\\n& WD had a score of 120 / 115 MB / sec.\\n\\nSo, Seagate is faster for sure with like 10 MB/sec.\\nAlso, around 150 MB/sec is the fastest speed of such mechanical hard drives in 2020.\\n\\nPlus, they are for storage not speeds for true speeds use nvme drives with speeds like 3000 MB/sec.\\n\\nSo, 5/5 ⭐ for SG and 4.9/5 ⭐ for WD.\\n \\n🔸️ The Hard disk works for mac & windows both.\\n \\n \\n🔸️ The Seagate HD has a blue led line indication for status whereas WD has a small point like white led that won't bother much in dark rooms.\\nBoth are ok.\\n \\n5/5 ⭐\\n \\n🔸️ The HD is very silent during operation & doesn't heat much even after few hours of data transfer.\\n\\nHowever, in Seagate I noticed few clicking sounds occasionally which was not at all confidence inspiring as it often may indicate end of life for disks.\\n\\nWD was silent.\\n \\nSo, 3/5 ⭐ for Seagate and 5/5 ⭐ for WD.\\n \\n🔸️ Warranty offered is 3 years with data rescue which is mostly contemporary to industry standards & similar to WD.\\n \\nAs already quoted earlier, my friend had one hard disk replaced & data restored in warranty like 6 years back by Seagate.\\n \\nSo, no issues there, however no one is going to offer pick & drop to you at home - be assured.\\n \\n🤏 Final Verdict:\\n**********************\\nAll in all, even though I have always been a WD guy but with this Seagate, I am hopeful to even out with Seagate as well.\\n\\nI hope those clicking sounds inside are just normal ones.As of now no major point to reduce any stars.\\n\\nFinal advice:\\n********************\\n\\nKeep backups to backups for critical data and store these drives horizontally in a dry place.\\n\\n♻️ Do click helpful below, If you find the review helpful.\\nRead more\",\n",
       " 'very poor product... hard drive did not even detected in my PC. I tried in o4 other PCs also... but same result...I m very much disappointed with Amazon as I have gifted this hard disk to my sister on occasion of Rakhi . I will suggest not to buy this from amazon.',\n",
       " 'This is my 10th Seagate HDD purchase. I really love seagate external hard drives. I have 1 TB, 1.5 TB and 2 TB. A few days ago, when i saw this new model edition and i thought of giving it try. I liked the design but the problem is its in \\'\\'exFAT\\'\\' system format. Usually, most of the drive will be in NTFS which is quite user friendly. But this \\'\\'exFAT\\'\\' has biggest problem with transfer speed. So, i have to format to NTFS and now, transfer speed is good. So, as of now, its better to go for older model than new one. Because full formatting takes hours and it just painful and consumes time. Yes, you can go for quick format but full format identifies bad sectors and it literally completes formatting procedure.\\n\\nOf course, \\'\\'exFAT\\'\\' is advance file system of FAT32. And also it detected with Sony LED TV. But the problem is transfer speed. And also i read the file system formats in Seagate website, especially about \\'\\'exFAT\\'\\' file system, kindly see below:\\n\\n\"exFAT: generally compatible with Mac and Windows. exFAT is not a journaled file system which means it can be more susceptible to data corruption when errors occur or the drive is not disconnected properly from the computer\\'\\'\\n\\nThis is not user friendly but you have to format it to NTFS to make it as user friendly. Therefore, i leave it up to you, guys! and its your call for going for this new edition of Seagate.\\nRead more',\n",
       " \"☝️ A PREVIEW TO PURCHASE:\\n***********************************\\nI like to keep backups of backups of my lifetime collected data & thus have over 15 TB of external hard disks in my arsenal with a dominant share of Western digital disks (both passport & elements) & few others like Transcend , Samsung SSD & a Seagate ( old usb 2.0 ).\\n \\n🔶️ Now, whenever we opt to go for a new external Disk purchase, the following challenges are encountered & if you are planning to invest thousands in purchase - my detailed review, even though a bit lengthy is worth reading.\\n \\n👉 HDDs vs SSDs :\\n**********************\\nWhile none of the mechanical HDDs can reach the blazing fast speeds of SSDs in excess of 500 MB/s R/W, The HDDs definitely offer a better value for money per MB of storage.\\n \\nAlso if data is corrupted in a SSD its almost never retrievable while in a HDD , there is always a hope depending upon extent of damage.\\n \\n🔷️ So for majority bulk backup - HDD are a better option to costlier SSDs.\\n \\n👉 WD vs Seagate :\\n*********************\\nThis is again a topmost struggle making a decision.\\n \\n🔸️Now both are giant reputed american storage brands & preference is mostly based upon personal usage experiences.\\n \\n🔸️I read somewhere that Seagate offers better speeds & WD better reliability but i don’t feel it’s always true as speeds depend upon a number of factors like type of files being transferred & as for reliability of both brands - It is hard to doubt for both brands of repute.\\n \\n🔸️ Regarding price WD is a bit costlier to Seagate for same capacity.\\n \\n🔸️ Both offer same warranties of 3 years.\\n \\nI had a wd failure & my friend had Seagate failure - yet we both got replacements with data restored from their service centres. So, no issue there too.\\n \\n🔸️ Regarding inbuilt software, i suppose WD is better as it comes with WD discovery that can link with all your social portals for backup too.\\nSeagate on the other hand offers 3 years data rescue services on this product.\\n \\n🔷️ So you can go for any of these brands - WD being my personal favourite.\\n \\n🔷️ To ensure failsafe operation, testing for bad sectors before storage (using WD utility or any other HDD inspection software like HD sentinel etc ) is always a good idea.\\n \\n🔷️ Always Store these drives horizontally in a dry case & not vertically or inclined, as in latter case the heads and platters tend to deform & get stuck making the disk unusable.\\n \\nI learnt it the hard way.\\n \\n💝 Now I am having a lot WD drives so I thought to give a latest Seagate drive a try too, so I bought the latest Seagate expansion portable 1 TB portable drive and got 931 GB of usable space inside.\\n \\n🔸️ The packing as usual was fair enough with an instruction manual & 8 inches of connecting cable.\\n \\nSo, 5/5 ⭐ for both WD and Seagate.\\n \\n🔸️ The HD enclosure is some premium plastic with a diamond shaped surface all over which can surely withstand few non- severe slips & falls.\\n\\nHowever when compared to a WD passport that I have , seagate plastic felt bit fragile and less in thickness.\\n \\nA periphery cushioning or base padding with shock absorbent rubber would additionally be great.\\n \\nSo, 4 /5 ⭐ for SG & 4.2 /5 ⭐ for WD.\\n \\n🔸️ The design & looks of this drive are quite good with all diamond design & looks quite elegant.\\n\\nHowever, color options other than black are not there in seagate which is bit sad.\\n \\nIn WD the passport drive design to be honest looks pretty bad to me with its dual color design.\\nSo, 3.8 /5 ⭐ for SG and 2/5 ⭐ for WD.\\n \\n🔸️ The drive is very compact & light weight too.\\n \\n5/5 ⭐\\n \\n🔸️ It came formatted in NTFS mode with 4096 bytes of allocation unit size.\\n\\nExFat is another option & you can play with allocation size also for better speeds but a bit less space.\\n \\nPartition style was MBR (Master boot record ) for Seagate and GPT (GUID partition table ) for WD but then generally GPT is done for storage more than 1 TB.\\n \\nI checked the hard disk for bad sectors & self test via software hard disk sentinel,found okay.\\n \\nSo, 5/5 ⭐ for both.\\n \\n🔸️ With a practical mixed media & software file folder transfer of 15 GB, i registered - a read/ write speed of 138 / 135 MB/sec in seagate and around 140 / 112 MB /sec for WD on my HP omen core i7 configuration , which i suppose is fair enough for a mechanical Hard drive.\\n\\nIn crystal benchmark test seagate had a read / write rate of – 146 / 143 MB/sec\\n& WD had a score of 120 / 115 MB / sec.\\n\\nSo, Seagate is faster for sure with like 10 MB/sec.\\nAlso, around 150 MB/sec is the fastest speed of such mechanical hard drives in 2020.\\n\\nPlus, they are for storage not speeds for true speeds use nvme drives with speeds like 3000 MB/sec.\\n\\nSo, 5/5 ⭐ for SG and 4.9/5 ⭐ for WD.\\n \\n🔸️ The Hard disk works for mac & windows both.\\n \\n \\n🔸️ The Seagate HD has a blue led line indication for status whereas WD has a small point like white led that won't bother much in dark rooms.\\nBoth are ok.\\n \\n5/5 ⭐\\n \\n🔸️ The HD is very silent during operation & doesn't heat much even after few hours of data transfer.\\n\\nHowever, in Seagate I noticed few clicking sounds occasionally which was not at all confidence inspiring as it often may indicate end of life for disks.\\n\\nWD was silent.\\n \\nSo, 3/5 ⭐ for Seagate and 5/5 ⭐ for WD.\\n \\n🔸️ Warranty offered is 3 years with data rescue which is mostly contemporary to industry standards & similar to WD.\\n \\nAs already quoted earlier, my friend had one hard disk replaced & data restored in warranty like 6 years back by Seagate.\\n \\nSo, no issues there, however no one is going to offer pick & drop to you at home - be assured.\\n \\n🤏 Final Verdict:\\n**********************\\nAll in all, even though I have always been a WD guy but with this Seagate, I am hopeful to even out with Seagate as well.\\n\\nI hope those clicking sounds inside are just normal ones.As of now no major point to reduce any stars.\\n\\nFinal advice:\\n********************\\n\\nKeep backups to backups for critical data and store these drives horizontally in a dry place.\\n\\n♻️ Do click helpful below, If you find the review helpful.\\nRead more\",\n",
       " \"Storage capacity is very less. It's storage capacity is 931 GB which is very less , 69 GB got wasted. Price could be less a bit. I would have given 5 star , if I would have received the warranty card. As I did not get warranty card I was fed up of following up with Amazon & Lenovo Manufacturers.\",\n",
       " 'Update of previous review (29/Oct/2020) ( 2 Stars deducted + Good becomes a mediocre one)\\nTransfer Speed is nearly10 or below 10MB/s which is way less than my previous Sony 1TB hard disk which after 6 Years of use still works fine and gives around 50 MB/s..\\nSo my conclusion is -- Better to avoid buying this .... because after 2 Months or so it is giving this speed only then I am not sure about its future working condition... If I am lucky enough it works after an year.. (will update again after 6 months/ when it stops working)\\n\\nTransfer Speed (day 1) - 90-100 MBPS it varies as per the type of files and size of file\\nFor a single file mostly 95-105 MBPS\\nWARRANTY - I have registered in their website and checked the product warranty, it says that I have limited warranty upto 2023 august.\\nI will add further pros and cons after 1 or 2 months.',\n",
       " 'very poor product... hard drive did not even detected in my PC. I tried in o4 other PCs also... but same result...I m very much disappointed with Amazon as I have gifted this hard disk to my sister on occasion of Rakhi . I will suggest not to buy this from amazon.',\n",
       " 'The external disk I bought in june is not opening in T V which I very much wantedo. Changed the cord and checked again - no way! I would request to replace it from the seller. Will amazon pass the message to them for me?',\n",
       " \"Your browser does not support HTML5 video.\\n ☝️A PREVIEW TO PURCHASE :\\n***********************************\\nI like to keep backups of backups of my lifetime collected data & thus have over 15 TB of external harddisks in my arsenal with a dominant share of Western digital disks( both passport & elements ) & few others like Transcend , Samsung SSD & a seagate ( old usb 2.0 ).\\n\\n🔶️ Now , whenever we opt to go for a new external Disk purchase, the following challenges are encountered & if you are planning to invest thousands in purchase - my detailed review, even though a bit lengthy is worth reading.\\n\\n👉 HDDs vs SSDs :\\n**********************\\nWhile none of the mechanical HDDs can reach the blazing fast speeds of SSDs in excess of 500 MB/s R/W, The HDDs definitely offer a better value for money per MB of storage.\\n\\nAlso if data is corrupted in a SSD its almost never retrievable while in a HDD , there is always a hope depending upon extent of damage.\\n\\n🔷️ So for majority bulk backup - HDD are a better option to costlier SSDs.\\n\\n👉 WD vs Seagate :\\n*********************\\nThis is again a topmost struggle making a decision.\\n\\n🔸️Now both are giant reputed american storage brands & preference is mostly based upon personal usage experiences.\\n\\n🔸️I read somewhere that seagate offers better speeds& WD better reliability but i dont feel its true as speeds depend upon type of files being transferred & reliability upon manufacturing processes , which is hard to doubt for both brands.\\n\\n🔸️ Regarding price WD is a bit costlier to seagate for same capacity.\\n\\n🔸️ Both offer same warranties of 3 years.\\n\\nI had a wd failure & my friend had seagate failure - yet we both got replacements with data restored from their service centres.\\n\\n🔸️ Regarding inbuilt software , i suppose WD is better as it comes with WD discovery that can link with all your social portals for backup too.\\n\\n🔷️ So you can go for any of these brands - WD being my personal favourite.\\n\\n🔷️ To ensure failsafe operation , testing for bad sectors before use ( using WD utility or any other HDD inspection software like HD sentinel etc ) is always a good idea.\\n\\n🔷️ Store these drives horizontally in a dry case & not vertically or inclined , as in latter case the heads and platters tend to deform & get stuck.\\n\\nI learnt it the hard way.\\n\\n💝 I bought the latest 2019 4 TB passport drive and 3.63 TB of usable space was available in it.\\n\\n🔸️ The packing as usual was good enough with an instruction manual & 8 inches of connecting cable.\\n\\n5/5 ⭐\\n\\n🔸️ The HD enclosure is premium ABS plastic which can surely withstand few non- severe slips & falls.\\n\\nA periphery cushioning or base padding with shock absorbent rubber would additionaly be great.\\n\\n4.2 /5 ⭐\\n\\n🔸️ The design & looks of this new drive aren't as elegant & classy, as previous passports & elements as my personal opinion.\\n\\n2/5 ⭐\\n\\n🔸️ The drive is very compact, sturdy & light weight too.\\n\\n5/5 ⭐\\n\\n🔸️ It was formatted in NTFS mode with 4096 bytes of allocation unit size.\\n\\nExFat is another option & you can play with allocation size also for better speeds but a bit less space.\\n\\n5/5 ⭐\\n\\n🔸️ With a mixed media & software file folder transfer of 5 GB , i registered - a write speed of 112 MB /s & a read speed of 160 MB /s on my HP omen core i7 configuration , which i suppose is fair enough for a mechanical Hard drive.\\n\\n5/5 ⭐\\n\\n🔸️ The new Hard disk has softwares for mac & windows backup both.\\n\\n5/5 ⭐\\n\\n🔸️ The HD has a very small point like white led indication for status & won't bother much in dark rooms.\\n\\n5/5 ⭐\\n\\n🔸️ The HD is very silent during operation & doesn't heat much even after few hours of backup.\\n\\n5/5 ⭐\\n\\n🔸️ Warranty offered is 3 years which is contemporary to industry standards & similar to seagate.\\n\\nAs already quoted earlier , i had one harddisk replaced & data restored in warranty like 6 years back by WD.\\n\\nSo no issues there, noone is going to offer pick & drop at home - be assured.\\n\\n🤏 Final Verdict :\\n**********************\\nAll in all , I have always been a WD guy & this new 2019 version further restores my faith in the same.\\nRead more\",\n",
       " 'After a month of usage, I get a message saying that there is a problem with the drive. The drive capacity shown is supposed to be 1TB. But it shows 468GB. I cannot autorun the device in windows. It takes a few hours to transfer 2GB of content. I want to return this device for a full refund. I have never had such a bad experience with amazon uptil now.',\n",
       " \"I don't understand why it is totally acceptable by everyone that when a hard drive says it is 4TB capacity but it is actually 3.63TB. Why do we have to accept that we just lost 275GB for false marketing? This is not a 4TB HDD and must be advertised as 3.5 TB. This should be some consumer right to demand and expect what was advertised but since this is the norm by all hard drive manufacturers, consumers have accepted that they will always get less than what they were told. But why should we accept it like that? Manufacturers can quote hundreds of practical reasons why there is a loss of capacity yada yada but why can't they just advertise it for the actual capacity it has or Add additional capacity so that the consumer finally receives the capacity advertised?\",\n",
       " 'The item was packed well and delivered promptly by Amazon. I used it for about an hour and during that period I downloaded all my existing \"Document\" files. When I wanted to add files the next day the drive started to make crackling noise. I could not detect it in my laptop. I tried three lap tops with the same result\\nI couldn\\'t return,despite the generous policy by Amazon, because I had to travel and had no opportunity to delete the files before returning the unit. Deletion can only be done by a technician. I AM STUCK WITH A TOTALLY USELESS PORTABLE DRIVE. PLEASE DO NOT BUY TOSHIBA drive. i did buy earlier Seagate and i am very happy with them.',\n",
       " \"inside is a WD Blue WD60EZRZ HDD with an 8 second idle timer which can't be turned off or changed to a longer duration. Look for WD Load Cycle Count issue for more information.\\n\\nEdit: A work around for the LCC issue is to use the KeepAliveHD software from GitHub\",\n",
       " 'This is my 10th Seagate HDD purchase. I really love seagate external hard drives. I have 1 TB, 1.5 TB and 2 TB. A few days ago, when i saw this new model edition and i thought of giving it try. I liked the design but the problem is its in \\'\\'exFAT\\'\\' system format. Usually, most of the drive will be in NTFS which is quite user friendly. But this \\'\\'exFAT\\'\\' has biggest problem with transfer speed. So, i have to format to NTFS and now, transfer speed is good. So, as of now, its better to go for older model than new one. Because full formatting takes hours and it just painful and consumes time. Yes, you can go for quick format but full format identifies bad sectors and it literally completes formatting procedure.\\n\\nOf course, \\'\\'exFAT\\'\\' is advance file system of FAT32. And also it detected with Sony LED TV. But the problem is transfer speed. And also i read the file system formats in Seagate website, especially about \\'\\'exFAT\\'\\' file system, kindly see below:\\n\\n\"exFAT: generally compatible with Mac and Windows. exFAT is not a journaled file system which means it can be more susceptible to data corruption when errors occur or the drive is not disconnected properly from the computer\\'\\'\\n\\nThis is not user friendly but you have to format it to NTFS to make it as user friendly. Therefore, i leave it up to you, guys! and its your call for going for this new edition of Seagate.\\nRead more',\n",
       " 'This is a nice 3.5” portable drive. According to SMART this has a seagate barracuda compute drive inside it. Took 9-10 hours to back up >3TB of data.\\n\\nYou get 6001175126016 bytes (5.5TiB).\\n\\nThey drive heats up. Without any cooling help the drive went up to 47C under load (Ambient 20C) at which point I put it in front of a fan. With external fan blowing on it, it maintained 38C.',\n",
       " 'Product is working fine... Got this at a price of Rs.4500. Hardisk is not that slim as mentioned. Its similar to other toshiba but looks are good. Amd yess it fells light weigh. Body is not made from solid plastic..must buy hard case with it. I recommend this harddisk over wd. Hit like if you like the review..',\n",
       " 'Prefect product for flexible data storage option',\n",
       " 'The external disk I bought in june is not opening in T V which I very much wantedo. Changed the cord and checked again - no way! I would request to replace it from the seller. Will amazon pass the message to them for me?',\n",
       " 'no review',\n",
       " 'no review',\n",
       " 'no review',\n",
       " 'no review',\n",
       " 'no review',\n",
       " '.Good quality hdd\\n.RGB Light 👌👌👌\\n.Hard disk is super but I ordered 2TB and got 1TB. Be careful when ordering',\n",
       " 'The product was suggested to me by one of my friends when he saw me exploring the options for a sturdy hard drive. Though I was aware of ADATA as a name in the world of hard drives during my previous browsing sessions on Amazon but never considered it to be a serious competitor to the the already existing doyens like WD and Seagate, which were already a part of my previous arsenal of 500gb 1TB and 2TB hard drives. On my friends insistence I started exploring ADATA fervently and after a couple of days I finally decided to go for this product and since then I am proud of having made this decision because this drive in particular has given me so many positives while comparing them with the conventional drives.\\nI just have only the pros to share with you about this product:\\n1. Compact and attractive.\\n2. Sturdy and rugged.\\n3. Most innovative way of attaching the cable, absolutely hassle free.\\n4. USB 3.0 Shockproof, Dustproof, Waterproof\\nThis product is not only value for money but also gives you a feeling of possessing high end technological innovation in a price range which is much more than affordable.\\nGo for it.\\nRead more']"
      ]
     },
     "execution_count": 483,
     "metadata": {},
     "output_type": "execute_result"
    }
   ],
   "source": [
    "Hard_drive_review"
   ]
  },
  {
   "cell_type": "code",
   "execution_count": 920,
   "metadata": {},
   "outputs": [
    {
     "data": {
      "text/plain": [
       "27"
      ]
     },
     "execution_count": 920,
     "metadata": {},
     "output_type": "execute_result"
    }
   ],
   "source": [
    "len(Hard_drive_review)"
   ]
  },
  {
   "cell_type": "code",
   "execution_count": 1020,
   "metadata": {},
   "outputs": [],
   "source": [
    "hard_drive_rating=[3,1,3,1,4,3,2,3,1,2,3,1,2,3,3,4,4,3,4,3,3,3,3,3,3,4,4]"
   ]
  },
  {
   "cell_type": "code",
   "execution_count": 919,
   "metadata": {},
   "outputs": [
    {
     "data": {
      "text/plain": [
       "27"
      ]
     },
     "execution_count": 919,
     "metadata": {},
     "output_type": "execute_result"
    }
   ],
   "source": [
    "len(hard_drive_rating)"
   ]
  },
  {
   "cell_type": "code",
   "execution_count": 323,
   "metadata": {},
   "outputs": [],
   "source": [
    "headphone_review=[]"
   ]
  },
  {
   "cell_type": "code",
   "execution_count": 336,
   "metadata": {},
   "outputs": [],
   "source": [
    "urls=driver.find_elements_by_xpath(\"//a[@class='a-link-normal a-text-normal']\")\n",
    "UR=[]\n",
    "for i in urls:\n",
    "    UR.append(i.get_attribute('href'))\n",
    "for url in UR:\n",
    "    driver.get(url) \n",
    "    try:\n",
    "        rate=driver.find_element_by_xpath(\"//span[@id='acrCustomerReviewText']\")\n",
    "        rate.click()\n",
    "        review=driver.find_element_by_xpath(\"//div[@class='a-row a-spacing-small review-data']\")\n",
    "        headphone_review.append(review.text)\n",
    "    \n",
    "    except NoSuchElementException as e:\n",
    "        headphone_review.append(\"no review\")"
   ]
  },
  {
   "cell_type": "code",
   "execution_count": 555,
   "metadata": {
    "collapsed": true
   },
   "outputs": [
    {
     "data": {
      "text/plain": [
       "['no review',\n",
       " 'Your browser does not support HTML5 video.\\n These sit very comfortably on my head\\n\\nI don’t have a particularly large head and they fit nicely, but I imagine they would be better for someone with a big head.\\n\\nGlow Lights : The Glow Lights effect is pretty decent. I am in college and this is Lights Headphone is truly a Head TurnerJ\\n\\nSound : Sound quality is also pretty good. Depending on the app/song I’m listening to, it can get EXTREMELY loud. So much so that I have to turn it down - which is saying something because I listen to my music on full blast most of the time.\\n\\nBuild : Build construction is solid enough. Pads are very soft and so far the body has been durable. I’ve dropped these on the ground a few times and they are still performing fabulously.\\n\\nBattery Life : Finally, and very importantly, the battery life on these is UNPRECEDENTED. I mean I will use these for hours a day for like 2 weeks in a row before even thinking about charging them.\\n\\nBluetooth connection is lightning fast and has superb distance. In an open field I’ve used them further than 80’ from my phone.\\nRead more',\n",
       " \"I like to try new brands available in the market. Earlier, I had bought expensive pair of headphones and they failed to deliver. So, I thought to go for a little less budget this time. I was a bit scared to go for it initially but after using it for few days, it is a go-to headphones for music lovers. They fit very comfortably in the ear and if they don't, you can replace ear cushions with the spare ones and use it as they are bigger in size. It has a very good standby time of 5-6 hrs and charges fully in one and a half hour. Wire does not entangled and is sorted whenever you take it out of your bag.\\nAlso, it has noice cancellation and bass quality is also great.\",\n",
       " 'AFTER 2 WEEKS OF DAILY 1-2 HR USE\\nPROS:\\nSound quality is ear deafening... u can use it with 70-80% more than that u cant ..or u r crazy ...\\nBASS 5/5\\n\\nI feel the price is affordable.5/5\\n\\nThe wire are very durable 5/5(Wires with nylon outer cover as of i know )\\n\\nthe buttons 5/5\\n\\nI use it as a daily driver in gym\\nit wont come unless u take it out.\\n\\nCons: After using it for 60-70 minutes you will feel slight discomfort due to the ear wing and also you feel discomfort whiling using it in while on a pillow in bed.( the ear hooks are detachable) it gives more comfort.\\n\\nbut it is the best wired headset in the range and it is better than their own 225 headphones...\\n\\ni highly recommend it for people who need A good bass headphones\\nRead more',\n",
       " 'AFTER 2 WEEKS OF DAILY 1-2 HR USE\\nPROS:\\nSound quality is ear deafening... u can use it with 70-80% more than that u cant ..or u r crazy ...\\nBASS 5/5\\n\\nI feel the price is affordable.5/5\\n\\nThe wire are very durable 5/5(Wires with nylon outer cover as of i know )\\n\\nthe buttons 5/5\\n\\nI use it as a daily driver in gym\\nit wont come unless u take it out.\\n\\nCons: After using it for 60-70 minutes you will feel slight discomfort due to the ear wing and also you feel discomfort whiling using it in while on a pillow in bed.( the ear hooks are detachable) it gives more comfort.\\n\\nbut it is the best wired headset in the range and it is better than their own 225 headphones...\\n\\ni highly recommend it for people who need A good bass headphones\\nRead more',\n",
       " \"I have purchased this boat earphone few months ago...😊\\n\\nHere I'm sharing our experience with this product.\\n\\nBuild quality⏮️⏭️ Its build quality is Awesome and looks premium in hands when you hold it in your hands. Also its a light weight product.\\n\\nSound quality⏮️⏭️ sound quality is good.\\nWorks well for soft and melody songs with my personal experience.\\n\\nLength⏮️⏭️ comes with long size cable which is a cool thing and I like it.\\nOne thing I like is that it comes with a strap to tangle the cable.\\n\\nEar comfort ⏮️⏭️ get fit easily in ears.\\n\\nDurability ⏮️⏭️ It will depend what kind of user you are. If you're protective towards your stuff so maybe this will be a last long product.\\n\\n******************************************\\n\\nCons⏯️⏯️\\n\\nCome with dedicated microphone which works ok ok. There is still noise in calling while traveling. So not satisfied with this noise cancellation Mike.\\n\\nI am not satisfied with the bass quality. It works average.\\n\\n******************************************\\n\\nWhat you will get inside?⏮️⏭️ You will get earphone with some paperwork's and it comes with one year warranty which you have to activate by calling on the given number I guess.\\n\\nYou will also get two pairs of additional ear protector for further use.\\n\\nI hope this will help you to make your purchase decision.😊\\nRead more\",\n",
       " 'An excellent product. It is of lightweight design and of snug fit wired earphone.\\nIt have long durable tangle free cable.Easy to handle.\\nIt have Hi-fi audio quality with good bass. It is water and sweat resistant due to which can be used during gym, running and sports.\\nIt have passive Noise cancelation. Perfect for both indoor and outdoor use. It have hd mic for clear quality phone calls. It have wide range of compatibality with 3.5 mm jack. It can be used in smart phones, tablets, computer, MP3 player and laptops.\\nOne of best product in its range.',\n",
       " \"Looks like comination of boat 225 and boat 100. Most important thing is they doesn't slip from ears like 225. Very light weighted as boat 100 but sounds like 225. And they look very premium & stylish like 225. Once you plugged it into your ears you don't even feel it & they don't slip from ears like 225, & whoever used 225 knows that, this is the thing we get irritate of. So I specially recommend to everyone who wanted a budget earphone. Well I my writing such a long review because may be I am the first who bought this & writing review.....\",\n",
       " 'I had purchased these boat headphones on may 2017. Suddenly it has stopped working after just 4 months. It has a warrenty of 1 year. I want this product to be replaced as soon as possible. I need headphones badly. Such a bad experience with amazon as i have not done any major shopping yet on amazon. Just want this product to be replaced man.',\n",
       " 'An excellent product. It is of lightweight design and of snug fit wired earphone.\\nIt have long durable tangle free cable.Easy to handle.\\nIt have Hi-fi audio quality with good bass. It is water and sweat resistant due to which can be used during gym, running and sports.\\nIt have passive Noise cancelation. Perfect for both indoor and outdoor use. It have hd mic for clear quality phone calls. It have wide range of compatibality with 3.5 mm jack. It can be used in smart phones, tablets, computer, MP3 player and laptops.\\nOne of best product in its range.',\n",
       " 'Good enough for listening to news/ some casual music,etc. - But the wire are very flimsy, need delicate handling to\\nprevent wire breaking inside. - Throwaway item',\n",
       " \"I have purshce this headphone and i am enjoying this product , thank's to amazon\",\n",
       " 'Awesome sound quality. Bluetooth connection works very well. Light weight and comfortable ear cups. Bass is also quite impressive at this price point. The only problem is that the sound comes about 1 second delay while playing online games but it is fixed while using the auxillary cable provided in the box. You can pause or go to the next or previous sound track or even Youtube video and change the volume directly from the headphone. If you are buying your first headphone then this is best but i would not recommend it for people who play games all the time with headphones.',\n",
       " 'These are the best budget headphones.\\nI have never bought any headphones before so I was very confused. I was looking for other brands because first time you check this product, from the brand name you dont get the idea of superior quality since you might have never heard about it before.\\nAfter checking all the sites and products from different brands, I finally bought this product and now I understand that I did the right thing. These are best in budget. They have LED, two seperate jacks and those cushions are super comfy. At first you will feel pain after wearing it since you have a new product, but after sometime the cushion loosens up and become soft and comfortable for long time wearing sessions.\\nI hope this review was helpful for you budget gamers out there who want to get most out of their money.',\n",
       " 'Okay.. I was skeptical at first to buy this as i was tight at my budget , but to be honest this little product really exceed my expectation. If you are really tight on budget just go for this one.\\n\\nPs - for Redmi phone user , go to setting - sound effect and user equilizer and play around with sound enhancer to get the best sound result.',\n",
       " 'High performing, style and compact earphones. Writting this review after 5 days of rogorous use.\\n\\n1. Sound quality :one word I can say is it is permium . The sound is crystal clear sound and excellent noise cancellation.\\n\\n2. Compatiblity : work well with Android, ios and windows . Connect quickly no additional software required.\\n\\n3. Easy to use : quite handy and easy to use play, pause, next song button .\\n\\n4. Fit : fit is excellent. It come with 3 eartip options to suit and Carter to everyone.\\n\\n5. Battery : excellent battery back. Last 4 hour for nomal volume and last about 3 hour on high volume.\\n\\n6. Charging comes with a handy charging point. Changing usally takes 2 hours.\\n\\n7. Range : works perfectly in 8-9 meter radius, slightly distortion after that.\\n\\n8. Design : . No doubt here it has a tready and fashionable design. It is compact and easy to carry around.\\n\\nFinal verdits :worthy every penny. Must try if you are looking for budget high quality ear phone\\nRead more',\n",
       " 'On Time delivery - 5 star for Delivery\\nAudio Quality - Not as mentioned.\\nCalling - Too much of disturbance at time of calling.\\nToo much of ear irritation & pain after wearing for merely 10 - 15 min.\\nOverall review - NOT WORTH THE COST OF 1499/-\\nGot the delivery on 27th Aug and initiated refund for the same on 28th Aug.\\nAdvice not to buy......',\n",
       " 'posting this review after 2 weeks of daily usage\\nthis headphone is giving more than you can expect at this price point.\\nafter charging it to fully 100% it gave me music playback of 11-12hrs ( used it on different-different volume levels), battery backup is excellent as brand mentioned up to 12hrs on box.\\nit takes 2-2:10hrs to fully charge.\\nsound quality is excellent, very clear and loud, bass levels are great. tried it with many different devices like laptop,pc, smart tv and mobile, sounds great on every devices specially it sounds more better on mid end and high end devices.\\ncalling experience was overall good, while calling on other end person will hear little noise on your voice but still not that worse experience\\nbuild quality is great, has soft touch plastic finish on outer side. perfectly fits on every as size is fully adjustable.\\none thing i loved about it that it also supports 3.5mm jack so if it runs out of battery you can still enjoy your music without any interruption.\\noverall this headphone is best buy for money. if anyone need a great big size headphone at this price then i will definitely recommend this\\nRead more',\n",
       " 'It is very comfortable and sound is really great bass is also good only thing I got disappointed is it does not have metal earpiece or else it is worth buy',\n",
       " \"This is a genuine review and tested it for 2 complete days.\\n\\nPros:\\n- Battery life is good 3-4 hours with buds and around 12 additional hours with case. But should not expect this much backup of you are using volume above 80%\\n- Fits good in ears however, it depends on the ear size and shape of an individual also.\\n- The buds do not fall down during any work or workout. Did not try them while jogging/running though.\\n- Noise cancellation for calls is decent, even when it is not promised primarily. I spoke over a call for 3 hours and the call quality is good.\\n\\nCons:\\n- Volume levels are high, but not very high. With some Youtube videos, the volume levels will not be enough if you are in crowd.\\n- Bass is average, cannot have high expectations. These are not in-ear buds, hence, you'll feel the bass is low.\\n- due to smooth finish and improper shape of buds, it is difficult to take out the buds if your hands/fingers are big. They are also slippery.\\n- Touch controls are not so easy to navigate and sometimes I should repeat the command twice or thrice to get them working. Maybe I'm not much habituated to this.\\n- Touch commands are also different from other Noise/ear buds products, so getting confused when using them.\\n- When adjusting the ear bud, the long tap on the bud activates Google Assistance unnecessarily.\\n\\nOverall, the buds are too good for this price range. I don't think you should expect anything more for this deal.\\nRead more\",\n",
       " 'Okay.. I was skeptical at first to buy this as i was tight at my budget , but to be honest this little product really exceed my expectation. If you are really tight on budget just go for this one.\\n\\nPs - for Redmi phone user , go to setting - sound effect and user equilizer and play around with sound enhancer to get the best sound result.',\n",
       " 'High performing, style and compact earphones. Writting this review after 5 days of rogorous use.\\n\\n1. Sound quality :one word I can say is it is permium . The sound is crystal clear sound and excellent noise cancellation.\\n\\n2. Compatiblity : work well with Android, ios and windows . Connect quickly no additional software required.\\n\\n3. Easy to use : quite handy and easy to use play, pause, next song button .\\n\\n4. Fit : fit is excellent. It come with 3 eartip options to suit and Carter to everyone.\\n\\n5. Battery : excellent battery back. Last 4 hour for nomal volume and last about 3 hour on high volume.\\n\\n6. Charging comes with a handy charging point. Changing usally takes 2 hours.\\n\\n7. Range : works perfectly in 8-9 meter radius, slightly distortion after that.\\n\\n8. Design : . No doubt here it has a tready and fashionable design. It is compact and easy to carry around.\\n\\nFinal verdits :worthy every penny. Must try if you are looking for budget high quality ear phone\\nRead more',\n",
       " 'AFTER 2 WEEKS OF DAILY 1-2 HR USE\\nPROS:\\nSound quality is ear deafening... u can use it with 70-80% more than that u cant ..or u r crazy ...\\nBASS 5/5\\n\\nI feel the price is affordable.5/5\\n\\nThe wire are very durable 5/5(Wires with nylon outer cover as of i know )\\n\\nthe buttons 5/5\\n\\nI use it as a daily driver in gym\\nit wont come unless u take it out.\\n\\nCons: After using it for 60-70 minutes you will feel slight discomfort due to the ear wing and also you feel discomfort whiling using it in while on a pillow in bed.( the ear hooks are detachable) it gives more comfort.\\n\\nbut it is the best wired headset in the range and it is better than their own 225 headphones...\\n\\ni highly recommend it for people who need A good bass headphones\\nRead more',\n",
       " 'Product is really cool quality of product is nice thickness is little small otherwise sound and value of money i am happy to have this product',\n",
       " 'After a few days of usage : a good one but not best.\\nPros :\\n(1) Sound is Loud & clear\\n(2) Cheaper!\\n(3) No pain in ears\\n(4) Connectivity is good\\n(5) Battery - nice! Lasts about 5 hours\\nCons :\\n(1) Bass not upto mark\\n(2) Notice cancellation- 0/5\\nHope it will help you! Thanks!',\n",
       " 'Your browser does not support HTML5 video.\\n These sit very comfortably on my head\\n\\nI don’t have a particularly large head and they fit nicely, but I imagine they would be better for someone with a big head.\\n\\nGlow Lights : The Glow Lights effect is pretty decent. I am in college and this is Lights Headphone is truly a Head TurnerJ\\n\\nSound : Sound quality is also pretty good. Depending on the app/song I’m listening to, it can get EXTREMELY loud. So much so that I have to turn it down - which is saying something because I listen to my music on full blast most of the time.\\n\\nBuild : Build construction is solid enough. Pads are very soft and so far the body has been durable. I’ve dropped these on the ground a few times and they are still performing fabulously.\\n\\nBattery Life : Finally, and very importantly, the battery life on these is UNPRECEDENTED. I mean I will use these for hours a day for like 2 weeks in a row before even thinking about charging them.\\n\\nBluetooth connection is lightning fast and has superb distance. In an open field I’ve used them further than 80’ from my phone.\\nRead more',\n",
       " 'AFTER 2 WEEKS OF DAILY 1-2 HR USE\\nPROS:\\nSound quality is ear deafening... u can use it with 70-80% more than that u cant ..or u r crazy ...\\nBASS 5/5\\n\\nI feel the price is affordable.5/5\\n\\nThe wire are very durable 5/5(Wires with nylon outer cover as of i know )\\n\\nthe buttons 5/5\\n\\nI use it as a daily driver in gym\\nit wont come unless u take it out.\\n\\nCons: After using it for 60-70 minutes you will feel slight discomfort due to the ear wing and also you feel discomfort whiling using it in while on a pillow in bed.( the ear hooks are detachable) it gives more comfort.\\n\\nbut it is the best wired headset in the range and it is better than their own 225 headphones...\\n\\ni highly recommend it for people who need A good bass headphones\\nRead more',\n",
       " 'Awesome headphone in good price. I love sound quality of this so if you are looking for budget Wireless Bluetooth Headphone then this is great choice..',\n",
       " 'One of the best I have bought for my Macbook till date. I use a Bose Soundlink around the ear, a Harmon Kardon bluetooth 2.1 system on the work desk and Harmon Kardon 6 speaker system in the car. So, judgement of sound quality is based on all those. The immediate change I notice from other in-ear headphones is the extra bass and clarity ! Highly recommended !',\n",
       " 'In contrast to some reviews, audio on news podcasts and music very clear. Sound quality for sender and recipient very good on my Samsung mobile phone. Once paired connects automatically to nearest paired device as you remove from charging box. Lights up as shown in photo once you return to box. After couple of weeks use, consistent listening time of 4+ hours without recharging. Recharges fully in one hour. Recommended and excellent value.',\n",
       " \"Looks like comination of boat 225 and boat 100. Most important thing is they doesn't slip from ears like 225. Very light weighted as boat 100 but sounds like 225. And they look very premium & stylish like 225. Once you plugged it into your ears you don't even feel it & they don't slip from ears like 225, & whoever used 225 knows that, this is the thing we get irritate of. So I specially recommend to everyone who wanted a budget earphone. Well I my writing such a long review because may be I am the first who bought this & writing review.....\",\n",
       " 'An excellent product. It is of lightweight design and of snug fit wired earphone.\\nIt have long durable tangle free cable.Easy to handle.\\nIt have Hi-fi audio quality with good bass. It is water and sweat resistant due to which can be used during gym, running and sports.\\nIt have passive Noise cancelation. Perfect for both indoor and outdoor use. It have hd mic for clear quality phone calls. It have wide range of compatibality with 3.5 mm jack. It can be used in smart phones, tablets, computer, MP3 player and laptops.\\nOne of best product in its range.',\n",
       " \"the worst product ever I have seen.. waste of money..not at all worth, I had returned the same product, which was just broken by opening from package, the replacement of the sme is also worst received, ultimately its a worst. pls don't buy\",\n",
       " \"9/08/18 : Why I gave 3 stars? I am a Sony fanboy, have been a proud user of mdr-ex110ap, mdr-xb450, mdr-ex150ap. Purchased mdr-xb55ap and using it for a week. The sound quality of this beast will blow ur mind, I have lost my mind with the amount of bass it provides, loudness is god level. About sound there is not even 1% of problem. The problem is with COMFORT. The bigger 12mm driver compared to 9mm in the ex110ap, ex150ap makes u feel it is bigger, u can't comfortably sleep sideways having this beast plugged into ur ears. Using this for long time hurts ur ears. Really worried about it. If u don't want a lot of loudness and if ur a long duration user of earphones, don't buy this one, mdr-ex155ap is the one for u.\\n\\nUpdate(11-01-19) : Have been using this beast for 5 months, I would say I have gotten used it, so would you, rarely I feel discomfort now. I update my rating from 4 to 5. Now I would say I would buy this mdr xb55 over mdr ex155 anyday. After listening to mdr xb55 you wouldn't be satisfied with mdr ex155.\",\n",
       " 'This is a very good headphones .I can hear clear footstep in pubg pc and rainbow six siege',\n",
       " 'You should buy realme buds 2 they are way better than this by paying 200 more I have buy both Redmi and Realme earphone',\n",
       " 'no review',\n",
       " \"Great built up quality but sound quality is not up to the mark although inbuilt mic does it's job in an exemplary way. Their is hardly 2 to 3 hours of stand by battery back up and the main drawback is aux cable provided with it is NOT COMPATIBLE never experienced such a mess with amazon till now. My personal opinion BOAT is better than Boult. Hope amazon will take necessary actions to rectify & satisfy it's customer's.\",\n",
       " \"I didn't receive a charger cable😡\",\n",
       " \"Don't Go for it...\\nBattery backup is not good..\\nIt Takes 1.5hr to chagr appropriate and 2hrs to drain....\\nI'm returning it\",\n",
       " 'no review',\n",
       " \"As you can see from the pictures pretty disappointed with Amazon as the box was open. It looked like it was hurriedly packed in. The carry pouch missing. So for Amazon delivery I will give 1 star. For the headphones I have been listening to them for the last 2 days and it's still early days. The sound quality is amazing and it does block out the outside noise. The 2 jacks provided with the headphones are very good material. I had plugged 1 into my phone and the other to my PC. sound is very clear and you can hear the beats clearly. Headphone is made of good material and it can easily fit over large heads. You might feel discomfort over the ears but that would easily be if u r listening to the headphones for more then 2 hours otherwise the cushion on the ear cups is of great quality. I specially went for this since I think bluetooth headphones don't provide that great sound as compared to non bluetooth ones. Having said that this is a fantastic headphone if u are.nkt looking for Bluetooth.\",\n",
       " 'Grate product but having some issue with comfertablelity but worth of money',\n",
       " \"Hey guys,\\nI got these earphones and I used it thoroughly in every sense like I tested battery time, charging time,sound quality, connectivity,etc. So let's start with pros.\\nPros:\\nThis is a boat product so I expecting to be in great sounding and it did. It's sound quality is like best at its price segment and better than high priced product too.\\nIt fits into the ear like perfect fitting. It will not come out even you swing your head hardly.\\nIt has a decent look that doesn't even get noticed like very subtle.\\nIts mic quality is also decent.\\nAnd now for what you have come so far\\nCons:\\nIt shows of having a battery life upto 8 hours but it doesn't giving even 5 hours of continuous use.\\nIts bluetooth connectivity is also poor. It's connection get blocked by a single wall. That means you can't use it in your home but if you use it in open place,you will get a range of 10 m.\\nIts mic sound get distortion at the other end when you are on a call.\\nIt got a very bad phrases which interupt your music which I heard most people are complaining.\\nIt got some bad software sync with your phone. Like you charged it, you are using it and it doesn't show a battery drop after use and you think that it giving a great battery life but its not. That level drop drastically like from 100 to 50 directly and then you think that its a defected piece but its not. So this is also a issue.\\nAnd at last, when you are on call it cut little sound from the other side like blocking signals. Its the earphone issue.\\n\\nNow conclusion,\\nIf you want to get a great sounding earphone, go for 550 pro/sport which come at same price.\\nAll in one word, I am not recommending these as you can't buy this only for sound.\\nAnd you can get my point from the above mentioned issues.\\n\\nHope ypu liked the review.\\nThanks\\nRead more\",\n",
       " 'working was ok but cheap breakable material used and it broke from center within 20 days',\n",
       " 'This design is perfect for all kinds of scenarios like the gym, or just for listening to music. When it comes to sound and bass is decent But I recommend to use this earphones in 70-80% of volume and it gives deep and balanced bass and its ok for this price range.\\nRead more',\n",
       " \"I bought these headphones for about 9k with a 1000 INR off with SBI Credit Card discount.\\nPros:-\\n\\n1. Comfortable fit\\n2. Battery Life (Average charge in 4-5 days , i use these for close to 7 hours a day for my meetings, movies, songs etc.\\n3. Fast Charge - USB C type\\n4. Light weight (Does not give me a headache)\\n5. Sony headphones at an affordable price.\\n6. Good bass with ANC enabled specially (Better than sennheiser)\\n7. ANC is better than sennheiser 4.50 SE BT\\n8. NFC has a fast pickup. (Used with Oneplus 6T)\\n9. Mic is great for calling and cancels out a good amount of noise outside.\\n\\nCons:-\\n\\n1. Noise cancellation is decent but don't expect it to do any sort of wonders. Feels like cabin pressure similar to what you feels in an aircraft.\\n2. Can wear it for 3-4 hours straight after that it might just give you some sort of ear pain or a sense of discomfort.\\n3. You can't switch between different devices. Connects to only 1 at a time unlike the sennheiser 4.50 SE BT in the same price range. But the connecting speed is pretty fast so again this is okay for me.\\n4. No case included , a soft case in included with sennheiser 4.50 SE BT.\\n5. No app support which is there in the sennheiser one. However it didn't affect me much even if it had a support.\\n\\nOverall Verdict :-\\n\\nGood headphones if someone is more towards the brand Sony and has a tight budget of not more than 9-10k since the sennheiser ones sometimes comes at a price of 11-12k with similar features. You can anyways buy a hardshell headphone case for 600-700 INR. ANC does it's job pretty well in the price range especially compared to any other in the same price bracket. Gives a decent fit for majority. Battery life is good about 30-35 hours and charging time is not that much as well, close to 1.5-2 Hours for a full charge. If someone is already using phones with USB-C type then i would say you don't even require to take out the charging cable of sony.\\n\\nBetter option for people with higher budget :- Sony WH-XB900N\\n\\nBest Price :- I would say the price which i bought it for (8991 INR incl. of 1000 INR off) was possibly the best price out there if you wish to buy it from trustable websites. Wait for some credit cards discount and then buy it.\\n\\nReason for a 4 stars Review :-\\n\\nThere is nothing so unique about these headphones which makes it stand apart from the competitors at this price point. Does it's job pretty well but yeah an app support or toggle btw. 2 devices would have given it a 5 stars rating.\\nMight just be a reason that after reviewing it's Sony WH-XB900N, i expected a bit too much. :P\\nRead more\",\n",
       " 'Good product',\n",
       " 'Your browser does not support HTML5 video.\\n I am just in love with this product.This product has everything which one can expect from this product.The sound quality is awesome.No disturbance in calls and the songs are heard properly even at high volume.Voice on call is heard on other end even when you are in the outside.it offers noise cancellation as well to some extent.If you are thinking of buying ear buds go for it.I have a heavy usage and just charged the case 2 in 4 days.batttery back up is good and does not drain out quickly',\n",
       " 'They are really a beast . Vocals are crisp even at high bass is just above average but give a nice feel and are super comfortable at this price point these are the best',\n",
       " 'O enjoyed the product.',\n",
       " 'Sound quality is good.Value for money at this price. Suggest you to join smule or starmaker singing app to experience your singing ability',\n",
       " 'Battery backup is very low',\n",
       " 'no review',\n",
       " \"Been using these for 2 days now and have a few observations.\\n\\nPros:\\nSound quality - It is pretty damn good. It is correctly named the Bassbuds because the bass is truly something nice here. I was pleasantly surprised with it. The highs are a bit on the muted aise though. The sound isn't as fuller as I had hoped it to be. But at least the bass is nice!\\n\\nValue for money: These truly are value for money.\\n\\nBattery backup: Fhe battery backup is decent. But rather low of you listen at full volume and songs with high amount of bass.\\n\\nCons:\\n\\nBuild quality: The build quality is the worst thing about this. It truly shows that it is budget oriented. The plastic used is pretty bad. Both in headphones and the base unit. Sometimes it feels like you will break it just opening up the base unit. The headsets also feel very flimsy. Feels like the buttons will break pretty soon.\\nMy unit in particular feels a bit defective, the headsets are rather loose in the base unit, and just closing the base unit's door sometimes ends up moving the headset in it and it stops charging and the hesdphone turns on thinking it has been removed from the base unit\\n\\nI wanted to rate it higher and I would have, but the build quality leaves a lot to be desired.\\nRead more\",\n",
       " \"the worst product ever I have seen.. waste of money..not at all worth, I had returned the same product, which was just broken by opening from package, the replacement of the sme is also worst received, ultimately its a worst. pls don't buy\",\n",
       " \"Looks like comination of boat 225 and boat 100. Most important thing is they doesn't slip from ears like 225. Very light weighted as boat 100 but sounds like 225. And they look very premium & stylish like 225. Once you plugged it into your ears you don't even feel it & they don't slip from ears like 225, & whoever used 225 knows that, this is the thing we get irritate of. So I specially recommend to everyone who wanted a budget earphone. Well I my writing such a long review because may be I am the first who bought this & writing review.....\",\n",
       " 'Awesome sound quality. Bluetooth connection works very well. Light weight and comfortable ear cups. Bass is also quite impressive at this price point. The only problem is that the sound comes about 1 second delay while playing online games but it is fixed while using the auxillary cable provided in the box. You can pause or go to the next or previous sound track or even Youtube video and change the volume directly from the headphone. If you are buying your first headphone then this is best but i would not recommend it for people who play games all the time with headphones.\\nRead more',\n",
       " \"1. These bluetooth headset comes with LDAC bluetooth codec capable of transmitting 960 kbps bitrate songs. But note that those songs are not your average mp3 format songs. You will need FLAC or WAV format of songs which are either chargeable or very few songs available to download from torrent. Only then you can enjoy the full capability of these oppo enco m31.\\n2. No doubt they sound better than any base centric earphones. They have titanium drivers which speaks quality.\\n3. The battery life is based on what you listen to, if you going to download those high bitrate songs which are nearly 25 ot 30 mb size then only keep the LDAC option switched on in bluetooth settings. Otherwise no use. Note: people with no knowledge about audio straight can buy oneplus wireless z since they only provide good battery life.\\n4. The battery life is 9 hrs continuous (mp3 format 320 kbps audio) with LDAC it should give you near about 6 to 7 hrs.\\n5. The build is as good as OnePlus. Not necessary the wires need to be thick to be good in quality. Misconception. EVERY BLUETOOTH HEADSET SHOULD BE USED WITH CARE ELSE BUY WIRED EARPHONES.\\n5. Please burn your drivers before concluding the sound quality for atleast 2 to 3 days.\\n6. Call quality is as good. Nothing around 5k will give you pindrop background noise cancellation. So expect certain high pitch background noise to infiltrate. Oneplus wireless Z has a mic a little bit higher on the earphone wire makes no difference. It's hardly 1 or more half inch close to mouth which practically makes no sense.\\n7. The earphones fit so good. I've never tried anything better in my life. You can even sleep side ways wearing in-ear earphones. This is a dream come true.\\n8. Charging port is open. Should have been covered with some rubber clip at the least. No idea how will this age, only time can tell.\\n9. Do select a proper size buds for yourself, only then you will enjoy the real experience.\\n10. Don't wait for your battery to fall 10%. Charge it when it's near 30% upto 90%. This way you can keep your battery healthy and long lasting.\\n11. Base boost mode is good. But only turn on if you are in that zone of listening to just a few bass heavy songs or when your outdoors and can't pay attention to real instruments in background. Else balance mode is perfectly tuned.\\n12. Just like OnePlus wireless Z even oppo enco m31 has quick switch. You'll need to press volume -/+ together to switch between your 2 devices.\\nRead more\",\n",
       " \"The sound is awesome, dont expect deep bass from it. Excellent if you're more concerned about mids and highs. The size is a bit bulky, so you might not find it comfortable if using for a long time, this will also depend on the fit as not everyone would have the same kind of fit. Touch responsiveness is too good, people who are complaining either have a faulty product or unaware of where the touch sensors are. Will update the review after a few weeks of usage.\\n\\nUpdate#1: Wearing it for over 2 hours will cause significant amount of pain and discomfort. Would not recommend using it for long duration. Battery life is good, can easily last ~4hours with medium sound level. But the irony is that you wouldn't be able to wear it that long :P\\n\\nUpdate#2: A lot of people would complaint about reducing battery life. It very important that you follow charging instructions. The case needs to be charged at 1amp,not more. These batteries can not handle higher charging currents. Its not compulsory to charge it to a 100%. I have been using a dedicated 1amp charger to charge this and other devices like smartwatch\",\n",
       " 'After using 4 to 5 days i would like to say as followings\\n1. Sound quality is good and clear with reasonable bass. But it is really clear\\n2. It is good value for money.\\n3. I have used it for continuously 2-3 hours when driving the bike with helmet. There will be no problem atall for ear also bluetooth connection.\\n4. I have checked that battery goes up to 6 - 7 hours with 70% volume and believe that 70% percent volume seems to be more than sufficient .\\n5. Noise cancellation is good.\\n6. Only notable thing is the right side seems to be little bit more loud in comparison to left side . But after some time believe me u could not feel any difference.\\n7. Neckband is good and stylish.\\nI am satisfied with this at this price point.\\n8.It is better than samsung u level bluetooth wireless phone.\\n9. Lastly i have also purchased BASS EVOLUTION wireless earphone. I feel this is also good and better bass than wings glide.\\nMy last conclusion is Wings glide is good\\nBut BASS EVOLUTION is very good interms of Bass. Thank you.\\nRead more']"
      ]
     },
     "execution_count": 555,
     "metadata": {},
     "output_type": "execute_result"
    }
   ],
   "source": [
    "headphone_review"
   ]
  },
  {
   "cell_type": "code",
   "execution_count": 918,
   "metadata": {},
   "outputs": [
    {
     "data": {
      "text/plain": [
       "61"
      ]
     },
     "execution_count": 918,
     "metadata": {},
     "output_type": "execute_result"
    }
   ],
   "source": [
    "len(headphone_review)"
   ]
  },
  {
   "cell_type": "code",
   "execution_count": 1022,
   "metadata": {},
   "outputs": [],
   "source": [
    "headphone_rating=[3,3,4,4,4,4,5,4,1,5,4,4,4,4,3,5,2,5,4,4,3,5,4,4,3,3,4,4,4,5,4,4,1,3,4,2,3,4,2,1,3,3,3,3,3,4,4,4,3,5,4,4,2,3,4,1,4,4,3,4,3]"
   ]
  },
  {
   "cell_type": "code",
   "execution_count": 917,
   "metadata": {},
   "outputs": [
    {
     "data": {
      "text/plain": [
       "61"
      ]
     },
     "execution_count": 917,
     "metadata": {},
     "output_type": "execute_result"
    }
   ],
   "source": [
    "len(headphone_rating)"
   ]
  },
  {
   "cell_type": "code",
   "execution_count": 338,
   "metadata": {},
   "outputs": [],
   "source": []
  },
  {
   "cell_type": "code",
   "execution_count": 340,
   "metadata": {},
   "outputs": [],
   "source": []
  },
  {
   "cell_type": "code",
   "execution_count": null,
   "metadata": {},
   "outputs": [],
   "source": []
  },
  {
   "cell_type": "code",
   "execution_count": 342,
   "metadata": {},
   "outputs": [],
   "source": [
    "tablet_review=[]"
   ]
  },
  {
   "cell_type": "code",
   "execution_count": 343,
   "metadata": {},
   "outputs": [],
   "source": [
    "urls=driver.find_elements_by_xpath(\"//a[@class='a-link-normal a-text-normal']\")\n",
    "UR=[]\n",
    "for i in urls:\n",
    "    UR.append(i.get_attribute('href'))\n",
    "for url in UR:\n",
    "    driver.get(url) \n",
    "    try:\n",
    "        rate=driver.find_element_by_xpath(\"//span[@id='acrCustomerReviewText']\")\n",
    "        rate.click()\n",
    "        review=driver.find_element_by_xpath(\"//div[@class='a-row a-spacing-small review-data']\")\n",
    "        tablet_review.append(review.text)\n",
    "    \n",
    "    except NoSuchElementException as e:\n",
    "        tablet_review.append(\"no review\")"
   ]
  },
  {
   "cell_type": "code",
   "execution_count": 916,
   "metadata": {},
   "outputs": [
    {
     "data": {
      "text/plain": [
       "16"
      ]
     },
     "execution_count": 916,
     "metadata": {},
     "output_type": "execute_result"
    }
   ],
   "source": [
    "len(tablet_review)\n"
   ]
  },
  {
   "cell_type": "code",
   "execution_count": 602,
   "metadata": {},
   "outputs": [
    {
     "data": {
      "text/plain": [
       "'no review'"
      ]
     },
     "execution_count": 602,
     "metadata": {},
     "output_type": "execute_result"
    }
   ],
   "source": [
    "tablet_review[15]"
   ]
  },
  {
   "cell_type": "code",
   "execution_count": 1023,
   "metadata": {},
   "outputs": [],
   "source": [
    "tablet_rating=[1,2,3,4,3,4,3,3,5,3,3,4,4,4,2,3]\n",
    "               "
   ]
  },
  {
   "cell_type": "code",
   "execution_count": 915,
   "metadata": {},
   "outputs": [
    {
     "data": {
      "text/plain": [
       "16"
      ]
     },
     "execution_count": 915,
     "metadata": {},
     "output_type": "execute_result"
    }
   ],
   "source": [
    "len(tablet_rating)"
   ]
  },
  {
   "cell_type": "code",
   "execution_count": null,
   "metadata": {},
   "outputs": [],
   "source": []
  },
  {
   "cell_type": "code",
   "execution_count": null,
   "metadata": {},
   "outputs": [],
   "source": [
    "playstay"
   ]
  },
  {
   "cell_type": "code",
   "execution_count": 346,
   "metadata": {},
   "outputs": [],
   "source": [
    "urls=driver.find_elements_by_xpath(\"//a[@class='a-link-normal a-text-normal']\")\n",
    "UR=[]\n",
    "for i in urls:\n",
    "    UR.append(i.get_attribute('href'))\n",
    "for url in UR:\n",
    "    driver.get(url) \n",
    "    try:\n",
    "        rate=driver.find_element_by_xpath(\"//span[@id='acrCustomerReviewText']\")\n",
    "        rate.click()\n",
    "        review=driver.find_element_by_xpath(\"//div[@class='a-row a-spacing-small review-data']\")\n",
    "        playstation_review.append(review.text)\n",
    "    \n",
    "    except NoSuchElementException as e:\n",
    "        playstation_review.append(\"no review\")"
   ]
  },
  {
   "cell_type": "code",
   "execution_count": 869,
   "metadata": {},
   "outputs": [
    {
     "data": {
      "text/plain": [
       "22"
      ]
     },
     "execution_count": 869,
     "metadata": {},
     "output_type": "execute_result"
    }
   ],
   "source": [
    "len(playstation_review)"
   ]
  },
  {
   "cell_type": "code",
   "execution_count": 870,
   "metadata": {
    "collapsed": true
   },
   "outputs": [
    {
     "data": {
      "text/plain": [
       "[\"First of all, Xbox is not for me as its exclusive game library is not as good, and the ones that are, can be played on PC! Moreover, I dont think the upcoming Series S is worth it, as its has meagre 512GB storage (of which usable will be even less) and since its only digital, over a long term, its gonna be expensive as hell.\\nNow, I only own a 1080p 60Hz monitor. so the question boiled down to whether higher FPS and next-gen features like load times and ray tracing were important enough for 40k-50k price for ps5.\\nThe answer is that they are important, but not this early in the life-cycle. That said, I am mostly looking forward to the ps5 slim whenever it comes. At that point, games will properly utilize these features also. Moreover, you can install SSD into PS4 to cut load times by upto 50%!\\nTherefore, I went ahead for this sweet piece of hardware that is ps4. In addition, if you have been following, ps4 is receiving heavy discounts on digital games. Fifa20 was recently <300Rs!, just 1-2 years later from like 3000+!!!. All games look really pretty and run smoothly (30FPS). Not to forget most of the newer PS5 titles will be available for PS4 in next 1-2 years!\\nAnd TBH, I really don't care about graphics that much. What we should really focus on is the entire experience (including story, acting, gameplay), which is where PS4 heavily outclasses the pros of xbox bandwagon, and even ps5 (albeit only in terms of price of games, which are going to drop for ps4 post PS5 release).\\nImagine owning several games like Jedi: Fallen Order (giving a cross-platform example for reference). Well that right there is the ps4 experience! I am talking about God of War, Uncharted, The Last of us series, Heavy Rain, Beyond two souls, Ghosts of Tsushima, Shadow of colossus, Until Dawn, The Order: 1886 among many others. Spiderman is for childhood memories (I still remember playing the very first 3d one) and Days Gone for casual fun.\\nRead more\",\n",
       " \"hello,plzz note this that you will not get any hard copy or any paper..you will get code on your Amazon account. check your Amazon account after buying. i was waiting for hard copy for 10 days. didn't knew that code is in email.thanks,good and legit seller.\",\n",
       " \"Say 🎉welcome home to the new baby👽, Live Tech To! Man wireless gamepad🎊. Live Tech is a chinese company which excels in making gamepads for Android Mobiles and also IOS. This new gamepad unlike the previous generation is also compatible with pc wireless gaming and supports Android TV's too.\\nJust so as to make it clear right of the bat, this particular series excels particularly in Android TV and Android Box Gaming😻. It also supports the mobile gaming to a certain extent by downloading the app on your Android device which you are free to explore.\\nNow, the question is, who should buy this gamepad?🤔- Well I for one felt that this gamepad is a heaven-sent for those in dilemma such as myself searching for a android box compatible gamepad. I recently bought Mi Box 4k for which I needed a gamepad to play games such as Asphalt 8 and Dead Trigger 2 as well as GTA😉...This particular gamepad worked flawlessly on the box, just by pressing LB+Home Button at the same time after the usb has been plugged in the socket (feel free to refer to my example in the pictures). It connects and recognises it within 1.5 seconds so it's good (that is to say instantly). I also connected it with my laptop usb and was able to play Steins;Gate (a Virtual lightnovel game) and others such as the Walking Dead by Tell Tales. Since I don't do heavy gaming you need to check it out yourself. I have also uploaded the instruction manual so you can check before you buy.\\nNow then, let's give it a detailed review:-\\n• Build Design- Live Tech just went full retro on us in Yo! man and we get a controller with looks quite similar to Xbox 360 controller. But no, wait, it gets better. The design is much sleeker at the bottom part which Xbox has a bulge for battery👍🏻. It also has a expandable phone holder, whether you like it or hate it, you can't ignore it. The gamepad works when it is open but as soon as you shut it, so does the pad.\\n•Built Quality- Well here comes a few issues. The quality in general is really good but the triggers don't exude a premium feeling. 🗳️ Don't mistake me here, it's good in comparison with other controllers in the market but not the standard of Xbox 360 (original). The mobile holder thank God is subtle in this series but dents appear if you use it too rigorously.\\n• System Interface/Configuration- No Baby, there aren't any probs to face here. The controller works super smooth and the gaming experience is premium. No late responses, never failed me once. The controls are highly programmable and if you don't like it then change it, it has a function in every game whether pc or mi box/TV. But there might be a tiny issue which you face is that many times in selected games the back button doesn't work, for this go into the settings and rock it into your own style and problem solve.\\n•Battery- Here comes the good part, the company Live Tech does good on their word of maintaining 10 hours of battery life. When the charge is low then the forth led/ LED4 light flashes red rapidly. If the controller is not in use for more than 5 minutes then it switches off, which you can easily reconnect. Very good battery saving optimised, am I right.\\n•Operating System- The previous editions didn't have the pc features buy now you get a whole bunch, so know yourself out. ☺️Yet I believe and this is my own recommendation that you should buy this for Android since it has no probs, loopholes or vetos.... This is hands down the smoothest gamepad, rather, The NO.1 gamepad for AndroidTv/ Box/ Mobiles (don't forget pc, it's compatible).\\nSo what do we conclude?-\\n• Built Design- 5/5 (Déjà vu to Xbox 360)😆\\n• Built Quality- 4/5 (Room for improvement)🤔\\n• User Interface/ configuration-5/5 (Deserves it)😉\\n• Battery- 5/5 (definitely)😏\\n• Operating System- 5/5 (all get that in this department)😂\\nBut as you might have seen in the pictures above I uploaded that I ordered it in Amazon Great Sale. I got the box a little damage ( am saying in moderation😶) by the courier but I excepted on his apology plee. The seller (Live Tech) provides good stuff but be careful not to order in rush hours.😒\\nThis gamepad is phenomenal and dynamic which can be adapted quite easily and the retro look just is love❤️❤️❤️....Live Tech is one of the best upcoming brands in gamepads so people and fans show some love for the brand, its a diamond in the making. I bought this on a whim after I don't know whether you noticed that the gamepads suddenly disappeared from the market for other unknown reasons and this baby here is one of the emerging players of the year. So click the like (helpful) button 👍🏻and go grab a piece of beauty for your TV/ Pc whichever suits you better man. Chao...\\nRead more\",\n",
       " 'Bought the starter pack using this code, they emailed me the code in Just 15minutes, u can blindly trust this product.',\n",
       " 'Very fast from GameKart. Got code within 30 mins. Redeemed Rs. 1000 without any problem. I am using a European made PS4 Pro. However, I signed up for Playstation in India. Absolutely no problem. The build is irrelevant. Only signing up using Indian credentials is enough.',\n",
       " 'no review',\n",
       " 'Quality',\n",
       " 'works good on my system but after pulling out my controller it pull out the charge port on my controller.....',\n",
       " 'no review',\n",
       " 'Yes yes yes!! This controller dont work thi s is too much scam I want my money back',\n",
       " 'Superb skin',\n",
       " 'Was a little scared about purchasing this but its definitely genuine and really got delivered under 30mins even when i purchased at 1am past midnight 😅.',\n",
       " 'no review',\n",
       " \"Your browser does not support HTML5 video.\\n Totally didn't get what I ordered for. But it seems to be working.\",\n",
       " 'Use this for my PS4 as my fan broke works great and brand new would recommend this for original model PS4 users thanks',\n",
       " 'no review',\n",
       " 'no review',\n",
       " 'no review',\n",
       " \"My most favorite part about this charge station is how easy it is to place the controller on the dock. The tiny inserts they use make this worth buying vs other controller chargers. Since I swap out controllers if one is on low battery I never have an issue that it charges slow. I bought 2 and both are working amazingly well. Charge station is powered through USB you can easily attach it to your PS4 and your controllers will charge while the PS4 is on, however once the PS4 is off there's no power going to the dock to charge them. you probably can plug it into a wall with an adapter as well.\",\n",
       " 'Very Good Product Best & Good Service Thank You I Like PS4 Wireless Controller Best Price & Low Price !',\n",
       " 'no review',\n",
       " \"Product quality was average but didn't fit redgear pro wireless controller so had to return.\"]"
      ]
     },
     "execution_count": 870,
     "metadata": {},
     "output_type": "execute_result"
    }
   ],
   "source": [
    "playstation_review"
   ]
  },
  {
   "cell_type": "code",
   "execution_count": 1024,
   "metadata": {},
   "outputs": [],
   "source": [
    "playstation_rating=[3,3,4,5,4,3,4,4,3,1,3,4,3,3,4,3,3,3,4,4,3,3]"
   ]
  },
  {
   "cell_type": "code",
   "execution_count": 913,
   "metadata": {},
   "outputs": [
    {
     "data": {
      "text/plain": [
       "22"
      ]
     },
     "execution_count": 913,
     "metadata": {},
     "output_type": "execute_result"
    }
   ],
   "source": [
    "len(playstation_rating)"
   ]
  },
  {
   "cell_type": "code",
   "execution_count": 914,
   "metadata": {},
   "outputs": [
    {
     "data": {
      "text/plain": [
       "22"
      ]
     },
     "execution_count": 914,
     "metadata": {},
     "output_type": "execute_result"
    }
   ],
   "source": [
    "len(playstation_review)"
   ]
  },
  {
   "cell_type": "code",
   "execution_count": 348,
   "metadata": {},
   "outputs": [],
   "source": [
    "speaker_review=[]"
   ]
  },
  {
   "cell_type": "code",
   "execution_count": 349,
   "metadata": {},
   "outputs": [],
   "source": [
    "urls=driver.find_elements_by_xpath(\"//a[@class='a-link-normal a-text-normal']\")\n",
    "UR=[]\n",
    "for i in urls:\n",
    "    UR.append(i.get_attribute('href'))\n",
    "for url in UR:\n",
    "    driver.get(url) \n",
    "    try:\n",
    "        rate=driver.find_element_by_xpath(\"//span[@id='acrCustomerReviewText']\")\n",
    "        rate.click()\n",
    "        review=driver.find_element_by_xpath(\"//div[@class='a-row a-spacing-small review-data']\")\n",
    "        speaker_review.append(review.text)\n",
    "    \n",
    "    except NoSuchElementException as e:\n",
    "        speaker_review.append(\"no review\")"
   ]
  },
  {
   "cell_type": "code",
   "execution_count": 665,
   "metadata": {
    "collapsed": true
   },
   "outputs": [
    {
     "data": {
      "text/plain": [
       "['Your browser does not support HTML5 video.\\n 1st Review of this product.\\n\\nAs always zebronics is best and value for the price, this product does what it says, and much satisfied with its build quality and sound. Two cons on my part is, FM reception is very very poor inspite of attaching the aux of charging cable it finds it very difficult to scan or play in an open land itself. So FM is there for name sake. 2., AV delay when connecting with My Teevision or mobile. There is a minute sec delay when playing audio. Both has bluetooth v5.\\n\\nSo other than that if you are using it for playing audio songs via bluetooth or SD card or USB, it does its work.\\nRead more',\n",
       " 'no review',\n",
       " 'Your browser does not support HTML5 video.\\n Good Product. Sound Quality Good. Battery Backup Good (But 5 hours recharging).',\n",
       " 'Your browser does not support HTML5 video.\\n I love this speaker there is no negative to say on my view',\n",
       " 'Your browser does not support HTML5 video.\\n Good Product. Sound Quality Good. Battery Backup Good (But 5 hours recharging).',\n",
       " \"It is very very bad product. I am very disappointed after purchase it. After purchase I use only 14days and it is stop working. After register complain both side Amazon & Philips customer care but still today above passed 2 month my problem not solved yet. They still arranging part which is faulty but not get it yet. Worst product & services. I am not not getting repair product or replacement after many time request to customer care. I suggest every one please Don't purchase.\",\n",
       " 'The speakers were delivered on time and I don’t regret buying them. The sound quality is awesome and if u r looking for a home theatre under 8K you can simply go for it.\\nThe bass is amazing and it does not distort, you can actually feel the thump when you play it in medium volume, it’s been more than a week and I have not really played them on full volume cuz of the thump!! Dnt think twice, go for them!',\n",
       " 'THE product is awesome but the packing was very poor. I have uploaded the photos regarding the same. Amazon shall kindly look into the matter and take necessary actions.\\nOverall the product is very good n the bass n volume is upto the mark.',\n",
       " 'Your browser does not support HTML5 video.\\n I ordered a JBL flip 4 on february and use it with my cellphone to listen to songs and stuff but its been 8 months now and its battery life has been already reduced to ½ hour max , this was not expected from JBL now i need to continously keep it charging or else it justs switches off , I havent dropped it either its just been sitting on my table ever since i bough it\\nI wish amazon sees this or i am gonna make it viral',\n",
       " \"Your browser does not support HTML5 video.\\n No this is not a fake review! Product delivered in a day.\\nThis my first mivi product. I was kind of skeptical but m jus blown away with what they have done.\\nBuilt quality top notch. Quite sturdy and compact.\\nAux, voulme up/down, usb charging port\\nSound quality / clarity - deep and very crisp\\nThe sound quality varies it seems when connected via Bluetooth over laptop aux. The video shared is via laptop aux at full volume.\\nIt doesn't disappoint. It's quite the grab for the price. The volume range is wider via Bluetooth. At full volume there is buzz on the bass notes, however it's more than what is expected out of a 5W speaker.\\nI listen to metal, n it handled Lamb of God quite well at moderate volume.\\nCall quality is also clear and the mic clarity is commendable\\nBrought another one and once both the spekaers are paired, its just beast mode. Sound is clear and easily sufficient to fill up a large room.\\nGreat sound quality and it's definitely value for money product\\nRead more\",\n",
       " \"Your browser does not support HTML5 video.\\n This is a Brand New Portable Bluetooth Speaker by Infinity by Harman(JBL).\\n\\nBuild Quality & Design- Rugged material at top & overall plastic build. It is very light weight & compact in size. It can be easily put in pocket. Overall design is good & build quality is durable.\\n\\nBattery- It comes with Micro USB cable in the box. For charging need to use 5v 0.5watt charger. It takes 2.5 hr to full charge. In single charge it can play music upto 5hrs. So Battery is decent.\\n\\nSound Output- It comes with Dual EQ mode. In normal mode sound output is well balanced not so much loud. I didn't listen any distortion even on Full Volume.\\nDeep Bass mode produce extra bass but I didn't like it so much because vocals & instruments sound distorted at full volume because of extra bass.\\n\\nSomething more you need to know-\\n\\n◆Bluetooth Connectivity is good.\\n◆Mic works good during calls. Call pick & disconnect fuction available by short press of power button.\\n◆Music can be Play/Pause only.\\n◆Rubberised material at bottom for better grip.\\n\\nOverall it is a good & cheapest portable Bluetooth Speaker from the House of Harman. For one or two peron in room you can use it for music & watching movies.\\n\\nI am satisfied at this price.\\n\\nThanks for reading.\\nRead more\",\n",
       " \"At first, I thought it would be a great deal, such a low price and much better sound quality as compared to that price.\\nI ordered it because I saw the same one in my colleague's office. It had a great sound quality so I thought maybe it is a good deal.\\nBut, as soon as I received my order, I opened and tested it. Worked as expected initially, but only after 5 minutes I found that one of the speakers has stopped working! Well, thanks to Amazon's superb return and refund policy, I immediately returned it and got my money back.\\nProbably the seller may have shipped an old piece that was rusting in a corner, who knows, but one thing for sure, I won't buy it again...\",\n",
       " 'Very bad product...\\nबहुत ही घटिया प्रोडक्ट है भाईलोग।\\nकभी मत खरीदना इसे।आपका पैसा बेकार चला जायेगा।\\nइसमे चार्ज करने पर ग्रीन लाईट भी नही जलता है।\\nअमेजन की टीम से विनती है ऐसे सामान अपने साईड पर ना लाये।😭😭😭😭😭😭',\n",
       " 'Your browser does not support HTML5 video.\\n I love this speaker there is no negative to say on my view',\n",
       " 'Superb quality bag in this price rs 780/-.Excellent look so much space and ultimate look.100%satisfied.Thank u amazon.com for such a superb deal.',\n",
       " 'Your browser does not support HTML5 video.\\n I had kept an eye on this stand when it first was published in amazon but then I thought I didnt need it as monitor stand is quite adequate, recently my house went through renovation wherein monitor stand got damaged and only option left was to fix it on to wall,which I didnt want and quite good choice too.\\n\\nAmazonbasics monitor stand stands out among all the stands due to\\n1.Premium look\\n2.Nice coloring\\n3.Bush below the stand to avoid direct contact with metal\\n4.Looks great\\n5.Really economic:599₹ with discount of 10%.\\n6.Well built and sturdy\\n7.Amazonbasics logo on it\\n8.Fast delivery\\nCons: None so far\\n\\nIf you found my review resourceful please click helpful. Thanks in advance.\\nRead more',\n",
       " 'Your browser does not support HTML5 video.\\n This is the first time I’ve ordered from Elevn and I must say the quality of the speakers is great for music as well as movies. The speakers come with attached wires, one of which is the jack of 3.5 mm and the other is the power cable which you could either connect to your laptop or PC and can even be connected to a phone with the help of a power bank. The speakers also have a volume controller which makes it so much easier to increase or decrease volume and the best part is you can travel with these mini speakers as it is very convenient to carry them around. Overall I love the sound quality for the price that I paid and would definitely recommend people to go ahead and buy this product!\\nRead more',\n",
       " 'Your browser does not support HTML5 video.\\n Good product',\n",
       " 'The speakers quality is good and easy to fix anywhere in any type of place the product is actually worth and tha main thing is sound as compared to rupees which is 680 the sound quality is very good, means outstanding because when I gave full sound my neighborhood has angered on me how much sound you making so the volume range of this speaker should kept in medium',\n",
       " 'Very nice sound quality.Se as Zeb County, just smaller in size rest the speaker in Zeb County is same...thumbs up..',\n",
       " \"I bought 2 in tbe lightening deal. Not sure if it is good deal. It was advertised 2 speakers can be connected for stereo effect. But they would not give 2 for the same price. Blue was 300 more than black. Don't know why. As soon as it came was trying to pair for one hour to her stereo effect. But the set is not connecting to each other. Big dissapointment. I tried everything as instructed and no success. Quality seems to be okay\\nMaking loud noise\\nMore bass.but the purpose for which I bought is defeated.\",\n",
       " \"Everything is very nice, it's look like a premium soundbar...All the buttons are work appropriately,. ... It's sound quality is very rich but the bass is not good enough. It absorbs the bass...Bt connectivity is good enough. Just add an xbass system, it will be the best...\",\n",
       " \"At first, I thought it would be a great deal, such a low price and much better sound quality as compared to that price.\\nI ordered it because I saw the same one in my colleague's office. It had a great sound quality so I thought maybe it is a good deal.\\nBut, as soon as I received my order, I opened and tested it. Worked as expected initially, but only after 5 minutes I found that one of the speakers has stopped working! Well, thanks to Amazon's superb return and refund policy, I immediately returned it and got my money back.\\nProbably the seller may have shipped an old piece that was rusting in a corner, who knows, but one thing for sure, I won't buy it again...\",\n",
       " '1st of all sound quality is not absolutely upto the mark...price is definitely low but the after hearing the sound u can understand ur low price budget has wastaged.\\n2nd the 3.5 mm jack of this speaker is not true 3.5 mm..light lesser than that..u have to fix a male female 3.5 adapter to connect it with ur mobile.\\n3rd the sound loudity is just stupidity..one 2watt standard Bluetooth speaker can deliver 50℅more sound than this 2 speaker worth 6 watt total...\\n4th the item claims high bass which in true is nothing..just like mobile loud speaker.\\nFinally mind it the item is non refundable..just replacable in amazon..for that after hearing its sound I cant claim any refund..\\nSuggestion: if u want real good sound go for the higher price range Bluetooth speaker from any standard company which gives u the worth of money n sound.',\n",
       " 'THERE IS NO WINDOWS INSTALLED\\nI wanted to give it 0 start it was terrible I spent a long long time just figuring out how to start the windows until I got to know to that WINDOWS IS NOT INSTALLED 😡 it should have bean mentioned in the description clearly.If anyone is reading this comment pls let know don’t buy it and u will have to spend extra by installing windows.pls don’t buy',\n",
       " 'I loved the product.\\nIt\\'s price.\\nQuality Make (unlike other cheap ones)\\nThough it is chinese, but it beat others in the market.\\nA Universal Plug and goes & fits around the world\\'s sockets...\\nBest part is you detach only what you need.\\nHit \"helpful\" if you like my review']"
      ]
     },
     "execution_count": 665,
     "metadata": {},
     "output_type": "execute_result"
    }
   ],
   "source": [
    "speaker_review"
   ]
  },
  {
   "cell_type": "code",
   "execution_count": 912,
   "metadata": {},
   "outputs": [
    {
     "data": {
      "text/plain": [
       "26"
      ]
     },
     "execution_count": 912,
     "metadata": {},
     "output_type": "execute_result"
    }
   ],
   "source": [
    "len(speaker_review)"
   ]
  },
  {
   "cell_type": "code",
   "execution_count": 1025,
   "metadata": {},
   "outputs": [],
   "source": [
    "speaker_rating=[1,3,3,3,3,1,4,3,2,4,4,2,1,4,5,4,4,4,4,4,2,5,1,1,2,4]"
   ]
  },
  {
   "cell_type": "code",
   "execution_count": 911,
   "metadata": {},
   "outputs": [
    {
     "data": {
      "text/plain": [
       "26"
      ]
     },
     "execution_count": 911,
     "metadata": {},
     "output_type": "execute_result"
    }
   ],
   "source": [
    "len(speaker_rating)"
   ]
  },
  {
   "cell_type": "code",
   "execution_count": 350,
   "metadata": {},
   "outputs": [],
   "source": [
    "redmi_review=[]"
   ]
  },
  {
   "cell_type": "code",
   "execution_count": 351,
   "metadata": {},
   "outputs": [],
   "source": [
    "urls=driver.find_elements_by_xpath(\"//a[@class='a-link-normal a-text-normal']\")\n",
    "UR=[]\n",
    "for i in urls:\n",
    "    UR.append(i.get_attribute('href'))\n",
    "for url in UR:\n",
    "    driver.get(url) \n",
    "    try:\n",
    "        rate=driver.find_element_by_xpath(\"//span[@id='acrCustomerReviewText']\")\n",
    "        rate.click()\n",
    "        review=driver.find_element_by_xpath(\"//div[@class='a-row a-spacing-small review-data']\")\n",
    "        redmi_review.append(review.text)\n",
    "    \n",
    "    except NoSuchElementException as e:\n",
    "        redmi_review.append(\"no review\")"
   ]
  },
  {
   "cell_type": "code",
   "execution_count": 694,
   "metadata": {
    "collapsed": true
   },
   "outputs": [
    {
     "data": {
      "text/plain": [
       "['Don’t buy this product .\\nImage quality is below average comparing with the specification. Useless camera.\\nAnd there is NO RETURN POLICY and replacing with same mobile is big headache .\\nDON’T buy this mobile',\n",
       " \"Both 13 MP and 5MP Camera quality is good. Have lot of pre installed apps. But can be uninstalled if not required. Overall good performance . I am using Asus zenfone max and according to me far better than Asus except Camera quality. It comes in 5000 mah battery and one can't get a better option at this price range. Go for it. It's really good\\n\\nAfter one week use\\nEdit:- please don't buy this phone. It hangs a lot and sometimes there is problem in touch screen.\",\n",
       " 'Good phone\\nDecent look and looks stylish\\nCamera and battery quality are super good\\nGood phone in this range 👍\\nBut delivery service is not good',\n",
       " \"Both 13 MP and 5MP Camera quality is good. Have lot of pre installed apps. But can be uninstalled if not required. Overall good performance . I am using Asus zenfone max and according to me far better than Asus except Camera quality. It comes in 5000 mah battery and one can't get a better option at this price range. Go for it. It's really good\\n\\nAfter one week use\\nEdit:- please don't buy this phone. It hangs a lot and sometimes there is problem in touch screen.\",\n",
       " 'Hanging sometime',\n",
       " 'I\\'ve been using this phone for 4days now.I will share my review with pros and cons:\\ncons:\\n1.It feel like a cheap phone idk why,there are some phones in this price segment \"looks\" premium.\\n2.No LED notification,a major missing.\\n3.Rear Camera is not that good in default,but when we changed to 48MP it looks \"kinda\" good.It seems like good in this price segment.\\n4.Its little bit getting Hot while charging and I feel some Hottnes while taking photos(maybe coz of outside temperature)\\n5.It takes quite a bit to get fully charged,yah the battery is 6000 but its fast charging with 18W.\\n6.so much pre installed apps(we can uninstall it) and also like previously,we have to go through each app to disable \"Recommendations\"\\n\\nPros:\\n1.Very light weight and it doesn\\'t feel a massive 6000 is inside\\n2.Front camera is Superb! good detailed pics in portrait.\\n3.Battery is so good.I use the phone to take a lot of pictures and use it for 1 hr swiping through Instagram,the battery doesn\\'t notice that at all lol(its pretty good)\\n4.Stereo speaker does that job GOOD\\n5.For games,ya with a medium settings it is good for 1hr continuous gaming after that it gets little hot but there is no overheating like that issue till now.\\nThis is all I can remember,I will try to update if I notice it afterwards.\\nRead more',\n",
       " 'Don’t buy this product .\\nImage quality is below average comparing with the specification. Useless camera.\\nAnd there is NO RETURN POLICY and replacing with same mobile is big headache .\\nDON’T buy this mobile',\n",
       " \"Both 13 MP and 5MP Camera quality is good. Have lot of pre installed apps. But can be uninstalled if not required. Overall good performance . I am using Asus zenfone max and according to me far better than Asus except Camera quality. It comes in 5000 mah battery and one can't get a better option at this price range. Go for it. It's really good\\n\\nAfter one week use\\nEdit:- please don't buy this phone. It hangs a lot and sometimes there is problem in touch screen.\",\n",
       " 'Don’t buy this product .\\nImage quality is below average comparing with the specification. Useless camera.\\nAnd there is NO RETURN POLICY and replacing with same mobile is big headache .\\nDON’T buy this mobile',\n",
       " \"Both 13 MP and 5MP Camera quality is good. Have lot of pre installed apps. But can be uninstalled if not required. Overall good performance . I am using Asus zenfone max and according to me far better than Asus except Camera quality. It comes in 5000 mah battery and one can't get a better option at this price range. Go for it. It's really good\\n\\nAfter one week use\\nEdit:- please don't buy this phone. It hangs a lot and sometimes there is problem in touch screen.\",\n",
       " 'Hanging sometime',\n",
       " 'Don’t buy this product .\\nImage quality is below average comparing with the specification. Useless camera.\\nAnd there is NO RETURN POLICY and replacing with same mobile is big headache .\\nDON’T buy this mobile',\n",
       " 'Nice product in this price... Good quality and look is aswm... Punch hole Camera and display is very attracting. Camera is also perfect and battery capacity is very high. This phone is no doubt very much good.',\n",
       " \"Great product by redmi, but I request to redmi please don't make fake sale\",\n",
       " 'I\\'ve been using this phone for 4days now.I will share my review with pros and cons:\\ncons:\\n1.It feel like a cheap phone idk why,there are some phones in this price segment \"looks\" premium.\\n2.No LED notification,a major missing.\\n3.Rear Camera is not that good in default,but when we changed to 48MP it looks \"kinda\" good.It seems like good in this price segment.\\n4.Its little bit getting Hot while charging and I feel some Hottnes while taking photos(maybe coz of outside temperature)\\n5.It takes quite a bit to get fully charged,yah the battery is 6000 but its fast charging with 18W.\\n6.so much pre installed apps(we can uninstall it) and also like previously,we have to go through each app to disable \"Recommendations\"\\n\\nPros:\\n1.Very light weight and it doesn\\'t feel a massive 6000 is inside\\n2.Front camera is Superb! good detailed pics in portrait.\\n3.Battery is so good.I use the phone to take a lot of pictures and use it for 1 hr swiping through Instagram,the battery doesn\\'t notice that at all lol(its pretty good)\\n4.Stereo speaker does that job GOOD\\n5.For games,ya with a medium settings it is good for 1hr continuous gaming after that it gets little hot but there is no overheating like that issue till now.\\nThis is all I can remember,I will try to update if I notice it afterwards.\\nRead more',\n",
       " 'I\\'ve been using this phone for 4days now.I will share my review with pros and cons:\\ncons:\\n1.It feel like a cheap phone idk why,there are some phones in this price segment \"looks\" premium.\\n2.No LED notification,a major missing.\\n3.Rear Camera is not that good in default,but when we changed to 48MP it looks \"kinda\" good.It seems like good in this price segment.\\n4.Its little bit getting Hot while charging and I feel some Hottnes while taking photos(maybe coz of outside temperature)\\n5.It takes quite a bit to get fully charged,yah the battery is 6000 but its fast charging with 18W.\\n6.so much pre installed apps(we can uninstall it) and also like previously,we have to go through each app to disable \"Recommendations\"\\n\\nPros:\\n1.Very light weight and it doesn\\'t feel a massive 6000 is inside\\n2.Front camera is Superb! good detailed pics in portrait.\\n3.Battery is so good.I use the phone to take a lot of pictures and use it for 1 hr swiping through Instagram,the battery doesn\\'t notice that at all lol(its pretty good)\\n4.Stereo speaker does that job GOOD\\n5.For games,ya with a medium settings it is good for 1hr continuous gaming after that it gets little hot but there is no overheating like that issue till now.\\nThis is all I can remember,I will try to update if I notice it afterwards.\\nRead more',\n",
       " 'good batter backup\\ngood camera\\ngood mob design\\nno any issue',\n",
       " \"Great product by redmi, but I request to redmi please don't make fake sale\",\n",
       " 'I\\'ve been using this phone for 4days now.I will share my review with pros and cons:\\ncons:\\n1.It feel like a cheap phone idk why,there are some phones in this price segment \"looks\" premium.\\n2.No LED notification,a major missing.\\n3.Rear Camera is not that good in default,but when we changed to 48MP it looks \"kinda\" good.It seems like good in this price segment.\\n4.Its little bit getting Hot while charging and I feel some Hottnes while taking photos(maybe coz of outside temperature)\\n5.It takes quite a bit to get fully charged,yah the battery is 6000 but its fast charging with 18W.\\n6.so much pre installed apps(we can uninstall it) and also like previously,we have to go through each app to disable \"Recommendations\"\\n\\nPros:\\n1.Very light weight and it doesn\\'t feel a massive 6000 is inside\\n2.Front camera is Superb! good detailed pics in portrait.\\n3.Battery is so good.I use the phone to take a lot of pictures and use it for 1 hr swiping through Instagram,the battery doesn\\'t notice that at all lol(its pretty good)\\n4.Stereo speaker does that job GOOD\\n5.For games,ya with a medium settings it is good for 1hr continuous gaming after that it gets little hot but there is no overheating like that issue till now.\\nThis is all I can remember,I will try to update if I notice it afterwards.\\nRead more',\n",
       " 'Best mobile at this price range',\n",
       " 'I\\'ve been using this phone for 4days now.I will share my review with pros and cons:\\ncons:\\n1.It feel like a cheap phone idk why,there are some phones in this price segment \"looks\" premium.\\n2.No LED notification,a major missing.\\n3.Rear Camera is not that good in default,but when we changed to 48MP it looks \"kinda\" good.It seems like good in this price segment.\\n4.Its little bit getting Hot while charging and I feel some Hottnes while taking photos(maybe coz of outside temperature)\\n5.It takes quite a bit to get fully charged,yah the battery is 6000 but its fast charging with 18W.\\n6.so much pre installed apps(we can uninstall it) and also like previously,we have to go through each app to disable \"Recommendations\"\\n\\nPros:\\n1.Very light weight and it doesn\\'t feel a massive 6000 is inside\\n2.Front camera is Superb! good detailed pics in portrait.\\n3.Battery is so good.I use the phone to take a lot of pictures and use it for 1 hr swiping through Instagram,the battery doesn\\'t notice that at all lol(its pretty good)\\n4.Stereo speaker does that job GOOD\\n5.For games,ya with a medium settings it is good for 1hr continuous gaming after that it gets little hot but there is no overheating like that issue till now.\\nThis is all I can remember,I will try to update if I notice it afterwards.\\nRead more',\n",
       " 'I\\'ve been using this phone for 4days now.I will share my review with pros and cons:\\ncons:\\n1.It feel like a cheap phone idk why,there are some phones in this price segment \"looks\" premium.\\n2.No LED notification,a major missing.\\n3.Rear Camera is not that good in default,but when we changed to 48MP it looks \"kinda\" good.It seems like good in this price segment.\\n4.Its little bit getting Hot while charging and I feel some Hottnes while taking photos(maybe coz of outside temperature)\\n5.It takes quite a bit to get fully charged,yah the battery is 6000 but its fast charging with 18W.\\n6.so much pre installed apps(we can uninstall it) and also like previously,we have to go through each app to disable \"Recommendations\"\\n\\nPros:\\n1.Very light weight and it doesn\\'t feel a massive 6000 is inside\\n2.Front camera is Superb! good detailed pics in portrait.\\n3.Battery is so good.I use the phone to take a lot of pictures and use it for 1 hr swiping through Instagram,the battery doesn\\'t notice that at all lol(its pretty good)\\n4.Stereo speaker does that job GOOD\\n5.For games,ya with a medium settings it is good for 1hr continuous gaming after that it gets little hot but there is no overheating like that issue till now.\\nThis is all I can remember,I will try to update if I notice it afterwards.\\nRead more',\n",
       " 'Best mobile at this price range',\n",
       " 'Good phone\\nDecent look and looks stylish\\nCamera and battery quality are super good\\nGood phone in this range 👍\\nBut delivery service is not good']"
      ]
     },
     "execution_count": 694,
     "metadata": {},
     "output_type": "execute_result"
    }
   ],
   "source": [
    "redmi_review"
   ]
  },
  {
   "cell_type": "code",
   "execution_count": 908,
   "metadata": {},
   "outputs": [
    {
     "data": {
      "text/plain": [
       "24"
      ]
     },
     "execution_count": 908,
     "metadata": {},
     "output_type": "execute_result"
    }
   ],
   "source": [
    "len(redmi_review)"
   ]
  },
  {
   "cell_type": "code",
   "execution_count": 909,
   "metadata": {},
   "outputs": [],
   "source": [
    "redmi_rating=[1,3,4,3,3,3,1,3,3,1,3,3,1,4,4,3,4,3,3,4,3,3,4,4]"
   ]
  },
  {
   "cell_type": "code",
   "execution_count": 910,
   "metadata": {},
   "outputs": [
    {
     "data": {
      "text/plain": [
       "24"
      ]
     },
     "execution_count": 910,
     "metadata": {},
     "output_type": "execute_result"
    }
   ],
   "source": [
    "len(redmi_rating)"
   ]
  },
  {
   "cell_type": "code",
   "execution_count": 352,
   "metadata": {},
   "outputs": [],
   "source": [
    "samsung_review=[]"
   ]
  },
  {
   "cell_type": "code",
   "execution_count": 353,
   "metadata": {},
   "outputs": [],
   "source": [
    "urls=driver.find_elements_by_xpath(\"//a[@class='a-link-normal a-text-normal']\")\n",
    "UR=[]\n",
    "for i in urls:\n",
    "    UR.append(i.get_attribute('href'))\n",
    "for url in UR:\n",
    "    driver.get(url) \n",
    "    try:\n",
    "        rate=driver.find_element_by_xpath(\"//span[@id='acrCustomerReviewText']\")\n",
    "        rate.click()\n",
    "        review=driver.find_element_by_xpath(\"//div[@class='a-row a-spacing-small review-data']\")\n",
    "        samsung_review.append(review.text)\n",
    "    \n",
    "    except NoSuchElementException as e:\n",
    "        samsung_review.append(\"no review\")"
   ]
  },
  {
   "cell_type": "code",
   "execution_count": 724,
   "metadata": {
    "collapsed": true
   },
   "outputs": [
    {
     "data": {
      "text/plain": [
       "[\"This is best thing you can get at this price from a reputed brand with Made in India tag. First time I ordered on the first day of online launch and am happy. I'm writing after few days of usage, but this should not be different as my experience with Samsung has been most consistent as compared to other mobile brands I've used earlier.\\n\\nGood:\\n\\n- Android 10! Beautiful looks! Finally I can delete SMS from notification now!!\\n- Display is excellent with Blue light filter.\\n- Performance is good. No heating or lagging. Real Racing worked fine.\\n- 6000 Mah battery is BIG\\n- 128 GB storage is pretty good. 512 GB card supported with dedicated external card slot.\\n- Both dedicated sim slots support LTE\\n- Fast charging and 15W charger top with phone. The phone came with 0% charge. Charged fast.\\n- Mobile speakers sound is good, but I prefer external speakers for better bass in music.\\n- Camera is really good. Macro performance is very good - look at skin in tatoo photo and dust perticles in deskphone photo!! (photos of M31 are from other phone). Both front and rear camera support FHD video 3840x2160. I may not require to carry my DSLR everyehere.\\n- Face unlock / figure-print sensor response is good\\n- Received next day by 11 AM !\\n\\nNot So Good:\\n\\n- Not that thin, but ok.\\n- Doesn't have Samsung Dex\\n- Started to Boot Screen!! Gave me a little shock but selected reboot option and then every thing was smooth. An Android Updated (other than many application updates which is normal in any case) appeared on within days of launch. But update was smooth. No issue at all.\\n- Feels delicate in hand but a Rs.49 cover was good enough. Wrongly ordered black while the set is blue. Just 49 so will reorder the blue one as well :)\\n- Called Samsung Store, but no information with them about availability date. Still no call from them.\\n\\nFeedback\\n\\n- Feels good in hand and in use. It is a powerhouse and you feel it.\\n- Will update after few days of use, but don't have any doubt as of now.\\n\\nGo for it without any doubt.\\nRead more\",\n",
       " \"What !!! 13k priced phone with Snapdragon 450 processor is just a Worst thing. Second thing is it's front camera ... Which is Average... Guys you should go for Samsung M30 rather than this device... Because they have sold a old phone with new outer body\\n... Phone performance is very low... This phone is not at all good for gaming and for photography ... A simple use of this phone ... But Battery is WATTA MONTSER !!!\\nYou will be loving battery of this device with 15W fast charging ... And no other good thing in this phone... Your mobile will hang during heavy multitasking because of very average processor Snapdragon 450 ...\\nI recommend you should go for SAMSUNG M21 or SAMSUNG M30 or Samsung M31... They are incredible !!! Samsung phones are long lasting workable ... Phone will not get any problem for 1 to 2 years ... EAST OR WEST ... SAMSUNG IS THE BEST (expect Samsung M11😂) 😋\\n- Real Fact\",\n",
       " \"Thank you samsung and Amazon for timely rakshabandhan delivery.Now for readers this is a review unbiased and written after testing and continuous usage :-\\nPro's\\n1.Screen ppi is great as entry level device✌\\n2.Battery backup is awesome thanks to samsungs R&D even with .7mamp charger.👀\\n3.Android go version 10 is cute without craps\\n4.Reading pdfs is easy and comfort for eyes atleast samsung has guts to say the truth.\\n5.No lag till now because i dont need gaming other than that all regular even without go apps are nicely running.\\n6.fingerprint and face lock i dont need so good they are not provided.\\n7.Call quality is okay.Speaker is normal.\\n8.For music lovers dowload any music app with equilizer will be fine.\\n9.16gb/32gb and sd card is okay.\\n10.Auto smart memory cleaner(use smart manager in settings once a day) for smooth RAM functioning and ROM cleaning🤗\\n11. Supports OTG as well.\\n\\nCons\\n1. Camera below average still expected but samsung should work more on this front if they wanna beat chinese phones.\\n2.Not for gamers and thats expected buy a 4gb Ram 🤔 based phone why reading me?😉\\n3.finger print and face lock missing I Can manage but most indians can't.\\n4.Battery takes 3.15 hours to charge to work for 12 hours of calling and surfing and thats not bad at all but can be issue for chinese phone lovers who have habit of charging again and again to play pubg.\\n\\nOverall out of 5.Camera-2 Gui-4 Screen ppi-5 speed-4 android-4\\nDon't buy a phone only because of specifications must see integration and longevity overall a nice secondary option and primary for featured phone switchers.\\nRead more\",\n",
       " 'Awesome camera Awesome battery Awesome display ....\\nSuper clear Zoom\\nSuper Macro sensor\\nSuper ultrawide angle\\nAtlast Thanks Samsung for 730G',\n",
       " \"This the best ever non Chinese budget phone you can get at Rs. 10000 to Rs. 12000. I will provide you pros and cons of this Galaxy M11.\\n\\nPros:\\n1. Great design, I really like the infinty O display (Punch hole camera design).\\n2. Matte finish, so you can have better hold. (Also it won't shatter like glass, since it has plastic backpanel!).\\n3. One UI - It is a great OS skin apart from Stock android and oxygen OS, and you will not get any annoying ads.\\n4. Massive battery of 5000 mAh - Even with heavy usage, phone's battery can hold for a day, so if you are not a heavy user, you can charge once in two or two and half days. (And slower chip like Snapdragon 465 is additional plus, since it doesn't suck too much battery).\\n5. Since it is a Samsung phone, you will get a minimum SAR Value (Radiation limit) compared to other Chinese brands, so it's good for your health too!\\n6. Fast charging.\\n\\nCons:\\n1. Snapdragon 450, it is obviously slowest chipset in this price range.\\n2. It cannot handle heavy games (Still i could play Call of Duty Mobile without any problem)\\n3. Camera is not that great.\\n4. 720p display, could have given 1080p display.\\n\\nif you play heavy games, then you should be going for Poco M2, which is good in these range.\\n\\nif you are a normal person, who doesn't play much games (I do play games, but not most of the time), you can definitely buy this phone.\\n\\nAnd I say again, it is the best non Chinese phone you can get in this range with amazing design.\\nRead more\",\n",
       " 'In display lines started coming after using 1 day . I want to return this . Amazon Customer service is worst. Though damage is visible they are not accepting for return.',\n",
       " \"This is best thing you can get at this price from a reputed brand with Made in India tag. First time I ordered on the first day of online launch and am happy. I'm writing after few days of usage, but this should not be different as my experience with Samsung has been most consistent as compared to other mobile brands I've used earlier.\\n\\nGood:\\n\\n- Android 10! Beautiful looks! Finally I can delete SMS from notification now!!\\n- Display is excellent with Blue light filter.\\n- Performance is good. No heating or lagging. Real Racing worked fine.\\n- 6000 Mah battery is BIG\\n- 128 GB storage is pretty good. 512 GB card supported with dedicated external card slot.\\n- Both dedicated sim slots support LTE\\n- Fast charging and 15W charger top with phone. The phone came with 0% charge. Charged fast.\\n- Mobile speakers sound is good, but I prefer external speakers for better bass in music.\\n- Camera is really good. Macro performance is very good - look at skin in tatoo photo and dust perticles in deskphone photo!! (photos of M31 are from other phone). Both front and rear camera support FHD video 3840x2160. I may not require to carry my DSLR everyehere.\\n- Face unlock / figure-print sensor response is good\\n- Received next day by 11 AM !\\n\\nNot So Good:\\n\\n- Not that thin, but ok.\\n- Doesn't have Samsung Dex\\n- Started to Boot Screen!! Gave me a little shock but selected reboot option and then every thing was smooth. An Android Updated (other than many application updates which is normal in any case) appeared on within days of launch. But update was smooth. No issue at all.\\n- Feels delicate in hand but a Rs.49 cover was good enough. Wrongly ordered black while the set is blue. Just 49 so will reorder the blue one as well :)\\n- Called Samsung Store, but no information with them about availability date. Still no call from them.\\n\\nFeedback\\n\\n- Feels good in hand and in use. It is a powerhouse and you feel it.\\n- Will update after few days of use, but don't have any doubt as of now.\\n\\nGo for it without any doubt.\\nRead more\",\n",
       " \"I am writing the review after use of about 1 day. I purchased it for my mother. She is very happy to have it. Aa she was earlier user of Samsung basic mobile and she used the mobile for about 6 years. So now she upgraded to smartphone of this brand because in her opinion Samsung mobiles are long lasting. In my opinion:-\\nDisplay- 4.5/5\\nBattery- 5/5\\nCamera- 5/5\\nPerformance- 4/5\\nLook- 4/5\\nValue for money- 4.5/5\\nDisplay is good and bright as usual Samsung display are always of better quality. Sound is not best but okay. Look is good but need improvement in back design as it seems to be a cheap plastic material. Battery has no complaints. Camera specially front camera is surprisingly good. But performance should be improved as somtime touch is less responsive.so if you are multitasker and heavy user of mobile then itz not for you. but keeping the price in mind 7299 rs for 3gb ram and 32 gb storage its a fair deal as you are attached to Samsung brand which is better than cheap chinese mobiles like Mi, Oppo, etc\\n\\nPlz don't forget to like if fou find my review helpful 👍\\nRead more\",\n",
       " 'Very disappointed with the overall performance from Samsung',\n",
       " 'Good, useful',\n",
       " \"I am writing the review after use of about 1 day. I purchased it for my mother. She is very happy to have it. Aa she was earlier user of Samsung basic mobile and she used the mobile for about 6 years. So now she upgraded to smartphone of this brand because in her opinion Samsung mobiles are long lasting. In my opinion:-\\nDisplay- 4.5/5\\nBattery- 5/5\\nCamera- 5/5\\nPerformance- 4/5\\nLook- 4/5\\nValue for money- 4.5/5\\nDisplay is good and bright as usual Samsung display are always of better quality. Sound is not best but okay. Look is good but need improvement in back design as it seems to be a cheap plastic material. Battery has no complaints. Camera specially front camera is surprisingly good. But performance should be improved as somtime touch is less responsive.so if you are multitasker and heavy user of mobile then itz not for you. but keeping the price in mind 7299 rs for 3gb ram and 32 gb storage its a fair deal as you are attached to Samsung brand which is better than cheap chinese mobiles like Mi, Oppo, etc\\n\\nPlz don't forget to like if fou find my review helpful 👍\\nRead more\",\n",
       " \"This is best thing you can get at this price from a reputed brand with Made in India tag. First time I ordered on the first day of online launch and am happy. I'm writing after few days of usage, but this should not be different as my experience with Samsung has been most consistent as compared to other mobile brands I've used earlier.\\n\\nGood:\\n\\n- Android 10! Beautiful looks! Finally I can delete SMS from notification now!!\\n- Display is excellent with Blue light filter.\\n- Performance is good. No heating or lagging. Real Racing worked fine.\\n- 6000 Mah battery is BIG\\n- 128 GB storage is pretty good. 512 GB card supported with dedicated external card slot.\\n- Both dedicated sim slots support LTE\\n- Fast charging and 15W charger top with phone. The phone came with 0% charge. Charged fast.\\n- Mobile speakers sound is good, but I prefer external speakers for better bass in music.\\n- Camera is really good. Macro performance is very good - look at skin in tatoo photo and dust perticles in deskphone photo!! (photos of M31 are from other phone). Both front and rear camera support FHD video 3840x2160. I may not require to carry my DSLR everyehere.\\n- Face unlock / figure-print sensor response is good\\n- Received next day by 11 AM !\\n\\nNot So Good:\\n\\n- Not that thin, but ok.\\n- Doesn't have Samsung Dex\\n- Started to Boot Screen!! Gave me a little shock but selected reboot option and then every thing was smooth. An Android Updated (other than many application updates which is normal in any case) appeared on within days of launch. But update was smooth. No issue at all.\\n- Feels delicate in hand but a Rs.49 cover was good enough. Wrongly ordered black while the set is blue. Just 49 so will reorder the blue one as well :)\\n- Called Samsung Store, but no information with them about availability date. Still no call from them.\\n\\nFeedback\\n\\n- Feels good in hand and in use. It is a powerhouse and you feel it.\\n- Will update after few days of use, but don't have any doubt as of now.\\n\\nGo for it without any doubt.\\nRead more\",\n",
       " \"I am writing the review after use of about 1 day. I purchased it for my mother. She is very happy to have it. Aa she was earlier user of Samsung basic mobile and she used the mobile for about 6 years. So now she upgraded to smartphone of this brand because in her opinion Samsung mobiles are long lasting. In my opinion:-\\nDisplay- 4.5/5\\nBattery- 5/5\\nCamera- 5/5\\nPerformance- 4/5\\nLook- 4/5\\nValue for money- 4.5/5\\nDisplay is good and bright as usual Samsung display are always of better quality. Sound is not best but okay. Look is good but need improvement in back design as it seems to be a cheap plastic material. Battery has no complaints. Camera specially front camera is surprisingly good. But performance should be improved as somtime touch is less responsive.so if you are multitasker and heavy user of mobile then itz not for you. but keeping the price in mind 7299 rs for 3gb ram and 32 gb storage its a fair deal as you are attached to Samsung brand which is better than cheap chinese mobiles like Mi, Oppo, etc\\n\\nPlz don't forget to like if fou find my review helpful 👍\\nRead more\",\n",
       " 'Very disappointed with the overall performance from Samsung',\n",
       " 'Awesome camera Awesome battery Awesome display ....\\nSuper clear Zoom\\nSuper Macro sensor\\nSuper ultrawide angle\\nAtlast Thanks Samsung for 730G',\n",
       " 'Keypads are wearing very fast',\n",
       " \"I am writing the review after use of about 1 day. I purchased it for my mother. She is very happy to have it. Aa she was earlier user of Samsung basic mobile and she used the mobile for about 6 years. So now she upgraded to smartphone of this brand because in her opinion Samsung mobiles are long lasting. In my opinion:-\\nDisplay- 4.5/5\\nBattery- 5/5\\nCamera- 5/5\\nPerformance- 4/5\\nLook- 4/5\\nValue for money- 4.5/5\\nDisplay is good and bright as usual Samsung display are always of better quality. Sound is not best but okay. Look is good but need improvement in back design as it seems to be a cheap plastic material. Battery has no complaints. Camera specially front camera is surprisingly good. But performance should be improved as somtime touch is less responsive.so if you are multitasker and heavy user of mobile then itz not for you. but keeping the price in mind 7299 rs for 3gb ram and 32 gb storage its a fair deal as you are attached to Samsung brand which is better than cheap chinese mobiles like Mi, Oppo, etc\\n\\nPlz don't forget to like if fou find my review helpful 👍\\nRead more\",\n",
       " \"Got the phone the next day within 24hrs of buying,best delivery by Amazon. Got discount on sbi credit card and extra 500 also- total price 7700\\nBest phone with Snapdragon 450 on this price\\n(Disclaimer-It doesn't has a finger print senser but i don't mind it as for day to day function it has face recognition and it's working fine )\",\n",
       " 'no review',\n",
       " \"Greatest deal for Snapdragon 750 that too with Samsung. Buy blindly.\\nThere are many comments on display quality.\\nBut it doesn't matter that much , what we have to see in buying 5G phone is future proof.\\nBuying 90hz display with cheap processor won't last you for year.\\nThis phone has one of the best 5G processor SD 750 which can last longer than others.\\nThere are few 5G mobiles Under 20 k which offers better display than this\\n1. Oppo A74: but in this the processor you get SD 480 , which is the basic version of 5G processor and below par than SD 750.\\n2. Oppo a53s: which uses mediatek dimension 700 . Please don't compare media Tek Vs Snapdragon.\\n\\nFinal verdict: You have to decide what you want. If you really looking for best 5G features under 20 k then blindly go for M42. Since no other company offers SD 750 processor for less than 20 k.\",\n",
       " 'Awesome camera Awesome battery Awesome display ....\\nSuper clear Zoom\\nSuper Macro sensor\\nSuper ultrawide angle\\nAtlast Thanks Samsung for 730G',\n",
       " 'Awesome camera Awesome battery Awesome display ....\\nSuper clear Zoom\\nSuper Macro sensor\\nSuper ultrawide angle\\nAtlast Thanks Samsung for 730G',\n",
       " \"Got the phone the next day within 24hrs of buying,best delivery by Amazon. Got discount on sbi credit card and extra 500 also- total price 7700\\nBest phone with Snapdragon 450 on this price\\n(Disclaimer-It doesn't has a finger print senser but i don't mind it as for day to day function it has face recognition and it's working fine )\",\n",
       " 'As a title it is obviously a monster\\nAnd very very good performance']"
      ]
     },
     "execution_count": 724,
     "metadata": {},
     "output_type": "execute_result"
    }
   ],
   "source": [
    "samsung_review"
   ]
  },
  {
   "cell_type": "code",
   "execution_count": 901,
   "metadata": {},
   "outputs": [
    {
     "data": {
      "text/plain": [
       "24"
      ]
     },
     "execution_count": 901,
     "metadata": {},
     "output_type": "execute_result"
    }
   ],
   "source": [
    "len(samsung_review)"
   ]
  },
  {
   "cell_type": "code",
   "execution_count": 1026,
   "metadata": {},
   "outputs": [],
   "source": [
    "samsung_rating=[4,5,5,5,4,2,5,4,1,4,4,5,4,1,4,3,4,4,3,5,5,5,5,5]"
   ]
  },
  {
   "cell_type": "code",
   "execution_count": 900,
   "metadata": {},
   "outputs": [
    {
     "data": {
      "text/plain": [
       "24"
      ]
     },
     "execution_count": 900,
     "metadata": {},
     "output_type": "execute_result"
    }
   ],
   "source": [
    "len(samsung_rating)"
   ]
  },
  {
   "cell_type": "code",
   "execution_count": 354,
   "metadata": {},
   "outputs": [],
   "source": [
    "oppo_review=[]"
   ]
  },
  {
   "cell_type": "code",
   "execution_count": 355,
   "metadata": {},
   "outputs": [],
   "source": [
    "urls=driver.find_elements_by_xpath(\"//a[@class='a-link-normal a-text-normal']\")\n",
    "UR=[]\n",
    "for i in urls:\n",
    "    UR.append(i.get_attribute('href'))\n",
    "for url in UR:\n",
    "    driver.get(url) \n",
    "    try:\n",
    "        rate=driver.find_element_by_xpath(\"//span[@id='acrCustomerReviewText']\")\n",
    "        rate.click()\n",
    "        review=driver.find_element_by_xpath(\"//div[@class='a-row a-spacing-small review-data']\")\n",
    "        oppo_review.append(review.text)\n",
    "    \n",
    "    except NoSuchElementException as e:\n",
    "        oppo_review.append(\"no review\")"
   ]
  },
  {
   "cell_type": "code",
   "execution_count": 756,
   "metadata": {
    "collapsed": true
   },
   "outputs": [
    {
     "data": {
      "text/plain": [
       "['Day to day performance of the phone is good\\n*no heating\\n*good charging speed and good back up\\n*extremely light weight\\n*very good screen quality\\n*very fast in display fingerprint sensor\\n*camera is also good but ois is not there\\nOverall I am happy it costed me 12740 considering all the offers available.',\n",
       " 'I am not happy buy the mobile in amazon.\\nWhats in the box:- Handset, Earphone, USB Cable, Sim Tray Ejecter, Pre-applied Screen Protector and Protective Case, Booklet with Warranty Card and Quick Guide',\n",
       " 'I am not happy buy the mobile in amazon.\\nWhats in the box:- Handset, Earphone, USB Cable, Sim Tray Ejecter, Pre-applied Screen Protector and Protective Case, Booklet with Warranty Card and Quick Guide',\n",
       " 'I am not happy buy the mobile in amazon.\\nWhats in the box:- Handset, Earphone, USB Cable, Sim Tray Ejecter, Pre-applied Screen Protector and Protective Case, Booklet with Warranty Card and Quick Guide',\n",
       " 'I am not happy buy the mobile in amazon.\\nWhats in the box:- Handset, Earphone, USB Cable, Sim Tray Ejecter, Pre-applied Screen Protector and Protective Case, Booklet with Warranty Card and Quick Guide',\n",
       " \"Liked the quality of the product from OPPO and the design.. It's far better than the Samsung M and A series mobiles.. Samsung mobiles are too delicate which are small drop also will loss the screen which cost you half of the mobile cost.. Currently I'm using OPPO F11 Pro, I liked a lot so I bought the oppo for my family..\",\n",
       " 'Really awesome display 😍 super camera super design fabulous 😍💐',\n",
       " 'Waste of money!!',\n",
       " 'Waste of money!!',\n",
       " 'Average phone\\nThe display speed is very slow\\nTouch working slow\\nCamera not good as expected\\nNot happy with this phone',\n",
       " 'This review\\'s to all those who were eagerly waiting for the phone to launch and get hands on, but before all it\\'s always hard to get the \"DEMO\" at the earliest so.. \"IMAGES\" above are to those who can\\'t find demos much often/needed color/to avoid contacts at stores during Covid.\\n\\nPros - Leather back warmth feel\\nCons - Back Camera\\'s not upto the mark when compared to the phones in market and of this price range, though it has given a sleek and leather finish with minimized thickness. . It\\'s pro fades out its Con so can go for it blindly but only if you think \"CAMERA\\'S\" not your \"PRIORITY\"\\n\\nFeatures I thought would be there was 9.1 surround music/Dolby Atmos but it comes with:\\nReal Sound Technology, just have a look into it if you\\'re specific\\n2. Super Amoled+ Display.\\n\\nHassle free(Inside the box):\\nTempered glass comes on the phone itself so no extra work on fixing, which might sometimes go wrong.\\n2. Silicon back case (if you\\'re looking for touch and feel of leather back, better not use.. but use a side bumper if available for protection) Do also post where we can find side bumper, cos it\\'s hard finding for new phones.. Thanks!\\n\\nLooking for a Standout design in 15-20k range? Then, \"GO FOR IT\" that\\'s Value for money!\\nRead more',\n",
       " 'Really awesome display 😍 super camera super design fabulous 😍💐',\n",
       " 'Day to day performance of the phone is good\\n*no heating\\n*good charging speed and good back up\\n*extremely light weight\\n*very good screen quality\\n*very fast in display fingerprint sensor\\n*camera is also good but ois is not there\\nOverall I am happy it costed me 12740 considering all the offers available.',\n",
       " 'Really awesome display 😍 super camera super design fabulous 😍💐',\n",
       " 'Excellent mobile from oppo',\n",
       " 'Good phone working fine good battery thanks for Amazon',\n",
       " 'Mobile Phone is good but mobile charger is neither same company nor so powerful.',\n",
       " \"Liked the quality of the product from OPPO and the design.. It's far better than the Samsung M and A series mobiles.. Samsung mobiles are too delicate which are small drop also will loss the screen which cost you half of the mobile cost.. Currently I'm using OPPO F11 Pro, I liked a lot so I bought the oppo for my family..\",\n",
       " 'no review',\n",
       " \"Liked the quality of the product from OPPO and the design.. It's far better than the Samsung M and A series mobiles.. Samsung mobiles are too delicate which are small drop also will loss the screen which cost you half of the mobile cost.. Currently I'm using OPPO F11 Pro, I liked a lot so I bought the oppo for my family..\",\n",
       " 'Average phone\\nThe display speed is very slow\\nTouch working slow\\nCamera not good as expected\\nNot happy with this phone',\n",
       " 'Excellent mobile from oppo',\n",
       " \"Liked the quality of the product from OPPO and the design.. It's far better than the Samsung M and A series mobiles.. Samsung mobiles are too delicate which are small drop also will loss the screen which cost you half of the mobile cost.. Currently I'm using OPPO F11 Pro, I liked a lot so I bought the oppo for my family..\",\n",
       " 'no review',\n",
       " 'Day to day performance of the phone is good\\n*no heating\\n*good charging speed and good back up\\n*extremely light weight\\n*very good screen quality\\n*very fast in display fingerprint sensor\\n*camera is also good but ois is not there\\nOverall I am happy it costed me 12740 considering all the offers available.',\n",
       " 'Good phone working fine good battery thanks for Amazon']"
      ]
     },
     "execution_count": 756,
     "metadata": {},
     "output_type": "execute_result"
    }
   ],
   "source": [
    "oppo_review"
   ]
  },
  {
   "cell_type": "code",
   "execution_count": 899,
   "metadata": {},
   "outputs": [
    {
     "data": {
      "text/plain": [
       "26"
      ]
     },
     "execution_count": 899,
     "metadata": {},
     "output_type": "execute_result"
    }
   ],
   "source": [
    "len(oppo_review)"
   ]
  },
  {
   "cell_type": "code",
   "execution_count": 1027,
   "metadata": {},
   "outputs": [],
   "source": [
    "oppo_rating=[3,1,1,1,1,4,5,1,1,3,3,5,3,5,4,4,3,4,3,4,3,4,4,3,3,4]"
   ]
  },
  {
   "cell_type": "code",
   "execution_count": 898,
   "metadata": {},
   "outputs": [
    {
     "data": {
      "text/plain": [
       "26"
      ]
     },
     "execution_count": 898,
     "metadata": {},
     "output_type": "execute_result"
    }
   ],
   "source": [
    "len(oppo_rating)"
   ]
  },
  {
   "cell_type": "code",
   "execution_count": null,
   "metadata": {},
   "outputs": [],
   "source": []
  },
  {
   "cell_type": "code",
   "execution_count": 356,
   "metadata": {},
   "outputs": [],
   "source": [
    "oneplus_review=[]"
   ]
  },
  {
   "cell_type": "code",
   "execution_count": 357,
   "metadata": {},
   "outputs": [],
   "source": [
    "urls=driver.find_elements_by_xpath(\"//a[@class='a-link-normal a-text-normal']\")\n",
    "UR=[]\n",
    "for i in urls:\n",
    "    UR.append(i.get_attribute('href'))\n",
    "for url in UR:\n",
    "    driver.get(url) \n",
    "    try:\n",
    "        rate=driver.find_element_by_xpath(\"//span[@id='acrCustomerReviewText']\")\n",
    "        rate.click()\n",
    "        review=driver.find_element_by_xpath(\"//div[@class='a-row a-spacing-small review-data']\")\n",
    "        oneplus_review.append(review.text)\n",
    "    \n",
    "    except NoSuchElementException as e:\n",
    "        oneplus_review.append(\"no review\")"
   ]
  },
  {
   "cell_type": "code",
   "execution_count": 785,
   "metadata": {
    "collapsed": true
   },
   "outputs": [
    {
     "data": {
      "text/plain": [
       "['no review',\n",
       " 'no review',\n",
       " 'no review',\n",
       " 'no review',\n",
       " \"This is not a ranting review, it's friendly advice that would save you some money and time.\\n\\nI was using Oneplus 6 before upgrading to Oneplus 8T. Of course, wanted to experience that improved performance and high-quality display with a 120Hz refresh rate that everyone is talking about.\\n\\nBut, the problem with Oneplus 8T is the display itself. First of all, if you are getting Oneplus 8T, you gonna have screen issues straight out of the box.\\n\\nReference keywords for your Google research:\\n- Oneplus Purple Tint\\n- Oneplus Black Crush\\n- Oneplus Ghosting\\n\\nMine was Purple Tint.\\n\\nRemember those old phones we used to use 8 years back that had this poorly made screens which looked sharp from the front but when you tilt it to a certain extent all the colours get washed?\\n\\nSame happening here when I keep my phone brightness under 30%.\\n\\nSecondly, the screen brightness is like an old tube light. When you increase or decrease your screen brightness using the toggle in the notification panel, it will take some time to respond to the change.\\n\\nFor example: if I increase my brightness from 30% to 70%, it will take a good half-second to respond to that change. Increasing brightness on this device is not instant on this device is all I am saying.\\n\\nSadly, the phone at this price point can't even keep up with the competition when it comes to the screen quality.\\n\\nLastly, I would highly recommend reading some Google reviews before buying this product.\\nRead more\",\n",
       " 'Battery Issue.... Phone is Heating during Charging and During Running Application.',\n",
       " 'Camera is not working properly.. what should I do?\\nI m getting green lines in the images..',\n",
       " \"This is not a ranting review, it's friendly advice that would save you some money and time.\\n\\nI was using Oneplus 6 before upgrading to Oneplus 8T. Of course, wanted to experience that improved performance and high-quality display with a 120Hz refresh rate that everyone is talking about.\\n\\nBut, the problem with Oneplus 8T is the display itself. First of all, if you are getting Oneplus 8T, you gonna have screen issues straight out of the box.\\n\\nReference keywords for your Google research:\\n- Oneplus Purple Tint\\n- Oneplus Black Crush\\n- Oneplus Ghosting\\n\\nMine was Purple Tint.\\n\\nRemember those old phones we used to use 8 years back that had this poorly made screens which looked sharp from the front but when you tilt it to a certain extent all the colours get washed?\\n\\nSame happening here when I keep my phone brightness under 30%.\\n\\nSecondly, the screen brightness is like an old tube light. When you increase or decrease your screen brightness using the toggle in the notification panel, it will take some time to respond to the change.\\n\\nFor example: if I increase my brightness from 30% to 70%, it will take a good half-second to respond to that change. Increasing brightness on this device is not instant on this device is all I am saying.\\n\\nSadly, the phone at this price point can't even keep up with the competition when it comes to the screen quality.\\n\\nLastly, I would highly recommend reading some Google reviews before buying this product.\\nRead more\",\n",
       " \"Having the same issue. Some purple spots suddenly appeared one fine morning. And started to spread. Not a drop of water or pressure was applied on phone.\\n\\nThe display quality is horrible. And screen change cost is 8k at service center and 5k at local shops.\\n\\nThe exchange value of this phone is only 5k on cashify.\\n\\nAfter, all this research I finally bought poco F1. Instead of spending so much money on screen in just 1.5 years. It's better to buy a new phone.\\n\\nAdvice to one plus. Please improve your display quality. You lost a One plus loyal customer. I will make sure even my other friends and family don't buy one plus in future. Horrible experience with service center as well. Pathetic service. All the goodwill you won with your good work you lost everything with horrible customer service. Not at all expected from you guys.\\nRead more\",\n",
       " 'The product just overheating.. it is unbelievable from such great company production devices. Here the cost does not matter but product quality is matters.\\n\\n1. builtin Alex is not working\\n2. Average camera\\n3. Overheating.\\n\\nI have been one plus 6t device since 2.5 so far single problem face.. I just upgraded to one plus 9 but it seems to be the worst decision. I did it as I am feeling now.',\n",
       " 'no review',\n",
       " 'Battery Issue.... Phone is Heating during Charging and During Running Application.',\n",
       " 'Battery Issue.... Phone is Heating during Charging and During Running Application.',\n",
       " 'Battery Issue.... Phone is Heating during Charging and During Running Application.',\n",
       " \"This is not a ranting review, it's friendly advice that would save you some money and time.\\n\\nI was using Oneplus 6 before upgrading to Oneplus 8T. Of course, wanted to experience that improved performance and high-quality display with a 120Hz refresh rate that everyone is talking about.\\n\\nBut, the problem with Oneplus 8T is the display itself. First of all, if you are getting Oneplus 8T, you gonna have screen issues straight out of the box.\\n\\nReference keywords for your Google research:\\n- Oneplus Purple Tint\\n- Oneplus Black Crush\\n- Oneplus Ghosting\\n\\nMine was Purple Tint.\\n\\nRemember those old phones we used to use 8 years back that had this poorly made screens which looked sharp from the front but when you tilt it to a certain extent all the colours get washed?\\n\\nSame happening here when I keep my phone brightness under 30%.\\n\\nSecondly, the screen brightness is like an old tube light. When you increase or decrease your screen brightness using the toggle in the notification panel, it will take some time to respond to the change.\\n\\nFor example: if I increase my brightness from 30% to 70%, it will take a good half-second to respond to that change. Increasing brightness on this device is not instant on this device is all I am saying.\\n\\nSadly, the phone at this price point can't even keep up with the competition when it comes to the screen quality.\\n\\nLastly, I would highly recommend reading some Google reviews before buying this product.\\nRead more\",\n",
       " 'I just received my Oneplus Pro 9 12Gb/256GB Model, guess what I dint even finish setting up the phone the Phone is OVERHEATING and showing a message that Phone is Overheated. Oneplus is this your premium Phone??? COMMON... I am very disappointed buying this. I initially thought my phone might be defective, but i researched more about this, I found a Forum Thread in Oneplus Website where everyone is complaining of Over Heating issues. You cannot even record a 4k video for 60 sec, phone overheats and stops the recording. Forget 8K recording.. Just read the thread in OnePlus Forum, others cannot even click photo, phone overheats and stops the camera... What is this ONEPLUS? You better release an software update and fix this mess. This is not expected from premium phone like this. I will not change One Star until you fix this Over Heating issue. VERY MUCH DISSAPOINTED.',\n",
       " 'I just received my Oneplus Pro 9 12Gb/256GB Model, guess what I dint even finish setting up the phone the Phone is OVERHEATING and showing a message that Phone is Overheated. Oneplus is this your premium Phone??? COMMON... I am very disappointed buying this. I initially thought my phone might be defective, but i researched more about this, I found a Forum Thread in Oneplus Website where everyone is complaining of Over Heating issues. You cannot even record a 4k video for 60 sec, phone overheats and stops the recording. Forget 8K recording.. Just read the thread in OnePlus Forum, others cannot even click photo, phone overheats and stops the camera... What is this ONEPLUS? You better release an software update and fix this mess. This is not expected from premium phone like this. I will not change One Star until you fix this Over Heating issue. VERY MUCH DISSAPOINTED.',\n",
       " \"The product is not upto the mark, which is the mention on the website\\n1. The mobile phone, while we are using, it is getting heated.\\n2. I have received the Duplicate accessory & Damage/Faulty charger, when I have call to the customer care after placing the call on hold for morethan 30 Min's & finally they are saying due to technical support we are unable to support.\\n3. The Pin to insert the SIM is also not good.\\n4. The packing of the product is not good.\\nI'm not at satisfied with the product, being the Amazon Customer centric the customer are not satisfied. It is the bad product, please don't purchase the product.🙁\",\n",
       " \"Bad product...don't buy it\\nPls don't cheat yourself\\nSo....don't ............try.\\nRenewed products are bad and u have to take care of it\",\n",
       " \"Even when you take back a phone with best work conditions and without a scratch and will be hardly 6 months old, you will pay the customers maximum upto 6k maybe ( plus you will never pay the customers a single penny in exchange offer if the phone has a slight damage), and then sell it back to the customers as refurbished with a price tag which will be hardly 10-15% lower then the current market price.\\nIf I take one plus 5t as an example, you will give the customer an exchange offer for his/her one plus 5t with a value of maybe 7-8k even if it's in best working condition {no scratches, working perfectly ( first two conditions mandatory to get exchange value), and hardly 3-4 months old} and then sell it at 29k.\\nJust wow.\\nNice way to rob the customers.\",\n",
       " 'Overall good',\n",
       " \"This is not a ranting review, it's friendly advice that would save you some money and time.\\n\\nI was using Oneplus 6 before upgrading to Oneplus 8T. Of course, wanted to experience that improved performance and high-quality display with a 120Hz refresh rate that everyone is talking about.\\n\\nBut, the problem with Oneplus 8T is the display itself. First of all, if you are getting Oneplus 8T, you gonna have screen issues straight out of the box.\\n\\nReference keywords for your Google research:\\n- Oneplus Purple Tint\\n- Oneplus Black Crush\\n- Oneplus Ghosting\\n\\nMine was Purple Tint.\\n\\nRemember those old phones we used to use 8 years back that had this poorly made screens which looked sharp from the front but when you tilt it to a certain extent all the colours get washed?\\n\\nSame happening here when I keep my phone brightness under 30%.\\n\\nSecondly, the screen brightness is like an old tube light. When you increase or decrease your screen brightness using the toggle in the notification panel, it will take some time to respond to the change.\\n\\nFor example: if I increase my brightness from 30% to 70%, it will take a good half-second to respond to that change. Increasing brightness on this device is not instant on this device is all I am saying.\\n\\nSadly, the phone at this price point can't even keep up with the competition when it comes to the screen quality.\\n\\nLastly, I would highly recommend reading some Google reviews before buying this product.\\nRead more\",\n",
       " 'The product just overheating.. it is unbelievable from such great company production devices. Here the cost does not matter but product quality is matters.\\n\\n1. builtin Alex is not working\\n2. Average camera\\n3. Overheating.\\n\\nI have been one plus 6t device since 2.5 so far single problem face.. I just upgraded to one plus 9 but it seems to be the worst decision. I did it as I am feeling now.',\n",
       " 'The product just overheating.. it is unbelievable from such great company production devices. Here the cost does not matter but product quality is matters.\\n\\n1. builtin Alex is not working\\n2. Average camera\\n3. Overheating.\\n\\nI have been one plus 6t device since 2.5 so far single problem face.. I just upgraded to one plus 9 but it seems to be the worst decision. I did it as I am feeling now.']"
      ]
     },
     "execution_count": 785,
     "metadata": {},
     "output_type": "execute_result"
    }
   ],
   "source": [
    "oneplus_review"
   ]
  },
  {
   "cell_type": "code",
   "execution_count": 897,
   "metadata": {},
   "outputs": [
    {
     "data": {
      "text/plain": [
       "24"
      ]
     },
     "execution_count": 897,
     "metadata": {},
     "output_type": "execute_result"
    }
   ],
   "source": [
    "len(oneplus_review)"
   ]
  },
  {
   "cell_type": "code",
   "execution_count": 1028,
   "metadata": {},
   "outputs": [],
   "source": [
    "oneplus_rating=[3,3,3,3,3,2,2,3,3,2,3,2,2,2,3,2,2,2,1,1,4,3,2,2]"
   ]
  },
  {
   "cell_type": "code",
   "execution_count": 896,
   "metadata": {},
   "outputs": [
    {
     "data": {
      "text/plain": [
       "24"
      ]
     },
     "execution_count": 896,
     "metadata": {},
     "output_type": "execute_result"
    }
   ],
   "source": [
    "len(oneplus_rating)"
   ]
  },
  {
   "cell_type": "code",
   "execution_count": 358,
   "metadata": {},
   "outputs": [],
   "source": [
    "panasonic_review=[]"
   ]
  },
  {
   "cell_type": "code",
   "execution_count": 359,
   "metadata": {},
   "outputs": [],
   "source": [
    "urls=driver.find_elements_by_xpath(\"//a[@class='a-link-normal a-text-normal']\")\n",
    "UR=[]\n",
    "for i in urls:\n",
    "    UR.append(i.get_attribute('href'))\n",
    "for url in UR:\n",
    "    driver.get(url) \n",
    "    try:\n",
    "        rate=driver.find_element_by_xpath(\"//span[@id='acrCustomerReviewText']\")\n",
    "        rate.click()\n",
    "        review=driver.find_element_by_xpath(\"//div[@class='a-row a-spacing-small review-data']\")\n",
    "        panasonic_review.append(review.text)\n",
    "    \n",
    "    except NoSuchElementException as e:\n",
    "        panasonic_review.append(\"no review\")"
   ]
  },
  {
   "cell_type": "code",
   "execution_count": 895,
   "metadata": {},
   "outputs": [
    {
     "data": {
      "text/plain": [
       "11"
      ]
     },
     "execution_count": 895,
     "metadata": {},
     "output_type": "execute_result"
    }
   ],
   "source": [
    "len(panasonic_review)"
   ]
  },
  {
   "cell_type": "code",
   "execution_count": 800,
   "metadata": {
    "collapsed": true
   },
   "outputs": [
    {
     "data": {
      "text/plain": [
       "[\"Okk I am writing a review after using one day ..\\nI gifted this mobile to my mother and she liked a lot ..\\n\\nFirst of all I let you know this is an updated version of Eluga I7..as you can check on the pictures posted by me ..it's Eluga I7 Enterprise Edition..\\n\\nAnd this is updated to Android 9.0 pie..\\nWhereas the Normal Version is only Android 7 version( which is available on Flipkart).\\nThis mobile does not have tray SIM slot..rather you can open the back cover and easily insert both the SIM and Memory card..and has Non Hybrid Sim Slots..But point to note here is SIM 1 is Micro and SIM 2 Nano ..\\n\\nCamera quality is gud not so gorgeous with 8MP for both Front and Back ..with Flash Led lights on both sides..you can't expect more in this price range .\\n\\nThe best thing is it's Battery Back up of 4000 MAH..\\nVideos run smooth you tube and all.\\nYou can increase the Storage space .. accordingly.\\nDoesn't support quick charging so it takes time for charging but the battery backup is worth .\\n\\nMy Verdict would be if you are getting so many features fr a price of 6499 ..it's worth buying ..\\nA thumbs up from me.👍👍👍\\nRead more\",\n",
       " 'For your low budget, simple mobile but i recommend you to invest 2k or 3k more and buy a better mobile.',\n",
       " 'Nice mobile at its features..price is little bit high..but overall mobile is best for old age peoples..not for gaming..and amazon has specified wrong battery capacity..its battery is 4000 Mah..',\n",
       " 'Your browser does not support HTML5 video.\\n Lagging and overheating issue its 2 GB ram i feel like 512mb and overheating using of any app for 10 mins if i got any call i have t use speaker out or earphones caz such a heat issue like iron box\\nFor more info check my recording ans pics\\nIts iron box..... Please dont but this mobile... Worst mobile that I purchase in my life.... A big patience test for u.... Using this mobile means...last night it heated like i thought it may blow like bomb ....',\n",
       " 'Hang problem',\n",
       " \"This product is worse than anything (battery max 2 hours) ; please don't buy. And Amazon will not help for any technical support or replacement. Fully disappointed please don't buy - dont trust Amazon for all the products\",\n",
       " 'Using past four months, suddenly disconnecting the mobile network for some times (like 5 min to 30 min), I am not finding the fault from network or mobile phone. By that time mobile completely out of order from network.\\nPlease help on this.\\nIn a day noticing 4 to 5 times (SIM are using Airtel and BSNL)\\nOne more issue is too slow when unlocking the pattern/screen lock',\n",
       " \"Very bad even the screen doesn't perform well. Lost of money only,what my expectations to this product it's doesn't perform.i think no one will buy Panasonic Eluga next time.\",\n",
       " 'After giving command I have to wait for 5-10 seconds, even more, totally waste of money, This phone is good only for making the calls, nothing else.',\n",
       " 'The unit was a dead gadget not getting on and not even getting charged ,though charged for hours continuously. Though I registered complaint through the Amazon call centre , no response even after 2 months.',\n",
       " 'Good service & best quality']"
      ]
     },
     "execution_count": 800,
     "metadata": {},
     "output_type": "execute_result"
    }
   ],
   "source": [
    "panasonic_review"
   ]
  },
  {
   "cell_type": "code",
   "execution_count": 801,
   "metadata": {},
   "outputs": [],
   "source": [
    "panasonic_rating=[4,3,4,2,2,1,2,1,1,1,4]"
   ]
  },
  {
   "cell_type": "code",
   "execution_count": 894,
   "metadata": {},
   "outputs": [
    {
     "data": {
      "text/plain": [
       "11"
      ]
     },
     "execution_count": 894,
     "metadata": {},
     "output_type": "execute_result"
    }
   ],
   "source": [
    "len(panasonic_rating)"
   ]
  },
  {
   "cell_type": "code",
   "execution_count": 362,
   "metadata": {},
   "outputs": [],
   "source": [
    "vivo_review=[]"
   ]
  },
  {
   "cell_type": "code",
   "execution_count": 363,
   "metadata": {},
   "outputs": [],
   "source": [
    "urls=driver.find_elements_by_xpath(\"//a[@class='a-link-normal a-text-normal']\")\n",
    "UR=[]\n",
    "for i in urls:\n",
    "    UR.append(i.get_attribute('href'))\n",
    "for url in UR:\n",
    "    driver.get(url) \n",
    "    try:\n",
    "        rate=driver.find_element_by_xpath(\"//span[@id='acrCustomerReviewText']\")\n",
    "        rate.click()\n",
    "        review=driver.find_element_by_xpath(\"//div[@class='a-row a-spacing-small review-data']\")\n",
    "        vivo_review.append(review.text)\n",
    "    \n",
    "    except NoSuchElementException as e:\n",
    "        vivo_review.append(\"no review\")"
   ]
  },
  {
   "cell_type": "code",
   "execution_count": 829,
   "metadata": {
    "collapsed": true
   },
   "outputs": [
    {
     "data": {
      "text/plain": [
       "[\"Worst mobile don't buy , camera quality , battery backup , everything is bad . Hanging No 1 Mobile. Pls pls don't buy Vivo Y51A model. Very very bad mobile. Software is worst always hanging. If anyone have plan to buy pls change urs plans.\",\n",
       " 'Not a good product I recommend not to buy this and waste your prestigious money. The camera is really Very bad and many functions are missing',\n",
       " 'The phone is the worst phone I ever had. I bought this brand new phone three weeks ago. It was slow since beginning but today it has stopped working at all. It gets switch off on its own and switches on when it wishes to.\\nThe worst phone I ever experienced. Shame on the phone and shame on the company.',\n",
       " \"Don't buy this product mobile was very slow and one week charge is standard but one week after automatically charge is decreased point to point\\nAnd touch is also response is very low\\nBut now decided to replace the item return policy amzon description given to 10 days but they gave only one week\",\n",
       " 'Well nice product For daily use. Nice display and battery backup. 730g works well. Camera is little bit confusing. You can take best shots according lighting conditions.',\n",
       " \"Worst mobile don't buy , camera quality , battery backup , everything is bad . Hanging No 1 Mobile. Pls pls don't buy Vivo Y51A model. Very very bad mobile. Software is worst always hanging. If anyone have plan to buy pls change urs plans.\",\n",
       " 'Not a good product I recommend not to buy this and waste your prestigious money. The camera is really Very bad and many functions are missing',\n",
       " 'Not fast charging no long batterylife, no headphones. Somewhat is happy but disappointed with features.',\n",
       " 'no review',\n",
       " 'This product is so good',\n",
       " 'Vivo Y20i is one one the best phone under this price♥️👌\\n- well design and handy model\\n- looks are really amazing 😉\\n- Camara quality is good for this price\\n- battery 🔋 is amazing 5000Ah really high power\\n- fingerprint is awesome really really super fast and easy to unlock because its given with power button\\n-i loved this white colour is awesome i loved it\\n-Over all really thanks to vivo for giving such a wonderful mobile in this price♥️ Thanks to amezon\\n- blindly u can buy this 📱 mobile',\n",
       " 'Not a good product I recommend not to buy this and waste your prestigious money. The camera is really Very bad and many functions are missing',\n",
       " 'Nice',\n",
       " 'Not a good product I recommend not to buy this and waste your prestigious money. The camera is really Very bad and many functions are missing',\n",
       " 'no review',\n",
       " \"Am purchasing this product by amazon but their camera quality was very low as well as for giving replacement Amazon agents were not supportive by problematic condition getting replacement but still mobile having low camera quality, when refund raised then Amazon refunded half amount in Amazon pay wallet and half in bank account it's very pathetic, each of time am assured with Amazon agent but they provided wrong information some of agents are so helpful but they are only 10/100, I want to share one more feedback regarding of this product that mobile is fastly charged all functions are good but camera quality is like we are seeing 1991 doordarshan in 2020....\",\n",
       " \"After 2 days of use. I can say that Product is good and can be bought if you don't have any price concerns.\\nNow actual review: price is actually over priced with label of 5G only. But inside phone setting, model is showing as vivo 2018. Battery is running for a day with 4-5 hours of continuous use. Apart from this there is nothing much special to pay aprox 30k. You even can't feel processor difference of 765 from 720. Might be something technically a label or caption change only for buyers mind. I suggest not to run after 5G now for atleast 2-3 yrs in India.\",\n",
       " \"Very bad product don't buy 😢\",\n",
       " 'This product is so good',\n",
       " 'Nice product',\n",
       " 'Even after charge phone ....its not responding.....kindly replace this on a immediate basis or refund it asap',\n",
       " \"Worst mobile don't buy , camera quality , battery backup , everything is bad . Hanging No 1 Mobile. Pls pls don't buy Vivo Y51A model. Very very bad mobile. Software is worst always hanging. If anyone have plan to buy pls change urs plans.\",\n",
       " \"Worst mobile don't buy , camera quality , battery backup , everything is bad . Hanging No 1 Mobile. Pls pls don't buy Vivo Y51A model. Very very bad mobile. Software is worst always hanging. If anyone have plan to buy pls change urs plans.\",\n",
       " 'Super vivo v17']"
      ]
     },
     "execution_count": 829,
     "metadata": {},
     "output_type": "execute_result"
    }
   ],
   "source": [
    "vivo_review"
   ]
  },
  {
   "cell_type": "code",
   "execution_count": 893,
   "metadata": {},
   "outputs": [
    {
     "data": {
      "text/plain": [
       "24"
      ]
     },
     "execution_count": 893,
     "metadata": {},
     "output_type": "execute_result"
    }
   ],
   "source": [
    "len(vivo_review)"
   ]
  },
  {
   "cell_type": "code",
   "execution_count": 1029,
   "metadata": {},
   "outputs": [],
   "source": [
    "vivo_rating=[1,1,1,1,3,1,1,2,3,4,5,1,4,1,3,3,4,1,4,4,1,1,1,4]"
   ]
  },
  {
   "cell_type": "code",
   "execution_count": 892,
   "metadata": {},
   "outputs": [
    {
     "data": {
      "text/plain": [
       "24"
      ]
     },
     "execution_count": 892,
     "metadata": {},
     "output_type": "execute_result"
    }
   ],
   "source": [
    "len(vivo_rating)"
   ]
  },
  {
   "cell_type": "code",
   "execution_count": 364,
   "metadata": {},
   "outputs": [],
   "source": [
    "realme_review=[]"
   ]
  },
  {
   "cell_type": "code",
   "execution_count": 365,
   "metadata": {},
   "outputs": [],
   "source": [
    "urls=driver.find_elements_by_xpath(\"//a[@class='a-link-normal a-text-normal']\")\n",
    "UR=[]\n",
    "for i in urls:\n",
    "    UR.append(i.get_attribute('href'))\n",
    "for url in UR:\n",
    "    driver.get(url) \n",
    "    try:\n",
    "        rate=driver.find_element_by_xpath(\"//span[@id='acrCustomerReviewText']\")\n",
    "        rate.click()\n",
    "        review=driver.find_element_by_xpath(\"//div[@class='a-row a-spacing-small review-data']\")\n",
    "        realme_review.append(review.text)\n",
    "    \n",
    "    except NoSuchElementException as e:\n",
    "        realme_review.append(\"no review\")"
   ]
  },
  {
   "cell_type": "code",
   "execution_count": 860,
   "metadata": {
    "collapsed": true
   },
   "outputs": [
    {
     "data": {
      "text/plain": [
       "['no review',\n",
       " 'no review',\n",
       " 'Very nice product delivery could be made faster',\n",
       " \"Very slow charging even though they mentioned fast charging it is not real.In 10 minutes time it charged only 3 points . I bought it another platform. They don't allowed return. When their claim fastcharging is wrong they have to allow return\",\n",
       " \"Very slow charging even though they mentioned fast charging it is not real.In 10 minutes time it charged only 3 points . I bought it another platform. They don't allowed return. When their claim fastcharging is wrong they have to allow return\",\n",
       " 'no review',\n",
       " 'Very Nice And smoothly phone\\nlooking good',\n",
       " 'no review',\n",
       " 'no review',\n",
       " 'Phone is excellent for Price Set up. But does not have Auto Recording of Calls. And google Phone does not allow auto recording. In playing videos sound quality is very low.',\n",
       " 'no review',\n",
       " 'Overall the phone is excellent as per the features and price.',\n",
       " \"Front camera is good but back camera worst , battery life is good. Display not as good but in this price range it's ok\",\n",
       " 'no review',\n",
       " 'No replacement available and speaker not working and bad display',\n",
       " 'Phone is very slow...even when storage is free...hanging to the core\\nWorst product.........very very worst product I have ever seen',\n",
       " '1st day use hange and stuck the screen',\n",
       " \"Wrost mobile . Hanging too much . Doing cheating with customer .don't buy renewed phone\",\n",
       " 'no review',\n",
       " 'Your browser does not support HTML5 video.\\n Scratches my phone realme8 Amazon exchange my product',\n",
       " 'Pros - good screen 120hz, long battery life, mid range 5 G bands support same as in trial one n77,n78, good foam factor, fast finger print, fast charging, good camera, good audio output, supports mimo in both network and audio(realme labs).\\n\\nCons - older os android 10 based realme os 1.0, Fast charging(Dart) sometimes not working, browser app gives ad in notification',\n",
       " 'Mobile hanging issue',\n",
       " 'Awesome Mobile ever..... every thing is perfect..love 💕 it...',\n",
       " 'But screen gurd ,head set not provided ....iam dispoiented']"
      ]
     },
     "execution_count": 860,
     "metadata": {},
     "output_type": "execute_result"
    }
   ],
   "source": [
    "realme_review"
   ]
  },
  {
   "cell_type": "code",
   "execution_count": 891,
   "metadata": {},
   "outputs": [
    {
     "data": {
      "text/plain": [
       "24"
      ]
     },
     "execution_count": 891,
     "metadata": {},
     "output_type": "execute_result"
    }
   ],
   "source": [
    "len(realme_review)"
   ]
  },
  {
   "cell_type": "code",
   "execution_count": 1030,
   "metadata": {},
   "outputs": [],
   "source": [
    "realme_rating=[3,3,4,2,2,3,4,3,3,5,3,4,3,3,1,2,1,1,3,2,3,1,5,1]"
   ]
  },
  {
   "cell_type": "code",
   "execution_count": 890,
   "metadata": {},
   "outputs": [
    {
     "data": {
      "text/plain": [
       "24"
      ]
     },
     "execution_count": 890,
     "metadata": {},
     "output_type": "execute_result"
    }
   ],
   "source": [
    "len(realme_rating)"
   ]
  },
  {
   "cell_type": "code",
   "execution_count": 878,
   "metadata": {},
   "outputs": [
    {
     "ename": "TypeError",
     "evalue": "bad operand type for unary +: 'list'",
     "output_type": "error",
     "traceback": [
      "\u001b[1;31m---------------------------------------------------------------------------\u001b[0m",
      "\u001b[1;31mTypeError\u001b[0m                                 Traceback (most recent call last)",
      "\u001b[1;32m<ipython-input-878-e78735cdefa0>\u001b[0m in \u001b[0;36m<module>\u001b[1;34m\u001b[0m\n\u001b[0;32m      1\u001b[0m \u001b[0mlist1\u001b[0m\u001b[1;33m=\u001b[0m\u001b[0mReview\u001b[0m\u001b[1;33m+\u001b[0m\u001b[0mReview_smart_watch\u001b[0m\u001b[1;33m+\u001b[0m\u001b[0mReview_camera\u001b[0m\u001b[1;33m+\u001b[0m\u001b[0mReview_monitor\u001b[0m\u001b[1;33m+\u001b[0m\u001b[0mReview_printer\u001b[0m\u001b[1;33m+\u001b[0m\u001b[0mReview_Home_theatre\u001b[0m\u001b[1;33m+\u001b[0m\u001b[0mReview_router\u001b[0m\u001b[1;33m\u001b[0m\u001b[1;33m\u001b[0m\u001b[0m\n\u001b[1;32m----> 2\u001b[1;33m \u001b[1;33m+\u001b[0m\u001b[0mReview_router_2\u001b[0m\u001b[1;33m+\u001b[0m\u001b[0mTelevision_Review\u001b[0m\u001b[1;33m+\u001b[0m\u001b[0mPendrive_Review\u001b[0m\u001b[1;33m+\u001b[0m\u001b[0mUPS_review\u001b[0m\u001b[1;33m+\u001b[0m\u001b[0mHard_drive_review\u001b[0m\u001b[1;33m+\u001b[0m\u001b[0mheadphone_review\u001b[0m\u001b[1;33m+\u001b[0m\u001b[0mtablet_review\u001b[0m\u001b[1;33m+\u001b[0m\u001b[0mplaystation_review\u001b[0m\u001b[1;33m\u001b[0m\u001b[1;33m\u001b[0m\u001b[0m\n\u001b[0m\u001b[0;32m      3\u001b[0m \u001b[1;33m+\u001b[0m\u001b[0mspeaker_review\u001b[0m\u001b[1;33m+\u001b[0m\u001b[0mredmi_review\u001b[0m\u001b[1;33m+\u001b[0m\u001b[0msamsung_review\u001b[0m\u001b[1;33m+\u001b[0m\u001b[0moppo_review\u001b[0m\u001b[1;33m+\u001b[0m\u001b[0moneplus_review\u001b[0m\u001b[1;33m+\u001b[0m\u001b[0mpanasonic_review\u001b[0m\u001b[1;33m+\u001b[0m\u001b[0mvivo_review\u001b[0m\u001b[1;33m+\u001b[0m\u001b[0mrealme_review\u001b[0m\u001b[1;33m\u001b[0m\u001b[1;33m\u001b[0m\u001b[0m\n",
      "\u001b[1;31mTypeError\u001b[0m: bad operand type for unary +: 'list'"
     ]
    }
   ],
   "source": [
    "list1=Review+Review_smart_watch+Review_camera+Review_monitor+Review_printer+Review_Home_theatre+Review_router\n",
    "+Review_router_2+Television_Review+Pendrive_Review+UPS_review+Hard_drive_review+headphone_review+tablet_review+playstation_review\n",
    "+speaker_review+redmi_review+samsung_review+oppo_review+oneplus_review+panasonic_review+vivo_review+realme_review"
   ]
  },
  {
   "cell_type": "code",
   "execution_count": 872,
   "metadata": {},
   "outputs": [],
   "source": [
    "lis=oneplus_review+vivo_review"
   ]
  },
  {
   "cell_type": "code",
   "execution_count": 874,
   "metadata": {},
   "outputs": [
    {
     "data": {
      "text/plain": [
       "48"
      ]
     },
     "execution_count": 874,
     "metadata": {},
     "output_type": "execute_result"
    }
   ],
   "source": [
    "len(lis)"
   ]
  },
  {
   "cell_type": "code",
   "execution_count": 943,
   "metadata": {},
   "outputs": [],
   "source": [
    "list1=Review+Review_smart_watch+Review_camera+Review_monitor+Review_printer+Review_Home_theatre+Review_router"
   ]
  },
  {
   "cell_type": "code",
   "execution_count": 944,
   "metadata": {},
   "outputs": [],
   "source": [
    "list2=Review_router_2+Television_Review+Pendrive_Review+UPS_review+Hard_drive_review+headphone_review+tablet_review+playstation_review"
   ]
  },
  {
   "cell_type": "code",
   "execution_count": 945,
   "metadata": {},
   "outputs": [],
   "source": [
    "list3=speaker_review+redmi_review+samsung_review+oppo_review+oneplus_review+panasonic_review+vivo_review+realme_review"
   ]
  },
  {
   "cell_type": "code",
   "execution_count": 946,
   "metadata": {},
   "outputs": [],
   "source": [
    "LIST=list1+list2+list3"
   ]
  },
  {
   "cell_type": "code",
   "execution_count": 947,
   "metadata": {},
   "outputs": [
    {
     "data": {
      "text/plain": [
       "598"
      ]
     },
     "execution_count": 947,
     "metadata": {},
     "output_type": "execute_result"
    }
   ],
   "source": [
    "len(LIST)"
   ]
  },
  {
   "cell_type": "code",
   "execution_count": 953,
   "metadata": {},
   "outputs": [],
   "source": [
    "Lis1=Rating_earphone+Rating_smart_watch+rating_camera+rating_monitor+Rating_printer+Rating_Home_theatre+Rating_router"
   ]
  },
  {
   "cell_type": "code",
   "execution_count": 1033,
   "metadata": {},
   "outputs": [],
   "source": [
    "Lis2=Rating_router_2+Rating_television+Rating_pendrive+UPS_rating+hard_drive_rating+headphone_rating+tablet_rating+playstation_rating"
   ]
  },
  {
   "cell_type": "code",
   "execution_count": 1034,
   "metadata": {},
   "outputs": [],
   "source": [
    "Lis3=speaker_rating+redmi_rating+samsung_rating+oppo_rating+oneplus_rating+panasonic_rating+vivo_rating+realme_rating"
   ]
  },
  {
   "cell_type": "code",
   "execution_count": 956,
   "metadata": {},
   "outputs": [],
   "source": [
    "LIST_RATING=Lis1=Lis2+Lis3"
   ]
  },
  {
   "cell_type": "code",
   "execution_count": 957,
   "metadata": {},
   "outputs": [
    {
     "data": {
      "text/plain": [
       "404"
      ]
     },
     "execution_count": 957,
     "metadata": {},
     "output_type": "execute_result"
    }
   ],
   "source": [
    "len(LIST_RATING)"
   ]
  },
  {
   "cell_type": "code",
   "execution_count": 958,
   "metadata": {},
   "outputs": [],
   "source": [
    "l=Rating_earphone+Rating_smart_watch"
   ]
  },
  {
   "cell_type": "code",
   "execution_count": 966,
   "metadata": {},
   "outputs": [
    {
     "data": {
      "text/plain": [
       "404"
      ]
     },
     "execution_count": 966,
     "metadata": {},
     "output_type": "execute_result"
    }
   ],
   "source": [
    "len(Lis1)"
   ]
  },
  {
   "cell_type": "code",
   "execution_count": 1036,
   "metadata": {},
   "outputs": [
    {
     "data": {
      "text/plain": [
       "221"
      ]
     },
     "execution_count": 1036,
     "metadata": {},
     "output_type": "execute_result"
    }
   ],
   "source": [
    "len(Lis2)"
   ]
  },
  {
   "cell_type": "code",
   "execution_count": 1035,
   "metadata": {},
   "outputs": [
    {
     "data": {
      "text/plain": [
       "183"
      ]
     },
     "execution_count": 1035,
     "metadata": {},
     "output_type": "execute_result"
    }
   ],
   "source": [
    "len(Lis3)"
   ]
  },
  {
   "cell_type": "code",
   "execution_count": 965,
   "metadata": {},
   "outputs": [
    {
     "data": {
      "text/plain": [
       "770"
      ]
     },
     "execution_count": 965,
     "metadata": {},
     "output_type": "execute_result"
    }
   ],
   "source": [
    "183+404+183"
   ]
  },
  {
   "cell_type": "code",
   "execution_count": 972,
   "metadata": {},
   "outputs": [
    {
     "data": {
      "text/plain": [
       "194"
      ]
     },
     "execution_count": 972,
     "metadata": {},
     "output_type": "execute_result"
    }
   ],
   "source": [
    "len(list1)"
   ]
  },
  {
   "cell_type": "code",
   "execution_count": 973,
   "metadata": {},
   "outputs": [
    {
     "data": {
      "text/plain": [
       "221"
      ]
     },
     "execution_count": 973,
     "metadata": {},
     "output_type": "execute_result"
    }
   ],
   "source": [
    "len(list2)"
   ]
  },
  {
   "cell_type": "code",
   "execution_count": 974,
   "metadata": {},
   "outputs": [
    {
     "data": {
      "text/plain": [
       "183"
      ]
     },
     "execution_count": 974,
     "metadata": {},
     "output_type": "execute_result"
    }
   ],
   "source": [
    "len(list3)"
   ]
  },
  {
   "cell_type": "code",
   "execution_count": 975,
   "metadata": {},
   "outputs": [
    {
     "data": {
      "text/plain": [
       "598"
      ]
     },
     "execution_count": 975,
     "metadata": {},
     "output_type": "execute_result"
    }
   ],
   "source": [
    "194+221+183"
   ]
  },
  {
   "cell_type": "code",
   "execution_count": 1031,
   "metadata": {},
   "outputs": [],
   "source": [
    "list_1=Rating_earphone+Rating_smart_watch+rating_camera+rating_monitor+Rating_printer+Rating_Home_theatre+Rating_router"
   ]
  },
  {
   "cell_type": "code",
   "execution_count": 1032,
   "metadata": {},
   "outputs": [
    {
     "data": {
      "text/plain": [
       "194"
      ]
     },
     "execution_count": 1032,
     "metadata": {},
     "output_type": "execute_result"
    }
   ],
   "source": [
    "len(list_1)"
   ]
  },
  {
   "cell_type": "code",
   "execution_count": 1037,
   "metadata": {},
   "outputs": [],
   "source": [
    "final_rating=list_1+Lis2+Lis3"
   ]
  },
  {
   "cell_type": "code",
   "execution_count": 1038,
   "metadata": {},
   "outputs": [
    {
     "data": {
      "text/plain": [
       "598"
      ]
     },
     "execution_count": 1038,
     "metadata": {},
     "output_type": "execute_result"
    }
   ],
   "source": [
    "len(final_rating)"
   ]
  },
  {
   "cell_type": "code",
   "execution_count": 2,
   "metadata": {},
   "outputs": [
    {
     "ename": "NameError",
     "evalue": "name 'LIST' is not defined",
     "output_type": "error",
     "traceback": [
      "\u001b[1;31m---------------------------------------------------------------------------\u001b[0m",
      "\u001b[1;31mNameError\u001b[0m                                 Traceback (most recent call last)",
      "\u001b[1;32m<ipython-input-2-4fccc6e64d87>\u001b[0m in \u001b[0;36m<module>\u001b[1;34m\u001b[0m\n\u001b[1;32m----> 1\u001b[1;33m \u001b[0mlen\u001b[0m\u001b[1;33m(\u001b[0m\u001b[0mLIST\u001b[0m\u001b[1;33m)\u001b[0m\u001b[1;33m\u001b[0m\u001b[1;33m\u001b[0m\u001b[0m\n\u001b[0m",
      "\u001b[1;31mNameError\u001b[0m: name 'LIST' is not defined"
     ]
    }
   ],
   "source": [
    "len(LIST)"
   ]
  },
  {
   "cell_type": "code",
   "execution_count": 1039,
   "metadata": {},
   "outputs": [],
   "source": [
    "df=pd.DataFrame({})\n",
    "df[\"Reviews\"]=LIST\n",
    "df[\"Ratings\"]=final_rating"
   ]
  },
  {
   "cell_type": "code",
   "execution_count": 1005,
   "metadata": {},
   "outputs": [
    {
     "data": {
      "text/plain": [
       "(598, 2)"
      ]
     },
     "execution_count": 1005,
     "metadata": {},
     "output_type": "execute_result"
    }
   ],
   "source": [
    "df.shape"
   ]
  },
  {
   "cell_type": "code",
   "execution_count": 984,
   "metadata": {},
   "outputs": [
    {
     "ename": "WebDriverException",
     "evalue": "Message: unknown error: net::ERR_NAME_NOT_RESOLVED\n  (Session info: chrome=91.0.4472.77)\n",
     "output_type": "error",
     "traceback": [
      "\u001b[1;31m---------------------------------------------------------------------------\u001b[0m",
      "\u001b[1;31mWebDriverException\u001b[0m                        Traceback (most recent call last)",
      "\u001b[1;32m<ipython-input-984-49c8e7ccf69b>\u001b[0m in \u001b[0;36m<module>\u001b[1;34m\u001b[0m\n\u001b[1;32m----> 1\u001b[1;33m \u001b[0mdriver\u001b[0m\u001b[1;33m.\u001b[0m\u001b[0mget\u001b[0m\u001b[1;33m(\u001b[0m\u001b[1;34m\"https://www.flipkart.com/\"\u001b[0m\u001b[1;33m)\u001b[0m\u001b[1;33m\u001b[0m\u001b[1;33m\u001b[0m\u001b[0m\n\u001b[0m",
      "\u001b[1;32m~\\anaconda3\\lib\\site-packages\\selenium\\webdriver\\remote\\webdriver.py\u001b[0m in \u001b[0;36mget\u001b[1;34m(self, url)\u001b[0m\n\u001b[0;32m    331\u001b[0m         \u001b[0mLoads\u001b[0m \u001b[0ma\u001b[0m \u001b[0mweb\u001b[0m \u001b[0mpage\u001b[0m \u001b[1;32min\u001b[0m \u001b[0mthe\u001b[0m \u001b[0mcurrent\u001b[0m \u001b[0mbrowser\u001b[0m \u001b[0msession\u001b[0m\u001b[1;33m.\u001b[0m\u001b[1;33m\u001b[0m\u001b[1;33m\u001b[0m\u001b[0m\n\u001b[0;32m    332\u001b[0m         \"\"\"\n\u001b[1;32m--> 333\u001b[1;33m         \u001b[0mself\u001b[0m\u001b[1;33m.\u001b[0m\u001b[0mexecute\u001b[0m\u001b[1;33m(\u001b[0m\u001b[0mCommand\u001b[0m\u001b[1;33m.\u001b[0m\u001b[0mGET\u001b[0m\u001b[1;33m,\u001b[0m \u001b[1;33m{\u001b[0m\u001b[1;34m'url'\u001b[0m\u001b[1;33m:\u001b[0m \u001b[0murl\u001b[0m\u001b[1;33m}\u001b[0m\u001b[1;33m)\u001b[0m\u001b[1;33m\u001b[0m\u001b[1;33m\u001b[0m\u001b[0m\n\u001b[0m\u001b[0;32m    334\u001b[0m \u001b[1;33m\u001b[0m\u001b[0m\n\u001b[0;32m    335\u001b[0m     \u001b[1;33m@\u001b[0m\u001b[0mproperty\u001b[0m\u001b[1;33m\u001b[0m\u001b[1;33m\u001b[0m\u001b[0m\n",
      "\u001b[1;32m~\\anaconda3\\lib\\site-packages\\selenium\\webdriver\\remote\\webdriver.py\u001b[0m in \u001b[0;36mexecute\u001b[1;34m(self, driver_command, params)\u001b[0m\n\u001b[0;32m    319\u001b[0m         \u001b[0mresponse\u001b[0m \u001b[1;33m=\u001b[0m \u001b[0mself\u001b[0m\u001b[1;33m.\u001b[0m\u001b[0mcommand_executor\u001b[0m\u001b[1;33m.\u001b[0m\u001b[0mexecute\u001b[0m\u001b[1;33m(\u001b[0m\u001b[0mdriver_command\u001b[0m\u001b[1;33m,\u001b[0m \u001b[0mparams\u001b[0m\u001b[1;33m)\u001b[0m\u001b[1;33m\u001b[0m\u001b[1;33m\u001b[0m\u001b[0m\n\u001b[0;32m    320\u001b[0m         \u001b[1;32mif\u001b[0m \u001b[0mresponse\u001b[0m\u001b[1;33m:\u001b[0m\u001b[1;33m\u001b[0m\u001b[1;33m\u001b[0m\u001b[0m\n\u001b[1;32m--> 321\u001b[1;33m             \u001b[0mself\u001b[0m\u001b[1;33m.\u001b[0m\u001b[0merror_handler\u001b[0m\u001b[1;33m.\u001b[0m\u001b[0mcheck_response\u001b[0m\u001b[1;33m(\u001b[0m\u001b[0mresponse\u001b[0m\u001b[1;33m)\u001b[0m\u001b[1;33m\u001b[0m\u001b[1;33m\u001b[0m\u001b[0m\n\u001b[0m\u001b[0;32m    322\u001b[0m             response['value'] = self._unwrap_value(\n\u001b[0;32m    323\u001b[0m                 response.get('value', None))\n",
      "\u001b[1;32m~\\anaconda3\\lib\\site-packages\\selenium\\webdriver\\remote\\errorhandler.py\u001b[0m in \u001b[0;36mcheck_response\u001b[1;34m(self, response)\u001b[0m\n\u001b[0;32m    240\u001b[0m                 \u001b[0malert_text\u001b[0m \u001b[1;33m=\u001b[0m \u001b[0mvalue\u001b[0m\u001b[1;33m[\u001b[0m\u001b[1;34m'alert'\u001b[0m\u001b[1;33m]\u001b[0m\u001b[1;33m.\u001b[0m\u001b[0mget\u001b[0m\u001b[1;33m(\u001b[0m\u001b[1;34m'text'\u001b[0m\u001b[1;33m)\u001b[0m\u001b[1;33m\u001b[0m\u001b[1;33m\u001b[0m\u001b[0m\n\u001b[0;32m    241\u001b[0m             \u001b[1;32mraise\u001b[0m \u001b[0mexception_class\u001b[0m\u001b[1;33m(\u001b[0m\u001b[0mmessage\u001b[0m\u001b[1;33m,\u001b[0m \u001b[0mscreen\u001b[0m\u001b[1;33m,\u001b[0m \u001b[0mstacktrace\u001b[0m\u001b[1;33m,\u001b[0m \u001b[0malert_text\u001b[0m\u001b[1;33m)\u001b[0m\u001b[1;33m\u001b[0m\u001b[1;33m\u001b[0m\u001b[0m\n\u001b[1;32m--> 242\u001b[1;33m         \u001b[1;32mraise\u001b[0m \u001b[0mexception_class\u001b[0m\u001b[1;33m(\u001b[0m\u001b[0mmessage\u001b[0m\u001b[1;33m,\u001b[0m \u001b[0mscreen\u001b[0m\u001b[1;33m,\u001b[0m \u001b[0mstacktrace\u001b[0m\u001b[1;33m)\u001b[0m\u001b[1;33m\u001b[0m\u001b[1;33m\u001b[0m\u001b[0m\n\u001b[0m\u001b[0;32m    243\u001b[0m \u001b[1;33m\u001b[0m\u001b[0m\n\u001b[0;32m    244\u001b[0m     \u001b[1;32mdef\u001b[0m \u001b[0m_value_or_default\u001b[0m\u001b[1;33m(\u001b[0m\u001b[0mself\u001b[0m\u001b[1;33m,\u001b[0m \u001b[0mobj\u001b[0m\u001b[1;33m,\u001b[0m \u001b[0mkey\u001b[0m\u001b[1;33m,\u001b[0m \u001b[0mdefault\u001b[0m\u001b[1;33m)\u001b[0m\u001b[1;33m:\u001b[0m\u001b[1;33m\u001b[0m\u001b[1;33m\u001b[0m\u001b[0m\n",
      "\u001b[1;31mWebDriverException\u001b[0m: Message: unknown error: net::ERR_NAME_NOT_RESOLVED\n  (Session info: chrome=91.0.4472.77)\n"
     ]
    }
   ],
   "source": [
    "driver.get(\"https://www.flipkart.com/\")"
   ]
  },
  {
   "cell_type": "code",
   "execution_count": 985,
   "metadata": {},
   "outputs": [],
   "source": [
    "import numpy as np\n",
    "import matplotlib.pyplot as plt\n",
    "import seaborn as sns\n",
    "import warnings\n",
    "warnings.filterwarnings(\"ignore\")"
   ]
  },
  {
   "cell_type": "code",
   "execution_count": 1006,
   "metadata": {},
   "outputs": [
    {
     "data": {
      "text/html": [
       "<div>\n",
       "<style scoped>\n",
       "    .dataframe tbody tr th:only-of-type {\n",
       "        vertical-align: middle;\n",
       "    }\n",
       "\n",
       "    .dataframe tbody tr th {\n",
       "        vertical-align: top;\n",
       "    }\n",
       "\n",
       "    .dataframe thead th {\n",
       "        text-align: right;\n",
       "    }\n",
       "</style>\n",
       "<table border=\"1\" class=\"dataframe\">\n",
       "  <thead>\n",
       "    <tr style=\"text-align: right;\">\n",
       "      <th></th>\n",
       "      <th>Reviews</th>\n",
       "      <th>Ratings</th>\n",
       "    </tr>\n",
       "  </thead>\n",
       "  <tbody>\n",
       "    <tr>\n",
       "      <th>0</th>\n",
       "      <td>Bluetooth 5.O\\nUSB C charging\\nHD-AAC audio\\nR...</td>\n",
       "      <td>3</td>\n",
       "    </tr>\n",
       "    <tr>\n",
       "      <th>1</th>\n",
       "      <td>For someone who listens to assorted English mu...</td>\n",
       "      <td>3</td>\n",
       "    </tr>\n",
       "    <tr>\n",
       "      <th>2</th>\n",
       "      <td>I have purchased this boat earphone few months...</td>\n",
       "      <td>4</td>\n",
       "    </tr>\n",
       "    <tr>\n",
       "      <th>3</th>\n",
       "      <td>Amazing! After a long time I got something per...</td>\n",
       "      <td>4</td>\n",
       "    </tr>\n",
       "    <tr>\n",
       "      <th>4</th>\n",
       "      <td>This is one of the worst earphones I have ever...</td>\n",
       "      <td>1</td>\n",
       "    </tr>\n",
       "  </tbody>\n",
       "</table>\n",
       "</div>"
      ],
      "text/plain": [
       "                                             Reviews Ratings\n",
       "0  Bluetooth 5.O\\nUSB C charging\\nHD-AAC audio\\nR...       3\n",
       "1  For someone who listens to assorted English mu...       3\n",
       "2  I have purchased this boat earphone few months...       4\n",
       "3  Amazing! After a long time I got something per...       4\n",
       "4  This is one of the worst earphones I have ever...       1"
      ]
     },
     "execution_count": 1006,
     "metadata": {},
     "output_type": "execute_result"
    }
   ],
   "source": [
    "df.head()"
   ]
  },
  {
   "cell_type": "code",
   "execution_count": 992,
   "metadata": {},
   "outputs": [],
   "source": [
    "df[\"Reviews\"]=df[\"Reviews\"].str.replace(\"\\n\",\" \")"
   ]
  },
  {
   "cell_type": "code",
   "execution_count": 993,
   "metadata": {},
   "outputs": [
    {
     "data": {
      "text/plain": [
       "0      Bluetooth 5.OUSB C chargingHD-AAC audioReliabl...\n",
       "1      For someone who listens to assorted English mu...\n",
       "2      I have purchased this boat earphone few months...\n",
       "3      Amazing! After a long time I got something per...\n",
       "4      This is one of the worst earphones I have ever...\n",
       "                             ...                        \n",
       "593    Your browser does not support HTML5 video. Scr...\n",
       "594    Pros - good screen 120hz, long battery life, m...\n",
       "595                                 Mobile hanging issue\n",
       "596    Awesome Mobile ever..... every thing is perfec...\n",
       "597    But screen gurd ,head set not provided ....iam...\n",
       "Name: Reviews, Length: 598, dtype: object"
      ]
     },
     "execution_count": 993,
     "metadata": {},
     "output_type": "execute_result"
    }
   ],
   "source": [
    "df[\"Reviews\"]"
   ]
  },
  {
   "cell_type": "code",
   "execution_count": 1042,
   "metadata": {},
   "outputs": [
    {
     "data": {
      "text/plain": [
       "3    195\n",
       "4    188\n",
       "1    105\n",
       "2     69\n",
       "5     38\n",
       "0      3\n",
       "Name: Ratings, dtype: int64"
      ]
     },
     "execution_count": 1042,
     "metadata": {},
     "output_type": "execute_result"
    }
   ],
   "source": [
    "df[\"Ratings\"].value_counts()"
   ]
  },
  {
   "cell_type": "code",
   "execution_count": 1040,
   "metadata": {},
   "outputs": [
    {
     "data": {
      "text/plain": [
       "0"
      ]
     },
     "execution_count": 1040,
     "metadata": {},
     "output_type": "execute_result"
    }
   ],
   "source": [
    "df[\"Ratings\"].isnull().sum()"
   ]
  },
  {
   "cell_type": "code",
   "execution_count": 999,
   "metadata": {},
   "outputs": [],
   "source": [
    "df[\"Rating\"]=df[\"Rating\"].str.replace(\"NA\",\"3\")"
   ]
  },
  {
   "cell_type": "code",
   "execution_count": 1007,
   "metadata": {},
   "outputs": [
    {
     "data": {
      "text/plain": [
       "0"
      ]
     },
     "execution_count": 1007,
     "metadata": {},
     "output_type": "execute_result"
    }
   ],
   "source": [
    "df[\"Ratings\"].isna().sum()"
   ]
  },
  {
   "cell_type": "code",
   "execution_count": 1008,
   "metadata": {},
   "outputs": [],
   "source": [
    "df[\"RATINGs\"]=df[\"Ratings\"].str.replace(\"NA\",\"NaN\")"
   ]
  },
  {
   "cell_type": "code",
   "execution_count": 1009,
   "metadata": {},
   "outputs": [
    {
     "data": {
      "text/plain": [
       "0      NaN\n",
       "1      NaN\n",
       "2      NaN\n",
       "3      NaN\n",
       "4      NaN\n",
       "      ... \n",
       "593    NaN\n",
       "594    NaN\n",
       "595    NaN\n",
       "596    NaN\n",
       "597    NaN\n",
       "Name: RATINGs, Length: 598, dtype: object"
      ]
     },
     "execution_count": 1009,
     "metadata": {},
     "output_type": "execute_result"
    }
   ],
   "source": [
    "df[\"RATINGs\"]"
   ]
  },
  {
   "cell_type": "code",
   "execution_count": 1043,
   "metadata": {},
   "outputs": [
    {
     "data": {
      "text/html": [
       "<div>\n",
       "<style scoped>\n",
       "    .dataframe tbody tr th:only-of-type {\n",
       "        vertical-align: middle;\n",
       "    }\n",
       "\n",
       "    .dataframe tbody tr th {\n",
       "        vertical-align: top;\n",
       "    }\n",
       "\n",
       "    .dataframe thead th {\n",
       "        text-align: right;\n",
       "    }\n",
       "</style>\n",
       "<table border=\"1\" class=\"dataframe\">\n",
       "  <thead>\n",
       "    <tr style=\"text-align: right;\">\n",
       "      <th></th>\n",
       "      <th>Reviews</th>\n",
       "      <th>Ratings</th>\n",
       "    </tr>\n",
       "  </thead>\n",
       "  <tbody>\n",
       "    <tr>\n",
       "      <th>0</th>\n",
       "      <td>Bluetooth 5.O\\nUSB C charging\\nHD-AAC audio\\nR...</td>\n",
       "      <td>3</td>\n",
       "    </tr>\n",
       "    <tr>\n",
       "      <th>1</th>\n",
       "      <td>For someone who listens to assorted English mu...</td>\n",
       "      <td>3</td>\n",
       "    </tr>\n",
       "    <tr>\n",
       "      <th>2</th>\n",
       "      <td>I have purchased this boat earphone few months...</td>\n",
       "      <td>4</td>\n",
       "    </tr>\n",
       "    <tr>\n",
       "      <th>3</th>\n",
       "      <td>Amazing! After a long time I got something per...</td>\n",
       "      <td>4</td>\n",
       "    </tr>\n",
       "    <tr>\n",
       "      <th>4</th>\n",
       "      <td>This is one of the worst earphones I have ever...</td>\n",
       "      <td>1</td>\n",
       "    </tr>\n",
       "  </tbody>\n",
       "</table>\n",
       "</div>"
      ],
      "text/plain": [
       "                                             Reviews  Ratings\n",
       "0  Bluetooth 5.O\\nUSB C charging\\nHD-AAC audio\\nR...        3\n",
       "1  For someone who listens to assorted English mu...        3\n",
       "2  I have purchased this boat earphone few months...        4\n",
       "3  Amazing! After a long time I got something per...        4\n",
       "4  This is one of the worst earphones I have ever...        1"
      ]
     },
     "execution_count": 1043,
     "metadata": {},
     "output_type": "execute_result"
    }
   ],
   "source": [
    "df.head()"
   ]
  },
  {
   "cell_type": "code",
   "execution_count": 1044,
   "metadata": {},
   "outputs": [],
   "source": [
    "df[\"Reviews\"]=df[\"Reviews\"].str.replace(\"\\n\",\" \")"
   ]
  },
  {
   "cell_type": "code",
   "execution_count": 1045,
   "metadata": {},
   "outputs": [
    {
     "data": {
      "text/html": [
       "<div>\n",
       "<style scoped>\n",
       "    .dataframe tbody tr th:only-of-type {\n",
       "        vertical-align: middle;\n",
       "    }\n",
       "\n",
       "    .dataframe tbody tr th {\n",
       "        vertical-align: top;\n",
       "    }\n",
       "\n",
       "    .dataframe thead th {\n",
       "        text-align: right;\n",
       "    }\n",
       "</style>\n",
       "<table border=\"1\" class=\"dataframe\">\n",
       "  <thead>\n",
       "    <tr style=\"text-align: right;\">\n",
       "      <th></th>\n",
       "      <th>Reviews</th>\n",
       "      <th>Ratings</th>\n",
       "    </tr>\n",
       "  </thead>\n",
       "  <tbody>\n",
       "    <tr>\n",
       "      <th>0</th>\n",
       "      <td>Bluetooth 5.O USB C charging HD-AAC audio Reli...</td>\n",
       "      <td>3</td>\n",
       "    </tr>\n",
       "    <tr>\n",
       "      <th>1</th>\n",
       "      <td>For someone who listens to assorted English mu...</td>\n",
       "      <td>3</td>\n",
       "    </tr>\n",
       "    <tr>\n",
       "      <th>2</th>\n",
       "      <td>I have purchased this boat earphone few months...</td>\n",
       "      <td>4</td>\n",
       "    </tr>\n",
       "    <tr>\n",
       "      <th>3</th>\n",
       "      <td>Amazing! After a long time I got something per...</td>\n",
       "      <td>4</td>\n",
       "    </tr>\n",
       "    <tr>\n",
       "      <th>4</th>\n",
       "      <td>This is one of the worst earphones I have ever...</td>\n",
       "      <td>1</td>\n",
       "    </tr>\n",
       "  </tbody>\n",
       "</table>\n",
       "</div>"
      ],
      "text/plain": [
       "                                             Reviews  Ratings\n",
       "0  Bluetooth 5.O USB C charging HD-AAC audio Reli...        3\n",
       "1  For someone who listens to assorted English mu...        3\n",
       "2  I have purchased this boat earphone few months...        4\n",
       "3  Amazing! After a long time I got something per...        4\n",
       "4  This is one of the worst earphones I have ever...        1"
      ]
     },
     "execution_count": 1045,
     "metadata": {},
     "output_type": "execute_result"
    }
   ],
   "source": [
    "df.head()"
   ]
  },
  {
   "cell_type": "code",
   "execution_count": 1046,
   "metadata": {},
   "outputs": [],
   "source": [
    "df[\"length\"]=df.Reviews.str.len()"
   ]
  },
  {
   "cell_type": "code",
   "execution_count": 1048,
   "metadata": {},
   "outputs": [
    {
     "data": {
      "text/html": [
       "<div>\n",
       "<style scoped>\n",
       "    .dataframe tbody tr th:only-of-type {\n",
       "        vertical-align: middle;\n",
       "    }\n",
       "\n",
       "    .dataframe tbody tr th {\n",
       "        vertical-align: top;\n",
       "    }\n",
       "\n",
       "    .dataframe thead th {\n",
       "        text-align: right;\n",
       "    }\n",
       "</style>\n",
       "<table border=\"1\" class=\"dataframe\">\n",
       "  <thead>\n",
       "    <tr style=\"text-align: right;\">\n",
       "      <th></th>\n",
       "      <th>Reviews</th>\n",
       "      <th>Ratings</th>\n",
       "      <th>length</th>\n",
       "    </tr>\n",
       "  </thead>\n",
       "  <tbody>\n",
       "    <tr>\n",
       "      <th>0</th>\n",
       "      <td>Bluetooth 5.O USB C charging HD-AAC audio Reli...</td>\n",
       "      <td>3</td>\n",
       "      <td>718</td>\n",
       "    </tr>\n",
       "    <tr>\n",
       "      <th>1</th>\n",
       "      <td>For someone who listens to assorted English mu...</td>\n",
       "      <td>3</td>\n",
       "      <td>933</td>\n",
       "    </tr>\n",
       "    <tr>\n",
       "      <th>2</th>\n",
       "      <td>I have purchased this boat earphone few months...</td>\n",
       "      <td>4</td>\n",
       "      <td>1315</td>\n",
       "    </tr>\n",
       "    <tr>\n",
       "      <th>3</th>\n",
       "      <td>Amazing! After a long time I got something per...</td>\n",
       "      <td>4</td>\n",
       "      <td>288</td>\n",
       "    </tr>\n",
       "    <tr>\n",
       "      <th>4</th>\n",
       "      <td>This is one of the worst earphones I have ever...</td>\n",
       "      <td>1</td>\n",
       "      <td>349</td>\n",
       "    </tr>\n",
       "  </tbody>\n",
       "</table>\n",
       "</div>"
      ],
      "text/plain": [
       "                                             Reviews  Ratings  length\n",
       "0  Bluetooth 5.O USB C charging HD-AAC audio Reli...        3     718\n",
       "1  For someone who listens to assorted English mu...        3     933\n",
       "2  I have purchased this boat earphone few months...        4    1315\n",
       "3  Amazing! After a long time I got something per...        4     288\n",
       "4  This is one of the worst earphones I have ever...        1     349"
      ]
     },
     "execution_count": 1048,
     "metadata": {},
     "output_type": "execute_result"
    }
   ],
   "source": [
    "df.head()"
   ]
  },
  {
   "cell_type": "code",
   "execution_count": 1049,
   "metadata": {},
   "outputs": [],
   "source": [
    "from nltk.tokenize import regexp_tokenize"
   ]
  },
  {
   "cell_type": "code",
   "execution_count": 1052,
   "metadata": {},
   "outputs": [
    {
     "name": "stdout",
     "output_type": "stream",
     "text": [
      "<class 'pandas.core.frame.DataFrame'>\n",
      "RangeIndex: 598 entries, 0 to 597\n",
      "Data columns (total 3 columns):\n",
      " #   Column   Non-Null Count  Dtype \n",
      "---  ------   --------------  ----- \n",
      " 0   Reviews  598 non-null    object\n",
      " 1   Ratings  598 non-null    int64 \n",
      " 2   length   598 non-null    int64 \n",
      "dtypes: int64(2), object(1)\n",
      "memory usage: 14.1+ KB\n"
     ]
    }
   ],
   "source": [
    "df.info()"
   ]
  },
  {
   "cell_type": "code",
   "execution_count": 1054,
   "metadata": {},
   "outputs": [],
   "source": [
    "df[\"Reviews\"]=df[\"Reviews\"].astype(\"str\")"
   ]
  },
  {
   "cell_type": "code",
   "execution_count": 1063,
   "metadata": {},
   "outputs": [
    {
     "name": "stderr",
     "output_type": "stream",
     "text": [
      "WARNING: Retrying (Retry(total=4, connect=None, read=None, redirect=None, status=None)) after connection broken by 'NewConnectionError('<pip._vendor.urllib3.connection.HTTPSConnection object at 0x00000196731190A0>: Failed to establish a new connection: [Errno 11001] getaddrinfo failed')': /simple/wordcloud/\n",
      "WARNING: Retrying (Retry(total=3, connect=None, read=None, redirect=None, status=None)) after connection broken by 'NewConnectionError('<pip._vendor.urllib3.connection.HTTPSConnection object at 0x0000019673107EE0>: Failed to establish a new connection: [Errno 11001] getaddrinfo failed')': /simple/wordcloud/\n",
      "WARNING: Retrying (Retry(total=2, connect=None, read=None, redirect=None, status=None)) after connection broken by 'NewConnectionError('<pip._vendor.urllib3.connection.HTTPSConnection object at 0x0000019673107DF0>: Failed to establish a new connection: [Errno 11001] getaddrinfo failed')': /simple/wordcloud/\n",
      "WARNING: Retrying (Retry(total=1, connect=None, read=None, redirect=None, status=None)) after connection broken by 'NewConnectionError('<pip._vendor.urllib3.connection.HTTPSConnection object at 0x0000019673107CD0>: Failed to establish a new connection: [Errno 11001] getaddrinfo failed')': /simple/wordcloud/\n",
      "WARNING: Retrying (Retry(total=0, connect=None, read=None, redirect=None, status=None)) after connection broken by 'NewConnectionError('<pip._vendor.urllib3.connection.HTTPSConnection object at 0x0000019673107A90>: Failed to establish a new connection: [Errno 11001] getaddrinfo failed')': /simple/wordcloud/\n",
      "ERROR: Could not find a version that satisfies the requirement wordcloud (from versions: none)\n",
      "ERROR: No matching distribution found for wordcloud\n"
     ]
    }
   ],
   "source": [
    "!pip install wordcloud"
   ]
  },
  {
   "cell_type": "code",
   "execution_count": 3,
   "metadata": {},
   "outputs": [
    {
     "ename": "NameError",
     "evalue": "name 'df' is not defined",
     "output_type": "error",
     "traceback": [
      "\u001b[1;31m---------------------------------------------------------------------------\u001b[0m",
      "\u001b[1;31mNameError\u001b[0m                                 Traceback (most recent call last)",
      "\u001b[1;32m<ipython-input-3-c42a15b2c7cf>\u001b[0m in \u001b[0;36m<module>\u001b[1;34m\u001b[0m\n\u001b[1;32m----> 1\u001b[1;33m \u001b[0mdf\u001b[0m\u001b[1;33m.\u001b[0m\u001b[0mhead\u001b[0m\u001b[1;33m(\u001b[0m\u001b[1;33m)\u001b[0m\u001b[1;33m\u001b[0m\u001b[1;33m\u001b[0m\u001b[0m\n\u001b[0m",
      "\u001b[1;31mNameError\u001b[0m: name 'df' is not defined"
     ]
    }
   ],
   "source": [
    "df.head()"
   ]
  },
  {
   "cell_type": "code",
   "execution_count": null,
   "metadata": {},
   "outputs": [],
   "source": []
  }
 ],
 "metadata": {
  "kernelspec": {
   "display_name": "Python 3",
   "language": "python",
   "name": "python3"
  },
  "language_info": {
   "codemirror_mode": {
    "name": "ipython",
    "version": 3
   },
   "file_extension": ".py",
   "mimetype": "text/x-python",
   "name": "python",
   "nbconvert_exporter": "python",
   "pygments_lexer": "ipython3",
   "version": "3.8.5"
  }
 },
 "nbformat": 4,
 "nbformat_minor": 4
}
